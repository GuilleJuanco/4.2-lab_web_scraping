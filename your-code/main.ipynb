{
 "cells": [
  {
   "attachments": {},
   "cell_type": "markdown",
   "metadata": {},
   "source": [
    "# Web Scraping Lab\n",
    "\n",
    "You will find in this notebook some scrapy exercises to practise your scraping skills.\n",
    "\n",
    "**Tips:**\n",
    "\n",
    "- Check the response status code for each request to ensure you have obtained the intended contennt.\n",
    "- Print the response text in each request to understand the kind of info you are getting and its format.\n",
    "- Check for patterns in the response text to extract the data/info requested in each question.\n",
    "- Visit each url and take a look at its source through Chrome DevTools. You'll need to identify the html tags, special class names etc. used for the html content you are expected to extract."
   ]
  },
  {
   "attachments": {},
   "cell_type": "markdown",
   "metadata": {},
   "source": [
    "- [Requests library](http://docs.python-requests.org/en/master/#the-user-guide) documentation \n",
    "- [Beautiful Soup Doc](https://www.crummy.com/software/BeautifulSoup/bs4/doc/)\n",
    "- [Urllib](https://docs.python.org/3/library/urllib.html#module-urllib)\n",
    "- [re lib](https://docs.python.org/3/library/re.html)\n",
    "- [lxml lib](https://lxml.de/)\n",
    "- [Scrapy](https://scrapy.org/)\n",
    "- [List of HTTP status codes](https://en.wikipedia.org/wiki/List_of_HTTP_status_codes)\n",
    "- [HTML basics](http://www.simplehtmlguide.com/cheatsheet.php)\n",
    "- [CSS basics](https://www.cssbasics.com/#page_start)"
   ]
  },
  {
   "attachments": {},
   "cell_type": "markdown",
   "metadata": {},
   "source": [
    "#### Below are the libraries and modules you may need. `requests`,  `BeautifulSoup` and `pandas` are imported for you. If you prefer to use additional libraries feel free to uncomment them."
   ]
  },
  {
   "cell_type": "code",
   "execution_count": 2,
   "metadata": {},
   "outputs": [],
   "source": [
    "import requests as req\n",
    "from bs4 import BeautifulSoup as bs\n",
    "import pandas as pd\n",
    "# from pprint import pprint\n",
    "# from lxml import html\n",
    "# from lxml.html import fromstring\n",
    "# import urllib.request\n",
    "# from urllib.request import urlopen\n",
    "# import random\n",
    "# import re\n",
    "# import scrapy"
   ]
  },
  {
   "attachments": {},
   "cell_type": "markdown",
   "metadata": {},
   "source": [
    "#### Download, parse (using BeautifulSoup), and print the content from the Trending Developers page from GitHub:"
   ]
  },
  {
   "cell_type": "code",
   "execution_count": 3,
   "metadata": {},
   "outputs": [],
   "source": [
    "# This is the url you will scrape in this exercise\n",
    "url = 'https://github.com/trending/developers'"
   ]
  },
  {
   "cell_type": "code",
   "execution_count": 4,
   "metadata": {},
   "outputs": [
    {
     "data": {
      "text/plain": [
       "444677"
      ]
     },
     "execution_count": 4,
     "metadata": {},
     "output_type": "execute_result"
    }
   ],
   "source": [
    "#your code\n",
    "\n",
    "html = req.get(url).content\n",
    "\n",
    "len(html)\n"
   ]
  },
  {
   "cell_type": "code",
   "execution_count": 5,
   "metadata": {},
   "outputs": [
    {
     "data": {
      "text/plain": [
       "[<h1 class=\"h3 lh-condensed\">\n",
       " <a data-hydro-click='{\"event_type\":\"explore.click\",\"payload\":{\"click_context\":\"TRENDING_DEVELOPERS_PAGE\",\"click_target\":\"OWNER\",\"click_visual_representation\":\"TRENDING_DEVELOPER\",\"actor_id\":null,\"record_id\":28986134,\"originating_url\":\"https://github.com/trending/developers\",\"user_id\":null}}' data-hydro-click-hmac=\"23684ed89cb04c7b50017d1bc1cfa3f3b128adfacedd3f62afae1a3cd3abc6ef\" data-view-component=\"true\" href=\"/steven-tey\">\n",
       "             Steven Tey\n",
       " </a> </h1>,\n",
       " <h1 class=\"h3 lh-condensed\">\n",
       " <a data-hydro-click='{\"event_type\":\"explore.click\",\"payload\":{\"click_context\":\"TRENDING_DEVELOPERS_PAGE\",\"click_target\":\"OWNER\",\"click_visual_representation\":\"TRENDING_DEVELOPER\",\"actor_id\":null,\"record_id\":185566,\"originating_url\":\"https://github.com/trending/developers\",\"user_id\":null}}' data-hydro-click-hmac=\"2c3fa66c378d87b1160a9f7db499c493f77423626ee1d4891a7e296c964af348\" data-view-component=\"true\" href=\"/wader\">\n",
       "             Mattias Wadman\n",
       " </a> </h1>,\n",
       " <h1 class=\"h3 lh-condensed\">\n",
       " <a data-hydro-click='{\"event_type\":\"explore.click\",\"payload\":{\"click_context\":\"TRENDING_DEVELOPERS_PAGE\",\"click_target\":\"OWNER\",\"click_visual_representation\":\"TRENDING_DEVELOPER\",\"actor_id\":null,\"record_id\":501642,\"originating_url\":\"https://github.com/trending/developers\",\"user_id\":null}}' data-hydro-click-hmac=\"f652b4853868fad80be5b37d33c94d3bca3018419347737734126c100997991a\" data-view-component=\"true\" href=\"/plouc\">\n",
       "             Raphaël Benitte\n",
       " </a> </h1>,\n",
       " <h1 class=\"h3 lh-condensed\">\n",
       " <a data-hydro-click='{\"event_type\":\"explore.click\",\"payload\":{\"click_context\":\"TRENDING_DEVELOPERS_PAGE\",\"click_target\":\"OWNER\",\"click_visual_representation\":\"TRENDING_DEVELOPER\",\"actor_id\":null,\"record_id\":2748168,\"originating_url\":\"https://github.com/trending/developers\",\"user_id\":null}}' data-hydro-click-hmac=\"f7a1c2b0baf0b1538a621c594a856f7d3ddb20251c3b77b70eac58ebc4965d82\" data-view-component=\"true\" href=\"/cnlohr\">\n",
       "             CNLohr\n",
       " </a> </h1>,\n",
       " <h1 class=\"h3 lh-condensed\">\n",
       " <a data-hydro-click='{\"event_type\":\"explore.click\",\"payload\":{\"click_context\":\"TRENDING_DEVELOPERS_PAGE\",\"click_target\":\"OWNER\",\"click_visual_representation\":\"TRENDING_DEVELOPER\",\"actor_id\":null,\"record_id\":275001,\"originating_url\":\"https://github.com/trending/developers\",\"user_id\":null}}' data-hydro-click-hmac=\"c86293186abfad861452182c79183366a716a501dec9c1f6f963a808a616cf35\" data-view-component=\"true\" href=\"/dgtlmoon\">\n",
       "             dgtlmoon\n",
       " </a> </h1>,\n",
       " <h1 class=\"h3 lh-condensed\">\n",
       " <a data-hydro-click='{\"event_type\":\"explore.click\",\"payload\":{\"click_context\":\"TRENDING_DEVELOPERS_PAGE\",\"click_target\":\"OWNER\",\"click_visual_representation\":\"TRENDING_DEVELOPER\",\"actor_id\":null,\"record_id\":6942,\"originating_url\":\"https://github.com/trending/developers\",\"user_id\":null}}' data-hydro-click-hmac=\"ae4d88ee5e13d3dde068e007ac82a7f833337ff5f2c845dc36a8c6dfc69b5b19\" data-view-component=\"true\" href=\"/twpayne\">\n",
       "             Tom Payne\n",
       " </a> </h1>,\n",
       " <h1 class=\"h3 lh-condensed\">\n",
       " <a data-hydro-click='{\"event_type\":\"explore.click\",\"payload\":{\"click_context\":\"TRENDING_DEVELOPERS_PAGE\",\"click_target\":\"OWNER\",\"click_visual_representation\":\"TRENDING_DEVELOPER\",\"actor_id\":null,\"record_id\":130929,\"originating_url\":\"https://github.com/trending/developers\",\"user_id\":null}}' data-hydro-click-hmac=\"db59e47e8f5052ab99cffecf102de694f970c34eac257c5d19ef53b749ae2bec\" data-view-component=\"true\" href=\"/hrydgard\">\n",
       "             Henrik Rydgård\n",
       " </a> </h1>,\n",
       " <h1 class=\"h3 lh-condensed\">\n",
       " <a data-hydro-click='{\"event_type\":\"explore.click\",\"payload\":{\"click_context\":\"TRENDING_DEVELOPERS_PAGE\",\"click_target\":\"OWNER\",\"click_visual_representation\":\"TRENDING_DEVELOPER\",\"actor_id\":null,\"record_id\":1041292,\"originating_url\":\"https://github.com/trending/developers\",\"user_id\":null}}' data-hydro-click-hmac=\"6c4c261f49b844af61f036e5a33253af52348e3f774ddf4a7a35954f4f2fd30f\" data-view-component=\"true\" href=\"/LaurentMazare\">\n",
       "             Laurent Mazare\n",
       " </a> </h1>,\n",
       " <h1 class=\"h3 lh-condensed\">\n",
       " <a data-hydro-click='{\"event_type\":\"explore.click\",\"payload\":{\"click_context\":\"TRENDING_DEVELOPERS_PAGE\",\"click_target\":\"OWNER\",\"click_visual_representation\":\"TRENDING_DEVELOPER\",\"actor_id\":null,\"record_id\":1309177,\"originating_url\":\"https://github.com/trending/developers\",\"user_id\":null}}' data-hydro-click-hmac=\"da78484eb9f5bc81421275d60ba31a7fb16a56c1eb93a4363627691fa0417b03\" data-view-component=\"true\" href=\"/charliermarsh\">\n",
       "             Charlie Marsh\n",
       " </a> </h1>,\n",
       " <h1 class=\"h3 lh-condensed\">\n",
       " <a data-hydro-click='{\"event_type\":\"explore.click\",\"payload\":{\"click_context\":\"TRENDING_DEVELOPERS_PAGE\",\"click_target\":\"OWNER\",\"click_visual_representation\":\"TRENDING_DEVELOPER\",\"actor_id\":null,\"record_id\":908389,\"originating_url\":\"https://github.com/trending/developers\",\"user_id\":null}}' data-hydro-click-hmac=\"a3807fb3772b7af5b140aaaaafc8f43dffe2f946a342c70e9bb47d5feb11a582\" data-view-component=\"true\" href=\"/whitead\">\n",
       "             Andrew White\n",
       " </a> </h1>,\n",
       " <h1 class=\"h3 lh-condensed\">\n",
       " <a data-hydro-click='{\"event_type\":\"explore.click\",\"payload\":{\"click_context\":\"TRENDING_DEVELOPERS_PAGE\",\"click_target\":\"OWNER\",\"click_visual_representation\":\"TRENDING_DEVELOPER\",\"actor_id\":null,\"record_id\":5495193,\"originating_url\":\"https://github.com/trending/developers\",\"user_id\":null}}' data-hydro-click-hmac=\"f29d305331202cf3b90c8b0761b741d320e8262211bf8bc8c7c38abe489e6916\" data-view-component=\"true\" href=\"/awaelchli\">\n",
       "             Adrian Wälchli\n",
       " </a> </h1>,\n",
       " <h1 class=\"h3 lh-condensed\">\n",
       " <a data-hydro-click='{\"event_type\":\"explore.click\",\"payload\":{\"click_context\":\"TRENDING_DEVELOPERS_PAGE\",\"click_target\":\"OWNER\",\"click_visual_representation\":\"TRENDING_DEVELOPER\",\"actor_id\":null,\"record_id\":2721089,\"originating_url\":\"https://github.com/trending/developers\",\"user_id\":null}}' data-hydro-click-hmac=\"cd64758bb47731d4a190908850b953c585927b015006d56a6fc044383d6d329f\" data-view-component=\"true\" href=\"/liamdebeasi\">\n",
       "             Liam DeBeasi\n",
       " </a> </h1>,\n",
       " <h1 class=\"h3 lh-condensed\">\n",
       " <a data-hydro-click='{\"event_type\":\"explore.click\",\"payload\":{\"click_context\":\"TRENDING_DEVELOPERS_PAGE\",\"click_target\":\"OWNER\",\"click_visual_representation\":\"TRENDING_DEVELOPER\",\"actor_id\":null,\"record_id\":53119851,\"originating_url\":\"https://github.com/trending/developers\",\"user_id\":null}}' data-hydro-click-hmac=\"6328c498ff56747427ce9f3f3220630686cf723a92e875eb9e20ecd94fd72083\" data-view-component=\"true\" href=\"/marticliment\">\n",
       "             Martí Climent\n",
       " </a> </h1>,\n",
       " <h1 class=\"h3 lh-condensed\">\n",
       " <a data-hydro-click='{\"event_type\":\"explore.click\",\"payload\":{\"click_context\":\"TRENDING_DEVELOPERS_PAGE\",\"click_target\":\"OWNER\",\"click_visual_representation\":\"TRENDING_DEVELOPER\",\"actor_id\":null,\"record_id\":118015,\"originating_url\":\"https://github.com/trending/developers\",\"user_id\":null}}' data-hydro-click-hmac=\"28dfe4bf7629bfd91d0cf594856869be478065461eb9bc67db6d6cca472b2621\" data-view-component=\"true\" href=\"/benbjohnson\">\n",
       "             Ben Johnson\n",
       " </a> </h1>,\n",
       " <h1 class=\"h3 lh-condensed\">\n",
       " <a data-hydro-click='{\"event_type\":\"explore.click\",\"payload\":{\"click_context\":\"TRENDING_DEVELOPERS_PAGE\",\"click_target\":\"OWNER\",\"click_visual_representation\":\"TRENDING_DEVELOPER\",\"actor_id\":null,\"record_id\":2621,\"originating_url\":\"https://github.com/trending/developers\",\"user_id\":null}}' data-hydro-click-hmac=\"4172d0370ab8c49a9cd42d203952ef52f8dbfefff43e94f52075f5ba5a6bb9f3\" data-view-component=\"true\" href=\"/bradfitz\">\n",
       "             Brad Fitzpatrick\n",
       " </a> </h1>,\n",
       " <h1 class=\"h3 lh-condensed\">\n",
       " <a data-hydro-click='{\"event_type\":\"explore.click\",\"payload\":{\"click_context\":\"TRENDING_DEVELOPERS_PAGE\",\"click_target\":\"OWNER\",\"click_visual_representation\":\"TRENDING_DEVELOPER\",\"actor_id\":null,\"record_id\":17034,\"originating_url\":\"https://github.com/trending/developers\",\"user_id\":null}}' data-hydro-click-hmac=\"2d14134aab0fab827d23264923ff91a8a2779e451f762923ce34c5fccae1e37d\" data-view-component=\"true\" href=\"/kevmoo\">\n",
       "             Kevin Moore\n",
       " </a> </h1>,\n",
       " <h1 class=\"h3 lh-condensed\">\n",
       " <a data-hydro-click='{\"event_type\":\"explore.click\",\"payload\":{\"click_context\":\"TRENDING_DEVELOPERS_PAGE\",\"click_target\":\"OWNER\",\"click_visual_representation\":\"TRENDING_DEVELOPER\",\"actor_id\":null,\"record_id\":663432,\"originating_url\":\"https://github.com/trending/developers\",\"user_id\":null}}' data-hydro-click-hmac=\"8bcd057ac3b55782c952595f7a06533ea299b7c6b37a29faff77eb6f9a3b611a\" data-view-component=\"true\" href=\"/bdraco\">\n",
       "             J. Nick Koston\n",
       " </a> </h1>,\n",
       " <h1 class=\"h3 lh-condensed\">\n",
       " <a data-hydro-click='{\"event_type\":\"explore.click\",\"payload\":{\"click_context\":\"TRENDING_DEVELOPERS_PAGE\",\"click_target\":\"OWNER\",\"click_visual_representation\":\"TRENDING_DEVELOPER\",\"actor_id\":null,\"record_id\":18246773,\"originating_url\":\"https://github.com/trending/developers\",\"user_id\":null}}' data-hydro-click-hmac=\"ae626b96034abbaa66ec1ad6bf5ef0ea28bcee148adb4f0cf0948130c4e8233c\" data-view-component=\"true\" href=\"/chronark\">\n",
       "             Andreas Thomas\n",
       " </a> </h1>,\n",
       " <h1 class=\"h3 lh-condensed\">\n",
       " <a data-hydro-click='{\"event_type\":\"explore.click\",\"payload\":{\"click_context\":\"TRENDING_DEVELOPERS_PAGE\",\"click_target\":\"OWNER\",\"click_visual_representation\":\"TRENDING_DEVELOPER\",\"actor_id\":null,\"record_id\":14086183,\"originating_url\":\"https://github.com/trending/developers\",\"user_id\":null}}' data-hydro-click-hmac=\"e986cf8f97342d56f09b0f45fc7d9caebe223615da070810445d2ff492f4f576\" data-view-component=\"true\" href=\"/jerryz123\">\n",
       "             Jerry Zhao\n",
       " </a> </h1>,\n",
       " <h1 class=\"h3 lh-condensed\">\n",
       " <a data-hydro-click='{\"event_type\":\"explore.click\",\"payload\":{\"click_context\":\"TRENDING_DEVELOPERS_PAGE\",\"click_target\":\"OWNER\",\"click_visual_representation\":\"TRENDING_DEVELOPER\",\"actor_id\":null,\"record_id\":15100009,\"originating_url\":\"https://github.com/trending/developers\",\"user_id\":null}}' data-hydro-click-hmac=\"91ce72d685054411d8b3863d74e7cab4e489c938e1bab3e7308724ba7f671842\" data-view-component=\"true\" href=\"/merrymercy\">\n",
       "             Lianmin Zheng\n",
       " </a> </h1>,\n",
       " <h1 class=\"h3 lh-condensed\">\n",
       " <a data-hydro-click='{\"event_type\":\"explore.click\",\"payload\":{\"click_context\":\"TRENDING_DEVELOPERS_PAGE\",\"click_target\":\"OWNER\",\"click_visual_representation\":\"TRENDING_DEVELOPER\",\"actor_id\":null,\"record_id\":14026360,\"originating_url\":\"https://github.com/trending/developers\",\"user_id\":null}}' data-hydro-click-hmac=\"86f055e7e27489565206c1828dae543f62e0266f4cb0035352d6a817b977d202\" data-view-component=\"true\" href=\"/Himself65\">\n",
       "             Himself65\n",
       " </a> </h1>,\n",
       " <h1 class=\"h3 lh-condensed\">\n",
       " <a data-hydro-click='{\"event_type\":\"explore.click\",\"payload\":{\"click_context\":\"TRENDING_DEVELOPERS_PAGE\",\"click_target\":\"OWNER\",\"click_visual_representation\":\"TRENDING_DEVELOPER\",\"actor_id\":null,\"record_id\":1594746,\"originating_url\":\"https://github.com/trending/developers\",\"user_id\":null}}' data-hydro-click-hmac=\"33454b272e093f31183f426b4184babebb03a1da485fdcdc3dcf12e9ed830cae\" data-view-component=\"true\" href=\"/nalexn\">\n",
       "             Alexey Naumov\n",
       " </a> </h1>,\n",
       " <h1 class=\"h3 lh-condensed\">\n",
       " <a data-hydro-click='{\"event_type\":\"explore.click\",\"payload\":{\"click_context\":\"TRENDING_DEVELOPERS_PAGE\",\"click_target\":\"OWNER\",\"click_visual_representation\":\"TRENDING_DEVELOPER\",\"actor_id\":null,\"record_id\":42591237,\"originating_url\":\"https://github.com/trending/developers\",\"user_id\":null}}' data-hydro-click-hmac=\"9e9c1202a8b5b2dc60d80fa2a82f7f26445568ec8a13e57f4968e1c990aad31e\" data-view-component=\"true\" href=\"/szaimen\">\n",
       "             Simon L.\n",
       " </a> </h1>,\n",
       " <h1 class=\"h3 lh-condensed\">\n",
       " <a data-hydro-click='{\"event_type\":\"explore.click\",\"payload\":{\"click_context\":\"TRENDING_DEVELOPERS_PAGE\",\"click_target\":\"OWNER\",\"click_visual_representation\":\"TRENDING_DEVELOPER\",\"actor_id\":null,\"record_id\":127379,\"originating_url\":\"https://github.com/trending/developers\",\"user_id\":null}}' data-hydro-click-hmac=\"2705bfc3e15d08a7df5ede4174cff575dc10d382fbecd15f25d0b3b0b1f8b0e2\" data-view-component=\"true\" href=\"/manucorporat\">\n",
       "             Manu MA\n",
       " </a> </h1>,\n",
       " <h1 class=\"h3 lh-condensed\">\n",
       " <a data-hydro-click='{\"event_type\":\"explore.click\",\"payload\":{\"click_context\":\"TRENDING_DEVELOPERS_PAGE\",\"click_target\":\"OWNER\",\"click_visual_representation\":\"TRENDING_DEVELOPER\",\"actor_id\":null,\"record_id\":554369,\"originating_url\":\"https://github.com/trending/developers\",\"user_id\":null}}' data-hydro-click-hmac=\"53042f373d06900fcf789c389483ade063998169b1a92bf305ac471001b46ce9\" data-view-component=\"true\" href=\"/willmcgugan\">\n",
       "             Will McGugan\n",
       " </a> </h1>]"
      ]
     },
     "execution_count": 5,
     "metadata": {},
     "output_type": "execute_result"
    }
   ],
   "source": [
    "#Parseo\n",
    "sopa=bs(html, 'html.parser')\n",
    "\n",
    "stars=sopa.find_all('h1', class_='h3 lh-condensed')\n",
    "\n",
    "stars\n",
    "\n"
   ]
  },
  {
   "attachments": {},
   "cell_type": "markdown",
   "metadata": {},
   "source": [
    "#### Display the names of the trending developers retrieved in the previous step.\n",
    "\n",
    "Your output should be a Python list of developer names. Each name should not contain any html tag.\n",
    "\n",
    "**Instructions:**\n",
    "\n",
    "1. Find out the html tag and class names used for the developer names. You can achieve this using Chrome DevTools.\n",
    "\n",
    "1. Use BeautifulSoup to extract all the html elements that contain the developer names.\n",
    "\n",
    "1. Use string manipulation techniques to replace whitespaces and linebreaks (i.e. `\\n`) in the *text* of each html element. Use a list to store the clean names.\n",
    "\n",
    "1. Print the list of names.\n",
    "\n",
    "Your output should look like below:\n",
    "\n",
    "```\n",
    "['trimstray (@trimstray)',\n",
    " 'joewalnes (JoeWalnes)',\n",
    " 'charlax (Charles-AxelDein)',\n",
    " 'ForrestKnight (ForrestKnight)',\n",
    " 'revery-ui (revery-ui)',\n",
    " 'alibaba (Alibaba)',\n",
    " 'Microsoft (Microsoft)',\n",
    " 'github (GitHub)',\n",
    " 'facebook (Facebook)',\n",
    " 'boazsegev (Bo)',\n",
    " 'google (Google)',\n",
    " 'cloudfetch',\n",
    " 'sindresorhus (SindreSorhus)',\n",
    " 'tensorflow',\n",
    " 'apache (TheApacheSoftwareFoundation)',\n",
    " 'DevonCrawford (DevonCrawford)',\n",
    " 'ARMmbed (ArmMbed)',\n",
    " 'vuejs (vuejs)',\n",
    " 'fastai (fast.ai)',\n",
    " 'QiShaoXuan (Qi)',\n",
    " 'joelparkerhenderson (JoelParkerHenderson)',\n",
    " 'torvalds (LinusTorvalds)',\n",
    " 'CyC2018',\n",
    " 'komeiji-satori (神楽坂覚々)',\n",
    " 'script-8']\n",
    " ```"
   ]
  },
  {
   "cell_type": "code",
   "execution_count": 6,
   "metadata": {},
   "outputs": [
    {
     "data": {
      "text/plain": [
       "['Steven Tey',\n",
       " 'Mattias Wadman',\n",
       " 'Raphaël Benitte',\n",
       " 'CNLohr',\n",
       " 'dgtlmoon',\n",
       " 'Tom Payne',\n",
       " 'Henrik Rydgård',\n",
       " 'Laurent Mazare',\n",
       " 'Charlie Marsh',\n",
       " 'Andrew White',\n",
       " 'Adrian Wälchli',\n",
       " 'Liam DeBeasi',\n",
       " 'Martí Climent',\n",
       " 'Ben Johnson',\n",
       " 'Brad Fitzpatrick',\n",
       " 'Kevin Moore',\n",
       " 'J. Nick Koston',\n",
       " 'Andreas Thomas',\n",
       " 'Jerry Zhao',\n",
       " 'Lianmin Zheng',\n",
       " 'Himself65',\n",
       " 'Alexey Naumov',\n",
       " 'Simon L.',\n",
       " 'Manu MA',\n",
       " 'Will McGugan']"
      ]
     },
     "execution_count": 6,
     "metadata": {},
     "output_type": "execute_result"
    }
   ],
   "source": [
    "#your code\n",
    "lista_mvp = [e.text.strip() for e in stars]\n",
    "\n",
    "lista_mvp"
   ]
  },
  {
   "attachments": {},
   "cell_type": "markdown",
   "metadata": {},
   "source": [
    "#### Display the trending Python repositories in GitHub\n",
    "\n",
    "The steps to solve this problem is similar to the previous one except that you need to find out the repository names instead of developer names."
   ]
  },
  {
   "cell_type": "code",
   "execution_count": 7,
   "metadata": {},
   "outputs": [],
   "source": [
    "# This is the url you will scrape in this exercise\n",
    "url = 'https://github.com/trending/python?since=daily'"
   ]
  },
  {
   "cell_type": "code",
   "execution_count": 8,
   "metadata": {},
   "outputs": [
    {
     "data": {
      "text/plain": [
       "623180"
      ]
     },
     "execution_count": 8,
     "metadata": {},
     "output_type": "execute_result"
    }
   ],
   "source": [
    "#your code\n",
    "html = req.get(url).content\n",
    "\n",
    "len(html)\n"
   ]
  },
  {
   "cell_type": "code",
   "execution_count": 9,
   "metadata": {},
   "outputs": [
    {
     "data": {
      "text/plain": [
       "[<h2 class=\"h3 lh-condensed\">\n",
       " <a data-hydro-click='{\"event_type\":\"explore.click\",\"payload\":{\"click_context\":\"TRENDING_REPOSITORIES_PAGE\",\"click_target\":\"REPOSITORY\",\"click_visual_representation\":\"REPOSITORY_NAME_HEADING\",\"actor_id\":null,\"record_id\":634081686,\"originating_url\":\"https://github.com/trending/python?since=daily\",\"user_id\":null}}' data-hydro-click-hmac=\"93bfa461c5e95791bc136b1377ddc48142e14d3168a0718568ccb16de4e070d3\" data-view-component=\"true\" href=\"/mlc-ai/mlc-llm\">\n",
       " <svg aria-hidden=\"true\" class=\"octicon octicon-repo mr-1 color-fg-muted\" data-view-component=\"true\" height=\"16\" version=\"1.1\" viewbox=\"0 0 16 16\" width=\"16\">\n",
       " <path d=\"M2 2.5A2.5 2.5 0 0 1 4.5 0h8.75a.75.75 0 0 1 .75.75v12.5a.75.75 0 0 1-.75.75h-2.5a.75.75 0 0 1 0-1.5h1.75v-2h-8a1 1 0 0 0-.714 1.7.75.75 0 1 1-1.072 1.05A2.495 2.495 0 0 1 2 11.5Zm10.5-1h-8a1 1 0 0 0-1 1v6.708A2.486 2.486 0 0 1 4.5 9h8ZM5 12.25a.25.25 0 0 1 .25-.25h3.5a.25.25 0 0 1 .25.25v3.25a.25.25 0 0 1-.4.2l-1.45-1.087a.249.249 0 0 0-.3 0L5.4 15.7a.25.25 0 0 1-.4-.2Z\"></path>\n",
       " </svg>\n",
       " <span class=\"text-normal\" data-view-component=\"true\">\n",
       "         mlc-ai /\n",
       " </span>\n",
       "       mlc-llm\n",
       " </a> </h2>,\n",
       " <h2 class=\"h3 lh-condensed\">\n",
       " <a data-hydro-click='{\"event_type\":\"explore.click\",\"payload\":{\"click_context\":\"TRENDING_REPOSITORIES_PAGE\",\"click_target\":\"REPOSITORY\",\"click_visual_representation\":\"REPOSITORY_NAME_HEADING\",\"actor_id\":null,\"record_id\":633606961,\"originating_url\":\"https://github.com/trending/python?since=daily\",\"user_id\":null}}' data-hydro-click-hmac=\"a2ed3b388dca6980f9688c7eea481b2f55007712fb457c96be1631228bb8f09d\" data-view-component=\"true\" href=\"/cirediatpl/FigmaChain\">\n",
       " <svg aria-hidden=\"true\" class=\"octicon octicon-repo mr-1 color-fg-muted\" data-view-component=\"true\" height=\"16\" version=\"1.1\" viewbox=\"0 0 16 16\" width=\"16\">\n",
       " <path d=\"M2 2.5A2.5 2.5 0 0 1 4.5 0h8.75a.75.75 0 0 1 .75.75v12.5a.75.75 0 0 1-.75.75h-2.5a.75.75 0 0 1 0-1.5h1.75v-2h-8a1 1 0 0 0-.714 1.7.75.75 0 1 1-1.072 1.05A2.495 2.495 0 0 1 2 11.5Zm10.5-1h-8a1 1 0 0 0-1 1v6.708A2.486 2.486 0 0 1 4.5 9h8ZM5 12.25a.25.25 0 0 1 .25-.25h3.5a.25.25 0 0 1 .25.25v3.25a.25.25 0 0 1-.4.2l-1.45-1.087a.249.249 0 0 0-.3 0L5.4 15.7a.25.25 0 0 1-.4-.2Z\"></path>\n",
       " </svg>\n",
       " <span class=\"text-normal\" data-view-component=\"true\">\n",
       "         cirediatpl /\n",
       " </span>\n",
       "       FigmaChain\n",
       " </a> </h2>,\n",
       " <h2 class=\"h3 lh-condensed\">\n",
       " <a data-hydro-click='{\"event_type\":\"explore.click\",\"payload\":{\"click_context\":\"TRENDING_REPOSITORIES_PAGE\",\"click_target\":\"REPOSITORY\",\"click_visual_representation\":\"REPOSITORY_NAME_HEADING\",\"actor_id\":null,\"record_id\":631258918,\"originating_url\":\"https://github.com/trending/python?since=daily\",\"user_id\":null}}' data-hydro-click-hmac=\"ebd70b58bc9d2e84566e4bac9b65f944879418158a63157862ed3cde20fa8339\" data-view-component=\"true\" href=\"/gventuri/pandas-ai\">\n",
       " <svg aria-hidden=\"true\" class=\"octicon octicon-repo mr-1 color-fg-muted\" data-view-component=\"true\" height=\"16\" version=\"1.1\" viewbox=\"0 0 16 16\" width=\"16\">\n",
       " <path d=\"M2 2.5A2.5 2.5 0 0 1 4.5 0h8.75a.75.75 0 0 1 .75.75v12.5a.75.75 0 0 1-.75.75h-2.5a.75.75 0 0 1 0-1.5h1.75v-2h-8a1 1 0 0 0-.714 1.7.75.75 0 1 1-1.072 1.05A2.495 2.495 0 0 1 2 11.5Zm10.5-1h-8a1 1 0 0 0-1 1v6.708A2.486 2.486 0 0 1 4.5 9h8ZM5 12.25a.25.25 0 0 1 .25-.25h3.5a.25.25 0 0 1 .25.25v3.25a.25.25 0 0 1-.4.2l-1.45-1.087a.249.249 0 0 0-.3 0L5.4 15.7a.25.25 0 0 1-.4-.2Z\"></path>\n",
       " </svg>\n",
       " <span class=\"text-normal\" data-view-component=\"true\">\n",
       "         gventuri /\n",
       " </span>\n",
       "       pandas-ai\n",
       " </a> </h2>,\n",
       " <h2 class=\"h3 lh-condensed\">\n",
       " <a data-hydro-click='{\"event_type\":\"explore.click\",\"payload\":{\"click_context\":\"TRENDING_REPOSITORIES_PAGE\",\"click_target\":\"REPOSITORY\",\"click_visual_representation\":\"REPOSITORY_NAME_HEADING\",\"actor_id\":null,\"record_id\":634136066,\"originating_url\":\"https://github.com/trending/python?since=daily\",\"user_id\":null}}' data-hydro-click-hmac=\"3ee417490c0cf7e3efbdd3c2a59f5c0d32df677089cd8ba3065c5c266975a4d9\" data-view-component=\"true\" href=\"/mishalhossin/Discord-Chatbot-Gpt4Free\">\n",
       " <svg aria-hidden=\"true\" class=\"octicon octicon-repo mr-1 color-fg-muted\" data-view-component=\"true\" height=\"16\" version=\"1.1\" viewbox=\"0 0 16 16\" width=\"16\">\n",
       " <path d=\"M2 2.5A2.5 2.5 0 0 1 4.5 0h8.75a.75.75 0 0 1 .75.75v12.5a.75.75 0 0 1-.75.75h-2.5a.75.75 0 0 1 0-1.5h1.75v-2h-8a1 1 0 0 0-.714 1.7.75.75 0 1 1-1.072 1.05A2.495 2.495 0 0 1 2 11.5Zm10.5-1h-8a1 1 0 0 0-1 1v6.708A2.486 2.486 0 0 1 4.5 9h8ZM5 12.25a.25.25 0 0 1 .25-.25h3.5a.25.25 0 0 1 .25.25v3.25a.25.25 0 0 1-.4.2l-1.45-1.087a.249.249 0 0 0-.3 0L5.4 15.7a.25.25 0 0 1-.4-.2Z\"></path>\n",
       " </svg>\n",
       " <span class=\"text-normal\" data-view-component=\"true\">\n",
       "         mishalhossin /\n",
       " </span>\n",
       "       Discord-Chatbot-Gpt4Free\n",
       " </a> </h2>,\n",
       " <h2 class=\"h3 lh-condensed\">\n",
       " <a data-hydro-click='{\"event_type\":\"explore.click\",\"payload\":{\"click_context\":\"TRENDING_REPOSITORIES_PAGE\",\"click_target\":\"REPOSITORY\",\"click_visual_representation\":\"REPOSITORY_NAME_HEADING\",\"actor_id\":null,\"record_id\":599293758,\"originating_url\":\"https://github.com/trending/python?since=daily\",\"user_id\":null}}' data-hydro-click-hmac=\"94a2f33229a9cfd309297783f553c95c24ecc0212e089ce85dadd4d22ca2c43e\" data-view-component=\"true\" href=\"/Azure-Samples/azure-search-openai-demo\">\n",
       " <svg aria-hidden=\"true\" class=\"octicon octicon-repo mr-1 color-fg-muted\" data-view-component=\"true\" height=\"16\" version=\"1.1\" viewbox=\"0 0 16 16\" width=\"16\">\n",
       " <path d=\"M2 2.5A2.5 2.5 0 0 1 4.5 0h8.75a.75.75 0 0 1 .75.75v12.5a.75.75 0 0 1-.75.75h-2.5a.75.75 0 0 1 0-1.5h1.75v-2h-8a1 1 0 0 0-.714 1.7.75.75 0 1 1-1.072 1.05A2.495 2.495 0 0 1 2 11.5Zm10.5-1h-8a1 1 0 0 0-1 1v6.708A2.486 2.486 0 0 1 4.5 9h8ZM5 12.25a.25.25 0 0 1 .25-.25h3.5a.25.25 0 0 1 .25.25v3.25a.25.25 0 0 1-.4.2l-1.45-1.087a.249.249 0 0 0-.3 0L5.4 15.7a.25.25 0 0 1-.4-.2Z\"></path>\n",
       " </svg>\n",
       " <span class=\"text-normal\" data-view-component=\"true\">\n",
       "         Azure-Samples /\n",
       " </span>\n",
       "       azure-search-openai-demo\n",
       " </a> </h2>,\n",
       " <h2 class=\"h3 lh-condensed\">\n",
       " <a data-hydro-click='{\"event_type\":\"explore.click\",\"payload\":{\"click_context\":\"TRENDING_REPOSITORIES_PAGE\",\"click_target\":\"REPOSITORY\",\"click_visual_representation\":\"REPOSITORY_NAME_HEADING\",\"actor_id\":null,\"record_id\":564072810,\"originating_url\":\"https://github.com/trending/python?since=daily\",\"user_id\":null}}' data-hydro-click-hmac=\"30a754083b295d4dd611a46da259b7af51825addecaf514bff7ea8c3a824e7f9\" data-view-component=\"true\" href=\"/Arize-ai/phoenix\">\n",
       " <svg aria-hidden=\"true\" class=\"octicon octicon-repo mr-1 color-fg-muted\" data-view-component=\"true\" height=\"16\" version=\"1.1\" viewbox=\"0 0 16 16\" width=\"16\">\n",
       " <path d=\"M2 2.5A2.5 2.5 0 0 1 4.5 0h8.75a.75.75 0 0 1 .75.75v12.5a.75.75 0 0 1-.75.75h-2.5a.75.75 0 0 1 0-1.5h1.75v-2h-8a1 1 0 0 0-.714 1.7.75.75 0 1 1-1.072 1.05A2.495 2.495 0 0 1 2 11.5Zm10.5-1h-8a1 1 0 0 0-1 1v6.708A2.486 2.486 0 0 1 4.5 9h8ZM5 12.25a.25.25 0 0 1 .25-.25h3.5a.25.25 0 0 1 .25.25v3.25a.25.25 0 0 1-.4.2l-1.45-1.087a.249.249 0 0 0-.3 0L5.4 15.7a.25.25 0 0 1-.4-.2Z\"></path>\n",
       " </svg>\n",
       " <span class=\"text-normal\" data-view-component=\"true\">\n",
       "         Arize-ai /\n",
       " </span>\n",
       "       phoenix\n",
       " </a> </h2>,\n",
       " <h2 class=\"h3 lh-condensed\">\n",
       " <a data-hydro-click='{\"event_type\":\"explore.click\",\"payload\":{\"click_context\":\"TRENDING_REPOSITORIES_PAGE\",\"click_target\":\"REPOSITORY\",\"click_visual_representation\":\"REPOSITORY_NAME_HEADING\",\"actor_id\":null,\"record_id\":83222441,\"originating_url\":\"https://github.com/trending/python?since=daily\",\"user_id\":null}}' data-hydro-click-hmac=\"b0338589faae04fd8d9fc54fac2f4ee60644cbcf2feb9f5999ea524f999624c4\" data-view-component=\"true\" href=\"/donnemartin/system-design-primer\">\n",
       " <svg aria-hidden=\"true\" class=\"octicon octicon-repo mr-1 color-fg-muted\" data-view-component=\"true\" height=\"16\" version=\"1.1\" viewbox=\"0 0 16 16\" width=\"16\">\n",
       " <path d=\"M2 2.5A2.5 2.5 0 0 1 4.5 0h8.75a.75.75 0 0 1 .75.75v12.5a.75.75 0 0 1-.75.75h-2.5a.75.75 0 0 1 0-1.5h1.75v-2h-8a1 1 0 0 0-.714 1.7.75.75 0 1 1-1.072 1.05A2.495 2.495 0 0 1 2 11.5Zm10.5-1h-8a1 1 0 0 0-1 1v6.708A2.486 2.486 0 0 1 4.5 9h8ZM5 12.25a.25.25 0 0 1 .25-.25h3.5a.25.25 0 0 1 .25.25v3.25a.25.25 0 0 1-.4.2l-1.45-1.087a.249.249 0 0 0-.3 0L5.4 15.7a.25.25 0 0 1-.4-.2Z\"></path>\n",
       " </svg>\n",
       " <span class=\"text-normal\" data-view-component=\"true\">\n",
       "         donnemartin /\n",
       " </span>\n",
       "       system-design-primer\n",
       " </a> </h2>,\n",
       " <h2 class=\"h3 lh-condensed\">\n",
       " <a data-hydro-click='{\"event_type\":\"explore.click\",\"payload\":{\"click_context\":\"TRENDING_REPOSITORIES_PAGE\",\"click_target\":\"REPOSITORY\",\"click_visual_representation\":\"REPOSITORY_NAME_HEADING\",\"actor_id\":null,\"record_id\":112070198,\"originating_url\":\"https://github.com/trending/python?since=daily\",\"user_id\":null}}' data-hydro-click-hmac=\"fc01674b1f5f4ec4aa3850ca973718fc3033fe2cedbbb91bbd923c65b9592e1b\" data-view-component=\"true\" href=\"/KurtBestor/Hitomi-Downloader\">\n",
       " <svg aria-hidden=\"true\" class=\"octicon octicon-repo mr-1 color-fg-muted\" data-view-component=\"true\" height=\"16\" version=\"1.1\" viewbox=\"0 0 16 16\" width=\"16\">\n",
       " <path d=\"M2 2.5A2.5 2.5 0 0 1 4.5 0h8.75a.75.75 0 0 1 .75.75v12.5a.75.75 0 0 1-.75.75h-2.5a.75.75 0 0 1 0-1.5h1.75v-2h-8a1 1 0 0 0-.714 1.7.75.75 0 1 1-1.072 1.05A2.495 2.495 0 0 1 2 11.5Zm10.5-1h-8a1 1 0 0 0-1 1v6.708A2.486 2.486 0 0 1 4.5 9h8ZM5 12.25a.25.25 0 0 1 .25-.25h3.5a.25.25 0 0 1 .25.25v3.25a.25.25 0 0 1-.4.2l-1.45-1.087a.249.249 0 0 0-.3 0L5.4 15.7a.25.25 0 0 1-.4-.2Z\"></path>\n",
       " </svg>\n",
       " <span class=\"text-normal\" data-view-component=\"true\">\n",
       "         KurtBestor /\n",
       " </span>\n",
       "       Hitomi-Downloader\n",
       " </a> </h2>,\n",
       " <h2 class=\"h3 lh-condensed\">\n",
       " <a data-hydro-click='{\"event_type\":\"explore.click\",\"payload\":{\"click_context\":\"TRENDING_REPOSITORIES_PAGE\",\"click_target\":\"REPOSITORY\",\"click_visual_representation\":\"REPOSITORY_NAME_HEADING\",\"actor_id\":null,\"record_id\":615692917,\"originating_url\":\"https://github.com/trending/python?since=daily\",\"user_id\":null}}' data-hydro-click-hmac=\"0599bb39133a307956631196c24f81ec3c47a9a3ffc4e5246b419934cfe4b33e\" data-view-component=\"true\" href=\"/irgolic/AutoPR\">\n",
       " <svg aria-hidden=\"true\" class=\"octicon octicon-repo mr-1 color-fg-muted\" data-view-component=\"true\" height=\"16\" version=\"1.1\" viewbox=\"0 0 16 16\" width=\"16\">\n",
       " <path d=\"M2 2.5A2.5 2.5 0 0 1 4.5 0h8.75a.75.75 0 0 1 .75.75v12.5a.75.75 0 0 1-.75.75h-2.5a.75.75 0 0 1 0-1.5h1.75v-2h-8a1 1 0 0 0-.714 1.7.75.75 0 1 1-1.072 1.05A2.495 2.495 0 0 1 2 11.5Zm10.5-1h-8a1 1 0 0 0-1 1v6.708A2.486 2.486 0 0 1 4.5 9h8ZM5 12.25a.25.25 0 0 1 .25-.25h3.5a.25.25 0 0 1 .25.25v3.25a.25.25 0 0 1-.4.2l-1.45-1.087a.249.249 0 0 0-.3 0L5.4 15.7a.25.25 0 0 1-.4-.2Z\"></path>\n",
       " </svg>\n",
       " <span class=\"text-normal\" data-view-component=\"true\">\n",
       "         irgolic /\n",
       " </span>\n",
       "       AutoPR\n",
       " </a> </h2>,\n",
       " <h2 class=\"h3 lh-condensed\">\n",
       " <a data-hydro-click='{\"event_type\":\"explore.click\",\"payload\":{\"click_context\":\"TRENDING_REPOSITORIES_PAGE\",\"click_target\":\"REPOSITORY\",\"click_visual_representation\":\"REPOSITORY_NAME_HEADING\",\"actor_id\":null,\"record_id\":625411260,\"originating_url\":\"https://github.com/trending/python?since=daily\",\"user_id\":null}}' data-hydro-click-hmac=\"8dfef6d887690393fd9bf0e8f66889fc5c8cad293dd21ba6aff61eca3adba4be\" data-view-component=\"true\" href=\"/Significant-Gravitas/Auto-GPT-Plugins\">\n",
       " <svg aria-hidden=\"true\" class=\"octicon octicon-repo mr-1 color-fg-muted\" data-view-component=\"true\" height=\"16\" version=\"1.1\" viewbox=\"0 0 16 16\" width=\"16\">\n",
       " <path d=\"M2 2.5A2.5 2.5 0 0 1 4.5 0h8.75a.75.75 0 0 1 .75.75v12.5a.75.75 0 0 1-.75.75h-2.5a.75.75 0 0 1 0-1.5h1.75v-2h-8a1 1 0 0 0-.714 1.7.75.75 0 1 1-1.072 1.05A2.495 2.495 0 0 1 2 11.5Zm10.5-1h-8a1 1 0 0 0-1 1v6.708A2.486 2.486 0 0 1 4.5 9h8ZM5 12.25a.25.25 0 0 1 .25-.25h3.5a.25.25 0 0 1 .25.25v3.25a.25.25 0 0 1-.4.2l-1.45-1.087a.249.249 0 0 0-.3 0L5.4 15.7a.25.25 0 0 1-.4-.2Z\"></path>\n",
       " </svg>\n",
       " <span class=\"text-normal\" data-view-component=\"true\">\n",
       "         Significant-Gravitas /\n",
       " </span>\n",
       "       Auto-GPT-Plugins\n",
       " </a> </h2>,\n",
       " <h2 class=\"h3 lh-condensed\">\n",
       " <a data-hydro-click='{\"event_type\":\"explore.click\",\"payload\":{\"click_context\":\"TRENDING_REPOSITORIES_PAGE\",\"click_target\":\"REPOSITORY\",\"click_visual_representation\":\"REPOSITORY_NAME_HEADING\",\"actor_id\":null,\"record_id\":633043693,\"originating_url\":\"https://github.com/trending/python?since=daily\",\"user_id\":null}}' data-hydro-click-hmac=\"64e8a842a55e98a5b75070387a0d0443e77afec03cd2653a41f880eaa157045a\" data-view-component=\"true\" href=\"/gptforfree/gpt4free\">\n",
       " <svg aria-hidden=\"true\" class=\"octicon octicon-repo mr-1 color-fg-muted\" data-view-component=\"true\" height=\"16\" version=\"1.1\" viewbox=\"0 0 16 16\" width=\"16\">\n",
       " <path d=\"M2 2.5A2.5 2.5 0 0 1 4.5 0h8.75a.75.75 0 0 1 .75.75v12.5a.75.75 0 0 1-.75.75h-2.5a.75.75 0 0 1 0-1.5h1.75v-2h-8a1 1 0 0 0-.714 1.7.75.75 0 1 1-1.072 1.05A2.495 2.495 0 0 1 2 11.5Zm10.5-1h-8a1 1 0 0 0-1 1v6.708A2.486 2.486 0 0 1 4.5 9h8ZM5 12.25a.25.25 0 0 1 .25-.25h3.5a.25.25 0 0 1 .25.25v3.25a.25.25 0 0 1-.4.2l-1.45-1.087a.249.249 0 0 0-.3 0L5.4 15.7a.25.25 0 0 1-.4-.2Z\"></path>\n",
       " </svg>\n",
       " <span class=\"text-normal\" data-view-component=\"true\">\n",
       "         gptforfree /\n",
       " </span>\n",
       "       gpt4free\n",
       " </a> </h2>,\n",
       " <h2 class=\"h3 lh-condensed\">\n",
       " <a data-hydro-click='{\"event_type\":\"explore.click\",\"payload\":{\"click_context\":\"TRENDING_REPOSITORIES_PAGE\",\"click_target\":\"REPOSITORY\",\"click_visual_representation\":\"REPOSITORY_NAME_HEADING\",\"actor_id\":null,\"record_id\":178626720,\"originating_url\":\"https://github.com/trending/python?since=daily\",\"user_id\":null}}' data-hydro-click-hmac=\"3b16a08c10d6181bab7a8f6cc86a000d77ebba16e522b4479466f62e76859806\" data-view-component=\"true\" href=\"/Lightning-AI/lightning\">\n",
       " <svg aria-hidden=\"true\" class=\"octicon octicon-repo mr-1 color-fg-muted\" data-view-component=\"true\" height=\"16\" version=\"1.1\" viewbox=\"0 0 16 16\" width=\"16\">\n",
       " <path d=\"M2 2.5A2.5 2.5 0 0 1 4.5 0h8.75a.75.75 0 0 1 .75.75v12.5a.75.75 0 0 1-.75.75h-2.5a.75.75 0 0 1 0-1.5h1.75v-2h-8a1 1 0 0 0-.714 1.7.75.75 0 1 1-1.072 1.05A2.495 2.495 0 0 1 2 11.5Zm10.5-1h-8a1 1 0 0 0-1 1v6.708A2.486 2.486 0 0 1 4.5 9h8ZM5 12.25a.25.25 0 0 1 .25-.25h3.5a.25.25 0 0 1 .25.25v3.25a.25.25 0 0 1-.4.2l-1.45-1.087a.249.249 0 0 0-.3 0L5.4 15.7a.25.25 0 0 1-.4-.2Z\"></path>\n",
       " </svg>\n",
       " <span class=\"text-normal\" data-view-component=\"true\">\n",
       "         Lightning-AI /\n",
       " </span>\n",
       "       lightning\n",
       " </a> </h2>,\n",
       " <h2 class=\"h3 lh-condensed\">\n",
       " <a data-hydro-click='{\"event_type\":\"explore.click\",\"payload\":{\"click_context\":\"TRENDING_REPOSITORIES_PAGE\",\"click_target\":\"REPOSITORY\",\"click_visual_representation\":\"REPOSITORY_NAME_HEADING\",\"actor_id\":null,\"record_id\":629462321,\"originating_url\":\"https://github.com/trending/python?since=daily\",\"user_id\":null}}' data-hydro-click-hmac=\"fcfada8bfcab53a32b331659e8d6213b1fc8f80b2c9e8648b7faaac2693dc4d3\" data-view-component=\"true\" href=\"/xtekky/chatgpt-clone\">\n",
       " <svg aria-hidden=\"true\" class=\"octicon octicon-repo mr-1 color-fg-muted\" data-view-component=\"true\" height=\"16\" version=\"1.1\" viewbox=\"0 0 16 16\" width=\"16\">\n",
       " <path d=\"M2 2.5A2.5 2.5 0 0 1 4.5 0h8.75a.75.75 0 0 1 .75.75v12.5a.75.75 0 0 1-.75.75h-2.5a.75.75 0 0 1 0-1.5h1.75v-2h-8a1 1 0 0 0-.714 1.7.75.75 0 1 1-1.072 1.05A2.495 2.495 0 0 1 2 11.5Zm10.5-1h-8a1 1 0 0 0-1 1v6.708A2.486 2.486 0 0 1 4.5 9h8ZM5 12.25a.25.25 0 0 1 .25-.25h3.5a.25.25 0 0 1 .25.25v3.25a.25.25 0 0 1-.4.2l-1.45-1.087a.249.249 0 0 0-.3 0L5.4 15.7a.25.25 0 0 1-.4-.2Z\"></path>\n",
       " </svg>\n",
       " <span class=\"text-normal\" data-view-component=\"true\">\n",
       "         xtekky /\n",
       " </span>\n",
       "       chatgpt-clone\n",
       " </a> </h2>,\n",
       " <h2 class=\"h3 lh-condensed\">\n",
       " <a data-hydro-click='{\"event_type\":\"explore.click\",\"payload\":{\"click_context\":\"TRENDING_REPOSITORIES_PAGE\",\"click_target\":\"REPOSITORY\",\"click_visual_representation\":\"REPOSITORY_NAME_HEADING\",\"actor_id\":null,\"record_id\":347277349,\"originating_url\":\"https://github.com/trending/python?since=daily\",\"user_id\":null}}' data-hydro-click-hmac=\"032014322ade7d9e5733d9aed444e95e415f826974306a175bca88457b24fa6b\" data-view-component=\"true\" href=\"/tobymao/sqlglot\">\n",
       " <svg aria-hidden=\"true\" class=\"octicon octicon-repo mr-1 color-fg-muted\" data-view-component=\"true\" height=\"16\" version=\"1.1\" viewbox=\"0 0 16 16\" width=\"16\">\n",
       " <path d=\"M2 2.5A2.5 2.5 0 0 1 4.5 0h8.75a.75.75 0 0 1 .75.75v12.5a.75.75 0 0 1-.75.75h-2.5a.75.75 0 0 1 0-1.5h1.75v-2h-8a1 1 0 0 0-.714 1.7.75.75 0 1 1-1.072 1.05A2.495 2.495 0 0 1 2 11.5Zm10.5-1h-8a1 1 0 0 0-1 1v6.708A2.486 2.486 0 0 1 4.5 9h8ZM5 12.25a.25.25 0 0 1 .25-.25h3.5a.25.25 0 0 1 .25.25v3.25a.25.25 0 0 1-.4.2l-1.45-1.087a.249.249 0 0 0-.3 0L5.4 15.7a.25.25 0 0 1-.4-.2Z\"></path>\n",
       " </svg>\n",
       " <span class=\"text-normal\" data-view-component=\"true\">\n",
       "         tobymao /\n",
       " </span>\n",
       "       sqlglot\n",
       " </a> </h2>,\n",
       " <h2 class=\"h3 lh-condensed\">\n",
       " <a data-hydro-click='{\"event_type\":\"explore.click\",\"payload\":{\"click_context\":\"TRENDING_REPOSITORIES_PAGE\",\"click_target\":\"REPOSITORY\",\"click_visual_representation\":\"REPOSITORY_NAME_HEADING\",\"actor_id\":null,\"record_id\":596377214,\"originating_url\":\"https://github.com/trending/python?since=daily\",\"user_id\":null}}' data-hydro-click-hmac=\"465ab38ef91df7b0c917f2784f4bc472ed6b7e7b4e45476ad970b7d973cd9033\" data-view-component=\"true\" href=\"/furrysalamander/rubedo\">\n",
       " <svg aria-hidden=\"true\" class=\"octicon octicon-repo mr-1 color-fg-muted\" data-view-component=\"true\" height=\"16\" version=\"1.1\" viewbox=\"0 0 16 16\" width=\"16\">\n",
       " <path d=\"M2 2.5A2.5 2.5 0 0 1 4.5 0h8.75a.75.75 0 0 1 .75.75v12.5a.75.75 0 0 1-.75.75h-2.5a.75.75 0 0 1 0-1.5h1.75v-2h-8a1 1 0 0 0-.714 1.7.75.75 0 1 1-1.072 1.05A2.495 2.495 0 0 1 2 11.5Zm10.5-1h-8a1 1 0 0 0-1 1v6.708A2.486 2.486 0 0 1 4.5 9h8ZM5 12.25a.25.25 0 0 1 .25-.25h3.5a.25.25 0 0 1 .25.25v3.25a.25.25 0 0 1-.4.2l-1.45-1.087a.249.249 0 0 0-.3 0L5.4 15.7a.25.25 0 0 1-.4-.2Z\"></path>\n",
       " </svg>\n",
       " <span class=\"text-normal\" data-view-component=\"true\">\n",
       "         furrysalamander /\n",
       " </span>\n",
       "       rubedo\n",
       " </a> </h2>,\n",
       " <h2 class=\"h3 lh-condensed\">\n",
       " <a data-hydro-click='{\"event_type\":\"explore.click\",\"payload\":{\"click_context\":\"TRENDING_REPOSITORIES_PAGE\",\"click_target\":\"REPOSITORY\",\"click_visual_representation\":\"REPOSITORY_NAME_HEADING\",\"actor_id\":null,\"record_id\":632303131,\"originating_url\":\"https://github.com/trending/python?since=daily\",\"user_id\":null}}' data-hydro-click-hmac=\"4c176d1b4677a2948f57ba6e0f9e8ea8c91522fba1afc33db2d2ace29b5667e4\" data-view-component=\"true\" href=\"/richardyc/Chrome-GPT\">\n",
       " <svg aria-hidden=\"true\" class=\"octicon octicon-repo mr-1 color-fg-muted\" data-view-component=\"true\" height=\"16\" version=\"1.1\" viewbox=\"0 0 16 16\" width=\"16\">\n",
       " <path d=\"M2 2.5A2.5 2.5 0 0 1 4.5 0h8.75a.75.75 0 0 1 .75.75v12.5a.75.75 0 0 1-.75.75h-2.5a.75.75 0 0 1 0-1.5h1.75v-2h-8a1 1 0 0 0-.714 1.7.75.75 0 1 1-1.072 1.05A2.495 2.495 0 0 1 2 11.5Zm10.5-1h-8a1 1 0 0 0-1 1v6.708A2.486 2.486 0 0 1 4.5 9h8ZM5 12.25a.25.25 0 0 1 .25-.25h3.5a.25.25 0 0 1 .25.25v3.25a.25.25 0 0 1-.4.2l-1.45-1.087a.249.249 0 0 0-.3 0L5.4 15.7a.25.25 0 0 1-.4-.2Z\"></path>\n",
       " </svg>\n",
       " <span class=\"text-normal\" data-view-component=\"true\">\n",
       "         richardyc /\n",
       " </span>\n",
       "       Chrome-GPT\n",
       " </a> </h2>,\n",
       " <h2 class=\"h3 lh-condensed\">\n",
       " <a data-hydro-click='{\"event_type\":\"explore.click\",\"payload\":{\"click_context\":\"TRENDING_REPOSITORIES_PAGE\",\"click_target\":\"REPOSITORY\",\"click_visual_representation\":\"REPOSITORY_NAME_HEADING\",\"actor_id\":null,\"record_id\":528755191,\"originating_url\":\"https://github.com/trending/python?since=daily\",\"user_id\":null}}' data-hydro-click-hmac=\"76d03216f73e6cf9da8e5870d17634099db4377a52aa39c4bd8a6869229d1b55\" data-view-component=\"true\" href=\"/Syslifters/sysreptor\">\n",
       " <svg aria-hidden=\"true\" class=\"octicon octicon-repo mr-1 color-fg-muted\" data-view-component=\"true\" height=\"16\" version=\"1.1\" viewbox=\"0 0 16 16\" width=\"16\">\n",
       " <path d=\"M2 2.5A2.5 2.5 0 0 1 4.5 0h8.75a.75.75 0 0 1 .75.75v12.5a.75.75 0 0 1-.75.75h-2.5a.75.75 0 0 1 0-1.5h1.75v-2h-8a1 1 0 0 0-.714 1.7.75.75 0 1 1-1.072 1.05A2.495 2.495 0 0 1 2 11.5Zm10.5-1h-8a1 1 0 0 0-1 1v6.708A2.486 2.486 0 0 1 4.5 9h8ZM5 12.25a.25.25 0 0 1 .25-.25h3.5a.25.25 0 0 1 .25.25v3.25a.25.25 0 0 1-.4.2l-1.45-1.087a.249.249 0 0 0-.3 0L5.4 15.7a.25.25 0 0 1-.4-.2Z\"></path>\n",
       " </svg>\n",
       " <span class=\"text-normal\" data-view-component=\"true\">\n",
       "         Syslifters /\n",
       " </span>\n",
       "       sysreptor\n",
       " </a> </h2>,\n",
       " <h2 class=\"h3 lh-condensed\">\n",
       " <a data-hydro-click='{\"event_type\":\"explore.click\",\"payload\":{\"click_context\":\"TRENDING_REPOSITORIES_PAGE\",\"click_target\":\"REPOSITORY\",\"click_visual_representation\":\"REPOSITORY_NAME_HEADING\",\"actor_id\":null,\"record_id\":54376220,\"originating_url\":\"https://github.com/trending/python?since=daily\",\"user_id\":null}}' data-hydro-click-hmac=\"17fbf1b2847dfa2a2d6b213ae00f5009d343709b83b5f77fb8c847ba497ebcd1\" data-view-component=\"true\" href=\"/AtsushiSakai/PythonRobotics\">\n",
       " <svg aria-hidden=\"true\" class=\"octicon octicon-repo mr-1 color-fg-muted\" data-view-component=\"true\" height=\"16\" version=\"1.1\" viewbox=\"0 0 16 16\" width=\"16\">\n",
       " <path d=\"M2 2.5A2.5 2.5 0 0 1 4.5 0h8.75a.75.75 0 0 1 .75.75v12.5a.75.75 0 0 1-.75.75h-2.5a.75.75 0 0 1 0-1.5h1.75v-2h-8a1 1 0 0 0-.714 1.7.75.75 0 1 1-1.072 1.05A2.495 2.495 0 0 1 2 11.5Zm10.5-1h-8a1 1 0 0 0-1 1v6.708A2.486 2.486 0 0 1 4.5 9h8ZM5 12.25a.25.25 0 0 1 .25-.25h3.5a.25.25 0 0 1 .25.25v3.25a.25.25 0 0 1-.4.2l-1.45-1.087a.249.249 0 0 0-.3 0L5.4 15.7a.25.25 0 0 1-.4-.2Z\"></path>\n",
       " </svg>\n",
       " <span class=\"text-normal\" data-view-component=\"true\">\n",
       "         AtsushiSakai /\n",
       " </span>\n",
       "       PythonRobotics\n",
       " </a> </h2>,\n",
       " <h2 class=\"h3 lh-condensed\">\n",
       " <a data-hydro-click='{\"event_type\":\"explore.click\",\"payload\":{\"click_context\":\"TRENDING_REPOSITORIES_PAGE\",\"click_target\":\"REPOSITORY\",\"click_visual_representation\":\"REPOSITORY_NAME_HEADING\",\"actor_id\":null,\"record_id\":12888993,\"originating_url\":\"https://github.com/trending/python?since=daily\",\"user_id\":null}}' data-hydro-click-hmac=\"c72d4a9bc77f5e9262e352939f90a91c4b409261e07f73793f902a7b2d57a0ea\" data-view-component=\"true\" href=\"/home-assistant/core\">\n",
       " <svg aria-hidden=\"true\" class=\"octicon octicon-repo mr-1 color-fg-muted\" data-view-component=\"true\" height=\"16\" version=\"1.1\" viewbox=\"0 0 16 16\" width=\"16\">\n",
       " <path d=\"M2 2.5A2.5 2.5 0 0 1 4.5 0h8.75a.75.75 0 0 1 .75.75v12.5a.75.75 0 0 1-.75.75h-2.5a.75.75 0 0 1 0-1.5h1.75v-2h-8a1 1 0 0 0-.714 1.7.75.75 0 1 1-1.072 1.05A2.495 2.495 0 0 1 2 11.5Zm10.5-1h-8a1 1 0 0 0-1 1v6.708A2.486 2.486 0 0 1 4.5 9h8ZM5 12.25a.25.25 0 0 1 .25-.25h3.5a.25.25 0 0 1 .25.25v3.25a.25.25 0 0 1-.4.2l-1.45-1.087a.249.249 0 0 0-.3 0L5.4 15.7a.25.25 0 0 1-.4-.2Z\"></path>\n",
       " </svg>\n",
       " <span class=\"text-normal\" data-view-component=\"true\">\n",
       "         home-assistant /\n",
       " </span>\n",
       "       core\n",
       " </a> </h2>,\n",
       " <h2 class=\"h3 lh-condensed\">\n",
       " <a data-hydro-click='{\"event_type\":\"explore.click\",\"payload\":{\"click_context\":\"TRENDING_REPOSITORIES_PAGE\",\"click_target\":\"REPOSITORY\",\"click_visual_representation\":\"REPOSITORY_NAME_HEADING\",\"actor_id\":null,\"record_id\":634401249,\"originating_url\":\"https://github.com/trending/python?since=daily\",\"user_id\":null}}' data-hydro-click-hmac=\"f83a697db72ca1d206bbefa9e107d9b9fa5bfe6c071f06a101e0f21470d7538b\" data-view-component=\"true\" href=\"/WeOpenML/PandaLM\">\n",
       " <svg aria-hidden=\"true\" class=\"octicon octicon-repo mr-1 color-fg-muted\" data-view-component=\"true\" height=\"16\" version=\"1.1\" viewbox=\"0 0 16 16\" width=\"16\">\n",
       " <path d=\"M2 2.5A2.5 2.5 0 0 1 4.5 0h8.75a.75.75 0 0 1 .75.75v12.5a.75.75 0 0 1-.75.75h-2.5a.75.75 0 0 1 0-1.5h1.75v-2h-8a1 1 0 0 0-.714 1.7.75.75 0 1 1-1.072 1.05A2.495 2.495 0 0 1 2 11.5Zm10.5-1h-8a1 1 0 0 0-1 1v6.708A2.486 2.486 0 0 1 4.5 9h8ZM5 12.25a.25.25 0 0 1 .25-.25h3.5a.25.25 0 0 1 .25.25v3.25a.25.25 0 0 1-.4.2l-1.45-1.087a.249.249 0 0 0-.3 0L5.4 15.7a.25.25 0 0 1-.4-.2Z\"></path>\n",
       " </svg>\n",
       " <span class=\"text-normal\" data-view-component=\"true\">\n",
       "         WeOpenML /\n",
       " </span>\n",
       "       PandaLM\n",
       " </a> </h2>,\n",
       " <h2 class=\"h3 lh-condensed\">\n",
       " <a data-hydro-click='{\"event_type\":\"explore.click\",\"payload\":{\"click_context\":\"TRENDING_REPOSITORIES_PAGE\",\"click_target\":\"REPOSITORY\",\"click_visual_representation\":\"REPOSITORY_NAME_HEADING\",\"actor_id\":null,\"record_id\":222751131,\"originating_url\":\"https://github.com/trending/python?since=daily\",\"user_id\":null}}' data-hydro-click-hmac=\"fd94b6a823a3b3a8fbffa1a8e398513cb2ed2e8add5747d576202e12279b38f3\" data-view-component=\"true\" href=\"/Asabeneh/30-Days-Of-Python\">\n",
       " <svg aria-hidden=\"true\" class=\"octicon octicon-repo mr-1 color-fg-muted\" data-view-component=\"true\" height=\"16\" version=\"1.1\" viewbox=\"0 0 16 16\" width=\"16\">\n",
       " <path d=\"M2 2.5A2.5 2.5 0 0 1 4.5 0h8.75a.75.75 0 0 1 .75.75v12.5a.75.75 0 0 1-.75.75h-2.5a.75.75 0 0 1 0-1.5h1.75v-2h-8a1 1 0 0 0-.714 1.7.75.75 0 1 1-1.072 1.05A2.495 2.495 0 0 1 2 11.5Zm10.5-1h-8a1 1 0 0 0-1 1v6.708A2.486 2.486 0 0 1 4.5 9h8ZM5 12.25a.25.25 0 0 1 .25-.25h3.5a.25.25 0 0 1 .25.25v3.25a.25.25 0 0 1-.4.2l-1.45-1.087a.249.249 0 0 0-.3 0L5.4 15.7a.25.25 0 0 1-.4-.2Z\"></path>\n",
       " </svg>\n",
       " <span class=\"text-normal\" data-view-component=\"true\">\n",
       "         Asabeneh /\n",
       " </span>\n",
       "       30-Days-Of-Python\n",
       " </a> </h2>,\n",
       " <h2 class=\"h3 lh-condensed\">\n",
       " <a data-hydro-click='{\"event_type\":\"explore.click\",\"payload\":{\"click_context\":\"TRENDING_REPOSITORIES_PAGE\",\"click_target\":\"REPOSITORY\",\"click_visual_representation\":\"REPOSITORY_NAME_HEADING\",\"actor_id\":null,\"record_id\":315490189,\"originating_url\":\"https://github.com/trending/python?since=daily\",\"user_id\":null}}' data-hydro-click-hmac=\"1d43b194e8e4945a72b3d88a800b397a91235f653318a37f80263b56aa051d58\" data-view-component=\"true\" href=\"/dortania/OpenCore-Legacy-Patcher\">\n",
       " <svg aria-hidden=\"true\" class=\"octicon octicon-repo mr-1 color-fg-muted\" data-view-component=\"true\" height=\"16\" version=\"1.1\" viewbox=\"0 0 16 16\" width=\"16\">\n",
       " <path d=\"M2 2.5A2.5 2.5 0 0 1 4.5 0h8.75a.75.75 0 0 1 .75.75v12.5a.75.75 0 0 1-.75.75h-2.5a.75.75 0 0 1 0-1.5h1.75v-2h-8a1 1 0 0 0-.714 1.7.75.75 0 1 1-1.072 1.05A2.495 2.495 0 0 1 2 11.5Zm10.5-1h-8a1 1 0 0 0-1 1v6.708A2.486 2.486 0 0 1 4.5 9h8ZM5 12.25a.25.25 0 0 1 .25-.25h3.5a.25.25 0 0 1 .25.25v3.25a.25.25 0 0 1-.4.2l-1.45-1.087a.249.249 0 0 0-.3 0L5.4 15.7a.25.25 0 0 1-.4-.2Z\"></path>\n",
       " </svg>\n",
       " <span class=\"text-normal\" data-view-component=\"true\">\n",
       "         dortania /\n",
       " </span>\n",
       "       OpenCore-Legacy-Patcher\n",
       " </a> </h2>,\n",
       " <h2 class=\"h3 lh-condensed\">\n",
       " <a data-hydro-click='{\"event_type\":\"explore.click\",\"payload\":{\"click_context\":\"TRENDING_REPOSITORIES_PAGE\",\"click_target\":\"REPOSITORY\",\"click_visual_representation\":\"REPOSITORY_NAME_HEADING\",\"actor_id\":null,\"record_id\":607202370,\"originating_url\":\"https://github.com/trending/python?since=daily\",\"user_id\":null}}' data-hydro-click-hmac=\"d11bd946e0a6ab47e1a5a01d69a1698d72e7a0b11900ed6b1668d363d3834acf\" data-view-component=\"true\" href=\"/pkuliyi2015/multidiffusion-upscaler-for-automatic1111\">\n",
       " <svg aria-hidden=\"true\" class=\"octicon octicon-repo mr-1 color-fg-muted\" data-view-component=\"true\" height=\"16\" version=\"1.1\" viewbox=\"0 0 16 16\" width=\"16\">\n",
       " <path d=\"M2 2.5A2.5 2.5 0 0 1 4.5 0h8.75a.75.75 0 0 1 .75.75v12.5a.75.75 0 0 1-.75.75h-2.5a.75.75 0 0 1 0-1.5h1.75v-2h-8a1 1 0 0 0-.714 1.7.75.75 0 1 1-1.072 1.05A2.495 2.495 0 0 1 2 11.5Zm10.5-1h-8a1 1 0 0 0-1 1v6.708A2.486 2.486 0 0 1 4.5 9h8ZM5 12.25a.25.25 0 0 1 .25-.25h3.5a.25.25 0 0 1 .25.25v3.25a.25.25 0 0 1-.4.2l-1.45-1.087a.249.249 0 0 0-.3 0L5.4 15.7a.25.25 0 0 1-.4-.2Z\"></path>\n",
       " </svg>\n",
       " <span class=\"text-normal\" data-view-component=\"true\">\n",
       "         pkuliyi2015 /\n",
       " </span>\n",
       "       multidiffusion-upscaler-for-automatic1111\n",
       " </a> </h2>,\n",
       " <h2 class=\"h3 lh-condensed\">\n",
       " <a data-hydro-click='{\"event_type\":\"explore.click\",\"payload\":{\"click_context\":\"TRENDING_REPOSITORIES_PAGE\",\"click_target\":\"REPOSITORY\",\"click_visual_representation\":\"REPOSITORY_NAME_HEADING\",\"actor_id\":null,\"record_id\":573752426,\"originating_url\":\"https://github.com/trending/python?since=daily\",\"user_id\":null}}' data-hydro-click-hmac=\"c3e46cb6d6290643adbcee33ce6b44e918bf6f69caa6867c99730a6ee4223a90\" data-view-component=\"true\" href=\"/Anof-cyber/Androset\">\n",
       " <svg aria-hidden=\"true\" class=\"octicon octicon-repo mr-1 color-fg-muted\" data-view-component=\"true\" height=\"16\" version=\"1.1\" viewbox=\"0 0 16 16\" width=\"16\">\n",
       " <path d=\"M2 2.5A2.5 2.5 0 0 1 4.5 0h8.75a.75.75 0 0 1 .75.75v12.5a.75.75 0 0 1-.75.75h-2.5a.75.75 0 0 1 0-1.5h1.75v-2h-8a1 1 0 0 0-.714 1.7.75.75 0 1 1-1.072 1.05A2.495 2.495 0 0 1 2 11.5Zm10.5-1h-8a1 1 0 0 0-1 1v6.708A2.486 2.486 0 0 1 4.5 9h8ZM5 12.25a.25.25 0 0 1 .25-.25h3.5a.25.25 0 0 1 .25.25v3.25a.25.25 0 0 1-.4.2l-1.45-1.087a.249.249 0 0 0-.3 0L5.4 15.7a.25.25 0 0 1-.4-.2Z\"></path>\n",
       " </svg>\n",
       " <span class=\"text-normal\" data-view-component=\"true\">\n",
       "         Anof-cyber /\n",
       " </span>\n",
       "       Androset\n",
       " </a> </h2>,\n",
       " <h2 class=\"h3 lh-condensed\">\n",
       " <a data-hydro-click='{\"event_type\":\"explore.click\",\"payload\":{\"click_context\":\"TRENDING_REPOSITORIES_PAGE\",\"click_target\":\"REPOSITORY\",\"click_visual_representation\":\"REPOSITORY_NAME_HEADING\",\"actor_id\":null,\"record_id\":628816184,\"originating_url\":\"https://github.com/trending/python?since=daily\",\"user_id\":null}}' data-hydro-click-hmac=\"fb0f45e5083b8661679e9771a5940c5f55ba9af8771aaeaa8d56a9569e02c05a\" data-view-component=\"true\" href=\"/Zafirmk/NewsBytes\">\n",
       " <svg aria-hidden=\"true\" class=\"octicon octicon-repo mr-1 color-fg-muted\" data-view-component=\"true\" height=\"16\" version=\"1.1\" viewbox=\"0 0 16 16\" width=\"16\">\n",
       " <path d=\"M2 2.5A2.5 2.5 0 0 1 4.5 0h8.75a.75.75 0 0 1 .75.75v12.5a.75.75 0 0 1-.75.75h-2.5a.75.75 0 0 1 0-1.5h1.75v-2h-8a1 1 0 0 0-.714 1.7.75.75 0 1 1-1.072 1.05A2.495 2.495 0 0 1 2 11.5Zm10.5-1h-8a1 1 0 0 0-1 1v6.708A2.486 2.486 0 0 1 4.5 9h8ZM5 12.25a.25.25 0 0 1 .25-.25h3.5a.25.25 0 0 1 .25.25v3.25a.25.25 0 0 1-.4.2l-1.45-1.087a.249.249 0 0 0-.3 0L5.4 15.7a.25.25 0 0 1-.4-.2Z\"></path>\n",
       " </svg>\n",
       " <span class=\"text-normal\" data-view-component=\"true\">\n",
       "         Zafirmk /\n",
       " </span>\n",
       "       NewsBytes\n",
       " </a> </h2>]"
      ]
     },
     "execution_count": 9,
     "metadata": {},
     "output_type": "execute_result"
    }
   ],
   "source": [
    "#Parseo\n",
    "sopa=bs(html, 'html.parser')\n",
    "\n",
    "stars=sopa.find_all('h2', class_='h3 lh-condensed') \n",
    "\n",
    "stars"
   ]
  },
  {
   "cell_type": "code",
   "execution_count": 10,
   "metadata": {},
   "outputs": [
    {
     "data": {
      "text/plain": [
       "['mlc-llm',\n",
       " 'FigmaChain',\n",
       " 'pandas-ai',\n",
       " 'Discord-Chatbot-Gpt4Free',\n",
       " 'azure-search-openai-demo',\n",
       " 'phoenix',\n",
       " 'system-design-primer',\n",
       " 'Hitomi-Downloader',\n",
       " 'AutoPR',\n",
       " 'Auto-GPT-Plugins',\n",
       " 'gpt4free',\n",
       " 'lightning',\n",
       " 'chatgpt-clone',\n",
       " 'sqlglot',\n",
       " 'rubedo',\n",
       " 'Chrome-GPT',\n",
       " 'sysreptor',\n",
       " 'PythonRobotics',\n",
       " 'core',\n",
       " 'PandaLM',\n",
       " '30-Days-Of-Python',\n",
       " 'OpenCore-Legacy-Patcher',\n",
       " 'multidiffusion-upscaler-for-automatic1111',\n",
       " 'Androset',\n",
       " 'NewsBytes']"
      ]
     },
     "execution_count": 10,
     "metadata": {},
     "output_type": "execute_result"
    }
   ],
   "source": [
    "lista_mvp = [e.text.split()[-1] for e in stars]\n",
    "\n",
    "lista_mvp"
   ]
  },
  {
   "attachments": {},
   "cell_type": "markdown",
   "metadata": {},
   "source": [
    "#### Display all the image links from Walt Disney wikipedia page"
   ]
  },
  {
   "cell_type": "code",
   "execution_count": 11,
   "metadata": {},
   "outputs": [],
   "source": [
    "# This is the url you will scrape in this exercise\n",
    "url = 'https://en.wikipedia.org/wiki/Walt_Disney'"
   ]
  },
  {
   "cell_type": "code",
   "execution_count": 12,
   "metadata": {},
   "outputs": [
    {
     "data": {
      "text/plain": [
       "583492"
      ]
     },
     "execution_count": 12,
     "metadata": {},
     "output_type": "execute_result"
    }
   ],
   "source": [
    "#your code\n",
    "html = req.get(url).content\n",
    "\n",
    "len(html)"
   ]
  },
  {
   "cell_type": "code",
   "execution_count": 13,
   "metadata": {},
   "outputs": [
    {
     "data": {
      "text/plain": [
       "[<a class=\"image\" href=\"/wiki/File:Walt_Disney_1946.JPG\"><img alt=\"Walt Disney 1946.JPG\" data-file-height=\"675\" data-file-width=\"450\" decoding=\"async\" height=\"330\" src=\"//upload.wikimedia.org/wikipedia/commons/thumb/d/df/Walt_Disney_1946.JPG/220px-Walt_Disney_1946.JPG\" srcset=\"//upload.wikimedia.org/wikipedia/commons/thumb/d/df/Walt_Disney_1946.JPG/330px-Walt_Disney_1946.JPG 1.5x, //upload.wikimedia.org/wikipedia/commons/thumb/d/df/Walt_Disney_1946.JPG/440px-Walt_Disney_1946.JPG 2x\" width=\"220\"/></a>,\n",
       " <a class=\"image\" href=\"/wiki/File:Walt_Disney_1942_signature.svg\"><img alt=\"Walt Disney 1942 signature.svg\" data-file-height=\"218\" data-file-width=\"585\" decoding=\"async\" height=\"56\" src=\"//upload.wikimedia.org/wikipedia/commons/thumb/8/87/Walt_Disney_1942_signature.svg/150px-Walt_Disney_1942_signature.svg.png\" srcset=\"//upload.wikimedia.org/wikipedia/commons/thumb/8/87/Walt_Disney_1942_signature.svg/225px-Walt_Disney_1942_signature.svg.png 1.5x, //upload.wikimedia.org/wikipedia/commons/thumb/8/87/Walt_Disney_1942_signature.svg/300px-Walt_Disney_1942_signature.svg.png 2x\" width=\"150\"/></a>,\n",
       " <a class=\"image\" href=\"/wiki/File:Walt_Disney_Birthplace_Exterior_Hermosa_Chicago_Illinois.jpg\"><img alt=\"Pale yellow wooden house with brown trim surrounded by white picket fence\" class=\"thumbimage\" data-file-height=\"1080\" data-file-width=\"1440\" decoding=\"async\" height=\"165\" src=\"//upload.wikimedia.org/wikipedia/commons/thumb/3/3a/Walt_Disney_Birthplace_Exterior_Hermosa_Chicago_Illinois.jpg/220px-Walt_Disney_Birthplace_Exterior_Hermosa_Chicago_Illinois.jpg\" srcset=\"//upload.wikimedia.org/wikipedia/commons/thumb/3/3a/Walt_Disney_Birthplace_Exterior_Hermosa_Chicago_Illinois.jpg/330px-Walt_Disney_Birthplace_Exterior_Hermosa_Chicago_Illinois.jpg 1.5x, //upload.wikimedia.org/wikipedia/commons/thumb/3/3a/Walt_Disney_Birthplace_Exterior_Hermosa_Chicago_Illinois.jpg/440px-Walt_Disney_Birthplace_Exterior_Hermosa_Chicago_Illinois.jpg 2x\" width=\"220\"/></a>,\n",
       " <a class=\"image\" href=\"/wiki/File:Walt_Disney_envelope_ca._1921.jpg\"><img class=\"thumbimage\" data-file-height=\"1086\" data-file-width=\"1576\" decoding=\"async\" height=\"152\" src=\"//upload.wikimedia.org/wikipedia/commons/thumb/c/c4/Walt_Disney_envelope_ca._1921.jpg/220px-Walt_Disney_envelope_ca._1921.jpg\" srcset=\"//upload.wikimedia.org/wikipedia/commons/thumb/c/c4/Walt_Disney_envelope_ca._1921.jpg/330px-Walt_Disney_envelope_ca._1921.jpg 1.5x, //upload.wikimedia.org/wikipedia/commons/thumb/c/c4/Walt_Disney_envelope_ca._1921.jpg/440px-Walt_Disney_envelope_ca._1921.jpg 2x\" width=\"220\"/></a>,\n",
       " <a class=\"image\" href=\"/wiki/File:Trolley_Troubles_poster.jpg\"><img alt=\"A cartoon rabbit is driving a tramcar; other cartoon rabbits are in, under, on and around the car.\" class=\"thumbimage\" data-file-height=\"1600\" data-file-width=\"1202\" decoding=\"async\" height=\"226\" src=\"//upload.wikimedia.org/wikipedia/commons/thumb/0/0d/Trolley_Troubles_poster.jpg/170px-Trolley_Troubles_poster.jpg\" srcset=\"//upload.wikimedia.org/wikipedia/commons/thumb/0/0d/Trolley_Troubles_poster.jpg/255px-Trolley_Troubles_poster.jpg 1.5x, //upload.wikimedia.org/wikipedia/commons/thumb/0/0d/Trolley_Troubles_poster.jpg/340px-Trolley_Troubles_poster.jpg 2x\" width=\"170\"/></a>,\n",
       " <a class=\"image\" href=\"/wiki/File:Steamboat-willie.jpg\"><img alt=\"A cartoon mouse is operating a ship's steering wheel\" class=\"thumbimage\" data-file-height=\"267\" data-file-width=\"373\" decoding=\"async\" height=\"122\" src=\"//upload.wikimedia.org/wikipedia/en/thumb/4/4e/Steamboat-willie.jpg/170px-Steamboat-willie.jpg\" srcset=\"//upload.wikimedia.org/wikipedia/en/thumb/4/4e/Steamboat-willie.jpg/255px-Steamboat-willie.jpg 1.5x, //upload.wikimedia.org/wikipedia/en/thumb/4/4e/Steamboat-willie.jpg/340px-Steamboat-willie.jpg 2x\" width=\"170\"/></a>,\n",
       " <a class=\"image\" href=\"/wiki/File:Walt_Disney_1935.jpg\"><img class=\"thumbimage\" data-file-height=\"4683\" data-file-width=\"6357\" decoding=\"async\" height=\"125\" src=\"//upload.wikimedia.org/wikipedia/commons/thumb/5/57/Walt_Disney_1935.jpg/170px-Walt_Disney_1935.jpg\" srcset=\"//upload.wikimedia.org/wikipedia/commons/thumb/5/57/Walt_Disney_1935.jpg/255px-Walt_Disney_1935.jpg 1.5x, //upload.wikimedia.org/wikipedia/commons/thumb/5/57/Walt_Disney_1935.jpg/340px-Walt_Disney_1935.jpg 2x\" width=\"170\"/></a>,\n",
       " <a class=\"image\" href=\"/wiki/File:Walt_Disney_Snow_white_1937_trailer_screenshot_(13).jpg\"><img alt=\"Walt Disney sits in front of a set of models of the seven dwarfs\" class=\"thumbimage\" data-file-height=\"388\" data-file-width=\"500\" decoding=\"async\" height=\"171\" src=\"//upload.wikimedia.org/wikipedia/commons/thumb/c/cd/Walt_Disney_Snow_white_1937_trailer_screenshot_%2813%29.jpg/220px-Walt_Disney_Snow_white_1937_trailer_screenshot_%2813%29.jpg\" srcset=\"//upload.wikimedia.org/wikipedia/commons/thumb/c/cd/Walt_Disney_Snow_white_1937_trailer_screenshot_%2813%29.jpg/330px-Walt_Disney_Snow_white_1937_trailer_screenshot_%2813%29.jpg 1.5x, //upload.wikimedia.org/wikipedia/commons/thumb/c/cd/Walt_Disney_Snow_white_1937_trailer_screenshot_%2813%29.jpg/440px-Walt_Disney_Snow_white_1937_trailer_screenshot_%2813%29.jpg 2x\" width=\"220\"/></a>,\n",
       " <a class=\"image\" href=\"/wiki/File:Disney_drawing_goofy.jpg\"><img class=\"thumbimage\" data-file-height=\"770\" data-file-width=\"600\" decoding=\"async\" height=\"218\" src=\"//upload.wikimedia.org/wikipedia/commons/thumb/1/15/Disney_drawing_goofy.jpg/170px-Disney_drawing_goofy.jpg\" srcset=\"//upload.wikimedia.org/wikipedia/commons/thumb/1/15/Disney_drawing_goofy.jpg/255px-Disney_drawing_goofy.jpg 1.5x, //upload.wikimedia.org/wikipedia/commons/thumb/1/15/Disney_drawing_goofy.jpg/340px-Disney_drawing_goofy.jpg 2x\" width=\"170\"/></a>,\n",
       " <a class=\"image\" href=\"/wiki/File:WaltDisneyplansDisneylandDec1954.jpg\"><img class=\"thumbimage\" data-file-height=\"2417\" data-file-width=\"2723\" decoding=\"async\" height=\"195\" src=\"//upload.wikimedia.org/wikipedia/commons/thumb/8/8c/WaltDisneyplansDisneylandDec1954.jpg/220px-WaltDisneyplansDisneylandDec1954.jpg\" srcset=\"//upload.wikimedia.org/wikipedia/commons/thumb/8/8c/WaltDisneyplansDisneylandDec1954.jpg/330px-WaltDisneyplansDisneylandDec1954.jpg 1.5x, //upload.wikimedia.org/wikipedia/commons/thumb/8/8c/WaltDisneyplansDisneylandDec1954.jpg/440px-WaltDisneyplansDisneylandDec1954.jpg 2x\" width=\"220\"/></a>,\n",
       " <a class=\"image\" href=\"/wiki/File:Walt_disney_portrait_right.jpg\"><img class=\"thumbimage\" data-file-height=\"902\" data-file-width=\"667\" decoding=\"async\" height=\"230\" src=\"//upload.wikimedia.org/wikipedia/commons/thumb/f/ff/Walt_disney_portrait_right.jpg/170px-Walt_disney_portrait_right.jpg\" srcset=\"//upload.wikimedia.org/wikipedia/commons/thumb/f/ff/Walt_disney_portrait_right.jpg/255px-Walt_disney_portrait_right.jpg 1.5x, //upload.wikimedia.org/wikipedia/commons/thumb/f/ff/Walt_disney_portrait_right.jpg/340px-Walt_disney_portrait_right.jpg 2x\" width=\"170\"/></a>,\n",
       " <a class=\"image\" href=\"/wiki/File:Walt_Disney_Grave.JPG\"><img alt=\"A gravestone inscribed 'Walter Elias Disney', 'Lillian Bounds Disney', 'Robert B. Brown', Sharon Disney Brown Lund ashes scattered in paradise'\" class=\"thumbimage\" data-file-height=\"1700\" data-file-width=\"1400\" decoding=\"async\" height=\"206\" src=\"//upload.wikimedia.org/wikipedia/commons/thumb/1/1a/Walt_Disney_Grave.JPG/170px-Walt_Disney_Grave.JPG\" srcset=\"//upload.wikimedia.org/wikipedia/commons/thumb/1/1a/Walt_Disney_Grave.JPG/255px-Walt_Disney_Grave.JPG 1.5x, //upload.wikimedia.org/wikipedia/commons/thumb/1/1a/Walt_Disney_Grave.JPG/340px-Walt_Disney_Grave.JPG 2x\" width=\"170\"/></a>,\n",
       " <a class=\"image\" href=\"/wiki/File:Roy_O._Disney_with_Company_at_Press_Conference.jpg\"><img class=\"thumbimage\" data-file-height=\"275\" data-file-width=\"220\" decoding=\"async\" height=\"213\" src=\"//upload.wikimedia.org/wikipedia/commons/thumb/2/2d/Roy_O._Disney_with_Company_at_Press_Conference.jpg/170px-Roy_O._Disney_with_Company_at_Press_Conference.jpg\" srcset=\"//upload.wikimedia.org/wikipedia/commons/2/2d/Roy_O._Disney_with_Company_at_Press_Conference.jpg 1.5x\" width=\"170\"/></a>,\n",
       " <a class=\"image\" href=\"/wiki/File:DisneySchiphol1951.jpg\"><img class=\"thumbimage\" data-file-height=\"2493\" data-file-width=\"3247\" decoding=\"async\" height=\"169\" src=\"//upload.wikimedia.org/wikipedia/commons/thumb/1/13/DisneySchiphol1951.jpg/220px-DisneySchiphol1951.jpg\" srcset=\"//upload.wikimedia.org/wikipedia/commons/thumb/1/13/DisneySchiphol1951.jpg/330px-DisneySchiphol1951.jpg 1.5x, //upload.wikimedia.org/wikipedia/commons/thumb/1/13/DisneySchiphol1951.jpg/440px-DisneySchiphol1951.jpg 2x\" width=\"220\"/></a>,\n",
       " <a class=\"image\" href=\"/wiki/File:Disney1968.jpg\"><img alt=\"A portrait of Disney with cartoon representations of different nationalities on a 6 cent US stamp\" class=\"thumbimage\" data-file-height=\"736\" data-file-width=\"483\" decoding=\"async\" height=\"259\" src=\"//upload.wikimedia.org/wikipedia/commons/thumb/6/6c/Disney1968.jpg/170px-Disney1968.jpg\" srcset=\"//upload.wikimedia.org/wikipedia/commons/thumb/6/6c/Disney1968.jpg/255px-Disney1968.jpg 1.5x, //upload.wikimedia.org/wikipedia/commons/thumb/6/6c/Disney1968.jpg/340px-Disney1968.jpg 2x\" width=\"170\"/></a>,\n",
       " <a class=\"image\" href=\"/wiki/File:Disney_Oscar_1953_(cropped).jpg\"><img alt=\"A black and white photograph of Walt Disney standing, holding an Academy Award.\" class=\"thumbimage\" data-file-height=\"1214\" data-file-width=\"841\" decoding=\"async\" height=\"245\" src=\"//upload.wikimedia.org/wikipedia/commons/thumb/b/b0/Disney_Oscar_1953_%28cropped%29.jpg/170px-Disney_Oscar_1953_%28cropped%29.jpg\" srcset=\"//upload.wikimedia.org/wikipedia/commons/thumb/b/b0/Disney_Oscar_1953_%28cropped%29.jpg/255px-Disney_Oscar_1953_%28cropped%29.jpg 1.5x, //upload.wikimedia.org/wikipedia/commons/thumb/b/b0/Disney_Oscar_1953_%28cropped%29.jpg/340px-Disney_Oscar_1953_%28cropped%29.jpg 2x\" width=\"170\"/></a>,\n",
       " <a class=\"image\" href=\"/wiki/File:Disneyland_Resort_logo.svg\"><img alt=\"Disneyland Resort logo.svg\" data-file-height=\"66\" data-file-width=\"267\" decoding=\"async\" height=\"33\" src=\"//upload.wikimedia.org/wikipedia/commons/thumb/e/e3/Disneyland_Resort_logo.svg/135px-Disneyland_Resort_logo.svg.png\" srcset=\"//upload.wikimedia.org/wikipedia/commons/thumb/e/e3/Disneyland_Resort_logo.svg/203px-Disneyland_Resort_logo.svg.png 1.5x, //upload.wikimedia.org/wikipedia/commons/thumb/e/e3/Disneyland_Resort_logo.svg/270px-Disneyland_Resort_logo.svg.png 2x\" width=\"135\"/></a>,\n",
       " <a class=\"image\" href=\"/wiki/File:Animation_disc.svg\"><img alt=\"icon\" data-file-height=\"28\" data-file-width=\"30\" decoding=\"async\" height=\"19\" src=\"//upload.wikimedia.org/wikipedia/commons/thumb/d/da/Animation_disc.svg/20px-Animation_disc.svg.png\" srcset=\"//upload.wikimedia.org/wikipedia/commons/thumb/d/da/Animation_disc.svg/31px-Animation_disc.svg.png 1.5x, //upload.wikimedia.org/wikipedia/commons/thumb/d/da/Animation_disc.svg/41px-Animation_disc.svg.png 2x\" width=\"20\"/></a>,\n",
       " <a class=\"image\" href=\"/wiki/File:Magic_Kingdom_castle.jpg\"><img alt=\"icon\" data-file-height=\"1545\" data-file-width=\"1262\" decoding=\"async\" height=\"19\" src=\"//upload.wikimedia.org/wikipedia/commons/thumb/1/1a/Magic_Kingdom_castle.jpg/15px-Magic_Kingdom_castle.jpg\" srcset=\"//upload.wikimedia.org/wikipedia/commons/thumb/1/1a/Magic_Kingdom_castle.jpg/24px-Magic_Kingdom_castle.jpg 1.5x, //upload.wikimedia.org/wikipedia/commons/thumb/1/1a/Magic_Kingdom_castle.jpg/31px-Magic_Kingdom_castle.jpg 2x\" width=\"15\"/></a>,\n",
       " <a class=\"image\" href=\"/wiki/File:Blank_television_set.svg\"><img alt=\"icon\" data-file-height=\"92\" data-file-width=\"138\" decoding=\"async\" height=\"14\" src=\"//upload.wikimedia.org/wikipedia/commons/thumb/8/8c/Blank_television_set.svg/21px-Blank_television_set.svg.png\" srcset=\"//upload.wikimedia.org/wikipedia/commons/thumb/8/8c/Blank_television_set.svg/32px-Blank_television_set.svg.png 1.5x, //upload.wikimedia.org/wikipedia/commons/thumb/8/8c/Blank_television_set.svg/42px-Blank_television_set.svg.png 2x\" width=\"21\"/></a>]"
      ]
     },
     "execution_count": 13,
     "metadata": {},
     "output_type": "execute_result"
    }
   ],
   "source": [
    "#Parseo\n",
    "sopa=bs(html, 'html.parser')\n",
    "\n",
    "stars=sopa.find_all('a', {'class':'image'}) \n",
    "\n",
    "stars"
   ]
  },
  {
   "cell_type": "code",
   "execution_count": 14,
   "metadata": {},
   "outputs": [
    {
     "data": {
      "text/plain": [
       "['//upload.wikimedia.org/wikipedia/commons/thumb/3/3a/Walt_Disney_Birthplace_Exterior_Hermosa_Chicago_Illinois.jpg/220px-Walt_Disney_Birthplace_Exterior_Hermosa_Chicago_Illinois.jpg',\n",
       " '//upload.wikimedia.org/wikipedia/commons/thumb/c/c4/Walt_Disney_envelope_ca._1921.jpg/220px-Walt_Disney_envelope_ca._1921.jpg',\n",
       " '//upload.wikimedia.org/wikipedia/commons/thumb/0/0d/Trolley_Troubles_poster.jpg/170px-Trolley_Troubles_poster.jpg',\n",
       " '//upload.wikimedia.org/wikipedia/en/thumb/4/4e/Steamboat-willie.jpg/170px-Steamboat-willie.jpg',\n",
       " '//upload.wikimedia.org/wikipedia/commons/thumb/5/57/Walt_Disney_1935.jpg/170px-Walt_Disney_1935.jpg',\n",
       " '//upload.wikimedia.org/wikipedia/commons/thumb/c/cd/Walt_Disney_Snow_white_1937_trailer_screenshot_%2813%29.jpg/220px-Walt_Disney_Snow_white_1937_trailer_screenshot_%2813%29.jpg',\n",
       " '//upload.wikimedia.org/wikipedia/commons/thumb/1/15/Disney_drawing_goofy.jpg/170px-Disney_drawing_goofy.jpg',\n",
       " '//upload.wikimedia.org/wikipedia/commons/thumb/8/8c/WaltDisneyplansDisneylandDec1954.jpg/220px-WaltDisneyplansDisneylandDec1954.jpg',\n",
       " '//upload.wikimedia.org/wikipedia/commons/thumb/f/ff/Walt_disney_portrait_right.jpg/170px-Walt_disney_portrait_right.jpg',\n",
       " '//upload.wikimedia.org/wikipedia/commons/thumb/1/1a/Walt_Disney_Grave.JPG/170px-Walt_Disney_Grave.JPG',\n",
       " '//upload.wikimedia.org/wikipedia/commons/thumb/2/2d/Roy_O._Disney_with_Company_at_Press_Conference.jpg/170px-Roy_O._Disney_with_Company_at_Press_Conference.jpg',\n",
       " '//upload.wikimedia.org/wikipedia/commons/thumb/1/13/DisneySchiphol1951.jpg/220px-DisneySchiphol1951.jpg',\n",
       " '//upload.wikimedia.org/wikipedia/commons/thumb/6/6c/Disney1968.jpg/170px-Disney1968.jpg',\n",
       " '//upload.wikimedia.org/wikipedia/commons/thumb/b/b0/Disney_Oscar_1953_%28cropped%29.jpg/170px-Disney_Oscar_1953_%28cropped%29.jpg']"
      ]
     },
     "execution_count": 14,
     "metadata": {},
     "output_type": "execute_result"
    }
   ],
   "source": [
    "\n",
    "list_mvp = [e.find('img', {'class': 'thumbimage'})['src'] for e in stars if e.find('img', {'class': 'thumbimage'}) is not None]\n",
    "\n",
    "list_mvp"
   ]
  },
  {
   "attachments": {},
   "cell_type": "markdown",
   "metadata": {},
   "source": [
    "#### Retrieve an arbitary Wikipedia page of \"Python\" and create a list of links on that page"
   ]
  },
  {
   "cell_type": "code",
   "execution_count": 15,
   "metadata": {},
   "outputs": [],
   "source": [
    "# This is the url you will scrape in this exercise\n",
    "url ='https://en.wikipedia.org/wiki/Python' "
   ]
  },
  {
   "cell_type": "code",
   "execution_count": 16,
   "metadata": {},
   "outputs": [
    {
     "data": {
      "text/plain": [
       "63705"
      ]
     },
     "execution_count": 16,
     "metadata": {},
     "output_type": "execute_result"
    }
   ],
   "source": [
    "#your code\n",
    "html = req.get(url).content\n",
    "\n",
    "len(html)"
   ]
  },
  {
   "cell_type": "code",
   "execution_count": 17,
   "metadata": {},
   "outputs": [
    {
     "data": {
      "text/plain": [
       "[<li class=\"mw-list-item\" id=\"n-mainpage-description\"><a accesskey=\"z\" href=\"/wiki/Main_Page\" title=\"Visit the main page [z]\"><span>Main page</span></a></li>,\n",
       " <li class=\"mw-list-item\" id=\"n-contents\"><a href=\"/wiki/Wikipedia:Contents\" title=\"Guides to browsing Wikipedia\"><span>Contents</span></a></li>,\n",
       " <li class=\"mw-list-item\" id=\"n-currentevents\"><a href=\"/wiki/Portal:Current_events\" title=\"Articles related to current events\"><span>Current events</span></a></li>,\n",
       " <li class=\"mw-list-item\" id=\"n-randompage\"><a accesskey=\"x\" href=\"/wiki/Special:Random\" title=\"Visit a randomly selected article [x]\"><span>Random article</span></a></li>,\n",
       " <li class=\"mw-list-item\" id=\"n-aboutsite\"><a href=\"/wiki/Wikipedia:About\" title=\"Learn about Wikipedia and how it works\"><span>About Wikipedia</span></a></li>,\n",
       " <li class=\"mw-list-item\" id=\"n-contactpage\"><a href=\"//en.wikipedia.org/wiki/Wikipedia:Contact_us\" title=\"How to contact Wikipedia\"><span>Contact us</span></a></li>,\n",
       " <li class=\"mw-list-item\" id=\"n-sitesupport\"><a href=\"https://donate.wikimedia.org/wiki/Special:FundraiserRedirector?utm_source=donate&amp;utm_medium=sidebar&amp;utm_campaign=C13_en.wikipedia.org&amp;uselang=en\" title=\"Support us by donating to the Wikimedia Foundation\"><span>Donate</span></a></li>,\n",
       " <li class=\"mw-list-item\" id=\"n-help\"><a href=\"/wiki/Help:Contents\" title=\"Guidance on how to use and edit Wikipedia\"><span>Help</span></a></li>,\n",
       " <li class=\"mw-list-item\" id=\"n-introduction\"><a href=\"/wiki/Help:Introduction\" title=\"Learn how to edit Wikipedia\"><span>Learn to edit</span></a></li>,\n",
       " <li class=\"mw-list-item\" id=\"n-portal\"><a href=\"/wiki/Wikipedia:Community_portal\" title=\"The hub for editors\"><span>Community portal</span></a></li>,\n",
       " <li class=\"mw-list-item\" id=\"n-recentchanges\"><a accesskey=\"r\" href=\"/wiki/Special:RecentChanges\" title=\"A list of recent changes to Wikipedia [r]\"><span>Recent changes</span></a></li>,\n",
       " <li class=\"mw-list-item\" id=\"n-upload\"><a href=\"/wiki/Wikipedia:File_upload_wizard\" title=\"Add images or other media for use on Wikipedia\"><span>Upload file</span></a></li>,\n",
       " <li class=\"user-links-collapsible-item mw-list-item\" id=\"pt-createaccount-2\"><a href=\"/w/index.php?title=Special:CreateAccount&amp;returnto=Python\" title=\"You are encouraged to create an account and log in; however, it is not mandatory\"><span>Create account</span></a></li>,\n",
       " <li class=\"user-links-collapsible-item mw-list-item\" id=\"pt-login-2\"><a accesskey=\"o\" href=\"/w/index.php?title=Special:UserLogin&amp;returnto=Python\" title=\"You're encouraged to log in; however, it's not mandatory. [o]\"><span>Log in</span></a></li>,\n",
       " <li class=\"user-links-collapsible-item mw-list-item\" id=\"pt-createaccount\"><a href=\"/w/index.php?title=Special:CreateAccount&amp;returnto=Python\" title=\"You are encouraged to create an account and log in; however, it is not mandatory\"><span class=\"mw-ui-icon mw-ui-icon-userAdd mw-ui-icon-wikimedia-userAdd\"></span> <span>Create account</span></a></li>,\n",
       " <li class=\"user-links-collapsible-item mw-list-item\" id=\"pt-login\"><a accesskey=\"o\" href=\"/w/index.php?title=Special:UserLogin&amp;returnto=Python\" title=\"You're encouraged to log in; however, it's not mandatory. [o]\"><span class=\"mw-ui-icon mw-ui-icon-logIn mw-ui-icon-wikimedia-logIn\"></span> <span>Log in</span></a></li>,\n",
       " <li class=\"mw-list-item\" id=\"pt-anoncontribs\"><a accesskey=\"y\" href=\"/wiki/Special:MyContributions\" title=\"A list of edits made from this IP address [y]\"><span>Contributions</span></a></li>,\n",
       " <li class=\"mw-list-item\" id=\"pt-anontalk\"><a accesskey=\"n\" href=\"/wiki/Special:MyTalk\" title=\"Discussion about edits from this IP address [n]\"><span>Talk</span></a></li>,\n",
       " <li class=\"vector-toc-list-item vector-toc-level-1\" id=\"toc-mw-content-text\">\n",
       " <a class=\"vector-toc-link\" href=\"#\">\n",
       " <div class=\"vector-toc-text\">(Top)</div>\n",
       " </a>\n",
       " </li>,\n",
       " <li class=\"vector-toc-list-item vector-toc-level-1 vector-toc-list-item-expanded\" id=\"toc-Snakes\">\n",
       " <a class=\"vector-toc-link\" href=\"#Snakes\">\n",
       " <div class=\"vector-toc-text\">\n",
       " <span class=\"vector-toc-numb\">1</span>Snakes</div>\n",
       " </a>\n",
       " <ul class=\"vector-toc-list\" id=\"toc-Snakes-sublist\">\n",
       " </ul>\n",
       " </li>,\n",
       " <li class=\"vector-toc-list-item vector-toc-level-1 vector-toc-list-item-expanded\" id=\"toc-Computing\">\n",
       " <a class=\"vector-toc-link\" href=\"#Computing\">\n",
       " <div class=\"vector-toc-text\">\n",
       " <span class=\"vector-toc-numb\">2</span>Computing</div>\n",
       " </a>\n",
       " <ul class=\"vector-toc-list\" id=\"toc-Computing-sublist\">\n",
       " </ul>\n",
       " </li>,\n",
       " <li class=\"vector-toc-list-item vector-toc-level-1 vector-toc-list-item-expanded\" id=\"toc-People\">\n",
       " <a class=\"vector-toc-link\" href=\"#People\">\n",
       " <div class=\"vector-toc-text\">\n",
       " <span class=\"vector-toc-numb\">3</span>People</div>\n",
       " </a>\n",
       " <ul class=\"vector-toc-list\" id=\"toc-People-sublist\">\n",
       " </ul>\n",
       " </li>,\n",
       " <li class=\"vector-toc-list-item vector-toc-level-1 vector-toc-list-item-expanded\" id=\"toc-Roller_coasters\">\n",
       " <a class=\"vector-toc-link\" href=\"#Roller_coasters\">\n",
       " <div class=\"vector-toc-text\">\n",
       " <span class=\"vector-toc-numb\">4</span>Roller coasters</div>\n",
       " </a>\n",
       " <ul class=\"vector-toc-list\" id=\"toc-Roller_coasters-sublist\">\n",
       " </ul>\n",
       " </li>,\n",
       " <li class=\"vector-toc-list-item vector-toc-level-1 vector-toc-list-item-expanded\" id=\"toc-Vehicles\">\n",
       " <a class=\"vector-toc-link\" href=\"#Vehicles\">\n",
       " <div class=\"vector-toc-text\">\n",
       " <span class=\"vector-toc-numb\">5</span>Vehicles</div>\n",
       " </a>\n",
       " <ul class=\"vector-toc-list\" id=\"toc-Vehicles-sublist\">\n",
       " </ul>\n",
       " </li>,\n",
       " <li class=\"vector-toc-list-item vector-toc-level-1 vector-toc-list-item-expanded\" id=\"toc-Weaponry\">\n",
       " <a class=\"vector-toc-link\" href=\"#Weaponry\">\n",
       " <div class=\"vector-toc-text\">\n",
       " <span class=\"vector-toc-numb\">6</span>Weaponry</div>\n",
       " </a>\n",
       " <ul class=\"vector-toc-list\" id=\"toc-Weaponry-sublist\">\n",
       " </ul>\n",
       " </li>,\n",
       " <li class=\"vector-toc-list-item vector-toc-level-1 vector-toc-list-item-expanded\" id=\"toc-Other_uses\">\n",
       " <a class=\"vector-toc-link\" href=\"#Other_uses\">\n",
       " <div class=\"vector-toc-text\">\n",
       " <span class=\"vector-toc-numb\">7</span>Other uses</div>\n",
       " </a>\n",
       " <ul class=\"vector-toc-list\" id=\"toc-Other_uses-sublist\">\n",
       " </ul>\n",
       " </li>,\n",
       " <li class=\"vector-toc-list-item vector-toc-level-1 vector-toc-list-item-expanded\" id=\"toc-See_also\">\n",
       " <a class=\"vector-toc-link\" href=\"#See_also\">\n",
       " <div class=\"vector-toc-text\">\n",
       " <span class=\"vector-toc-numb\">8</span>See also</div>\n",
       " </a>\n",
       " <ul class=\"vector-toc-list\" id=\"toc-See_also-sublist\">\n",
       " </ul>\n",
       " </li>,\n",
       " <li class=\"interlanguage-link interwiki-af mw-list-item\"><a class=\"interlanguage-link-target\" href=\"https://af.wikipedia.org/wiki/Python\" hreflang=\"af\" lang=\"af\" title=\"Python – Afrikaans\"><span>Afrikaans</span></a></li>,\n",
       " <li class=\"interlanguage-link interwiki-als mw-list-item\"><a class=\"interlanguage-link-target\" href=\"https://als.wikipedia.org/wiki/Python\" hreflang=\"gsw\" lang=\"gsw\" title=\"Python – Swiss German\"><span>Alemannisch</span></a></li>,\n",
       " <li class=\"interlanguage-link interwiki-ar mw-list-item\"><a class=\"interlanguage-link-target\" href=\"https://ar.wikipedia.org/wiki/%D8%A8%D8%A7%D9%8A%D8%AB%D9%88%D9%86_(%D8%AA%D9%88%D8%B6%D9%8A%D8%AD)\" hreflang=\"ar\" lang=\"ar\" title=\"بايثون (توضيح) – Arabic\"><span>العربية</span></a></li>,\n",
       " <li class=\"interlanguage-link interwiki-az mw-list-item\"><a class=\"interlanguage-link-target\" href=\"https://az.wikipedia.org/wiki/Python_(d%C9%99qiql%C9%99%C5%9Fdirm%C9%99)\" hreflang=\"az\" lang=\"az\" title=\"Python (dəqiqləşdirmə) – Azerbaijani\"><span>Azərbaycanca</span></a></li>,\n",
       " <li class=\"interlanguage-link interwiki-bn mw-list-item\"><a class=\"interlanguage-link-target\" href=\"https://bn.wikipedia.org/wiki/%E0%A6%AA%E0%A6%BE%E0%A6%87%E0%A6%A5%E0%A6%A8_(%E0%A6%A6%E0%A7%8D%E0%A6%AC%E0%A7%8D%E0%A6%AF%E0%A6%B0%E0%A7%8D%E0%A6%A5%E0%A6%A4%E0%A6%BE_%E0%A6%A8%E0%A6%BF%E0%A6%B0%E0%A6%B8%E0%A6%A8)\" hreflang=\"bn\" lang=\"bn\" title=\"পাইথন (দ্ব্যর্থতা নিরসন) – Bangla\"><span>বাংলা</span></a></li>,\n",
       " <li class=\"interlanguage-link interwiki-be mw-list-item\"><a class=\"interlanguage-link-target\" href=\"https://be.wikipedia.org/wiki/Python\" hreflang=\"be\" lang=\"be\" title=\"Python – Belarusian\"><span>Беларуская</span></a></li>,\n",
       " <li class=\"interlanguage-link interwiki-bg mw-list-item\"><a class=\"interlanguage-link-target\" href=\"https://bg.wikipedia.org/wiki/%D0%9F%D0%B8%D1%82%D0%BE%D0%BD_(%D0%BF%D0%BE%D1%8F%D1%81%D0%BD%D0%B5%D0%BD%D0%B8%D0%B5)\" hreflang=\"bg\" lang=\"bg\" title=\"Питон (пояснение) – Bulgarian\"><span>Български</span></a></li>,\n",
       " <li class=\"interlanguage-link interwiki-cs mw-list-item\"><a class=\"interlanguage-link-target\" href=\"https://cs.wikipedia.org/wiki/Python_(rozcestn%C3%ADk)\" hreflang=\"cs\" lang=\"cs\" title=\"Python (rozcestník) – Czech\"><span>Čeština</span></a></li>,\n",
       " <li class=\"interlanguage-link interwiki-da mw-list-item\"><a class=\"interlanguage-link-target\" href=\"https://da.wikipedia.org/wiki/Python\" hreflang=\"da\" lang=\"da\" title=\"Python – Danish\"><span>Dansk</span></a></li>,\n",
       " <li class=\"interlanguage-link interwiki-de mw-list-item\"><a class=\"interlanguage-link-target\" href=\"https://de.wikipedia.org/wiki/Python\" hreflang=\"de\" lang=\"de\" title=\"Python – German\"><span>Deutsch</span></a></li>,\n",
       " <li class=\"interlanguage-link interwiki-eo mw-list-item\"><a class=\"interlanguage-link-target\" href=\"https://eo.wikipedia.org/wiki/Pitono_(apartigilo)\" hreflang=\"eo\" lang=\"eo\" title=\"Pitono (apartigilo) – Esperanto\"><span>Esperanto</span></a></li>,\n",
       " <li class=\"interlanguage-link interwiki-eu mw-list-item\"><a class=\"interlanguage-link-target\" href=\"https://eu.wikipedia.org/wiki/Python_(argipena)\" hreflang=\"eu\" lang=\"eu\" title=\"Python (argipena) – Basque\"><span>Euskara</span></a></li>,\n",
       " <li class=\"interlanguage-link interwiki-fa mw-list-item\"><a class=\"interlanguage-link-target\" href=\"https://fa.wikipedia.org/wiki/%D9%BE%D8%A7%DB%8C%D8%AA%D9%88%D9%86\" hreflang=\"fa\" lang=\"fa\" title=\"پایتون – Persian\"><span>فارسی</span></a></li>,\n",
       " <li class=\"interlanguage-link interwiki-fr mw-list-item\"><a class=\"interlanguage-link-target\" href=\"https://fr.wikipedia.org/wiki/Python\" hreflang=\"fr\" lang=\"fr\" title=\"Python – French\"><span>Français</span></a></li>,\n",
       " <li class=\"interlanguage-link interwiki-ko mw-list-item\"><a class=\"interlanguage-link-target\" href=\"https://ko.wikipedia.org/wiki/%ED%8C%8C%EC%9D%B4%EC%84%A0\" hreflang=\"ko\" lang=\"ko\" title=\"파이선 – Korean\"><span>한국어</span></a></li>,\n",
       " <li class=\"interlanguage-link interwiki-hr mw-list-item\"><a class=\"interlanguage-link-target\" href=\"https://hr.wikipedia.org/wiki/Python_(razdvojba)\" hreflang=\"hr\" lang=\"hr\" title=\"Python (razdvojba) – Croatian\"><span>Hrvatski</span></a></li>,\n",
       " <li class=\"interlanguage-link interwiki-io mw-list-item\"><a class=\"interlanguage-link-target\" href=\"https://io.wikipedia.org/wiki/Pitono\" hreflang=\"io\" lang=\"io\" title=\"Pitono – Ido\"><span>Ido</span></a></li>,\n",
       " <li class=\"interlanguage-link interwiki-id mw-list-item\"><a class=\"interlanguage-link-target\" href=\"https://id.wikipedia.org/wiki/Python\" hreflang=\"id\" lang=\"id\" title=\"Python – Indonesian\"><span>Bahasa Indonesia</span></a></li>,\n",
       " <li class=\"interlanguage-link interwiki-ia mw-list-item\"><a class=\"interlanguage-link-target\" href=\"https://ia.wikipedia.org/wiki/Python_(disambiguation)\" hreflang=\"ia\" lang=\"ia\" title=\"Python (disambiguation) – Interlingua\"><span>Interlingua</span></a></li>,\n",
       " <li class=\"interlanguage-link interwiki-is mw-list-item\"><a class=\"interlanguage-link-target\" href=\"https://is.wikipedia.org/wiki/Python_(a%C3%B0greining)\" hreflang=\"is\" lang=\"is\" title=\"Python (aðgreining) – Icelandic\"><span>Íslenska</span></a></li>,\n",
       " <li class=\"interlanguage-link interwiki-it mw-list-item\"><a class=\"interlanguage-link-target\" href=\"https://it.wikipedia.org/wiki/Python_(disambigua)\" hreflang=\"it\" lang=\"it\" title=\"Python (disambigua) – Italian\"><span>Italiano</span></a></li>,\n",
       " <li class=\"interlanguage-link interwiki-he mw-list-item\"><a class=\"interlanguage-link-target\" href=\"https://he.wikipedia.org/wiki/%D7%A4%D7%99%D7%AA%D7%95%D7%9F\" hreflang=\"he\" lang=\"he\" title=\"פיתון – Hebrew\"><span>עברית</span></a></li>,\n",
       " <li class=\"interlanguage-link interwiki-ka mw-list-item\"><a class=\"interlanguage-link-target\" href=\"https://ka.wikipedia.org/wiki/%E1%83%9E%E1%83%98%E1%83%97%E1%83%9D%E1%83%9C%E1%83%98_(%E1%83%9B%E1%83%A0%E1%83%90%E1%83%95%E1%83%90%E1%83%9A%E1%83%9B%E1%83%9C%E1%83%98%E1%83%A8%E1%83%95%E1%83%9C%E1%83%94%E1%83%9A%E1%83%9D%E1%83%95%E1%83%90%E1%83%9C%E1%83%98)\" hreflang=\"ka\" lang=\"ka\" title=\"პითონი (მრავალმნიშვნელოვანი) – Georgian\"><span>ქართული</span></a></li>,\n",
       " <li class=\"interlanguage-link interwiki-kg mw-list-item\"><a class=\"interlanguage-link-target\" href=\"https://kg.wikipedia.org/wiki/Mboma_(nyoka)\" hreflang=\"kg\" lang=\"kg\" title=\"Mboma (nyoka) – Kongo\"><span>Kongo</span></a></li>,\n",
       " <li class=\"interlanguage-link interwiki-la mw-list-item\"><a class=\"interlanguage-link-target\" href=\"https://la.wikipedia.org/wiki/Python_(discretiva)\" hreflang=\"la\" lang=\"la\" title=\"Python (discretiva) – Latin\"><span>Latina</span></a></li>,\n",
       " <li class=\"interlanguage-link interwiki-lb mw-list-item\"><a class=\"interlanguage-link-target\" href=\"https://lb.wikipedia.org/wiki/Python\" hreflang=\"lb\" lang=\"lb\" title=\"Python – Luxembourgish\"><span>Lëtzebuergesch</span></a></li>,\n",
       " <li class=\"interlanguage-link interwiki-hu mw-list-item\"><a class=\"interlanguage-link-target\" href=\"https://hu.wikipedia.org/wiki/Python_(egy%C3%A9rtelm%C5%B1s%C3%ADt%C5%91_lap)\" hreflang=\"hu\" lang=\"hu\" title=\"Python (egyértelműsítő lap) – Hungarian\"><span>Magyar</span></a></li>,\n",
       " <li class=\"interlanguage-link interwiki-mr mw-list-item\"><a class=\"interlanguage-link-target\" href=\"https://mr.wikipedia.org/wiki/%E0%A4%AA%E0%A4%BE%E0%A4%AF%E0%A4%A5%E0%A5%89%E0%A4%A8_(%E0%A4%86%E0%A4%9C%E0%A5%8D%E0%A4%9E%E0%A4%BE%E0%A4%B5%E0%A4%B2%E0%A5%80_%E0%A4%AD%E0%A4%BE%E0%A4%B7%E0%A4%BE)\" hreflang=\"mr\" lang=\"mr\" title=\"पायथॉन (आज्ञावली भाषा) – Marathi\"><span>मराठी</span></a></li>,\n",
       " <li class=\"interlanguage-link interwiki-nl mw-list-item\"><a class=\"interlanguage-link-target\" href=\"https://nl.wikipedia.org/wiki/Python\" hreflang=\"nl\" lang=\"nl\" title=\"Python – Dutch\"><span>Nederlands</span></a></li>,\n",
       " <li class=\"interlanguage-link interwiki-ja mw-list-item\"><a class=\"interlanguage-link-target\" href=\"https://ja.wikipedia.org/wiki/%E3%83%91%E3%82%A4%E3%82%BD%E3%83%B3\" hreflang=\"ja\" lang=\"ja\" title=\"パイソン – Japanese\"><span>日本語</span></a></li>,\n",
       " <li class=\"interlanguage-link interwiki-no mw-list-item\"><a class=\"interlanguage-link-target\" href=\"https://no.wikipedia.org/wiki/Pyton\" hreflang=\"nb\" lang=\"nb\" title=\"Pyton – Norwegian Bokmål\"><span>Norsk bokmål</span></a></li>,\n",
       " <li class=\"interlanguage-link interwiki-pl mw-list-item\"><a class=\"interlanguage-link-target\" href=\"https://pl.wikipedia.org/wiki/Pyton\" hreflang=\"pl\" lang=\"pl\" title=\"Pyton – Polish\"><span>Polski</span></a></li>,\n",
       " <li class=\"interlanguage-link interwiki-pt mw-list-item\"><a class=\"interlanguage-link-target\" href=\"https://pt.wikipedia.org/wiki/Python_(desambigua%C3%A7%C3%A3o)\" hreflang=\"pt\" lang=\"pt\" title=\"Python (desambiguação) – Portuguese\"><span>Português</span></a></li>,\n",
       " <li class=\"interlanguage-link interwiki-ru mw-list-item\"><a class=\"interlanguage-link-target\" href=\"https://ru.wikipedia.org/wiki/Python_(%D0%B7%D0%BD%D0%B0%D1%87%D0%B5%D0%BD%D0%B8%D1%8F)\" hreflang=\"ru\" lang=\"ru\" title=\"Python (значения) – Russian\"><span>Русский</span></a></li>,\n",
       " <li class=\"interlanguage-link interwiki-sk mw-list-item\"><a class=\"interlanguage-link-target\" href=\"https://sk.wikipedia.org/wiki/Python\" hreflang=\"sk\" lang=\"sk\" title=\"Python – Slovak\"><span>Slovenčina</span></a></li>,\n",
       " <li class=\"interlanguage-link interwiki-sr mw-list-item\"><a class=\"interlanguage-link-target\" href=\"https://sr.wikipedia.org/wiki/%D0%9F%D0%B8%D1%82%D0%BE%D0%BD_(%D0%B2%D0%B8%D1%88%D0%B5%D0%B7%D0%BD%D0%B0%D1%87%D0%BD%D0%B0_%D0%BE%D0%B4%D1%80%D0%B5%D0%B4%D0%BD%D0%B8%D1%86%D0%B0)\" hreflang=\"sr\" lang=\"sr\" title=\"Питон (вишезначна одредница) – Serbian\"><span>Српски / srpski</span></a></li>,\n",
       " <li class=\"interlanguage-link interwiki-sh mw-list-item\"><a class=\"interlanguage-link-target\" href=\"https://sh.wikipedia.org/wiki/Python\" hreflang=\"sh\" lang=\"sh\" title=\"Python – Serbo-Croatian\"><span>Srpskohrvatski / српскохрватски</span></a></li>,\n",
       " <li class=\"interlanguage-link interwiki-fi mw-list-item\"><a class=\"interlanguage-link-target\" href=\"https://fi.wikipedia.org/wiki/Python\" hreflang=\"fi\" lang=\"fi\" title=\"Python – Finnish\"><span>Suomi</span></a></li>,\n",
       " <li class=\"interlanguage-link interwiki-sv mw-list-item\"><a class=\"interlanguage-link-target\" href=\"https://sv.wikipedia.org/wiki/Pyton\" hreflang=\"sv\" lang=\"sv\" title=\"Pyton – Swedish\"><span>Svenska</span></a></li>,\n",
       " <li class=\"interlanguage-link interwiki-th mw-list-item\"><a class=\"interlanguage-link-target\" href=\"https://th.wikipedia.org/wiki/%E0%B9%84%E0%B8%9E%E0%B8%97%E0%B8%AD%E0%B8%99\" hreflang=\"th\" lang=\"th\" title=\"ไพทอน – Thai\"><span>ไทย</span></a></li>,\n",
       " <li class=\"interlanguage-link interwiki-tr mw-list-item\"><a class=\"interlanguage-link-target\" href=\"https://tr.wikipedia.org/wiki/Python_(anlam_ayr%C4%B1m%C4%B1)\" hreflang=\"tr\" lang=\"tr\" title=\"Python (anlam ayrımı) – Turkish\"><span>Türkçe</span></a></li>,\n",
       " <li class=\"interlanguage-link interwiki-uk mw-list-item\"><a class=\"interlanguage-link-target\" href=\"https://uk.wikipedia.org/wiki/%D0%9F%D1%96%D1%84%D0%BE%D0%BD\" hreflang=\"uk\" lang=\"uk\" title=\"Піфон – Ukrainian\"><span>Українська</span></a></li>,\n",
       " <li class=\"interlanguage-link interwiki-ur mw-list-item\"><a class=\"interlanguage-link-target\" href=\"https://ur.wikipedia.org/wiki/%D9%BE%D8%A7%D8%A6%DB%8C%D8%AA%DA%BE%D9%88%D9%86\" hreflang=\"ur\" lang=\"ur\" title=\"پائیتھون – Urdu\"><span>اردو</span></a></li>,\n",
       " <li class=\"interlanguage-link interwiki-vi mw-list-item\"><a class=\"interlanguage-link-target\" href=\"https://vi.wikipedia.org/wiki/Python\" hreflang=\"vi\" lang=\"vi\" title=\"Python – Vietnamese\"><span>Tiếng Việt</span></a></li>,\n",
       " <li class=\"interlanguage-link interwiki-zh mw-list-item\"><a class=\"interlanguage-link-target\" href=\"https://zh.wikipedia.org/wiki/Python_(%E6%B6%88%E6%AD%A7%E4%B9%89)\" hreflang=\"zh\" lang=\"zh\" title=\"Python (消歧义) – Chinese\"><span>中文</span></a></li>,\n",
       " <li class=\"selected vector-tab-noicon mw-list-item\" id=\"ca-nstab-main\"><a accesskey=\"c\" class=\"\" data-mw=\"interface\" href=\"/wiki/Python\" title=\"View the content page [c]\"><span>Article</span></a>\n",
       " </li>,\n",
       " <li class=\"vector-tab-noicon mw-list-item\" id=\"ca-talk\"><a accesskey=\"t\" class=\"\" data-mw=\"interface\" href=\"/wiki/Talk:Python\" rel=\"discussion\" title=\"Discuss improvements to the content page [t]\"><span>Talk</span></a>\n",
       " </li>,\n",
       " <li class=\"selected vector-tab-noicon mw-list-item\" id=\"ca-view\"><a class=\"\" data-mw=\"interface\" href=\"/wiki/Python\"><span>Read</span></a>\n",
       " </li>,\n",
       " <li class=\"vector-tab-noicon mw-list-item\" id=\"ca-edit\"><a accesskey=\"e\" class=\"\" data-mw=\"interface\" href=\"/w/index.php?title=Python&amp;action=edit\" title=\"Edit this page [e]\"><span>Edit</span></a>\n",
       " </li>,\n",
       " <li class=\"vector-tab-noicon mw-list-item\" id=\"ca-history\"><a accesskey=\"h\" class=\"\" data-mw=\"interface\" href=\"/w/index.php?title=Python&amp;action=history\" title=\"Past revisions of this page [h]\"><span>View history</span></a>\n",
       " </li>,\n",
       " <li class=\"selected vector-more-collapsible-item mw-list-item\" id=\"ca-more-view\"><a href=\"/wiki/Python\"><span>Read</span></a></li>,\n",
       " <li class=\"vector-more-collapsible-item mw-list-item\" id=\"ca-more-edit\"><a href=\"/w/index.php?title=Python&amp;action=edit\"><span>Edit</span></a></li>,\n",
       " <li class=\"vector-more-collapsible-item mw-list-item\" id=\"ca-more-history\"><a href=\"/w/index.php?title=Python&amp;action=history\"><span>View history</span></a></li>,\n",
       " <li class=\"mw-list-item\" id=\"t-whatlinkshere\"><a accesskey=\"j\" href=\"/wiki/Special:WhatLinksHere/Python\" title=\"List of all English Wikipedia pages containing links to this page [j]\"><span>What links here</span></a></li>,\n",
       " <li class=\"mw-list-item\" id=\"t-recentchangeslinked\"><a accesskey=\"k\" href=\"/wiki/Special:RecentChangesLinked/Python\" rel=\"nofollow\" title=\"Recent changes in pages linked from this page [k]\"><span>Related changes</span></a></li>,\n",
       " <li class=\"mw-list-item\" id=\"t-upload\"><a accesskey=\"u\" href=\"/wiki/Wikipedia:File_Upload_Wizard\" title=\"Upload files [u]\"><span>Upload file</span></a></li>,\n",
       " <li class=\"mw-list-item\" id=\"t-specialpages\"><a accesskey=\"q\" href=\"/wiki/Special:SpecialPages\" title=\"A list of all special pages [q]\"><span>Special pages</span></a></li>,\n",
       " <li class=\"mw-list-item\" id=\"t-permalink\"><a href=\"/w/index.php?title=Python&amp;oldid=1148531488\" title=\"Permanent link to this revision of this page\"><span>Permanent link</span></a></li>,\n",
       " <li class=\"mw-list-item\" id=\"t-info\"><a href=\"/w/index.php?title=Python&amp;action=info\" title=\"More information about this page\"><span>Page information</span></a></li>,\n",
       " <li class=\"mw-list-item\" id=\"t-cite\"><a href=\"/w/index.php?title=Special:CiteThisPage&amp;page=Python&amp;id=1148531488&amp;wpFormIdentifier=titleform\" title=\"Information on how to cite this page\"><span>Cite this page</span></a></li>,\n",
       " <li class=\"mw-list-item\" id=\"t-wikibase\"><a accesskey=\"g\" href=\"https://www.wikidata.org/wiki/Special:EntityPage/Q747452\" title=\"Structured data on this page hosted by Wikidata [g]\"><span>Wikidata item</span></a></li>,\n",
       " <li class=\"mw-list-item\" id=\"coll-download-as-rl\"><a href=\"/w/index.php?title=Special:DownloadAsPdf&amp;page=Python&amp;action=show-download-screen\" title=\"Download this page as a PDF file\"><span>Download as PDF</span></a></li>,\n",
       " <li class=\"mw-list-item\" id=\"t-print\"><a accesskey=\"p\" href=\"/w/index.php?title=Python&amp;printable=yes\" title=\"Printable version of this page [p]\"><span>Printable version</span></a></li>,\n",
       " <li class=\"wb-otherproject-link wb-otherproject-commons mw-list-item\"><a href=\"https://commons.wikimedia.org/wiki/Category:Python\" hreflang=\"en\"><span>Wikimedia Commons</span></a></li>,\n",
       " <li><a href=\"/wiki/Pythonidae\" title=\"Pythonidae\">Pythonidae</a>, a family of nonvenomous snakes found in Africa, Asia, and Australia\n",
       " <ul><li><a href=\"/wiki/Python_(genus)\" title=\"Python (genus)\"><i>Python</i> (genus)</a>, a genus of Pythonidae found in Africa and Asia</li></ul></li>,\n",
       " <li><a href=\"/wiki/Python_(genus)\" title=\"Python (genus)\"><i>Python</i> (genus)</a>, a genus of Pythonidae found in Africa and Asia</li>,\n",
       " <li><a href=\"/wiki/Python_(mythology)\" title=\"Python (mythology)\">Python (mythology)</a>, a mythical serpent</li>,\n",
       " <li><a href=\"/wiki/Python_(programming_language)\" title=\"Python (programming language)\">Python (programming language)</a>, a widely used programming language</li>,\n",
       " <li>Python, a native code compiler for <a href=\"/wiki/CMU_Common_Lisp\" title=\"CMU Common Lisp\">CMU Common Lisp</a></li>,\n",
       " <li>Python, the internal project name for the <a href=\"/wiki/PERQ#PERQ_3\" title=\"PERQ\">PERQ 3</a> computer workstation</li>,\n",
       " <li><a href=\"/wiki/Python_of_Aenus\" title=\"Python of Aenus\">Python of Aenus</a> (4th-century BCE), student of Plato</li>,\n",
       " <li><a href=\"/wiki/Python_(painter)\" title=\"Python (painter)\">Python (painter)</a>, (ca. 360–320 BCE) vase painter in Poseidonia</li>,\n",
       " <li><a href=\"/wiki/Python_of_Byzantium\" title=\"Python of Byzantium\">Python of Byzantium</a>, orator, diplomat of Philip II of Macedon</li>,\n",
       " <li><a href=\"/wiki/Python_of_Catana\" title=\"Python of Catana\">Python of Catana</a>, poet who accompanied Alexander the Great</li>,\n",
       " <li><a href=\"/wiki/Python_Anghelo\" title=\"Python Anghelo\">Python Anghelo</a> (1954–2014) Romanian graphic artist</li>,\n",
       " <li><a href=\"/wiki/Python_(Efteling)\" title=\"Python (Efteling)\">Python (Efteling)</a>, a roller coaster in the Netherlands</li>,\n",
       " <li><a href=\"/wiki/Python_(Busch_Gardens_Tampa_Bay)\" title=\"Python (Busch Gardens Tampa Bay)\">Python (Busch Gardens Tampa Bay)</a>, a defunct roller coaster</li>,\n",
       " <li><a href=\"/wiki/Python_(Coney_Island,_Cincinnati,_Ohio)\" title=\"Python (Coney Island, Cincinnati, Ohio)\">Python (Coney Island, Cincinnati, Ohio)</a>, a steel roller coaster</li>,\n",
       " <li><a href=\"/wiki/Python_(automobile_maker)\" title=\"Python (automobile maker)\">Python (automobile maker)</a>, an Australian car company</li>,\n",
       " <li><a href=\"/wiki/Python_(Ford_prototype)\" title=\"Python (Ford prototype)\">Python (Ford prototype)</a>, a Ford prototype sports car</li>,\n",
       " <li><a href=\"/wiki/Python_(missile)\" title=\"Python (missile)\">Python (missile)</a>, a series of Israeli air-to-air missiles</li>,\n",
       " <li><a href=\"/wiki/Python_(nuclear_primary)\" title=\"Python (nuclear primary)\">Python (nuclear primary)</a>, a gas-boosted fission primary used in thermonuclear weapons</li>,\n",
       " <li><a href=\"/wiki/Colt_Python\" title=\"Colt Python\">Colt Python</a>, a revolver</li>,\n",
       " <li><a href=\"/wiki/Python_(codename)\" title=\"Python (codename)\">Python (codename)</a>, a British nuclear war contingency plan</li>,\n",
       " <li><a href=\"/wiki/Python_(film)\" title=\"Python (film)\"><i>Python</i> (film)</a>, a 2000 horror film by Richard Clabaugh</li>,\n",
       " <li><a href=\"/wiki/Monty_Python\" title=\"Monty Python\">Monty Python</a> or the Pythons, a British comedy group\n",
       " <ul><li><a href=\"/wiki/Python_(Monty)_Pictures\" title=\"Python (Monty) Pictures\">Python (Monty) Pictures</a>, a company owned by the troupe's surviving members</li></ul></li>,\n",
       " <li><a href=\"/wiki/Python_(Monty)_Pictures\" title=\"Python (Monty) Pictures\">Python (Monty) Pictures</a>, a company owned by the troupe's surviving members</li>,\n",
       " <li><i>Python</i>, a work written by philosopher <a href=\"/wiki/Timon_of_Phlius\" title=\"Timon of Phlius\">Timon of Phlius</a></li>,\n",
       " <li><i><a href=\"/wiki/Pyton\" title=\"Pyton\">Pyton</a></i>, a Norwegian magazine</li>,\n",
       " <li><a href=\"/wiki/Pithon\" title=\"Pithon\">Pithon</a>, a commune in northern France</li>,\n",
       " <li><a href=\"/wiki/Category:Disambiguation_pages\" title=\"Category:Disambiguation pages\">Disambiguation pages</a></li>,\n",
       " <li><a href=\"/wiki/Category:Human_name_disambiguation_pages\" title=\"Category:Human name disambiguation pages\">Human name disambiguation pages</a></li>,\n",
       " <li><a href=\"/wiki/Category:Disambiguation_pages_with_given-name-holder_lists\" title=\"Category:Disambiguation pages with given-name-holder lists\">Disambiguation pages with given-name-holder lists</a></li>,\n",
       " <li><a href=\"/wiki/Category:Short_description_is_different_from_Wikidata\" title=\"Category:Short description is different from Wikidata\">Short description is different from Wikidata</a></li>,\n",
       " <li><a href=\"/wiki/Category:All_article_disambiguation_pages\" title=\"Category:All article disambiguation pages\">All article disambiguation pages</a></li>,\n",
       " <li><a href=\"/wiki/Category:All_disambiguation_pages\" title=\"Category:All disambiguation pages\">All disambiguation pages</a></li>,\n",
       " <li><a href=\"/wiki/Category:Animal_common_name_disambiguation_pages\" title=\"Category:Animal common name disambiguation pages\">Animal common name disambiguation pages</a></li>,\n",
       " <li id=\"footer-info-lastmod\"> This page was last edited on 6 April 2023, at 18:55<span class=\"anonymous-show\"> (UTC)</span>.</li>,\n",
       " <li id=\"footer-info-copyright\">Text is available under the <a href=\"//en.wikipedia.org/wiki/Wikipedia:Text_of_the_Creative_Commons_Attribution-ShareAlike_3.0_Unported_License\" rel=\"license\">Creative Commons Attribution-ShareAlike License 3.0</a><a href=\"//creativecommons.org/licenses/by-sa/3.0/\" rel=\"license\" style=\"display:none;\"></a>;\n",
       " additional terms may apply.  By using this site, you agree to the <a href=\"//foundation.wikimedia.org/wiki/Terms_of_Use\">Terms of Use</a> and <a href=\"//foundation.wikimedia.org/wiki/Privacy_policy\">Privacy Policy</a>. Wikipedia® is a registered trademark of the <a href=\"//www.wikimediafoundation.org/\">Wikimedia Foundation, Inc.</a>, a non-profit organization.</li>,\n",
       " <li id=\"footer-places-privacy\"><a href=\"https://foundation.wikimedia.org/wiki/Privacy_policy\">Privacy policy</a></li>,\n",
       " <li id=\"footer-places-about\"><a href=\"/wiki/Wikipedia:About\">About Wikipedia</a></li>,\n",
       " <li id=\"footer-places-disclaimers\"><a href=\"/wiki/Wikipedia:General_disclaimer\">Disclaimers</a></li>,\n",
       " <li id=\"footer-places-contact\"><a href=\"//en.wikipedia.org/wiki/Wikipedia:Contact_us\">Contact Wikipedia</a></li>,\n",
       " <li id=\"footer-places-mobileview\"><a class=\"noprint stopMobileRedirectToggle\" href=\"//en.m.wikipedia.org/w/index.php?title=Python&amp;mobileaction=toggle_view_mobile\">Mobile view</a></li>,\n",
       " <li id=\"footer-places-developers\"><a href=\"https://developer.wikimedia.org\">Developers</a></li>,\n",
       " <li id=\"footer-places-statslink\"><a href=\"https://stats.wikimedia.org/#/en.wikipedia.org\">Statistics</a></li>,\n",
       " <li id=\"footer-places-cookiestatement\"><a href=\"https://foundation.wikimedia.org/wiki/Cookie_statement\">Cookie statement</a></li>,\n",
       " <li id=\"footer-copyrightico\"><a href=\"https://wikimediafoundation.org/\"><img alt=\"Wikimedia Foundation\" height=\"31\" loading=\"lazy\" src=\"/static/images/footer/wikimedia-button.png\" srcset=\"/static/images/footer/wikimedia-button-1.5x.png 1.5x, /static/images/footer/wikimedia-button-2x.png 2x\" width=\"88\"/></a></li>,\n",
       " <li id=\"footer-poweredbyico\"><a href=\"https://www.mediawiki.org/\"><img alt=\"Powered by MediaWiki\" height=\"31\" loading=\"lazy\" src=\"/static/images/footer/poweredby_mediawiki_88x31.png\" srcset=\"/static/images/footer/poweredby_mediawiki_132x47.png 1.5x, /static/images/footer/poweredby_mediawiki_176x62.png 2x\" width=\"88\"/></a></li>]"
      ]
     },
     "execution_count": 17,
     "metadata": {},
     "output_type": "execute_result"
    }
   ],
   "source": [
    "sopa=bs(html, 'html.parser')\n",
    "\n",
    "stars=sopa.find_all('li')\n",
    "\n",
    "noodles=[e.find('a')['href'] for e in stars if e.find('a') is not None]\n",
    "\n",
    "stars"
   ]
  },
  {
   "cell_type": "code",
   "execution_count": 18,
   "metadata": {},
   "outputs": [
    {
     "data": {
      "text/plain": [
       "['/wiki/Main_Page',\n",
       " '/wiki/Wikipedia:Contents',\n",
       " '/wiki/Portal:Current_events',\n",
       " '/wiki/Special:Random',\n",
       " '/wiki/Wikipedia:About',\n",
       " '//en.wikipedia.org/wiki/Wikipedia:Contact_us',\n",
       " 'https://donate.wikimedia.org/wiki/Special:FundraiserRedirector?utm_source=donate&utm_medium=sidebar&utm_campaign=C13_en.wikipedia.org&uselang=en',\n",
       " '/wiki/Help:Contents',\n",
       " '/wiki/Help:Introduction',\n",
       " '/wiki/Wikipedia:Community_portal',\n",
       " '/wiki/Special:RecentChanges',\n",
       " '/wiki/Wikipedia:File_upload_wizard',\n",
       " '/w/index.php?title=Special:CreateAccount&returnto=Python',\n",
       " '/w/index.php?title=Special:UserLogin&returnto=Python',\n",
       " '/w/index.php?title=Special:CreateAccount&returnto=Python',\n",
       " '/w/index.php?title=Special:UserLogin&returnto=Python',\n",
       " '/wiki/Special:MyContributions',\n",
       " '/wiki/Special:MyTalk',\n",
       " '#',\n",
       " '#Snakes',\n",
       " '#Computing',\n",
       " '#People',\n",
       " '#Roller_coasters',\n",
       " '#Vehicles',\n",
       " '#Weaponry',\n",
       " '#Other_uses',\n",
       " '#See_also',\n",
       " 'https://af.wikipedia.org/wiki/Python',\n",
       " 'https://als.wikipedia.org/wiki/Python',\n",
       " 'https://ar.wikipedia.org/wiki/%D8%A8%D8%A7%D9%8A%D8%AB%D9%88%D9%86_(%D8%AA%D9%88%D8%B6%D9%8A%D8%AD)',\n",
       " 'https://az.wikipedia.org/wiki/Python_(d%C9%99qiql%C9%99%C5%9Fdirm%C9%99)',\n",
       " 'https://bn.wikipedia.org/wiki/%E0%A6%AA%E0%A6%BE%E0%A6%87%E0%A6%A5%E0%A6%A8_(%E0%A6%A6%E0%A7%8D%E0%A6%AC%E0%A7%8D%E0%A6%AF%E0%A6%B0%E0%A7%8D%E0%A6%A5%E0%A6%A4%E0%A6%BE_%E0%A6%A8%E0%A6%BF%E0%A6%B0%E0%A6%B8%E0%A6%A8)',\n",
       " 'https://be.wikipedia.org/wiki/Python',\n",
       " 'https://bg.wikipedia.org/wiki/%D0%9F%D0%B8%D1%82%D0%BE%D0%BD_(%D0%BF%D0%BE%D1%8F%D1%81%D0%BD%D0%B5%D0%BD%D0%B8%D0%B5)',\n",
       " 'https://cs.wikipedia.org/wiki/Python_(rozcestn%C3%ADk)',\n",
       " 'https://da.wikipedia.org/wiki/Python',\n",
       " 'https://de.wikipedia.org/wiki/Python',\n",
       " 'https://eo.wikipedia.org/wiki/Pitono_(apartigilo)',\n",
       " 'https://eu.wikipedia.org/wiki/Python_(argipena)',\n",
       " 'https://fa.wikipedia.org/wiki/%D9%BE%D8%A7%DB%8C%D8%AA%D9%88%D9%86',\n",
       " 'https://fr.wikipedia.org/wiki/Python',\n",
       " 'https://ko.wikipedia.org/wiki/%ED%8C%8C%EC%9D%B4%EC%84%A0',\n",
       " 'https://hr.wikipedia.org/wiki/Python_(razdvojba)',\n",
       " 'https://io.wikipedia.org/wiki/Pitono',\n",
       " 'https://id.wikipedia.org/wiki/Python',\n",
       " 'https://ia.wikipedia.org/wiki/Python_(disambiguation)',\n",
       " 'https://is.wikipedia.org/wiki/Python_(a%C3%B0greining)',\n",
       " 'https://it.wikipedia.org/wiki/Python_(disambigua)',\n",
       " 'https://he.wikipedia.org/wiki/%D7%A4%D7%99%D7%AA%D7%95%D7%9F',\n",
       " 'https://ka.wikipedia.org/wiki/%E1%83%9E%E1%83%98%E1%83%97%E1%83%9D%E1%83%9C%E1%83%98_(%E1%83%9B%E1%83%A0%E1%83%90%E1%83%95%E1%83%90%E1%83%9A%E1%83%9B%E1%83%9C%E1%83%98%E1%83%A8%E1%83%95%E1%83%9C%E1%83%94%E1%83%9A%E1%83%9D%E1%83%95%E1%83%90%E1%83%9C%E1%83%98)',\n",
       " 'https://kg.wikipedia.org/wiki/Mboma_(nyoka)',\n",
       " 'https://la.wikipedia.org/wiki/Python_(discretiva)',\n",
       " 'https://lb.wikipedia.org/wiki/Python',\n",
       " 'https://hu.wikipedia.org/wiki/Python_(egy%C3%A9rtelm%C5%B1s%C3%ADt%C5%91_lap)',\n",
       " 'https://mr.wikipedia.org/wiki/%E0%A4%AA%E0%A4%BE%E0%A4%AF%E0%A4%A5%E0%A5%89%E0%A4%A8_(%E0%A4%86%E0%A4%9C%E0%A5%8D%E0%A4%9E%E0%A4%BE%E0%A4%B5%E0%A4%B2%E0%A5%80_%E0%A4%AD%E0%A4%BE%E0%A4%B7%E0%A4%BE)',\n",
       " 'https://nl.wikipedia.org/wiki/Python',\n",
       " 'https://ja.wikipedia.org/wiki/%E3%83%91%E3%82%A4%E3%82%BD%E3%83%B3',\n",
       " 'https://no.wikipedia.org/wiki/Pyton',\n",
       " 'https://pl.wikipedia.org/wiki/Pyton',\n",
       " 'https://pt.wikipedia.org/wiki/Python_(desambigua%C3%A7%C3%A3o)',\n",
       " 'https://ru.wikipedia.org/wiki/Python_(%D0%B7%D0%BD%D0%B0%D1%87%D0%B5%D0%BD%D0%B8%D1%8F)',\n",
       " 'https://sk.wikipedia.org/wiki/Python',\n",
       " 'https://sr.wikipedia.org/wiki/%D0%9F%D0%B8%D1%82%D0%BE%D0%BD_(%D0%B2%D0%B8%D1%88%D0%B5%D0%B7%D0%BD%D0%B0%D1%87%D0%BD%D0%B0_%D0%BE%D0%B4%D1%80%D0%B5%D0%B4%D0%BD%D0%B8%D1%86%D0%B0)',\n",
       " 'https://sh.wikipedia.org/wiki/Python',\n",
       " 'https://fi.wikipedia.org/wiki/Python',\n",
       " 'https://sv.wikipedia.org/wiki/Pyton',\n",
       " 'https://th.wikipedia.org/wiki/%E0%B9%84%E0%B8%9E%E0%B8%97%E0%B8%AD%E0%B8%99',\n",
       " 'https://tr.wikipedia.org/wiki/Python_(anlam_ayr%C4%B1m%C4%B1)',\n",
       " 'https://uk.wikipedia.org/wiki/%D0%9F%D1%96%D1%84%D0%BE%D0%BD',\n",
       " 'https://ur.wikipedia.org/wiki/%D9%BE%D8%A7%D8%A6%DB%8C%D8%AA%DA%BE%D9%88%D9%86',\n",
       " 'https://vi.wikipedia.org/wiki/Python',\n",
       " 'https://zh.wikipedia.org/wiki/Python_(%E6%B6%88%E6%AD%A7%E4%B9%89)',\n",
       " '/wiki/Python',\n",
       " '/wiki/Talk:Python',\n",
       " '/wiki/Python',\n",
       " '/w/index.php?title=Python&action=edit',\n",
       " '/w/index.php?title=Python&action=history',\n",
       " '/wiki/Python',\n",
       " '/w/index.php?title=Python&action=edit',\n",
       " '/w/index.php?title=Python&action=history',\n",
       " '/wiki/Special:WhatLinksHere/Python',\n",
       " '/wiki/Special:RecentChangesLinked/Python',\n",
       " '/wiki/Wikipedia:File_Upload_Wizard',\n",
       " '/wiki/Special:SpecialPages',\n",
       " '/w/index.php?title=Python&oldid=1148531488',\n",
       " '/w/index.php?title=Python&action=info',\n",
       " '/w/index.php?title=Special:CiteThisPage&page=Python&id=1148531488&wpFormIdentifier=titleform',\n",
       " 'https://www.wikidata.org/wiki/Special:EntityPage/Q747452',\n",
       " '/w/index.php?title=Special:DownloadAsPdf&page=Python&action=show-download-screen',\n",
       " '/w/index.php?title=Python&printable=yes',\n",
       " 'https://commons.wikimedia.org/wiki/Category:Python',\n",
       " '/wiki/Pythonidae',\n",
       " '/wiki/Python_(genus)',\n",
       " '/wiki/Python_(mythology)',\n",
       " '/wiki/Python_(programming_language)',\n",
       " '/wiki/CMU_Common_Lisp',\n",
       " '/wiki/PERQ#PERQ_3',\n",
       " '/wiki/Python_of_Aenus',\n",
       " '/wiki/Python_(painter)',\n",
       " '/wiki/Python_of_Byzantium',\n",
       " '/wiki/Python_of_Catana',\n",
       " '/wiki/Python_Anghelo',\n",
       " '/wiki/Python_(Efteling)',\n",
       " '/wiki/Python_(Busch_Gardens_Tampa_Bay)',\n",
       " '/wiki/Python_(Coney_Island,_Cincinnati,_Ohio)',\n",
       " '/wiki/Python_(automobile_maker)',\n",
       " '/wiki/Python_(Ford_prototype)',\n",
       " '/wiki/Python_(missile)',\n",
       " '/wiki/Python_(nuclear_primary)',\n",
       " '/wiki/Colt_Python',\n",
       " '/wiki/Python_(codename)',\n",
       " '/wiki/Python_(film)',\n",
       " '/wiki/Monty_Python',\n",
       " '/wiki/Python_(Monty)_Pictures',\n",
       " '/wiki/Timon_of_Phlius',\n",
       " '/wiki/Pyton',\n",
       " '/wiki/Pithon',\n",
       " '/wiki/Category:Disambiguation_pages',\n",
       " '/wiki/Category:Human_name_disambiguation_pages',\n",
       " '/wiki/Category:Disambiguation_pages_with_given-name-holder_lists',\n",
       " '/wiki/Category:Short_description_is_different_from_Wikidata',\n",
       " '/wiki/Category:All_article_disambiguation_pages',\n",
       " '/wiki/Category:All_disambiguation_pages',\n",
       " '/wiki/Category:Animal_common_name_disambiguation_pages',\n",
       " '//en.wikipedia.org/wiki/Wikipedia:Text_of_the_Creative_Commons_Attribution-ShareAlike_3.0_Unported_License',\n",
       " 'https://foundation.wikimedia.org/wiki/Privacy_policy',\n",
       " '/wiki/Wikipedia:About',\n",
       " '/wiki/Wikipedia:General_disclaimer',\n",
       " '//en.wikipedia.org/wiki/Wikipedia:Contact_us',\n",
       " '//en.m.wikipedia.org/w/index.php?title=Python&mobileaction=toggle_view_mobile',\n",
       " 'https://developer.wikimedia.org',\n",
       " 'https://stats.wikimedia.org/#/en.wikipedia.org',\n",
       " 'https://foundation.wikimedia.org/wiki/Cookie_statement',\n",
       " 'https://wikimediafoundation.org/',\n",
       " 'https://www.mediawiki.org/']"
      ]
     },
     "execution_count": 18,
     "metadata": {},
     "output_type": "execute_result"
    }
   ],
   "source": [
    "list_mvp = [e.find('a')['href'] for e in stars if e.find('a') is not None]\n",
    "\n",
    "list_mvp"
   ]
  },
  {
   "attachments": {},
   "cell_type": "markdown",
   "metadata": {},
   "source": [
    "#### Number of Titles that have changed in the United States Code since its last release point "
   ]
  },
  {
   "cell_type": "code",
   "execution_count": 19,
   "metadata": {},
   "outputs": [],
   "source": [
    "# This is the url you will scrape in this exercise\n",
    "url = 'http://uscode.house.gov/download/download.shtml'"
   ]
  },
  {
   "cell_type": "code",
   "execution_count": 20,
   "metadata": {},
   "outputs": [
    {
     "data": {
      "text/plain": [
       "85226"
      ]
     },
     "execution_count": 20,
     "metadata": {},
     "output_type": "execute_result"
    }
   ],
   "source": [
    "#your code\n",
    "\n",
    "html = req.get(url).content\n",
    "\n",
    "len(html)"
   ]
  },
  {
   "cell_type": "code",
   "execution_count": 21,
   "metadata": {},
   "outputs": [
    {
     "data": {
      "text/plain": [
       "[<div class=\"usctitlechanged\" id=\"us/usc/t1\">\n",
       " \n",
       "           Title 1 - General Provisions <span class=\"footnote\"><a class=\"fn\" href=\"#fn\">٭</a></span>\n",
       " </div>,\n",
       " <div class=\"usctitlechanged\" id=\"us/usc/t2\">\n",
       " \n",
       "           Title 2 - The Congress\n",
       " \n",
       "         </div>,\n",
       " <div class=\"usctitlechanged\" id=\"us/usc/t3\">\n",
       " \n",
       "           Title 3 - The President <span class=\"footnote\"><a class=\"fn\" href=\"#fn\">٭</a></span>\n",
       " </div>,\n",
       " <div class=\"usctitlechanged\" id=\"us/usc/t5\">\n",
       " \n",
       "           Title 5 - Government Organization and Employees <span class=\"footnote\"><a class=\"fn\" href=\"#fn\">٭</a></span>\n",
       " </div>,\n",
       " <div class=\"usctitlechanged\" id=\"us/usc/t6\">\n",
       " \n",
       "           Title 6 - Domestic Security\n",
       " \n",
       "         </div>,\n",
       " <div class=\"usctitlechanged\" id=\"us/usc/t8\">\n",
       " \n",
       "           Title 8 - Aliens and Nationality\n",
       " \n",
       "         </div>,\n",
       " <div class=\"usctitlechanged\" id=\"us/usc/t10\">\n",
       " \n",
       "           Title 10 - Armed Forces <span class=\"footnote\"><a class=\"fn\" href=\"#fn\">٭</a></span>\n",
       " </div>,\n",
       " <div class=\"usctitlechanged\" id=\"us/usc/t12\">\n",
       " \n",
       "           Title 12 - Banks and Banking\n",
       " \n",
       "         </div>,\n",
       " <div class=\"usctitlechanged\" id=\"us/usc/t14\">\n",
       " \n",
       "           Title 14 - Coast Guard <span class=\"footnote\"><a class=\"fn\" href=\"#fn\">٭</a></span>\n",
       " </div>,\n",
       " <div class=\"usctitlechanged\" id=\"us/usc/t15\">\n",
       " \n",
       "           Title 15 - Commerce and Trade\n",
       " \n",
       "         </div>,\n",
       " <div class=\"usctitlechanged\" id=\"us/usc/t16\">\n",
       " \n",
       "           Title 16 - Conservation\n",
       " \n",
       "         </div>,\n",
       " <div class=\"usctitlechanged\" id=\"us/usc/t17\">\n",
       " \n",
       "           Title 17 - Copyrights <span class=\"footnote\"><a class=\"fn\" href=\"#fn\">٭</a></span>\n",
       " </div>,\n",
       " <div class=\"usctitlechanged\" id=\"us/usc/t18\">\n",
       " \n",
       "           Title 18 - Crimes and Criminal Procedure <span class=\"footnote\"><a class=\"fn\" href=\"#fn\">٭</a></span>\n",
       " </div>,\n",
       " <div class=\"usctitlechanged\" id=\"us/usc/t20\">\n",
       " \n",
       "           Title 20 - Education\n",
       " \n",
       "         </div>,\n",
       " <div class=\"usctitlechanged\" id=\"us/usc/t21\">\n",
       " \n",
       "           Title 21 - Food and Drugs\n",
       " \n",
       "         </div>,\n",
       " <div class=\"usctitlechanged\" id=\"us/usc/t22\">\n",
       " \n",
       "           Title 22 - Foreign Relations and Intercourse\n",
       " \n",
       "         </div>,\n",
       " <div class=\"usctitlechanged\" id=\"us/usc/t25\">\n",
       " \n",
       "           Title 25 - Indians\n",
       " \n",
       "         </div>,\n",
       " <div class=\"usctitlechanged\" id=\"us/usc/t26\">\n",
       " \n",
       "           Title 26 - Internal Revenue Code\n",
       " \n",
       "         </div>,\n",
       " <div class=\"usctitlechanged\" id=\"us/usc/t28\">\n",
       " \n",
       "           Title 28 - Judiciary and Judicial Procedure <span class=\"footnote\"><a class=\"fn\" href=\"#fn\">٭</a></span>\n",
       " </div>,\n",
       " <div class=\"usctitlechanged\" id=\"us/usc/t29\">\n",
       " \n",
       "           Title 29 - Labor\n",
       " \n",
       "         </div>,\n",
       " <div class=\"usctitlechanged\" id=\"us/usc/t31\">\n",
       " \n",
       "           Title 31 - Money and Finance <span class=\"footnote\"><a class=\"fn\" href=\"#fn\">٭</a></span>\n",
       " </div>,\n",
       " <div class=\"usctitlechanged\" id=\"us/usc/t32\">\n",
       " \n",
       "           Title 32 - National Guard <span class=\"footnote\"><a class=\"fn\" href=\"#fn\">٭</a></span>\n",
       " </div>,\n",
       " <div class=\"usctitlechanged\" id=\"us/usc/t33\">\n",
       " \n",
       "           Title 33 - Navigation and Navigable Waters\n",
       " \n",
       "         </div>,\n",
       " <div class=\"usctitlechanged\" id=\"us/usc/t34\">\n",
       " \n",
       "           Title 34 - Crime Control and Law Enforcement\n",
       " \n",
       "         </div>,\n",
       " <div class=\"usctitlechanged\" id=\"us/usc/t36\">\n",
       " \n",
       "           Title 36 - Patriotic and National Observances, Ceremonies, and Organizations <span class=\"footnote\"><a class=\"fn\" href=\"#fn\">٭</a></span>\n",
       " </div>,\n",
       " <div class=\"usctitlechanged\" id=\"us/usc/t37\">\n",
       " \n",
       "           Title 37 - Pay and Allowances of the Uniformed Services <span class=\"footnote\"><a class=\"fn\" href=\"#fn\">٭</a></span>\n",
       " </div>,\n",
       " <div class=\"usctitlechanged\" id=\"us/usc/t38\">\n",
       " \n",
       "           Title 38 - Veterans' Benefits <span class=\"footnote\"><a class=\"fn\" href=\"#fn\">٭</a></span>\n",
       " </div>,\n",
       " <div class=\"usctitlechanged\" id=\"us/usc/t40\">\n",
       " \n",
       "           Title 40 - Public Buildings, Property, and Works <span class=\"footnote\"><a class=\"fn\" href=\"#fn\">٭</a></span>\n",
       " </div>,\n",
       " <div class=\"usctitlechanged\" id=\"us/usc/t41\">\n",
       " \n",
       "           Title 41 - Public Contracts <span class=\"footnote\"><a class=\"fn\" href=\"#fn\">٭</a></span>\n",
       " </div>,\n",
       " <div class=\"usctitlechanged\" id=\"us/usc/t42\">\n",
       " \n",
       "           Title 42 - The Public Health and Welfare\n",
       " \n",
       "         </div>,\n",
       " <div class=\"usctitlechanged\" id=\"us/usc/t43\">\n",
       " \n",
       "           Title 43 - Public Lands\n",
       " \n",
       "         </div>,\n",
       " <div class=\"usctitlechanged\" id=\"us/usc/t44\">\n",
       " \n",
       "           Title 44 - Public Printing and Documents <span class=\"footnote\"><a class=\"fn\" href=\"#fn\">٭</a></span>\n",
       " </div>,\n",
       " <div class=\"usctitlechanged\" id=\"us/usc/t46\">\n",
       " \n",
       "           Title 46 - Shipping <span class=\"footnote\"><a class=\"fn\" href=\"#fn\">٭</a></span>\n",
       " </div>,\n",
       " <div class=\"usctitlechanged\" id=\"us/usc/t48\">\n",
       " \n",
       "           Title 48 - Territories and Insular Possessions\n",
       " \n",
       "         </div>,\n",
       " <div class=\"usctitlechanged\" id=\"us/usc/t49\">\n",
       " \n",
       "           Title 49 - Transportation <span class=\"footnote\"><a class=\"fn\" href=\"#fn\">٭</a></span>\n",
       " </div>,\n",
       " <div class=\"usctitlechanged\" id=\"us/usc/t50\">\n",
       " \n",
       "           Title 50 - War and National Defense\n",
       " \n",
       "         </div>,\n",
       " <div class=\"usctitlechanged\" id=\"us/usc/t51\">\n",
       " \n",
       "           Title 51 - National and Commercial Space Programs <span class=\"footnote\"><a class=\"fn\" href=\"#fn\">٭</a></span>\n",
       " </div>]"
      ]
     },
     "execution_count": 21,
     "metadata": {},
     "output_type": "execute_result"
    }
   ],
   "source": [
    "#Parseo\n",
    "sopa=bs(html, 'html.parser')\n",
    "\n",
    "stars=sopa.find_all('div', {'class': 'usctitlechanged'})\n",
    "\n",
    "stars"
   ]
  },
  {
   "cell_type": "code",
   "execution_count": 22,
   "metadata": {},
   "outputs": [
    {
     "data": {
      "text/plain": [
       "['Title 1 - General Provisions',\n",
       " 'Title 2 - The Congress',\n",
       " 'Title 3 - The President',\n",
       " 'Title 5 - Government Organization and Employees',\n",
       " 'Title 6 - Domestic Security',\n",
       " 'Title 8 - Aliens and Nationality',\n",
       " 'Title 10 - Armed Forces',\n",
       " 'Title 12 - Banks and Banking',\n",
       " 'Title 14 - Coast Guard',\n",
       " 'Title 15 - Commerce and Trade',\n",
       " 'Title 16 - Conservation',\n",
       " 'Title 17 - Copyrights',\n",
       " 'Title 18 - Crimes and Criminal Procedure',\n",
       " 'Title 20 - Education',\n",
       " 'Title 21 - Food and Drugs',\n",
       " 'Title 22 - Foreign Relations and Intercourse',\n",
       " 'Title 25 - Indians',\n",
       " 'Title 26 - Internal Revenue Code',\n",
       " 'Title 28 - Judiciary and Judicial Procedure',\n",
       " 'Title 29 - Labor',\n",
       " 'Title 31 - Money and Finance',\n",
       " 'Title 32 - National Guard',\n",
       " 'Title 33 - Navigation and Navigable Waters',\n",
       " 'Title 34 - Crime Control and Law Enforcement',\n",
       " 'Title 36 - Patriotic and National Observances, Ceremonies, and Organizations',\n",
       " 'Title 37 - Pay and Allowances of the Uniformed Services',\n",
       " \"Title 38 - Veterans' Benefits\",\n",
       " 'Title 40 - Public Buildings, Property, and Works',\n",
       " 'Title 41 - Public Contracts',\n",
       " 'Title 42 - The Public Health and Welfare',\n",
       " 'Title 43 - Public Lands',\n",
       " 'Title 44 - Public Printing and Documents',\n",
       " 'Title 46 - Shipping',\n",
       " 'Title 48 - Territories and Insular Possessions',\n",
       " 'Title 49 - Transportation',\n",
       " 'Title 50 - War and National Defense',\n",
       " 'Title 51 - National and Commercial Space Programs']"
      ]
     },
     "execution_count": 22,
     "metadata": {},
     "output_type": "execute_result"
    }
   ],
   "source": [
    "list_mvp=[e.text.replace('\\u066D', '').strip() for e in stars]\n",
    "list_mvp"
   ]
  },
  {
   "attachments": {},
   "cell_type": "markdown",
   "metadata": {},
   "source": [
    "#### A Python list with the top ten FBI's Most Wanted names "
   ]
  },
  {
   "cell_type": "code",
   "execution_count": 23,
   "metadata": {},
   "outputs": [],
   "source": [
    "# This is the url you will scrape in this exercise\n",
    "url = 'https://www.fbi.gov/wanted/topten'"
   ]
  },
  {
   "cell_type": "code",
   "execution_count": 24,
   "metadata": {},
   "outputs": [
    {
     "data": {
      "text/plain": [
       "71955"
      ]
     },
     "execution_count": 24,
     "metadata": {},
     "output_type": "execute_result"
    }
   ],
   "source": [
    "#your code \n",
    "html = req.get(url).content\n",
    "\n",
    "len(html)"
   ]
  },
  {
   "cell_type": "code",
   "execution_count": 25,
   "metadata": {},
   "outputs": [
    {
     "data": {
      "text/plain": [
       "[<h3 class=\"title\">\n",
       " <a href=\"https://www.fbi.gov/wanted/topten/yulan-adonay-archaga-carias\">YULAN ADONAY ARCHAGA CARIAS</a>\n",
       " </h3>,\n",
       " <h3 class=\"title\">\n",
       " <a href=\"https://www.fbi.gov/wanted/topten/bhadreshkumar-chetanbhai-patel\">BHADRESHKUMAR CHETANBHAI PATEL</a>\n",
       " </h3>,\n",
       " <h3 class=\"title\">\n",
       " <a href=\"https://www.fbi.gov/wanted/topten/wilver-villegas-palomino\">WILVER VILLEGAS-PALOMINO</a>\n",
       " </h3>,\n",
       " <h3 class=\"title\">\n",
       " <a href=\"https://www.fbi.gov/wanted/topten/alejandro-castillo\">ALEJANDRO ROSALES CASTILLO</a>\n",
       " </h3>,\n",
       " <h3 class=\"title\">\n",
       " <a href=\"https://www.fbi.gov/wanted/topten/ruja-ignatova\">RUJA IGNATOVA</a>\n",
       " </h3>,\n",
       " <h3 class=\"title\">\n",
       " <a href=\"https://www.fbi.gov/wanted/topten/arnoldo-jimenez\">ARNOLDO JIMENEZ</a>\n",
       " </h3>,\n",
       " <h3 class=\"title\">\n",
       " <a href=\"https://www.fbi.gov/wanted/topten/omar-alexander-cardenas\">OMAR ALEXANDER CARDENAS</a>\n",
       " </h3>,\n",
       " <h3 class=\"title\">\n",
       " <a href=\"https://www.fbi.gov/wanted/topten/alexis-flores\">ALEXIS FLORES</a>\n",
       " </h3>,\n",
       " <h3 class=\"title\">\n",
       " <a href=\"https://www.fbi.gov/wanted/topten/michael-james-pratt\">MICHAEL JAMES PRATT</a>\n",
       " </h3>,\n",
       " <h3 class=\"title\">\n",
       " <a href=\"https://www.fbi.gov/wanted/topten/jose-rodolfo-villarreal-hernandez\">JOSE RODOLFO VILLARREAL-HERNANDEZ</a>\n",
       " </h3>]"
      ]
     },
     "execution_count": 25,
     "metadata": {},
     "output_type": "execute_result"
    }
   ],
   "source": [
    "#Parseo\n",
    "sopa=bs(html, 'html.parser')\n",
    "\n",
    "stars=sopa.find_all('h3', {'class': 'title'})\n",
    "\n",
    "stars"
   ]
  },
  {
   "cell_type": "code",
   "execution_count": 26,
   "metadata": {},
   "outputs": [
    {
     "data": {
      "text/plain": [
       "['YULAN ADONAY ARCHAGA CARIAS',\n",
       " 'BHADRESHKUMAR CHETANBHAI PATEL',\n",
       " 'WILVER VILLEGAS-PALOMINO',\n",
       " 'ALEJANDRO ROSALES CASTILLO',\n",
       " 'RUJA IGNATOVA',\n",
       " 'ARNOLDO JIMENEZ',\n",
       " 'OMAR ALEXANDER CARDENAS',\n",
       " 'ALEXIS FLORES',\n",
       " 'MICHAEL JAMES PRATT',\n",
       " 'JOSE RODOLFO VILLARREAL-HERNANDEZ']"
      ]
     },
     "execution_count": 26,
     "metadata": {},
     "output_type": "execute_result"
    }
   ],
   "source": [
    "list_mvp=[e.text.strip() for e in stars]\n",
    "list_mvp"
   ]
  },
  {
   "attachments": {},
   "cell_type": "markdown",
   "metadata": {},
   "source": [
    "####  20 latest earthquakes info (date, time, latitude, longitude and region name) by the EMSC as a pandas dataframe"
   ]
  },
  {
   "cell_type": "code",
   "execution_count": 27,
   "metadata": {},
   "outputs": [],
   "source": [
    "# This is the url you will scrape in this exercise\n",
    "url = 'https://www.emsc-csem.org/Earthquake/'"
   ]
  },
  {
   "cell_type": "code",
   "execution_count": 28,
   "metadata": {},
   "outputs": [
    {
     "data": {
      "text/plain": [
       "86308"
      ]
     },
     "execution_count": 28,
     "metadata": {},
     "output_type": "execute_result"
    }
   ],
   "source": [
    "#your code\n",
    "html = req.get(url).content\n",
    "\n",
    "len(html)"
   ]
  },
  {
   "cell_type": "code",
   "execution_count": 29,
   "metadata": {},
   "outputs": [
    {
     "data": {
      "text/plain": [
       "<thead>\n",
       "<tr>\n",
       "<td colspan=\"13\" style=\"background: white;height: 1px\"></td>\n",
       "</tr>\n",
       "<tr id=\"haut_tableau\"><th class=\"th2 th3\" colspan=\"3\" style=\"width:90px;display:table-csell;\"><div onmouseout=\"info_b('notshow','','');\" onmouseover=\"info_b('show','Represents the results of information provided by users (Felt earthquake, pictures, testimonies ,...)&lt;br&gt;See an intensity map for more details on the macroseismic intensity scale.','Citizen response');\">Citizen<br/>Response</div><br/><table cellpadding=\"0\" cellspacing=\"0\" style=\"width:100%;margin:0;text-align:center;\"><tr><td><div onclick=\"change_tri('im_report');\" onmouseout=\"change_image(this,'out','im_report');\" onmouseover=\"change_image(this,'over','im_report');\"><span class=\"spriteorig sp_ico_list\" onmouseout=\"info_b2('notshow','');\" onmouseover=\"info_b2('show','Sorted by number of &lt;b&gt;Comments&lt;/b&gt;');\"></span><span class=\"spriteorig sp_s_asc\" id=\"im_report\" style=\"display:none;\"></span></div></td><td><div onclick=\"change_tri('im_pics');\" onmouseout=\"change_image(this,'out','im_pics');\" onmouseover=\"change_image(this,'over','im_pics');\"><span class=\"spriteorig sp_digikam\" onmouseout=\"info_b2('notshow','');\" onmouseover=\"info_b2('show','Sorted by number of &lt;b&gt;Pictures&lt;/b&gt;');\"></span><span class=\"spriteorig sp_s_asc\" id=\"im_pics\" style=\"display:none;\"></span></div></td><td><div onclick=\"change_tri('im_intens');\" onmouseout=\"change_image(this,'out','im_intens');\" onmouseover=\"change_image(this,'over','im_intens');\"><span class=\"spriteorig sp_IntensityMap\" onmouseout=\"info_b2('notshow','');\" onmouseover=\"info_b2('show','Sorted by &lt;b&gt;Macroseismic Intensity&lt;/b&gt;');\"></span><span class=\"spriteorig sp_s_asc\" id=\"im_intens\" style=\"display:none;\"></span></div></td></tr></table></th><th class=\"th2\" onclick=\"change_tri('im_time');\" onmouseout=\"change_image(this,'out','im_time');\" onmouseover=\"change_image(this,'over','im_time');\">Date &amp; Time <span class=\"spriteorig sp_s_desc\" id=\"im_select\"></span><div style=\"font-weight:normal;\">UTC</div></th><th class=\"th2\" colspan=\"2\" onclick=\"change_tri('im_lat');\" onmouseout=\"change_image(this,'out','im_lat');\" onmouseover=\"change_image(this,'over','im_lat');\">Latitude <span class=\"spriteorig sp_s_asc\" id=\"im_lat\" style=\"display:none;\"></span><div style=\"font-weight:normal;\">degrees</div></th><th class=\"th2\" colspan=\"2\" onclick=\"change_tri('im_lon');\" onmouseout=\"change_image(this,'out','im_lon');\" onmouseover=\"change_image(this,'over','im_lon');\">Longitude <span class=\"spriteorig sp_s_asc\" id=\"im_lon\" style=\"display:none;\"></span><div style=\"font-weight:normal;\">degrees</div></th><th class=\"th2\" onclick=\"change_tri('im_depth');\" onmouseout=\"change_image(this,'out','im_depth');\" onmouseover=\"change_image(this,'over','im_depth');\">Depth <span class=\"spriteorig sp_s_asc\" id=\"im_depth\" style=\"display:none;\"></span><div style=\"font-weight: normal\">km</div></th><th class=\"th2\" colspan=\"1\" id=\"thmag\"><div onclick=\"change_tri('im_mag');\" onmouseout=\"change_image(this,'out','im_mag');\" onmouseover=\"change_image(this,'over','im_mag');\" style=\"float:left;\">Mag <span class=\"spriteorig sp_s_asc\" id=\"im_mag\" style=\"display:none;\"></span></div><div id=\"magplus2\" style=\"float:left;\"> <a href=\"javascript:hide_magni();\" id=\"magplus\" style=\"color:white;\">[+]</a></div></th><th class=\"th2\" id=\"ex_th2\"><div onclick=\"change_tri('im_reg');\" onmouseout=\"change_image(this,'out','im_reg');\" onmouseover=\"change_image(this,'over','im_reg');\" style=\"float:left;\">Region name <span class=\"spriteorig sp_s_asc\" id=\"im_reg\" style=\"display:none;\"></span></div><div id=\"upda\" onmouseout=\"info_b2('notshow','');\" onmouseover=\"info_b2('show','Show last update');\"> <a href=\"javascript:hide_upd();\" style=\"color:white;\">[+]</a></div></th><th class=\"th2 updatetimeno\" id=\"upd\"><div id=\"labupd\" onclick=\"change_tri('im_upd');\" onmouseout=\"change_image(this,'out','im_upd');\" onmouseover=\"change_image(this,'over','im_upd');\" style=\"float:left;text-align:right;\">Last update <span class=\"spriteorig sp_s_asc\" id=\"im_upd\" style=\"display:none;\"></span></div><div id=\"hideupda\" onmouseout=\"info_b2('notshow','');\" onmouseover=\"info_b2('show','Hide last update');\" style=\"float:left;\"><a href=\"javascript:hide_upd();\" style=\"color:white;\">[-]</a></div></th></tr>\n",
       "<tr><td colspan=\"13\" style=\"background: white;height: 1px\"></td></tr>\n",
       "<tr class=\"npages\" id=\"my_pagelist_0\"><td colspan=\"13\"><a class=\"sublink sublinka\" href=\"javascript:void()\" rel=\"nofollow\">1</a><a class=\"sublink\" href=\"/Earthquake/?view=2\">2</a><a class=\"sublink\" href=\"/Earthquake/?view=3\">3</a><a class=\"sublink\" href=\"/Earthquake/?view=4\">4</a><a class=\"sublink\" href=\"/Earthquake/?view=5\">5</a><a class=\"sublink\" href=\"/Earthquake/?view=6\">6</a><a class=\"sublink\" href=\"/Earthquake/?view=7\">7</a><a class=\"sublink\" href=\"/Earthquake/?view=8\">8</a><a class=\"sublink\" href=\"/Earthquake/?view=9\">9</a><a class=\"sublink\" href=\"/Earthquake/?view=10\">10</a><a alt=\"Next page\" class=\"sublink\" href=\"/Earthquake/?view=2\">›</a><a alt=\"Next 10 pages\" class=\"sublink\" href=\"/Earthquake/?view=11\">»</a></td></tr></thead>"
      ]
     },
     "execution_count": 29,
     "metadata": {},
     "output_type": "execute_result"
    }
   ],
   "source": [
    "#Parseo\n",
    "sopa=bs(html, 'html.parser')\n",
    "\n",
    "stars=sopa.find('thead')\n",
    "stars\n"
   ]
  },
  {
   "cell_type": "code",
   "execution_count": 30,
   "metadata": {},
   "outputs": [],
   "source": [
    "#Can´t cope with this table."
   ]
  },
  {
   "attachments": {},
   "cell_type": "markdown",
   "metadata": {},
   "source": [
    "#### Display the date, days, title, city, country of next 25 hackathon events as a Pandas dataframe table"
   ]
  },
  {
   "cell_type": "code",
   "execution_count": 31,
   "metadata": {},
   "outputs": [],
   "source": [
    "# This is the url you will scrape in this exercise\n",
    "url ='https://hackevents.com/hackathons'\n",
    "\n",
    "#Can´t open url"
   ]
  },
  {
   "cell_type": "code",
   "execution_count": 32,
   "metadata": {},
   "outputs": [],
   "source": [
    "#your code"
   ]
  },
  {
   "attachments": {},
   "cell_type": "markdown",
   "metadata": {},
   "source": [
    "#### Count number of tweets by a given Twitter account."
   ]
  },
  {
   "attachments": {},
   "cell_type": "markdown",
   "metadata": {},
   "source": [
    "You will need to include a ***try/except block*** for account names not found. \n",
    "<br>***Hint:*** the program should count the number of tweets for any provided account"
   ]
  },
  {
   "cell_type": "code",
   "execution_count": 33,
   "metadata": {},
   "outputs": [],
   "source": [
    "# This is the url you will scrape in this exercise \n",
    "# You will need to add the account credentials to this url\n",
    "url = 'https://twitter.com/'\n",
    "#Can´t extract data from this url."
   ]
  },
  {
   "cell_type": "code",
   "execution_count": 34,
   "metadata": {},
   "outputs": [],
   "source": [
    "#your code"
   ]
  },
  {
   "attachments": {},
   "cell_type": "markdown",
   "metadata": {},
   "source": [
    "#### Number of followers of a given twitter account"
   ]
  },
  {
   "attachments": {},
   "cell_type": "markdown",
   "metadata": {},
   "source": [
    "You will need to include a ***try/except block*** in case account/s name not found. \n",
    "<br>***Hint:*** the program should count the followers for any provided account"
   ]
  },
  {
   "cell_type": "code",
   "execution_count": 35,
   "metadata": {},
   "outputs": [],
   "source": [
    "# This is the url you will scrape in this exercise \n",
    "# You will need to add the account credentials to this url\n",
    "url = 'https://twitter.com/'\n",
    "#Can´t extract data from this url."
   ]
  },
  {
   "cell_type": "code",
   "execution_count": 36,
   "metadata": {},
   "outputs": [],
   "source": [
    "#your code"
   ]
  },
  {
   "attachments": {},
   "cell_type": "markdown",
   "metadata": {},
   "source": [
    "#### List all language names and number of related articles in the order they appear in wikipedia.org"
   ]
  },
  {
   "cell_type": "code",
   "execution_count": 115,
   "metadata": {},
   "outputs": [
    {
     "data": {
      "text/plain": [
       "75769"
      ]
     },
     "execution_count": 115,
     "metadata": {},
     "output_type": "execute_result"
    }
   ],
   "source": [
    "# This is the url you will scrape in this exercise\n",
    "url = 'https://www.wikipedia.org/'\n",
    "#your code \n",
    "html = req.get(url).content\n",
    "\n",
    "len(html)"
   ]
  },
  {
   "cell_type": "code",
   "execution_count": 116,
   "metadata": {},
   "outputs": [
    {
     "data": {
      "text/plain": [
       "'\\n\\n\\n\\nEnglish\\n6\\xa0644\\xa0000+ articles\\n\\n\\n\\n\\n\\nРусский\\n1\\xa0909\\xa0000+ статей\\n\\n\\n\\n\\n\\n日本語\\n1\\xa0370\\xa0000+ 記事\\n\\n\\n\\n\\n\\nDeutsch\\n2\\xa0792\\xa0000+ Artikel\\n\\n\\n\\n\\n\\nEspañol\\n1\\xa0854\\xa0000+ artículos\\n\\n\\n\\n\\n\\nFrançais\\n2\\xa0514\\xa0000+ articles\\n\\n\\n\\n\\n\\nItaliano\\n1\\xa0806\\xa0000+ voci\\n\\n\\n\\n\\n\\n中文\\n1\\xa0347\\xa0000+ 条目 / 條目\\n\\n\\n\\n\\n\\nفارسی\\n959\\xa0000+ مقاله\\n\\n\\n\\n\\n\\nPortuguês\\n1\\xa0101\\xa0000+ artigos\\n\\n\\n'"
      ]
     },
     "execution_count": 116,
     "metadata": {},
     "output_type": "execute_result"
    }
   ],
   "source": [
    "#your code\n",
    "#Parseo\n",
    "sopa=bs(html, 'html.parser')\n",
    "\n",
    "stars=sopa.find('div', {'class':'central-featured'}).text\n",
    "stars"
   ]
  },
  {
   "cell_type": "code",
   "execution_count": 118,
   "metadata": {},
   "outputs": [
    {
     "data": {
      "text/plain": [
       "[['English'],\n",
       " ['6', '644', '000+ articles'],\n",
       " ['Русский'],\n",
       " ['1', '909', '000+ статей'],\n",
       " ['日本語'],\n",
       " ['1', '370', '000+ 記事'],\n",
       " ['Deutsch'],\n",
       " ['2', '792', '000+ Artikel'],\n",
       " ['Español'],\n",
       " ['1', '854', '000+ artículos'],\n",
       " ['Français'],\n",
       " ['2', '514', '000+ articles'],\n",
       " ['Italiano'],\n",
       " ['1', '806', '000+ voci'],\n",
       " ['中文'],\n",
       " ['1', '347', '000+ 条目 / 條目'],\n",
       " ['فارسی'],\n",
       " ['959', '000+ مقاله'],\n",
       " ['Português'],\n",
       " ['1', '101', '000+ artigos']]"
      ]
     },
     "execution_count": 118,
     "metadata": {},
     "output_type": "execute_result"
    }
   ],
   "source": [
    "stars_list=stars.split('\\n')\n",
    "\n",
    "#noodles=stars_list[0].split('+')\n",
    "\n",
    "#noodles_f=[e.split('\\xa0') for e in noodles]\n",
    "\n",
    "noodles= [e.split('\\xa0') for e in stars_list if e != '']\n",
    "\n",
    "noodles\n"
   ]
  },
  {
   "attachments": {},
   "cell_type": "markdown",
   "metadata": {},
   "source": [
    "#### A list with the different kind of datasets available in data.gov.uk "
   ]
  },
  {
   "cell_type": "code",
   "execution_count": 119,
   "metadata": {},
   "outputs": [
    {
     "data": {
      "text/plain": [
       "14187"
      ]
     },
     "execution_count": 119,
     "metadata": {},
     "output_type": "execute_result"
    }
   ],
   "source": [
    "# This is the url you will scrape in this exercise\n",
    "url = 'https://data.gov.uk/'\n",
    "#your code \n",
    "html = req.get(url).content\n",
    "\n",
    "len(html)"
   ]
  },
  {
   "cell_type": "code",
   "execution_count": 123,
   "metadata": {},
   "outputs": [
    {
     "data": {
      "text/plain": [
       "['Business and economy',\n",
       " 'Small businesses, industry, imports, exports and trade',\n",
       " 'Crime and justice',\n",
       " 'Courts, police, prison, offenders, borders and immigration',\n",
       " 'Defence',\n",
       " 'Armed forces, health and safety, search and rescue',\n",
       " 'Education',\n",
       " 'Students, training, qualifications and the National Curriculum',\n",
       " 'Environment',\n",
       " 'Weather, flooding, rivers, air quality, geology and agriculture',\n",
       " 'Government',\n",
       " 'Staff numbers and pay, local councillors and department business plans',\n",
       " 'Government spending',\n",
       " 'Includes all payments by government departments over £25,000',\n",
       " 'Health',\n",
       " 'Includes smoking, drugs, alcohol, medicine performance and hospitals',\n",
       " 'Mapping',\n",
       " 'Addresses, boundaries, land ownership, aerial photographs, seabed and land terrain',\n",
       " 'Society',\n",
       " 'Employment, benefits, household finances, poverty and population',\n",
       " 'Towns and cities',\n",
       " 'Includes housing, urban planning, leisure, waste and energy, consumption',\n",
       " 'Transport',\n",
       " 'Airports, roads, freight, electric vehicles, parking, buses and footpaths',\n",
       " 'Digital service performance',\n",
       " 'Cost, usage, completion rate, digital take-up, satisfaction',\n",
       " 'Government reference data',\n",
       " 'Trusted data that is referenced and shared across government departments']"
      ]
     },
     "execution_count": 123,
     "metadata": {},
     "output_type": "execute_result"
    }
   ],
   "source": [
    "#your code \n",
    "#Parseo\n",
    "sopa=bs(html, 'html.parser')\n",
    "\n",
    "stars=sopa.find('ul', {'class':'govuk-list dgu-topics__list'}).text\n",
    "gravy= stars.split('\\n')\n",
    "noodles=[e for e in gravy if e != '']\n",
    "\n",
    "noodles\n"
   ]
  },
  {
   "attachments": {},
   "cell_type": "markdown",
   "metadata": {},
   "source": [
    "#### Top 10 languages by number of native speakers stored in a Pandas Dataframe"
   ]
  },
  {
   "cell_type": "code",
   "execution_count": 145,
   "metadata": {},
   "outputs": [
    {
     "data": {
      "text/plain": [
       "b'<!DOCTYPE html>\\n<html class=\"client-nojs vector-feature-language-in-header-enabled vector-feature-language-in-main-page-header-disabled vector-feature-language-alert-in-sidebar-enabled vector-feature-sticky-header-disabled vector-feature-page-tools-pinned-disabled vector-feature-toc-pinned-enabled vector-feature-main-menu-pinned-disabled vector-feature-limited-width-enabled vector-feature-limited-width-content-enabled vector-feature-zebra-design-disabled\" lang=\"en\" dir=\"ltr\">\\n<head>\\n<meta charset=\"UTF-8\"/>\\n<title>List of languages by number of native speakers - Wikipedia</title>\\n<script>document.documentElement.className=\"client-js vector-feature-language-in-header-enabled vector-feature-language-in-main-page-header-disabled vector-feature-language-alert-in-sidebar-enabled vector-feature-sticky-header-disabled vector-feature-page-tools-pinned-disabled vector-feature-toc-pinned-enabled vector-feature-main-menu-pinned-disabled vector-feature-limited-width-enabled vector-feature-limited-width-content-enabled vector-feature-zebra-design-disabled\";(function(){var cookie=document.cookie.match(/(?:^|; )enwikimwclientprefs=([^;]+)/);if(cookie){var featureName=cookie[1];document.documentElement.className=document.documentElement.className.replace(featureName+\\'-enabled\\',featureName+\\'-disabled\\');}}());RLCONF={\"wgBreakFrames\":false,\"wgSeparatorTransformTable\":[\"\",\"\"],\"wgDigitTransformTable\":[\"\",\"\"],\"wgDefaultDateFormat\":\"dmy\",\"wgMonthNames\":[\"\",\"January\",\"February\",\"March\",\"April\",\"May\",\"June\",\"July\",\"August\",\"September\",\"October\",\"November\",\"December\"],\"wgRequestId\":\\n\"c40841aa-2e80-4c45-9cb5-ef513da54de6\",\"wgCSPNonce\":false,\"wgCanonicalNamespace\":\"\",\"wgCanonicalSpecialPageName\":false,\"wgNamespaceNumber\":0,\"wgPageName\":\"List_of_languages_by_number_of_native_speakers\",\"wgTitle\":\"List of languages by number of native speakers\",\"wgCurRevisionId\":1153287786,\"wgRevisionId\":1153287786,\"wgArticleId\":405385,\"wgIsArticle\":true,\"wgIsRedirect\":false,\"wgAction\":\"view\",\"wgUserName\":null,\"wgUserGroups\":[\"*\"],\"wgCategories\":[\"Language articles citing Ethnologue 26\",\"Articles with short description\",\"Short description is different from Wikidata\",\"Wikipedia indefinitely semi-protected pages\",\"Use dmy dates from April 2020\",\"All articles lacking reliable references\",\"Articles lacking reliable references from December 2021\",\"Lists of languages\"],\"wgPageContentLanguage\":\"en\",\"wgPageContentModel\":\"wikitext\",\"wgRelevantPageName\":\"List_of_languages_by_number_of_native_speakers\",\"wgRelevantArticleId\":405385,\"wgIsProbablyEditable\":false,\"wgRelevantPageIsProbablyEditable\":\\nfalse,\"wgRestrictionEdit\":[\"autoconfirmed\"],\"wgRestrictionMove\":[\"autoconfirmed\"],\"wgFlaggedRevsParams\":{\"tags\":{\"status\":{\"levels\":1}}},\"wgVisualEditor\":{\"pageLanguageCode\":\"en\",\"pageLanguageDir\":\"ltr\",\"pageVariantFallbacks\":\"en\"},\"wgMFDisplayWikibaseDescriptions\":{\"search\":true,\"watchlist\":true,\"tagline\":false,\"nearby\":true},\"wgWMESchemaEditAttemptStepOversample\":false,\"wgWMEPageLength\":10000,\"wgNoticeProject\":\"wikipedia\",\"wgMediaViewerOnClick\":true,\"wgMediaViewerEnabledByDefault\":true,\"wgPopupsFlags\":10,\"wgULSCurrentAutonym\":\"English\",\"wgEditSubmitButtonLabelPublish\":true,\"wgCentralAuthMobileDomain\":false,\"wgULSPosition\":\"interlanguage\",\"wgULSisCompactLinksEnabled\":true,\"wgULSisLanguageSelectorEmpty\":false,\"wgWikibaseItemId\":\"Q4319\",\"GEHomepageSuggestedEditsEnableTopics\":true,\"wgGETopicsMatchModeEnabled\":false,\"wgGEStructuredTaskRejectionReasonTextInputEnabled\":false,\"wgGELevelingUpEnabledForUser\":false};RLSTATE={\"skins.vector.user.styles\":\"ready\",\"ext.globalCssJs.user.styles\":\\n\"ready\",\"site.styles\":\"ready\",\"user.styles\":\"ready\",\"skins.vector.user\":\"ready\",\"ext.globalCssJs.user\":\"ready\",\"user\":\"ready\",\"user.options\":\"loading\",\"ext.cite.styles\":\"ready\",\"mediawiki.ui.button\":\"ready\",\"skins.vector.styles\":\"ready\",\"skins.vector.icons\":\"ready\",\"mediawiki.ui.icon\":\"ready\",\"jquery.tablesorter.styles\":\"ready\",\"jquery.makeCollapsible.styles\":\"ready\",\"ext.visualEditor.desktopArticleTarget.noscript\":\"ready\",\"ext.wikimediaBadges\":\"ready\",\"ext.uls.interlanguage\":\"ready\",\"wikibase.client.init\":\"ready\"};RLPAGEMODULES=[\"ext.cite.ux-enhancements\",\"site\",\"mediawiki.page.ready\",\"jquery.tablesorter\",\"jquery.makeCollapsible\",\"mediawiki.toc\",\"skins.vector.js\",\"mmv.head\",\"mmv.bootstrap.autostart\",\"ext.visualEditor.desktopArticleTarget.init\",\"ext.visualEditor.targetLoader\",\"ext.eventLogging\",\"ext.wikimediaEvents\",\"ext.navigationTiming\",\"ext.cx.eventlogging.campaigns\",\"ext.centralNotice.geoIP\",\"ext.centralNotice.startUp\",\"ext.gadget.ReferenceTooltips\",\"ext.gadget.charinsert\",\\n\"ext.gadget.extra-toolbar-buttons\",\"ext.gadget.switcher\",\"ext.centralauth.centralautologin\",\"ext.popups\",\"ext.echo.centralauth\",\"ext.uls.compactlinks\",\"ext.uls.interface\",\"ext.cx.uls.quick.actions\",\"wikibase.client.vector-2022\",\"ext.growthExperiments.SuggestedEditSession\"];</script>\\n<script>(RLQ=window.RLQ||[]).push(function(){mw.loader.implement(\"user.options@12s5i\",function($,jQuery,require,module){mw.user.tokens.set({\"patrolToken\":\"+\\\\\\\\\",\"watchToken\":\"+\\\\\\\\\",\"csrfToken\":\"+\\\\\\\\\"});});});</script>\\n<link rel=\"stylesheet\" href=\"/w/load.php?lang=en&amp;modules=ext.cite.styles%7Cext.uls.interlanguage%7Cext.visualEditor.desktopArticleTarget.noscript%7Cext.wikimediaBadges%7Cjquery.makeCollapsible.styles%7Cjquery.tablesorter.styles%7Cmediawiki.ui.button%2Cicon%7Cskins.vector.icons%2Cstyles%7Cwikibase.client.init&amp;only=styles&amp;skin=vector-2022\"/>\\n<script async=\"\" src=\"/w/load.php?lang=en&amp;modules=startup&amp;only=scripts&amp;raw=1&amp;skin=vector-2022\"></script>\\n<meta name=\"ResourceLoaderDynamicStyles\" content=\"\"/>\\n<link rel=\"stylesheet\" href=\"/w/load.php?lang=en&amp;modules=site.styles&amp;only=styles&amp;skin=vector-2022\"/>\\n<meta name=\"generator\" content=\"MediaWiki 1.41.0-wmf.6\"/>\\n<meta name=\"referrer\" content=\"origin\"/>\\n<meta name=\"referrer\" content=\"origin-when-crossorigin\"/>\\n<meta name=\"referrer\" content=\"origin-when-cross-origin\"/>\\n<meta name=\"robots\" content=\"max-image-preview:standard\"/>\\n<meta name=\"format-detection\" content=\"telephone=no\"/>\\n<meta property=\"og:image\" content=\"https://upload.wikimedia.org/wikipedia/commons/thumb/c/c8/Human_Language_Families.png/1200px-Human_Language_Families.png\"/>\\n<meta property=\"og:image:width\" content=\"1200\"/>\\n<meta property=\"og:image:height\" content=\"575\"/>\\n<meta property=\"og:image\" content=\"https://upload.wikimedia.org/wikipedia/commons/thumb/c/c8/Human_Language_Families.png/800px-Human_Language_Families.png\"/>\\n<meta property=\"og:image:width\" content=\"800\"/>\\n<meta property=\"og:image:height\" content=\"383\"/>\\n<meta property=\"og:image\" content=\"https://upload.wikimedia.org/wikipedia/commons/thumb/c/c8/Human_Language_Families.png/640px-Human_Language_Families.png\"/>\\n<meta property=\"og:image:width\" content=\"640\"/>\\n<meta property=\"og:image:height\" content=\"307\"/>\\n<meta name=\"viewport\" content=\"width=1000\"/>\\n<meta property=\"og:title\" content=\"List of languages by number of native speakers - Wikipedia\"/>\\n<meta property=\"og:type\" content=\"website\"/>\\n<link rel=\"preconnect\" href=\"//upload.wikimedia.org\"/>\\n<link rel=\"alternate\" media=\"only screen and (max-width: 720px)\" href=\"//en.m.wikipedia.org/wiki/List_of_languages_by_number_of_native_speakers\"/>\\n<link rel=\"apple-touch-icon\" href=\"/static/apple-touch/wikipedia.png\"/>\\n<link rel=\"icon\" href=\"/static/favicon/wikipedia.ico\"/>\\n<link rel=\"search\" type=\"application/opensearchdescription+xml\" href=\"/w/opensearch_desc.php\" title=\"Wikipedia (en)\"/>\\n<link rel=\"EditURI\" type=\"application/rsd+xml\" href=\"//en.wikipedia.org/w/api.php?action=rsd\"/>\\n<link rel=\"canonical\" href=\"https://en.wikipedia.org/wiki/List_of_languages_by_number_of_native_speakers\"/>\\n<link rel=\"license\" href=\"https://creativecommons.org/licenses/by-sa/3.0/\"/>\\n<link rel=\"alternate\" type=\"application/atom+xml\" title=\"Wikipedia Atom feed\" href=\"/w/index.php?title=Special:RecentChanges&amp;feed=atom\"/>\\n<link rel=\"dns-prefetch\" href=\"//meta.wikimedia.org\" />\\n<link rel=\"dns-prefetch\" href=\"//login.wikimedia.org\"/>\\n</head>\\n<body class=\"skin-vector skin-vector-search-vue mediawiki ltr sitedir-ltr mw-hide-empty-elt ns-0 ns-subject page-List_of_languages_by_number_of_native_speakers rootpage-List_of_languages_by_number_of_native_speakers skin-vector-2022 action-view\"><a class=\"mw-jump-link\" href=\"#bodyContent\">Jump to content</a>\\n<div class=\"vector-header-container\">\\n\\t<header class=\"vector-header mw-header\">\\n\\t\\t<div class=\"vector-header-start\">\\n\\t\\t\\t<nav class=\"vector-main-menu-landmark\" aria-label=\"Site\" role=\"navigation\">\\n\\t\\t\\t\\t\\n<div id=\"vector-main-menu-dropdown\" class=\"vector-menu vector-dropdown vector-menu-dropdown vector-main-menu-dropdown mw-ui-icon-flush-left mw-ui-icon-flush-right\"  >\\n\\t<input type=\"checkbox\"\\n\\t\\tid=\"vector-main-menu-dropdown-checkbox\"\\n\\t\\trole=\"button\"\\n\\t\\taria-haspopup=\"true\"\\n\\t\\tdata-event-name=\"ui.dropdown-vector-main-menu-dropdown\"\\n\\t\\tclass=\"vector-menu-checkbox \"\\n\\t\\t\\n\\t\\taria-label=\"Main menu\"\\n\\t\\t\\n\\t/>\\n\\t<label\\n\\t\\tid=\"vector-main-menu-dropdown-label\"\\n\\t\\tfor=\"vector-main-menu-dropdown-checkbox\"\\n\\t\\tclass=\"vector-menu-heading mw-ui-button mw-ui-quiet mw-ui-icon-element \"\\n\\t\\taria-hidden=\"true\"\\n\\t\\t\\n\\t>\\n\\t\\t<span class=\"mw-ui-icon mw-ui-icon-menu mw-ui-icon-wikimedia-menu\"></span>\\n\\n\\t\\t<span class=\"vector-menu-heading-label\">Main menu</span>\\n\\t</label>\\n\\t<div class=\"vector-menu-content vector-dropdown-content\">\\n\\n\\n\\t\\t\\t\\t<div id=\"vector-main-menu-unpinned-container\" class=\"vector-unpinned-container\">\\n\\t\\t\\n<div id=\"vector-main-menu\" class=\"vector-main-menu vector-pinnable-element\">\\n\\t<div\\n\\tclass=\"vector-pinnable-header vector-main-menu-pinnable-header vector-pinnable-header-unpinned\"\\n\\tdata-feature-name=\"main-menu-pinned\"\\n\\tdata-pinnable-element-id=\"vector-main-menu\"\\n\\tdata-pinned-container-id=\"vector-main-menu-pinned-container\"\\n\\tdata-unpinned-container-id=\"vector-main-menu-unpinned-container\"\\n>\\n\\t<div class=\"vector-pinnable-header-label\">Main menu</div>\\n\\t<button class=\"vector-pinnable-header-toggle-button vector-pinnable-header-pin-button\" data-event-name=\"pinnable-header.vector-main-menu.pin\">move to sidebar</button>\\n\\t<button class=\"vector-pinnable-header-toggle-button vector-pinnable-header-unpin-button\" data-event-name=\"pinnable-header.vector-main-menu.unpin\">hide</button>\\n</div>\\n\\n\\t\\n<div id=\"p-navigation\" class=\"vector-menu mw-portlet mw-portlet-navigation\"  >\\n\\t<div class=\"vector-menu-heading\">\\n\\t\\tNavigation\\n\\t</div>\\n\\t<div class=\"vector-menu-content\">\\n\\t\\t\\n\\t\\t<ul class=\"vector-menu-content-list\"><li id=\"n-mainpage-description\" class=\"mw-list-item\"><a href=\"/wiki/Main_Page\" title=\"Visit the main page [z]\" accesskey=\"z\"><span>Main page</span></a></li><li id=\"n-contents\" class=\"mw-list-item\"><a href=\"/wiki/Wikipedia:Contents\" title=\"Guides to browsing Wikipedia\"><span>Contents</span></a></li><li id=\"n-currentevents\" class=\"mw-list-item\"><a href=\"/wiki/Portal:Current_events\" title=\"Articles related to current events\"><span>Current events</span></a></li><li id=\"n-randompage\" class=\"mw-list-item\"><a href=\"/wiki/Special:Random\" title=\"Visit a randomly selected article [x]\" accesskey=\"x\"><span>Random article</span></a></li><li id=\"n-aboutsite\" class=\"mw-list-item\"><a href=\"/wiki/Wikipedia:About\" title=\"Learn about Wikipedia and how it works\"><span>About Wikipedia</span></a></li><li id=\"n-contactpage\" class=\"mw-list-item\"><a href=\"//en.wikipedia.org/wiki/Wikipedia:Contact_us\" title=\"How to contact Wikipedia\"><span>Contact us</span></a></li><li id=\"n-sitesupport\" class=\"mw-list-item\"><a href=\"https://donate.wikimedia.org/wiki/Special:FundraiserRedirector?utm_source=donate&amp;utm_medium=sidebar&amp;utm_campaign=C13_en.wikipedia.org&amp;uselang=en\" title=\"Support us by donating to the Wikimedia Foundation\"><span>Donate</span></a></li></ul>\\n\\t\\t\\n\\t</div>\\n</div>\\n\\n\\t\\n\\t\\n<div id=\"p-interaction\" class=\"vector-menu mw-portlet mw-portlet-interaction\"  >\\n\\t<div class=\"vector-menu-heading\">\\n\\t\\tContribute\\n\\t</div>\\n\\t<div class=\"vector-menu-content\">\\n\\t\\t\\n\\t\\t<ul class=\"vector-menu-content-list\"><li id=\"n-help\" class=\"mw-list-item\"><a href=\"/wiki/Help:Contents\" title=\"Guidance on how to use and edit Wikipedia\"><span>Help</span></a></li><li id=\"n-introduction\" class=\"mw-list-item\"><a href=\"/wiki/Help:Introduction\" title=\"Learn how to edit Wikipedia\"><span>Learn to edit</span></a></li><li id=\"n-portal\" class=\"mw-list-item\"><a href=\"/wiki/Wikipedia:Community_portal\" title=\"The hub for editors\"><span>Community portal</span></a></li><li id=\"n-recentchanges\" class=\"mw-list-item\"><a href=\"/wiki/Special:RecentChanges\" title=\"A list of recent changes to Wikipedia [r]\" accesskey=\"r\"><span>Recent changes</span></a></li><li id=\"n-upload\" class=\"mw-list-item\"><a href=\"/wiki/Wikipedia:File_upload_wizard\" title=\"Add images or other media for use on Wikipedia\"><span>Upload file</span></a></li></ul>\\n\\t\\t\\n\\t</div>\\n</div>\\n\\n\\t\\n<div class=\"vector-main-menu-action vector-main-menu-action-lang-alert\">\\n\\t<div class=\"vector-main-menu-action-item\">\\n\\t\\t<div class=\"vector-main-menu-action-heading vector-menu-heading\">Languages</div>\\n\\t\\t<div class=\"vector-main-menu-action-content vector-menu-content\">\\n\\t\\t\\t<div class=\"mw-message-box-notice vector-language-sidebar-alert mw-message-box\">Language links are at the top of the page across from the title.</div>\\n\\t\\t</div>\\n\\t</div>\\n</div>\\n\\n</div>\\n\\n\\t\\t\\t\\t</div>\\n\\n\\t</div>\\n</div>\\n\\t\\t</nav>\\n\\t\\t\\t\\n<a href=\"/wiki/Main_Page\" class=\"mw-logo\">\\n\\t<img class=\"mw-logo-icon\" src=\"/static/images/icons/wikipedia.png\" alt=\"\"\\n\\t\\taria-hidden=\"true\" height=\"50\" width=\"50\">\\n\\t<span class=\"mw-logo-container\">\\n\\t\\t<img class=\"mw-logo-wordmark\" alt=\"Wikipedia\"\\n\\t\\t\\tsrc=\"/static/images/mobile/copyright/wikipedia-wordmark-en.svg\" style=\"width: 7.5em; height: 1.125em;\">\\n\\t\\t<img class=\"mw-logo-tagline\"\\n\\t\\t\\talt=\"The Free Encyclopedia\"\\n\\t\\t\\tsrc=\"/static/images/mobile/copyright/wikipedia-tagline-en.svg\" width=\"117\" height=\"13\" style=\"width: 7.3125em; height: 0.8125em;\">\\n\\t</span>\\n</a>\\n\\n\\t\\t</div>\\n\\t\\t<div class=\"vector-header-end\">\\n\\t\\t\\t\\n<div id=\"p-search\" role=\"search\" class=\"vector-search-box-vue  vector-search-box-collapses  vector-search-box-show-thumbnail vector-search-box-auto-expand-width vector-search-box\">\\n\\t<a href=\"/wiki/Special:Search\"\\n\\t\\n\\t\\t\\n\\t\\t\\n\\t\\t\\n\\t\\ttitle=\"Search Wikipedia [f]\"\\n\\t\\taccesskey=\"f\"\\n\\t\\tclass=\"mw-ui-button mw-ui-quiet mw-ui-icon mw-ui-icon-element mw-ui-icon-wikimedia-search search-toggle\">\\n\\t\\t<span>Search</span>\\n\\t</a>\\n\\t\\n\\t<div>\\n\\t\\t<form action=\"/w/index.php\" id=\"searchform\"\\n\\t\\t\\tclass=\"vector-search-box-form\">\\n\\t\\t\\t<div id=\"simpleSearch\"\\n\\t\\t\\t\\tclass=\"vector-search-box-inner\"\\n\\t\\t\\t\\t data-search-loc=\"header-moved\">\\n\\t\\t\\t\\t<input class=\"vector-search-box-input\"\\n\\t\\t\\t\\t\\t type=\"search\" name=\"search\" placeholder=\"Search Wikipedia\" aria-label=\"Search Wikipedia\" autocapitalize=\"sentences\" title=\"Search Wikipedia [f]\" accesskey=\"f\" id=\"searchInput\"\\n\\t\\t\\t\\t>\\n\\t\\t\\t\\t<input type=\"hidden\" name=\"title\" value=\"Special:Search\">\\n\\t\\t\\t\\t<input id=\"mw-searchButton\"\\n\\t\\t\\t\\t\\t class=\"searchButton mw-fallbackSearchButton\" type=\"submit\" name=\"fulltext\" title=\"Search Wikipedia for this text\" value=\"Search\">\\n\\t\\t\\t\\t<input id=\"searchButton\"\\n\\t\\t\\t\\t\\t class=\"searchButton\" type=\"submit\" name=\"go\" title=\"Go to a page with this exact name if it exists\" value=\"Go\">\\n\\t\\t\\t</div>\\n\\t\\t</form>\\n\\t</div>\\n</div>\\n\\n\\t\\t\\t<nav class=\"vector-user-links\" aria-label=\"Personal tools\" role=\"navigation\" >\\n\\t\\n<div id=\"p-vector-user-menu-overflow\" class=\"vector-menu mw-portlet mw-portlet-vector-user-menu-overflow\"  >\\n\\t<div class=\"vector-menu-content\">\\n\\t\\t\\n\\t\\t<ul class=\"vector-menu-content-list\"><li id=\"pt-createaccount-2\" class=\"user-links-collapsible-item mw-list-item\"><a href=\"/w/index.php?title=Special:CreateAccount&amp;returnto=List+of+languages+by+number+of+native+speakers\" title=\"You are encouraged to create an account and log in; however, it is not mandatory\"><span>Create account</span></a></li><li id=\"pt-login-2\" class=\"user-links-collapsible-item mw-list-item\"><a href=\"/w/index.php?title=Special:UserLogin&amp;returnto=List+of+languages+by+number+of+native+speakers\" title=\"You&#039;re encouraged to log in; however, it&#039;s not mandatory. [o]\" accesskey=\"o\"><span>Log in</span></a></li></ul>\\n\\t\\t\\n\\t</div>\\n</div>\\n\\n\\t\\n<div id=\"vector-user-links-dropdown\" class=\"vector-menu vector-dropdown vector-menu-dropdown vector-user-menu mw-ui-icon-flush-right vector-user-menu-logged-out\"  title=\"Log in and more options\" >\\n\\t<input type=\"checkbox\"\\n\\t\\tid=\"vector-user-links-dropdown-checkbox\"\\n\\t\\trole=\"button\"\\n\\t\\taria-haspopup=\"true\"\\n\\t\\tdata-event-name=\"ui.dropdown-vector-user-links-dropdown\"\\n\\t\\tclass=\"vector-menu-checkbox \"\\n\\t\\t\\n\\t\\taria-label=\"Personal tools\"\\n\\t\\t\\n\\t/>\\n\\t<label\\n\\t\\tid=\"vector-user-links-dropdown-label\"\\n\\t\\tfor=\"vector-user-links-dropdown-checkbox\"\\n\\t\\tclass=\"vector-menu-heading mw-ui-button mw-ui-quiet mw-ui-icon-element \"\\n\\t\\taria-hidden=\"true\"\\n\\t\\t\\n\\t>\\n\\t\\t<span class=\"mw-ui-icon mw-ui-icon-ellipsis mw-ui-icon-wikimedia-ellipsis\"></span>\\n\\n\\t\\t<span class=\"vector-menu-heading-label\">Personal tools</span>\\n\\t</label>\\n\\t<div class=\"vector-menu-content vector-dropdown-content\">\\n\\n\\n\\t\\t\\n<div id=\"p-personal\" class=\"vector-menu mw-portlet mw-portlet-personal user-links-collapsible-item\"  title=\"User menu\" >\\n\\t<div class=\"vector-menu-content\">\\n\\t\\t\\n\\t\\t<ul class=\"vector-menu-content-list\"><li id=\"pt-createaccount\" class=\"user-links-collapsible-item mw-list-item\"><a href=\"/w/index.php?title=Special:CreateAccount&amp;returnto=List+of+languages+by+number+of+native+speakers\" title=\"You are encouraged to create an account and log in; however, it is not mandatory\"><span class=\"mw-ui-icon mw-ui-icon-userAdd mw-ui-icon-wikimedia-userAdd\"></span> <span>Create account</span></a></li><li id=\"pt-login\" class=\"user-links-collapsible-item mw-list-item\"><a href=\"/w/index.php?title=Special:UserLogin&amp;returnto=List+of+languages+by+number+of+native+speakers\" title=\"You&#039;re encouraged to log in; however, it&#039;s not mandatory. [o]\" accesskey=\"o\"><span class=\"mw-ui-icon mw-ui-icon-logIn mw-ui-icon-wikimedia-logIn\"></span> <span>Log in</span></a></li></ul>\\n\\t\\t\\n\\t</div>\\n</div>\\n\\n<div id=\"p-user-menu-anon-editor\" class=\"vector-menu mw-portlet mw-portlet-user-menu-anon-editor\"  >\\n\\t<div class=\"vector-menu-heading\">\\n\\t\\tPages for logged out editors <a href=\"/wiki/Help:Introduction\" aria-label=\"Learn more about editing\"><span>learn more</span></a>\\n\\t</div>\\n\\t<div class=\"vector-menu-content\">\\n\\t\\t\\n\\t\\t<ul class=\"vector-menu-content-list\"><li id=\"pt-anoncontribs\" class=\"mw-list-item\"><a href=\"/wiki/Special:MyContributions\" title=\"A list of edits made from this IP address [y]\" accesskey=\"y\"><span>Contributions</span></a></li><li id=\"pt-anontalk\" class=\"mw-list-item\"><a href=\"/wiki/Special:MyTalk\" title=\"Discussion about edits from this IP address [n]\" accesskey=\"n\"><span>Talk</span></a></li></ul>\\n\\t\\t\\n\\t</div>\\n</div>\\n\\n\\t\\n\\t</div>\\n</div>\\n</nav>\\n\\n\\t\\t</div>\\n\\t</header>\\n</div>\\n<div class=\"mw-page-container\">\\n\\t<div class=\"mw-page-container-inner\">\\n\\t\\t<div class=\"vector-main-menu-container \">\\n\\t\\t\\t<div id=\"mw-navigation\">\\n\\t\\t\\t\\t<nav id=\"mw-panel\" class=\"vector-main-menu-landmark\" aria-label=\"Site\" role=\"navigation\">\\n\\t\\t\\t\\t\\t<div id=\"vector-main-menu-pinned-container\" class=\"vector-pinned-container\">\\n\\t\\t\\t\\t\\n\\t\\t\\t\\t\\t</div>\\n\\t\\t</nav>\\n\\t\\t\\t</div>\\n\\t\\t</div>\\n\\t\\t<div class=\"vector-sitenotice-container\">\\n\\t\\t\\t<div id=\"siteNotice\"><!-- CentralNotice --></div>\\n\\t\\t</div>\\n\\t\\t<input type=\"checkbox\" id=\"vector-toc-collapsed-checkbox\" class=\"vector-menu-checkbox\">\\n\\t\\t<nav id=\"mw-panel-toc\" role=\"navigation\" aria-label=\"Contents\" data-event-name=\"ui.sidebar-toc\" class=\"mw-table-of-contents-container vector-toc-landmark vector-sticky-pinned-container\">\\n\\t\\t\\t<div id=\"vector-toc-pinned-container\" class=\"vector-pinned-container\">\\n\\t\\t\\t\\t\\t<div id=\"vector-toc\" class=\"vector-toc vector-pinnable-element\">\\n\\t<div\\n\\tclass=\"vector-pinnable-header vector-toc-pinnable-header vector-pinnable-header-pinned\"\\n\\tdata-feature-name=\"toc-pinned\"\\n\\tdata-pinnable-element-id=\"vector-toc\"\\n\\t\\n\\t\\n>\\n\\t<h2 class=\"vector-pinnable-header-label\">Contents</h2>\\n\\t<button class=\"vector-pinnable-header-toggle-button vector-pinnable-header-pin-button\" data-event-name=\"pinnable-header.vector-toc.pin\">move to sidebar</button>\\n\\t<button class=\"vector-pinnable-header-toggle-button vector-pinnable-header-unpin-button\" data-event-name=\"pinnable-header.vector-toc.unpin\">hide</button>\\n</div>\\n\\n\\n\\t<ul class=\"vector-toc-contents\" id=\"mw-panel-toc-list\">\\n\\t\\t<li id=\"toc-mw-content-text\"\\n\\t\\t\\tclass=\"vector-toc-list-item vector-toc-level-1\">\\n\\t\\t\\t<a href=\"#\" class=\"vector-toc-link\">\\n\\t\\t\\t\\t<div class=\"vector-toc-text\">(Top)</div>\\n\\t\\t\\t</a>\\n\\t\\t</li>\\n\\t\\t<li id=\"toc-Top_languages_by_population\"\\n\\t\\tclass=\"vector-toc-list-item vector-toc-level-1 vector-toc-list-item-expanded\">\\n\\t\\t<a class=\"vector-toc-link\" href=\"#Top_languages_by_population\">\\n\\t\\t\\t<div class=\"vector-toc-text\">\\n\\t\\t\\t<span class=\"vector-toc-numb\">1</span>Top languages by population</div>\\n\\t\\t</a>\\n\\t\\t\\n\\t\\t\\t<button aria-controls=\"toc-Top_languages_by_population-sublist\" class=\"mw-ui-icon mw-ui-icon-wikimedia-expand mw-ui-icon-small vector-toc-toggle\">\\n\\t\\t\\t\\tToggle Top languages by population subsection\\n\\t\\t\\t</button>\\n\\t\\t\\n\\t\\t<ul id=\"toc-Top_languages_by_population-sublist\" class=\"vector-toc-list\">\\n\\t\\t\\t<li id=\"toc-Ethnologue_(2023,_26th_edition)\"\\n\\t\\t\\tclass=\"vector-toc-list-item vector-toc-level-2\">\\n\\t\\t\\t<a class=\"vector-toc-link\" href=\"#Ethnologue_(2023,_26th_edition)\">\\n\\t\\t\\t\\t<div class=\"vector-toc-text\">\\n\\t\\t\\t\\t<span class=\"vector-toc-numb\">1.1</span><i>Ethnologue</i> (2023, 26th edition)</div>\\n\\t\\t\\t</a>\\n\\t\\t\\t\\n\\t\\t\\t<ul id=\"toc-Ethnologue_(2023,_26th_edition)-sublist\" class=\"vector-toc-list\">\\n\\t\\t\\t</ul>\\n\\t\\t</li>\\n\\t\\t<li id=\"toc-CIA_(2018_estimates)\"\\n\\t\\t\\tclass=\"vector-toc-list-item vector-toc-level-2\">\\n\\t\\t\\t<a class=\"vector-toc-link\" href=\"#CIA_(2018_estimates)\">\\n\\t\\t\\t\\t<div class=\"vector-toc-text\">\\n\\t\\t\\t\\t<span class=\"vector-toc-numb\">1.2</span>CIA (2018 estimates)</div>\\n\\t\\t\\t</a>\\n\\t\\t\\t\\n\\t\\t\\t<ul id=\"toc-CIA_(2018_estimates)-sublist\" class=\"vector-toc-list\">\\n\\t\\t\\t</ul>\\n\\t\\t</li>\\n\\t</ul>\\n\\t</li>\\n\\t<li id=\"toc-See_also\"\\n\\t\\tclass=\"vector-toc-list-item vector-toc-level-1 vector-toc-list-item-expanded\">\\n\\t\\t<a class=\"vector-toc-link\" href=\"#See_also\">\\n\\t\\t\\t<div class=\"vector-toc-text\">\\n\\t\\t\\t<span class=\"vector-toc-numb\">2</span>See also</div>\\n\\t\\t</a>\\n\\t\\t\\n\\t\\t<ul id=\"toc-See_also-sublist\" class=\"vector-toc-list\">\\n\\t\\t</ul>\\n\\t</li>\\n\\t<li id=\"toc-Notes\"\\n\\t\\tclass=\"vector-toc-list-item vector-toc-level-1 vector-toc-list-item-expanded\">\\n\\t\\t<a class=\"vector-toc-link\" href=\"#Notes\">\\n\\t\\t\\t<div class=\"vector-toc-text\">\\n\\t\\t\\t<span class=\"vector-toc-numb\">3</span>Notes</div>\\n\\t\\t</a>\\n\\t\\t\\n\\t\\t<ul id=\"toc-Notes-sublist\" class=\"vector-toc-list\">\\n\\t\\t</ul>\\n\\t</li>\\n\\t<li id=\"toc-References\"\\n\\t\\tclass=\"vector-toc-list-item vector-toc-level-1 vector-toc-list-item-expanded\">\\n\\t\\t<a class=\"vector-toc-link\" href=\"#References\">\\n\\t\\t\\t<div class=\"vector-toc-text\">\\n\\t\\t\\t<span class=\"vector-toc-numb\">4</span>References</div>\\n\\t\\t</a>\\n\\t\\t\\n\\t\\t<ul id=\"toc-References-sublist\" class=\"vector-toc-list\">\\n\\t\\t</ul>\\n\\t</li>\\n\\t<li id=\"toc-External_links\"\\n\\t\\tclass=\"vector-toc-list-item vector-toc-level-1 vector-toc-list-item-expanded\">\\n\\t\\t<a class=\"vector-toc-link\" href=\"#External_links\">\\n\\t\\t\\t<div class=\"vector-toc-text\">\\n\\t\\t\\t<span class=\"vector-toc-numb\">5</span>External links</div>\\n\\t\\t</a>\\n\\t\\t\\n\\t\\t<ul id=\"toc-External_links-sublist\" class=\"vector-toc-list\">\\n\\t\\t</ul>\\n\\t</li>\\n</ul>\\n</div>\\n\\n\\t\\t\\t</div>\\n\\t\\t</nav>\\n\\t\\t<div class=\"mw-content-container\">\\n\\t\\t\\t<main id=\"content\" class=\"mw-body\" role=\"main\">\\n\\t\\t\\t\\t<header class=\"mw-body-header vector-page-titlebar\">\\n\\t\\t\\t\\t\\t<label\\n\\t\\t\\t\\t\\t\\tid=\"vector-toc-collapsed-button\"\\n\\t\\t\\t\\t\\t\\tclass=\"mw-ui-button mw-ui-quiet mw-ui-icon mw-ui-icon-flush-left mw-ui-icon-element mw-ui-icon-wikimedia-listBullet\"\\n\\t\\t\\t\\t\\t\\tfor=\"vector-toc-collapsed-checkbox\"\\n\\t\\t\\t\\t\\t\\trole=\"button\"\\n\\t\\t\\t\\t\\t\\taria-controls=\"toc-toggle-list\"\\n\\t\\t\\t\\t\\t\\tdata-event-name=\"vector.toc-toggle-list\"\\n\\t\\t\\t\\t\\t\\ttabindex=\"0\"\\n\\t\\t\\t\\t\\t\\ttitle=\"Table of Contents\">\\n\\t\\t\\t\\t\\t\\tToggle the table of contents\\n\\t\\t\\t\\t\\t</label>\\n\\t\\t\\t\\t\\n\\t\\t\\t\\t\\t<nav role=\"navigation\" aria-label=\"Contents\" class=\"vector-toc-landmark\">\\n\\t\\t\\t\\t\\t\\t\\n<div id=\"vector-page-titlebar-toc\" class=\"vector-menu vector-dropdown vector-menu-dropdown vector-page-titlebar-toc mw-ui-icon-flush-left\"  >\\n\\t<input type=\"checkbox\"\\n\\t\\tid=\"vector-page-titlebar-toc-checkbox\"\\n\\t\\trole=\"button\"\\n\\t\\taria-haspopup=\"true\"\\n\\t\\tdata-event-name=\"ui.dropdown-vector-page-titlebar-toc\"\\n\\t\\tclass=\"vector-menu-checkbox \"\\n\\t\\t\\n\\t\\taria-label=\"Toggle the table of contents\"\\n\\t\\t\\n\\t/>\\n\\t<label\\n\\t\\tid=\"vector-page-titlebar-toc-label\"\\n\\t\\tfor=\"vector-page-titlebar-toc-checkbox\"\\n\\t\\tclass=\"vector-menu-heading mw-ui-button mw-ui-quiet mw-ui-icon-element \"\\n\\t\\taria-hidden=\"true\"\\n\\t\\t\\n\\t>\\n\\t\\t<span class=\"mw-ui-icon mw-ui-icon-listBullet mw-ui-icon-wikimedia-listBullet\"></span>\\n\\n\\t\\t<span class=\"vector-menu-heading-label\">Toggle the table of contents</span>\\n\\t</label>\\n\\t<div class=\"vector-menu-content vector-dropdown-content\">\\n\\n\\n\\t\\t\\t\\t\\t\\t\\t<div id=\"vector-page-titlebar-toc-unpinned-container\" class=\"vector-unpinned-container\">\\n\\t\\t\\t</div>\\n\\t\\t\\n\\t</div>\\n</div>\\n\\t\\t\\t\\t\\t</nav>\\n\\t\\t\\t\\t\\t<h1 id=\"firstHeading\" class=\"firstHeading mw-first-heading\"><span class=\"mw-page-title-main\">List of languages by number of native speakers</span></h1>\\n\\t\\t\\t\\t\\n\\t\\t\\t\\t\\t\\t\\t\\n<div id=\"p-lang-btn\" class=\"vector-menu vector-dropdown vector-menu-dropdown mw-portlet mw-portlet-lang\"  >\\n\\t<input type=\"checkbox\"\\n\\t\\tid=\"p-lang-btn-checkbox\"\\n\\t\\trole=\"button\"\\n\\t\\taria-haspopup=\"true\"\\n\\t\\tdata-event-name=\"ui.dropdown-p-lang-btn\"\\n\\t\\tclass=\"vector-menu-checkbox mw-interlanguage-selector\"\\n\\t\\taria-label=\"Go to an article in another language. Available in 73 languages\"\\n\\t\\t\\n\\t\\t\\n\\t/>\\n\\t<label\\n\\t\\tid=\"p-lang-btn-label\"\\n\\t\\tfor=\"p-lang-btn-checkbox\"\\n\\t\\tclass=\"vector-menu-heading mw-ui-button mw-ui-quiet mw-ui-progressive mw-portlet-lang-heading-73\"\\n\\t\\taria-hidden=\"true\"\\n\\t\\t\\n\\t>\\n\\t\\t<span class=\"mw-ui-icon mw-ui-icon-language-progressive mw-ui-icon-wikimedia-language-progressive\"></span>\\n\\n\\t\\t<span class=\"vector-menu-heading-label\">73 languages</span>\\n\\t</label>\\n\\t<div class=\"vector-menu-content vector-dropdown-content\">\\n\\n\\t\\t<div class=\"vector-menu-content\">\\n\\t\\t\\t\\n\\t\\t\\t<ul class=\"vector-menu-content-list\"><li class=\"interlanguage-link interwiki-ar mw-list-item\"><a href=\"https://ar.wikipedia.org/wiki/%D9%82%D8%A7%D8%A6%D9%85%D8%A9_%D8%A7%D9%84%D9%84%D8%BA%D8%A7%D8%AA_%D8%AD%D8%B3%D8%A8_%D8%B9%D8%AF%D8%AF_%D9%85%D8%AA%D8%AD%D8%AF%D8%AB%D9%8A%D9%87%D8%A7_%D8%A7%D9%84%D8%A3%D8%B5%D9%84%D9%8A%D9%8A%D9%86\" title=\"\\xd9\\x82\\xd8\\xa7\\xd8\\xa6\\xd9\\x85\\xd8\\xa9 \\xd8\\xa7\\xd9\\x84\\xd9\\x84\\xd8\\xba\\xd8\\xa7\\xd8\\xaa \\xd8\\xad\\xd8\\xb3\\xd8\\xa8 \\xd8\\xb9\\xd8\\xaf\\xd8\\xaf \\xd9\\x85\\xd8\\xaa\\xd8\\xad\\xd8\\xaf\\xd8\\xab\\xd9\\x8a\\xd9\\x87\\xd8\\xa7 \\xd8\\xa7\\xd9\\x84\\xd8\\xa3\\xd8\\xb5\\xd9\\x84\\xd9\\x8a\\xd9\\x8a\\xd9\\x86 \\xe2\\x80\\x93 Arabic\" lang=\"ar\" hreflang=\"ar\" class=\"interlanguage-link-target\"><span>\\xd8\\xa7\\xd9\\x84\\xd8\\xb9\\xd8\\xb1\\xd8\\xa8\\xd9\\x8a\\xd8\\xa9</span></a></li><li class=\"interlanguage-link interwiki-ast mw-list-item\"><a href=\"https://ast.wikipedia.org/wiki/Llista_de_lling%C3%BCes_por_n%C3%BAmberu_de_falantes\" title=\"Llista de lling\\xc3\\xbces por n\\xc3\\xbamberu de falantes \\xe2\\x80\\x93 Asturian\" lang=\"ast\" hreflang=\"ast\" class=\"interlanguage-link-target\"><span>Asturianu</span></a></li><li class=\"interlanguage-link interwiki-az mw-list-item\"><a href=\"https://az.wikipedia.org/wiki/Dan%C4%B1%C5%9Fanlar%C4%B1n_say%C4%B1na_g%C3%B6r%C9%99_dill%C9%99r_siyah%C4%B1s%C4%B1\" title=\"Dan\\xc4\\xb1\\xc5\\x9fanlar\\xc4\\xb1n say\\xc4\\xb1na g\\xc3\\xb6r\\xc9\\x99 dill\\xc9\\x99r siyah\\xc4\\xb1s\\xc4\\xb1 \\xe2\\x80\\x93 Azerbaijani\" lang=\"az\" hreflang=\"az\" class=\"interlanguage-link-target\"><span>Az\\xc9\\x99rbaycanca</span></a></li><li class=\"interlanguage-link interwiki-bn mw-list-item\"><a href=\"https://bn.wikipedia.org/wiki/%E0%A6%AE%E0%A6%BE%E0%A6%A4%E0%A7%83%E0%A6%AD%E0%A6%BE%E0%A6%B7%E0%A7%80%E0%A6%B0_%E0%A6%B8%E0%A6%82%E0%A6%96%E0%A7%8D%E0%A6%AF%E0%A6%BE_%E0%A6%85%E0%A6%A8%E0%A7%81%E0%A6%B8%E0%A6%BE%E0%A6%B0%E0%A7%87_%E0%A6%AD%E0%A6%BE%E0%A6%B7%E0%A6%BE%E0%A6%B8%E0%A6%AE%E0%A7%82%E0%A6%B9%E0%A7%87%E0%A6%B0_%E0%A6%A4%E0%A6%BE%E0%A6%B2%E0%A6%BF%E0%A6%95%E0%A6%BE\" title=\"\\xe0\\xa6\\xae\\xe0\\xa6\\xbe\\xe0\\xa6\\xa4\\xe0\\xa7\\x83\\xe0\\xa6\\xad\\xe0\\xa6\\xbe\\xe0\\xa6\\xb7\\xe0\\xa7\\x80\\xe0\\xa6\\xb0 \\xe0\\xa6\\xb8\\xe0\\xa6\\x82\\xe0\\xa6\\x96\\xe0\\xa7\\x8d\\xe0\\xa6\\xaf\\xe0\\xa6\\xbe \\xe0\\xa6\\x85\\xe0\\xa6\\xa8\\xe0\\xa7\\x81\\xe0\\xa6\\xb8\\xe0\\xa6\\xbe\\xe0\\xa6\\xb0\\xe0\\xa7\\x87 \\xe0\\xa6\\xad\\xe0\\xa6\\xbe\\xe0\\xa6\\xb7\\xe0\\xa6\\xbe\\xe0\\xa6\\xb8\\xe0\\xa6\\xae\\xe0\\xa7\\x82\\xe0\\xa6\\xb9\\xe0\\xa7\\x87\\xe0\\xa6\\xb0 \\xe0\\xa6\\xa4\\xe0\\xa6\\xbe\\xe0\\xa6\\xb2\\xe0\\xa6\\xbf\\xe0\\xa6\\x95\\xe0\\xa6\\xbe \\xe2\\x80\\x93 Bangla\" lang=\"bn\" hreflang=\"bn\" class=\"interlanguage-link-target\"><span>\\xe0\\xa6\\xac\\xe0\\xa6\\xbe\\xe0\\xa6\\x82\\xe0\\xa6\\xb2\\xe0\\xa6\\xbe</span></a></li><li class=\"interlanguage-link interwiki-bh mw-list-item\"><a href=\"https://bh.wikipedia.org/wiki/%E0%A4%AC%E0%A5%8B%E0%A4%B2%E0%A5%8D%E0%A4%A8%E0%A4%BF%E0%A4%B9%E0%A4%BE%E0%A4%B0%E0%A4%A8_%E0%A4%95%E0%A5%87_%E0%A4%B8%E0%A4%82%E0%A4%96%E0%A5%8D%E0%A4%AF%E0%A4%BE_%E0%A4%95%E0%A5%87_%E0%A4%85%E0%A4%A8%E0%A5%81%E0%A4%B8%E0%A4%BE%E0%A4%B0_%E0%A4%AD%E0%A4%BE%E0%A4%B7%E0%A4%BE_%E0%A4%B8%E0%A4%AD_%E0%A4%95%E0%A5%87_%E0%A4%B8%E0%A5%82%E0%A4%9A%E0%A5%80\" title=\"\\xe0\\xa4\\xac\\xe0\\xa5\\x8b\\xe0\\xa4\\xb2\\xe0\\xa5\\x8d\\xe0\\xa4\\xa8\\xe0\\xa4\\xbf\\xe0\\xa4\\xb9\\xe0\\xa4\\xbe\\xe0\\xa4\\xb0\\xe0\\xa4\\xa8 \\xe0\\xa4\\x95\\xe0\\xa5\\x87 \\xe0\\xa4\\xb8\\xe0\\xa4\\x82\\xe0\\xa4\\x96\\xe0\\xa5\\x8d\\xe0\\xa4\\xaf\\xe0\\xa4\\xbe \\xe0\\xa4\\x95\\xe0\\xa5\\x87 \\xe0\\xa4\\x85\\xe0\\xa4\\xa8\\xe0\\xa5\\x81\\xe0\\xa4\\xb8\\xe0\\xa4\\xbe\\xe0\\xa4\\xb0 \\xe0\\xa4\\xad\\xe0\\xa4\\xbe\\xe0\\xa4\\xb7\\xe0\\xa4\\xbe \\xe0\\xa4\\xb8\\xe0\\xa4\\xad \\xe0\\xa4\\x95\\xe0\\xa5\\x87 \\xe0\\xa4\\xb8\\xe0\\xa5\\x82\\xe0\\xa4\\x9a\\xe0\\xa5\\x80 \\xe2\\x80\\x93 Bhojpuri\" lang=\"bh\" hreflang=\"bh\" class=\"interlanguage-link-target\"><span>\\xe0\\xa4\\xad\\xe0\\xa5\\x8b\\xe0\\xa4\\x9c\\xe0\\xa4\\xaa\\xe0\\xa5\\x81\\xe0\\xa4\\xb0\\xe0\\xa5\\x80</span></a></li><li class=\"interlanguage-link interwiki-br mw-list-item\"><a href=\"https://br.wikipedia.org/wiki/Roll_ar_yezho%C3%B9_ar_muia%C3%B1_komzet_er_bed\" title=\"Roll ar yezho\\xc3\\xb9 ar muia\\xc3\\xb1 komzet er bed \\xe2\\x80\\x93 Breton\" lang=\"br\" hreflang=\"br\" class=\"interlanguage-link-target\"><span>Brezhoneg</span></a></li><li class=\"interlanguage-link interwiki-ca mw-list-item\"><a href=\"https://ca.wikipedia.org/wiki/Llista_d%27idiomes_per_nombre_de_parlants_natius\" title=\"Llista d&#039;idiomes per nombre de parlants natius \\xe2\\x80\\x93 Catalan\" lang=\"ca\" hreflang=\"ca\" class=\"interlanguage-link-target\"><span>Catal\\xc3\\xa0</span></a></li><li class=\"interlanguage-link interwiki-cs mw-list-item\"><a href=\"https://cs.wikipedia.org/wiki/Seznam_jazyk%C5%AF_podle_po%C4%8Dtu_mluv%C4%8D%C3%ADch\" title=\"Seznam jazyk\\xc5\\xaf podle po\\xc4\\x8dtu mluv\\xc4\\x8d\\xc3\\xadch \\xe2\\x80\\x93 Czech\" lang=\"cs\" hreflang=\"cs\" class=\"interlanguage-link-target\"><span>\\xc4\\x8ce\\xc5\\xa1tina</span></a></li><li class=\"interlanguage-link interwiki-cy mw-list-item\"><a href=\"https://cy.wikipedia.org/wiki/Rhestr_ieithoedd_yn_nhrefn_nifer_eu_siaradwyr_brodorol\" title=\"Rhestr ieithoedd yn nhrefn nifer eu siaradwyr brodorol \\xe2\\x80\\x93 Welsh\" lang=\"cy\" hreflang=\"cy\" class=\"interlanguage-link-target\"><span>Cymraeg</span></a></li><li class=\"interlanguage-link interwiki-da mw-list-item\"><a href=\"https://da.wikipedia.org/wiki/Verdens_sprog_sorteret_efter_antal_talere\" title=\"Verdens sprog sorteret efter antal talere \\xe2\\x80\\x93 Danish\" lang=\"da\" hreflang=\"da\" class=\"interlanguage-link-target\"><span>Dansk</span></a></li><li class=\"interlanguage-link interwiki-el mw-list-item\"><a href=\"https://el.wikipedia.org/wiki/%CE%9A%CE%B1%CF%84%CE%AC%CE%BB%CE%BF%CE%B3%CE%BF%CF%82_%CE%B3%CE%BB%CF%89%CF%83%CF%83%CF%8E%CE%BD_%CE%B1%CE%BD%CE%AC_%CE%B1%CF%81%CE%B9%CE%B8%CE%BC%CF%8C_%CE%BC%CE%B7%CF%84%CF%81%CE%B9%CE%BA%CF%8E%CE%BD_%CE%BF%CE%BC%CE%B9%CE%BB%CE%B7%CF%84%CF%8E%CE%BD\" title=\"\\xce\\x9a\\xce\\xb1\\xcf\\x84\\xce\\xac\\xce\\xbb\\xce\\xbf\\xce\\xb3\\xce\\xbf\\xcf\\x82 \\xce\\xb3\\xce\\xbb\\xcf\\x89\\xcf\\x83\\xcf\\x83\\xcf\\x8e\\xce\\xbd \\xce\\xb1\\xce\\xbd\\xce\\xac \\xce\\xb1\\xcf\\x81\\xce\\xb9\\xce\\xb8\\xce\\xbc\\xcf\\x8c \\xce\\xbc\\xce\\xb7\\xcf\\x84\\xcf\\x81\\xce\\xb9\\xce\\xba\\xcf\\x8e\\xce\\xbd \\xce\\xbf\\xce\\xbc\\xce\\xb9\\xce\\xbb\\xce\\xb7\\xcf\\x84\\xcf\\x8e\\xce\\xbd \\xe2\\x80\\x93 Greek\" lang=\"el\" hreflang=\"el\" class=\"interlanguage-link-target\"><span>\\xce\\x95\\xce\\xbb\\xce\\xbb\\xce\\xb7\\xce\\xbd\\xce\\xb9\\xce\\xba\\xce\\xac</span></a></li><li class=\"interlanguage-link interwiki-es mw-list-item\"><a href=\"https://es.wikipedia.org/wiki/Anexo:Lenguas_por_n%C3%BAmero_de_hablantes_nativos\" title=\"Anexo:Lenguas por n\\xc3\\xbamero de hablantes nativos \\xe2\\x80\\x93 Spanish\" lang=\"es\" hreflang=\"es\" class=\"interlanguage-link-target\"><span>Espa\\xc3\\xb1ol</span></a></li><li class=\"interlanguage-link interwiki-eo mw-list-item\"><a href=\"https://eo.wikipedia.org/wiki/Listo_de_lingvoj_la%C5%AD_parolantaro\" title=\"Listo de lingvoj la\\xc5\\xad parolantaro \\xe2\\x80\\x93 Esperanto\" lang=\"eo\" hreflang=\"eo\" class=\"interlanguage-link-target\"><span>Esperanto</span></a></li><li class=\"interlanguage-link interwiki-eu mw-list-item\"><a href=\"https://eu.wikipedia.org/wiki/Zerrenda:Hizkuntzak_hiztun_kopuruaren_arabera\" title=\"Zerrenda:Hizkuntzak hiztun kopuruaren arabera \\xe2\\x80\\x93 Basque\" lang=\"eu\" hreflang=\"eu\" class=\"interlanguage-link-target\"><span>Euskara</span></a></li><li class=\"interlanguage-link interwiki-fa mw-list-item\"><a href=\"https://fa.wikipedia.org/wiki/%D9%81%D9%87%D8%B1%D8%B3%D8%AA_%D8%B2%D8%A8%D8%A7%D9%86%E2%80%8C%D9%87%D8%A7_%D8%A8%D8%B1_%D9%BE%D8%A7%DB%8C%D9%87_%D8%AC%D9%85%D8%B9%DB%8C%D8%AA_%DA%AF%D9%88%DB%8C%D8%B4%D9%88%D8%B1%D8%A7%D9%86_%D8%A8%D9%88%D9%85%DB%8C\" title=\"\\xd9\\x81\\xd9\\x87\\xd8\\xb1\\xd8\\xb3\\xd8\\xaa \\xd8\\xb2\\xd8\\xa8\\xd8\\xa7\\xd9\\x86\\xe2\\x80\\x8c\\xd9\\x87\\xd8\\xa7 \\xd8\\xa8\\xd8\\xb1 \\xd9\\xbe\\xd8\\xa7\\xdb\\x8c\\xd9\\x87 \\xd8\\xac\\xd9\\x85\\xd8\\xb9\\xdb\\x8c\\xd8\\xaa \\xda\\xaf\\xd9\\x88\\xdb\\x8c\\xd8\\xb4\\xd9\\x88\\xd8\\xb1\\xd8\\xa7\\xd9\\x86 \\xd8\\xa8\\xd9\\x88\\xd9\\x85\\xdb\\x8c \\xe2\\x80\\x93 Persian\" lang=\"fa\" hreflang=\"fa\" class=\"interlanguage-link-target\"><span>\\xd9\\x81\\xd8\\xa7\\xd8\\xb1\\xd8\\xb3\\xdb\\x8c</span></a></li><li class=\"interlanguage-link interwiki-fr mw-list-item\"><a href=\"https://fr.wikipedia.org/wiki/Liste_des_langues_par_nombre_de_locuteurs_natifs\" title=\"Liste des langues par nombre de locuteurs natifs \\xe2\\x80\\x93 French\" lang=\"fr\" hreflang=\"fr\" class=\"interlanguage-link-target\"><span>Fran\\xc3\\xa7ais</span></a></li><li class=\"interlanguage-link interwiki-ga mw-list-item\"><a href=\"https://ga.wikipedia.org/wiki/Liosta_teangacha_de_r%C3%A9ir_cainteoir%C3%AD_d%C3%BAchasacha\" title=\"Liosta teangacha de r\\xc3\\xa9ir cainteoir\\xc3\\xad d\\xc3\\xbachasacha \\xe2\\x80\\x93 Irish\" lang=\"ga\" hreflang=\"ga\" class=\"interlanguage-link-target\"><span>Gaeilge</span></a></li><li class=\"interlanguage-link interwiki-gl mw-list-item\"><a href=\"https://gl.wikipedia.org/wiki/Lista_de_linguas_por_n%C3%BAmero_de_falantes\" title=\"Lista de linguas por n\\xc3\\xbamero de falantes \\xe2\\x80\\x93 Galician\" lang=\"gl\" hreflang=\"gl\" class=\"interlanguage-link-target\"><span>Galego</span></a></li><li class=\"interlanguage-link interwiki-ko mw-list-item\"><a href=\"https://ko.wikipedia.org/wiki/%EB%AA%A8%EC%96%B4_%ED%99%94%EC%9E%90_%EC%88%98%EC%88%9C_%EC%96%B8%EC%96%B4_%EB%AA%A9%EB%A1%9D\" title=\"\\xeb\\xaa\\xa8\\xec\\x96\\xb4 \\xed\\x99\\x94\\xec\\x9e\\x90 \\xec\\x88\\x98\\xec\\x88\\x9c \\xec\\x96\\xb8\\xec\\x96\\xb4 \\xeb\\xaa\\xa9\\xeb\\xa1\\x9d \\xe2\\x80\\x93 Korean\" lang=\"ko\" hreflang=\"ko\" class=\"interlanguage-link-target\"><span>\\xed\\x95\\x9c\\xea\\xb5\\xad\\xec\\x96\\xb4</span></a></li><li class=\"interlanguage-link interwiki-hi mw-list-item\"><a href=\"https://hi.wikipedia.org/wiki/%E0%A4%AD%E0%A4%BE%E0%A4%B7%E0%A4%BE%E0%A4%AD%E0%A4%BE%E0%A4%B7%E0%A4%BF%E0%A4%AF%E0%A5%8B%E0%A4%82_%E0%A4%95%E0%A5%80_%E0%A4%B8%E0%A4%82%E0%A4%96%E0%A5%8D%E0%A4%AF%E0%A4%BE_%E0%A4%95%E0%A5%87_%E0%A4%85%E0%A4%A8%E0%A5%81%E0%A4%B8%E0%A4%BE%E0%A4%B0_%E0%A4%AD%E0%A4%BE%E0%A4%B7%E0%A4%BE%E0%A4%93%E0%A4%82_%E0%A4%95%E0%A5%80_%E0%A4%B8%E0%A5%82%E0%A4%9A%E0%A5%80\" title=\"\\xe0\\xa4\\xad\\xe0\\xa4\\xbe\\xe0\\xa4\\xb7\\xe0\\xa4\\xbe\\xe0\\xa4\\xad\\xe0\\xa4\\xbe\\xe0\\xa4\\xb7\\xe0\\xa4\\xbf\\xe0\\xa4\\xaf\\xe0\\xa5\\x8b\\xe0\\xa4\\x82 \\xe0\\xa4\\x95\\xe0\\xa5\\x80 \\xe0\\xa4\\xb8\\xe0\\xa4\\x82\\xe0\\xa4\\x96\\xe0\\xa5\\x8d\\xe0\\xa4\\xaf\\xe0\\xa4\\xbe \\xe0\\xa4\\x95\\xe0\\xa5\\x87 \\xe0\\xa4\\x85\\xe0\\xa4\\xa8\\xe0\\xa5\\x81\\xe0\\xa4\\xb8\\xe0\\xa4\\xbe\\xe0\\xa4\\xb0 \\xe0\\xa4\\xad\\xe0\\xa4\\xbe\\xe0\\xa4\\xb7\\xe0\\xa4\\xbe\\xe0\\xa4\\x93\\xe0\\xa4\\x82 \\xe0\\xa4\\x95\\xe0\\xa5\\x80 \\xe0\\xa4\\xb8\\xe0\\xa5\\x82\\xe0\\xa4\\x9a\\xe0\\xa5\\x80 \\xe2\\x80\\x93 Hindi\" lang=\"hi\" hreflang=\"hi\" class=\"interlanguage-link-target\"><span>\\xe0\\xa4\\xb9\\xe0\\xa4\\xbf\\xe0\\xa4\\xa8\\xe0\\xa5\\x8d\\xe0\\xa4\\xa6\\xe0\\xa5\\x80</span></a></li><li class=\"interlanguage-link interwiki-hr mw-list-item\"><a href=\"https://hr.wikipedia.org/wiki/Popis_jezika_po_broju_govornika\" title=\"Popis jezika po broju govornika \\xe2\\x80\\x93 Croatian\" lang=\"hr\" hreflang=\"hr\" class=\"interlanguage-link-target\"><span>Hrvatski</span></a></li><li class=\"interlanguage-link interwiki-id mw-list-item\"><a href=\"https://id.wikipedia.org/wiki/Daftar_bahasa_menurut_jumlah_penutur_asli\" title=\"Daftar bahasa menurut jumlah penutur asli \\xe2\\x80\\x93 Indonesian\" lang=\"id\" hreflang=\"id\" class=\"interlanguage-link-target\"><span>Bahasa Indonesia</span></a></li><li class=\"interlanguage-link interwiki-ia mw-list-item\"><a href=\"https://ia.wikipedia.org/wiki/Appendice:Lista_de_linguas_del_mundo_per_numero_de_parlatores\" title=\"Appendice:Lista de linguas del mundo per numero de parlatores \\xe2\\x80\\x93 Interlingua\" lang=\"ia\" hreflang=\"ia\" class=\"interlanguage-link-target\"><span>Interlingua</span></a></li><li class=\"interlanguage-link interwiki-os mw-list-item\"><a href=\"https://os.wikipedia.org/wiki/%C3%86%D0%B2%D0%B7%C3%A6%D0%B3%D1%82%D1%8B_%D0%BD%D0%BE%D0%BC%D1%85%D1%8B%D0%B3%D1%8A%D0%B4_%D0%B4%D0%B7%D1%83%D1%80%D0%B4%D0%B6%D1%8B%D1%82%D1%8B_%D0%BD%D1%8B%D0%BC%C3%A6%D1%86%D0%BC%C3%A6_%D0%B3%C3%A6%D1%81%D0%B3%C3%A6\" title=\"\\xc3\\x86\\xd0\\xb2\\xd0\\xb7\\xc3\\xa6\\xd0\\xb3\\xd1\\x82\\xd1\\x8b \\xd0\\xbd\\xd0\\xbe\\xd0\\xbc\\xd1\\x85\\xd1\\x8b\\xd0\\xb3\\xd1\\x8a\\xd0\\xb4 \\xd0\\xb4\\xd0\\xb7\\xd1\\x83\\xd1\\x80\\xd0\\xb4\\xd0\\xb6\\xd1\\x8b\\xd1\\x82\\xd1\\x8b \\xd0\\xbd\\xd1\\x8b\\xd0\\xbc\\xc3\\xa6\\xd1\\x86\\xd0\\xbc\\xc3\\xa6 \\xd0\\xb3\\xc3\\xa6\\xd1\\x81\\xd0\\xb3\\xc3\\xa6 \\xe2\\x80\\x93 Ossetic\" lang=\"os\" hreflang=\"os\" class=\"interlanguage-link-target\"><span>\\xd0\\x98\\xd1\\x80\\xd0\\xbe\\xd0\\xbd</span></a></li><li class=\"interlanguage-link interwiki-it mw-list-item\"><a href=\"https://it.wikipedia.org/wiki/Lingue_per_numero_di_parlanti_madrelingua\" title=\"Lingue per numero di parlanti madrelingua \\xe2\\x80\\x93 Italian\" lang=\"it\" hreflang=\"it\" class=\"interlanguage-link-target\"><span>Italiano</span></a></li><li class=\"interlanguage-link interwiki-he badge-Q70893996 mw-list-item\" title=\"\"><a href=\"https://he.wikipedia.org/wiki/%D7%A8%D7%A9%D7%99%D7%9E%D7%AA_%D7%A9%D7%A4%D7%95%D7%AA_%D7%94%D7%A2%D7%95%D7%9C%D7%9D_%D7%9C%D7%A4%D7%99_%D7%9E%D7%A1%D7%A4%D7%A8_%D7%93%D7%95%D7%91%D7%A8%D7%99%D7%9D\" title=\"\\xd7\\xa8\\xd7\\xa9\\xd7\\x99\\xd7\\x9e\\xd7\\xaa \\xd7\\xa9\\xd7\\xa4\\xd7\\x95\\xd7\\xaa \\xd7\\x94\\xd7\\xa2\\xd7\\x95\\xd7\\x9c\\xd7\\x9d \\xd7\\x9c\\xd7\\xa4\\xd7\\x99 \\xd7\\x9e\\xd7\\xa1\\xd7\\xa4\\xd7\\xa8 \\xd7\\x93\\xd7\\x95\\xd7\\x91\\xd7\\xa8\\xd7\\x99\\xd7\\x9d \\xe2\\x80\\x93 Hebrew\" lang=\"he\" hreflang=\"he\" class=\"interlanguage-link-target\"><span>\\xd7\\xa2\\xd7\\x91\\xd7\\xa8\\xd7\\x99\\xd7\\xaa</span></a></li><li class=\"interlanguage-link interwiki-kn mw-list-item\"><a href=\"https://kn.wikipedia.org/wiki/%E0%B2%AA%E0%B3%8D%E0%B2%B0%E0%B2%AA%E0%B2%82%E0%B2%9A%E0%B2%A6_%E0%B2%AA%E0%B3%8D%E0%B2%B0%E0%B2%AE%E0%B3%81%E0%B2%96_%E0%B2%AD%E0%B2%BE%E0%B2%B7%E0%B3%86%E0%B2%97%E0%B2%B3%E0%B3%81\" title=\"\\xe0\\xb2\\xaa\\xe0\\xb3\\x8d\\xe0\\xb2\\xb0\\xe0\\xb2\\xaa\\xe0\\xb2\\x82\\xe0\\xb2\\x9a\\xe0\\xb2\\xa6 \\xe0\\xb2\\xaa\\xe0\\xb3\\x8d\\xe0\\xb2\\xb0\\xe0\\xb2\\xae\\xe0\\xb3\\x81\\xe0\\xb2\\x96 \\xe0\\xb2\\xad\\xe0\\xb2\\xbe\\xe0\\xb2\\xb7\\xe0\\xb3\\x86\\xe0\\xb2\\x97\\xe0\\xb2\\xb3\\xe0\\xb3\\x81 \\xe2\\x80\\x93 Kannada\" lang=\"kn\" hreflang=\"kn\" class=\"interlanguage-link-target\"><span>\\xe0\\xb2\\x95\\xe0\\xb2\\xa8\\xe0\\xb3\\x8d\\xe0\\xb2\\xa8\\xe0\\xb2\\xa1</span></a></li><li class=\"interlanguage-link interwiki-krc mw-list-item\"><a href=\"https://krc.wikipedia.org/wiki/%D0%A1%D1%91%D0%BB%D0%B5%D1%88%D0%B3%D0%B5%D0%BD%D0%BB%D0%B5%D0%BD%D0%B8_%D1%81%D0%B0%D0%BD%D1%8B%D0%BD%D0%B0_%D0%BA%D1%91%D1%80%D0%B5_%D1%82%D0%B8%D0%BB%D0%BB%D0%B5%D0%BD%D0%B8_%D1%82%D0%B8%D0%B7%D0%BC%D0%B5%D1%81%D0%B8\" title=\"\\xd0\\xa1\\xd1\\x91\\xd0\\xbb\\xd0\\xb5\\xd1\\x88\\xd0\\xb3\\xd0\\xb5\\xd0\\xbd\\xd0\\xbb\\xd0\\xb5\\xd0\\xbd\\xd0\\xb8 \\xd1\\x81\\xd0\\xb0\\xd0\\xbd\\xd1\\x8b\\xd0\\xbd\\xd0\\xb0 \\xd0\\xba\\xd1\\x91\\xd1\\x80\\xd0\\xb5 \\xd1\\x82\\xd0\\xb8\\xd0\\xbb\\xd0\\xbb\\xd0\\xb5\\xd0\\xbd\\xd0\\xb8 \\xd1\\x82\\xd0\\xb8\\xd0\\xb7\\xd0\\xbc\\xd0\\xb5\\xd1\\x81\\xd0\\xb8 \\xe2\\x80\\x93 Karachay-Balkar\" lang=\"krc\" hreflang=\"krc\" class=\"interlanguage-link-target\"><span>\\xd0\\x9a\\xd1\\x8a\\xd0\\xb0\\xd1\\x80\\xd0\\xb0\\xd1\\x87\\xd0\\xb0\\xd0\\xb9-\\xd0\\xbc\\xd0\\xb0\\xd0\\xbb\\xd0\\xba\\xd1\\x8a\\xd0\\xb0\\xd1\\x80</span></a></li><li class=\"interlanguage-link interwiki-kk mw-list-item\"><a href=\"https://kk.wikipedia.org/wiki/%D0%A1%D3%A9%D0%B9%D0%BB%D0%B5%D1%83%D1%88%D1%96%D0%BB%D0%B5%D1%80_%D1%81%D0%B0%D0%BD%D1%8B_%D0%B1%D0%BE%D0%B9%D1%8B%D0%BD%D1%88%D0%B0_%D1%82%D1%96%D0%BB%D0%B4%D0%B5%D1%80_%D1%82%D1%96%D0%B7%D1%96%D0%BC%D1%96\" title=\"\\xd0\\xa1\\xd3\\xa9\\xd0\\xb9\\xd0\\xbb\\xd0\\xb5\\xd1\\x83\\xd1\\x88\\xd1\\x96\\xd0\\xbb\\xd0\\xb5\\xd1\\x80 \\xd1\\x81\\xd0\\xb0\\xd0\\xbd\\xd1\\x8b \\xd0\\xb1\\xd0\\xbe\\xd0\\xb9\\xd1\\x8b\\xd0\\xbd\\xd1\\x88\\xd0\\xb0 \\xd1\\x82\\xd1\\x96\\xd0\\xbb\\xd0\\xb4\\xd0\\xb5\\xd1\\x80 \\xd1\\x82\\xd1\\x96\\xd0\\xb7\\xd1\\x96\\xd0\\xbc\\xd1\\x96 \\xe2\\x80\\x93 Kazakh\" lang=\"kk\" hreflang=\"kk\" class=\"interlanguage-link-target\"><span>\\xd2\\x9a\\xd0\\xb0\\xd0\\xb7\\xd0\\xb0\\xd2\\x9b\\xd1\\x88\\xd0\\xb0</span></a></li><li class=\"interlanguage-link interwiki-lv mw-list-item\"><a href=\"https://lv.wikipedia.org/wiki/Valodu_uzskait%C4%ABjums_p%C4%93c_prat%C4%93ju_skaita\" title=\"Valodu uzskait\\xc4\\xabjums p\\xc4\\x93c prat\\xc4\\x93ju skaita \\xe2\\x80\\x93 Latvian\" lang=\"lv\" hreflang=\"lv\" class=\"interlanguage-link-target\"><span>Latvie\\xc5\\xa1u</span></a></li><li class=\"interlanguage-link interwiki-lez mw-list-item\"><a href=\"https://lez.wikipedia.org/wiki/%D0%A0%D0%B0%D1%85%D0%B0%D0%B7%D0%B2%D0%B0%D0%B9%D0%B1%D1%83%D1%80%D1%83%D0%BD_%D0%BA%D1%8C%D0%B0%D0%B4%D0%B0%D1%80%D0%B4%D0%B8%D0%B7_%D0%BA%D0%B8%D0%BB%D0%B8%D0%B3%D0%BD%D0%B0_%D1%87%D3%80%D0%B0%D0%BB%D0%B0%D1%80%D0%B8%D0%BD_%D1%81%D0%B8%D1%8F%D0%B3%D1%8C\" title=\"\\xd0\\xa0\\xd0\\xb0\\xd1\\x85\\xd0\\xb0\\xd0\\xb7\\xd0\\xb2\\xd0\\xb0\\xd0\\xb9\\xd0\\xb1\\xd1\\x83\\xd1\\x80\\xd1\\x83\\xd0\\xbd \\xd0\\xba\\xd1\\x8c\\xd0\\xb0\\xd0\\xb4\\xd0\\xb0\\xd1\\x80\\xd0\\xb4\\xd0\\xb8\\xd0\\xb7 \\xd0\\xba\\xd0\\xb8\\xd0\\xbb\\xd0\\xb8\\xd0\\xb3\\xd0\\xbd\\xd0\\xb0 \\xd1\\x87\\xd3\\x80\\xd0\\xb0\\xd0\\xbb\\xd0\\xb0\\xd1\\x80\\xd0\\xb8\\xd0\\xbd \\xd1\\x81\\xd0\\xb8\\xd1\\x8f\\xd0\\xb3\\xd1\\x8c \\xe2\\x80\\x93 Lezghian\" lang=\"lez\" hreflang=\"lez\" class=\"interlanguage-link-target\"><span>\\xd0\\x9b\\xd0\\xb5\\xd0\\xb7\\xd0\\xb3\\xd0\\xb8</span></a></li><li class=\"interlanguage-link interwiki-lt mw-list-item\"><a href=\"https://lt.wikipedia.org/wiki/S%C4%85ra%C5%A1as:Kalbos_pagal_gimtakalbius_vartotojus\" title=\"S\\xc4\\x85ra\\xc5\\xa1as:Kalbos pagal gimtakalbius vartotojus \\xe2\\x80\\x93 Lithuanian\" lang=\"lt\" hreflang=\"lt\" class=\"interlanguage-link-target\"><span>Lietuvi\\xc5\\xb3</span></a></li><li class=\"interlanguage-link interwiki-hu mw-list-item\"><a href=\"https://hu.wikipedia.org/wiki/Nyelvek_list%C3%A1ja_a_besz%C3%A9l%C5%91k_sz%C3%A1ma_szerint\" title=\"Nyelvek list\\xc3\\xa1ja a besz\\xc3\\xa9l\\xc5\\x91k sz\\xc3\\xa1ma szerint \\xe2\\x80\\x93 Hungarian\" lang=\"hu\" hreflang=\"hu\" class=\"interlanguage-link-target\"><span>Magyar</span></a></li><li class=\"interlanguage-link interwiki-mk mw-list-item\"><a href=\"https://mk.wikipedia.org/wiki/%D0%A1%D0%BF%D0%B8%D1%81%D0%BE%D0%BA_%D0%BD%D0%B0_%D1%98%D0%B0%D0%B7%D0%B8%D1%86%D0%B8_%D0%BF%D0%BE_%D0%BE%D0%BF%D1%88%D1%82_%D0%B1%D1%80%D0%BE%D1%98_%D0%BD%D0%B0_%D0%B3%D0%BE%D0%B2%D0%BE%D1%80%D0%BD%D0%B8%D1%86%D0%B8\" title=\"\\xd0\\xa1\\xd0\\xbf\\xd0\\xb8\\xd1\\x81\\xd0\\xbe\\xd0\\xba \\xd0\\xbd\\xd0\\xb0 \\xd1\\x98\\xd0\\xb0\\xd0\\xb7\\xd0\\xb8\\xd1\\x86\\xd0\\xb8 \\xd0\\xbf\\xd0\\xbe \\xd0\\xbe\\xd0\\xbf\\xd1\\x88\\xd1\\x82 \\xd0\\xb1\\xd1\\x80\\xd0\\xbe\\xd1\\x98 \\xd0\\xbd\\xd0\\xb0 \\xd0\\xb3\\xd0\\xbe\\xd0\\xb2\\xd0\\xbe\\xd1\\x80\\xd0\\xbd\\xd0\\xb8\\xd1\\x86\\xd0\\xb8 \\xe2\\x80\\x93 Macedonian\" lang=\"mk\" hreflang=\"mk\" class=\"interlanguage-link-target\"><span>\\xd0\\x9c\\xd0\\xb0\\xd0\\xba\\xd0\\xb5\\xd0\\xb4\\xd0\\xbe\\xd0\\xbd\\xd1\\x81\\xd0\\xba\\xd0\\xb8</span></a></li><li class=\"interlanguage-link interwiki-mr mw-list-item\"><a href=\"https://mr.wikipedia.org/wiki/%E0%A4%9C%E0%A4%97%E0%A4%BE%E0%A4%A4%E0%A5%80%E0%A4%B2_%E0%A4%AD%E0%A4%BE%E0%A4%B7%E0%A4%BE%E0%A4%82%E0%A4%9A%E0%A5%80_%E0%A4%AF%E0%A4%BE%E0%A4%A6%E0%A5%80\" title=\"\\xe0\\xa4\\x9c\\xe0\\xa4\\x97\\xe0\\xa4\\xbe\\xe0\\xa4\\xa4\\xe0\\xa5\\x80\\xe0\\xa4\\xb2 \\xe0\\xa4\\xad\\xe0\\xa4\\xbe\\xe0\\xa4\\xb7\\xe0\\xa4\\xbe\\xe0\\xa4\\x82\\xe0\\xa4\\x9a\\xe0\\xa5\\x80 \\xe0\\xa4\\xaf\\xe0\\xa4\\xbe\\xe0\\xa4\\xa6\\xe0\\xa5\\x80 \\xe2\\x80\\x93 Marathi\" lang=\"mr\" hreflang=\"mr\" class=\"interlanguage-link-target\"><span>\\xe0\\xa4\\xae\\xe0\\xa4\\xb0\\xe0\\xa4\\xbe\\xe0\\xa4\\xa0\\xe0\\xa5\\x80</span></a></li><li class=\"interlanguage-link interwiki-ms mw-list-item\"><a href=\"https://ms.wikipedia.org/wiki/Senarai_bahasa_mengikut_bilangan_penutur_asli\" title=\"Senarai bahasa mengikut bilangan penutur asli \\xe2\\x80\\x93 Malay\" lang=\"ms\" hreflang=\"ms\" class=\"interlanguage-link-target\"><span>Bahasa Melayu</span></a></li><li class=\"interlanguage-link interwiki-my mw-list-item\"><a href=\"https://my.wikipedia.org/wiki/%E1%80%8C%E1%80%AC%E1%80%94%E1%80%B1%E1%80%98%E1%80%AC%E1%80%9E%E1%80%AC%E1%80%85%E1%80%80%E1%80%AC%E1%80%B8%E1%80%95%E1%80%BC%E1%80%B1%E1%80%AC%E1%80%9E%E1%80%B0%E1%80%99%E1%80%BB%E1%80%AC%E1%80%B8%E1%81%8F%E1%80%A1%E1%80%9B%E1%80%B1%E1%80%A1%E1%80%90%E1%80%BD%E1%80%80%E1%80%BA%E1%80%85%E1%80%AC%E1%80%9B%E1%80%84%E1%80%BA%E1%80%B8\" title=\"\\xe1\\x80\\x8c\\xe1\\x80\\xac\\xe1\\x80\\x94\\xe1\\x80\\xb1\\xe1\\x80\\x98\\xe1\\x80\\xac\\xe1\\x80\\x9e\\xe1\\x80\\xac\\xe1\\x80\\x85\\xe1\\x80\\x80\\xe1\\x80\\xac\\xe1\\x80\\xb8\\xe1\\x80\\x95\\xe1\\x80\\xbc\\xe1\\x80\\xb1\\xe1\\x80\\xac\\xe1\\x80\\x9e\\xe1\\x80\\xb0\\xe1\\x80\\x99\\xe1\\x80\\xbb\\xe1\\x80\\xac\\xe1\\x80\\xb8\\xe1\\x81\\x8f\\xe1\\x80\\xa1\\xe1\\x80\\x9b\\xe1\\x80\\xb1\\xe1\\x80\\xa1\\xe1\\x80\\x90\\xe1\\x80\\xbd\\xe1\\x80\\x80\\xe1\\x80\\xba\\xe1\\x80\\x85\\xe1\\x80\\xac\\xe1\\x80\\x9b\\xe1\\x80\\x84\\xe1\\x80\\xba\\xe1\\x80\\xb8 \\xe2\\x80\\x93 Burmese\" lang=\"my\" hreflang=\"my\" class=\"interlanguage-link-target\"><span>\\xe1\\x80\\x99\\xe1\\x80\\xbc\\xe1\\x80\\x94\\xe1\\x80\\xba\\xe1\\x80\\x99\\xe1\\x80\\xac\\xe1\\x80\\x98\\xe1\\x80\\xac\\xe1\\x80\\x9e\\xe1\\x80\\xac</span></a></li><li class=\"interlanguage-link interwiki-nl mw-list-item\"><a href=\"https://nl.wikipedia.org/wiki/Lijst_van_talen_naar_moedertaalsprekers\" title=\"Lijst van talen naar moedertaalsprekers \\xe2\\x80\\x93 Dutch\" lang=\"nl\" hreflang=\"nl\" class=\"interlanguage-link-target\"><span>Nederlands</span></a></li><li class=\"interlanguage-link interwiki-ja mw-list-item\"><a href=\"https://ja.wikipedia.org/wiki/%E3%83%8D%E3%82%A4%E3%83%86%E3%82%A3%E3%83%96%E3%82%B9%E3%83%94%E3%83%BC%E3%82%AB%E3%83%BC%E3%81%AE%E6%95%B0%E3%81%8C%E5%A4%9A%E3%81%84%E8%A8%80%E8%AA%9E%E3%81%AE%E4%B8%80%E8%A6%A7\" title=\"\\xe3\\x83\\x8d\\xe3\\x82\\xa4\\xe3\\x83\\x86\\xe3\\x82\\xa3\\xe3\\x83\\x96\\xe3\\x82\\xb9\\xe3\\x83\\x94\\xe3\\x83\\xbc\\xe3\\x82\\xab\\xe3\\x83\\xbc\\xe3\\x81\\xae\\xe6\\x95\\xb0\\xe3\\x81\\x8c\\xe5\\xa4\\x9a\\xe3\\x81\\x84\\xe8\\xa8\\x80\\xe8\\xaa\\x9e\\xe3\\x81\\xae\\xe4\\xb8\\x80\\xe8\\xa6\\xa7 \\xe2\\x80\\x93 Japanese\" lang=\"ja\" hreflang=\"ja\" class=\"interlanguage-link-target\"><span>\\xe6\\x97\\xa5\\xe6\\x9c\\xac\\xe8\\xaa\\x9e</span></a></li><li class=\"interlanguage-link interwiki-no mw-list-item\"><a href=\"https://no.wikipedia.org/wiki/Liste_over_spr%C3%A5k_etter_utbredelse\" title=\"Liste over spr\\xc3\\xa5k etter utbredelse \\xe2\\x80\\x93 Norwegian Bokm\\xc3\\xa5l\" lang=\"nb\" hreflang=\"nb\" class=\"interlanguage-link-target\"><span>Norsk bokm\\xc3\\xa5l</span></a></li><li class=\"interlanguage-link interwiki-nn mw-list-item\"><a href=\"https://nn.wikipedia.org/wiki/Verdas_spr%C3%A5k_etter_utbreiing\" title=\"Verdas spr\\xc3\\xa5k etter utbreiing \\xe2\\x80\\x93 Norwegian Nynorsk\" lang=\"nn\" hreflang=\"nn\" class=\"interlanguage-link-target\"><span>Norsk nynorsk</span></a></li><li class=\"interlanguage-link interwiki-uz mw-list-item\"><a href=\"https://uz.wikipedia.org/wiki/So%CA%BBzlashuvchilar_soni_bo%CA%BByicha_tillar_ro%CA%BByxati\" title=\"So\\xca\\xbbzlashuvchilar soni bo\\xca\\xbbyicha tillar ro\\xca\\xbbyxati \\xe2\\x80\\x93 Uzbek\" lang=\"uz\" hreflang=\"uz\" class=\"interlanguage-link-target\"><span>O\\xca\\xbbzbekcha / \\xd1\\x9e\\xd0\\xb7\\xd0\\xb1\\xd0\\xb5\\xd0\\xba\\xd1\\x87\\xd0\\xb0</span></a></li><li class=\"interlanguage-link interwiki-pnb mw-list-item\"><a href=\"https://pnb.wikipedia.org/wiki/%D8%A8%D9%88%D9%84%D9%86_%D9%88%D8%A7%D9%84%DB%92%D8%A2%DA%BA_%D8%AF%DB%92_%D8%AD%D8%B3%D8%A7%D8%A8_%D9%86%D8%A7%D9%84_%D8%A8%D9%88%D9%84%DB%8C%D8%A7%DA%BA_%D8%AF%DB%8C_%D9%84%D8%B3%D9%B9\" title=\"\\xd8\\xa8\\xd9\\x88\\xd9\\x84\\xd9\\x86 \\xd9\\x88\\xd8\\xa7\\xd9\\x84\\xdb\\x92\\xd8\\xa2\\xda\\xba \\xd8\\xaf\\xdb\\x92 \\xd8\\xad\\xd8\\xb3\\xd8\\xa7\\xd8\\xa8 \\xd9\\x86\\xd8\\xa7\\xd9\\x84 \\xd8\\xa8\\xd9\\x88\\xd9\\x84\\xdb\\x8c\\xd8\\xa7\\xda\\xba \\xd8\\xaf\\xdb\\x8c \\xd9\\x84\\xd8\\xb3\\xd9\\xb9 \\xe2\\x80\\x93 Western Punjabi\" lang=\"pnb\" hreflang=\"pnb\" class=\"interlanguage-link-target\"><span>\\xd9\\xbe\\xd9\\x86\\xd8\\xac\\xd8\\xa7\\xd8\\xa8\\xdb\\x8c</span></a></li><li class=\"interlanguage-link interwiki-pap mw-list-item\"><a href=\"https://pap.wikipedia.org/wiki/Lista_di_lenganan_segun_total_papiadonan_nativo\" title=\"Lista di lenganan segun total papiadonan nativo \\xe2\\x80\\x93 Papiamento\" lang=\"pap\" hreflang=\"pap\" class=\"interlanguage-link-target\"><span>Papiamentu</span></a></li><li class=\"interlanguage-link interwiki-ps mw-list-item\"><a href=\"https://ps.wikipedia.org/wiki/%D8%AF_%D9%86%DA%93%DB%8D_%D9%BC%D9%88%D9%84%DB%90_%DA%98%D8%A8%DB%90%D8%8C_%D8%AF_%D9%88%D9%8A%D9%88%D9%86%DA%A9%D9%88_%D9%BE%D8%B1_%D8%A8%D9%86%D8%B3%D9%BC\" title=\"\\xd8\\xaf \\xd9\\x86\\xda\\x93\\xdb\\x8d \\xd9\\xbc\\xd9\\x88\\xd9\\x84\\xdb\\x90 \\xda\\x98\\xd8\\xa8\\xdb\\x90\\xd8\\x8c \\xd8\\xaf \\xd9\\x88\\xd9\\x8a\\xd9\\x88\\xd9\\x86\\xda\\xa9\\xd9\\x88 \\xd9\\xbe\\xd8\\xb1 \\xd8\\xa8\\xd9\\x86\\xd8\\xb3\\xd9\\xbc \\xe2\\x80\\x93 Pashto\" lang=\"ps\" hreflang=\"ps\" class=\"interlanguage-link-target\"><span>\\xd9\\xbe\\xda\\x9a\\xd8\\xaa\\xd9\\x88</span></a></li><li class=\"interlanguage-link interwiki-pl mw-list-item\"><a href=\"https://pl.wikipedia.org/wiki/Lista_najcz%C4%99%C5%9Bciej_u%C5%BCywanych_j%C4%99zyk%C3%B3w_%C5%9Bwiata\" title=\"Lista najcz\\xc4\\x99\\xc5\\x9bciej u\\xc5\\xbcywanych j\\xc4\\x99zyk\\xc3\\xb3w \\xc5\\x9bwiata \\xe2\\x80\\x93 Polish\" lang=\"pl\" hreflang=\"pl\" class=\"interlanguage-link-target\"><span>Polski</span></a></li><li class=\"interlanguage-link interwiki-pt mw-list-item\"><a href=\"https://pt.wikipedia.org/wiki/Lista_de_l%C3%ADnguas_por_n%C3%BAmero_de_falantes_nativos\" title=\"Lista de l\\xc3\\xadnguas por n\\xc3\\xbamero de falantes nativos \\xe2\\x80\\x93 Portuguese\" lang=\"pt\" hreflang=\"pt\" class=\"interlanguage-link-target\"><span>Portugu\\xc3\\xaas</span></a></li><li class=\"interlanguage-link interwiki-ro mw-list-item\"><a href=\"https://ro.wikipedia.org/wiki/List%C4%83_de_limbi_dup%C4%83_num%C4%83rul_de_vorbitori\" title=\"List\\xc4\\x83 de limbi dup\\xc4\\x83 num\\xc4\\x83rul de vorbitori \\xe2\\x80\\x93 Romanian\" lang=\"ro\" hreflang=\"ro\" class=\"interlanguage-link-target\"><span>Rom\\xc3\\xa2n\\xc4\\x83</span></a></li><li class=\"interlanguage-link interwiki-ru mw-list-item\"><a href=\"https://ru.wikipedia.org/wiki/%D0%A1%D0%BF%D0%B8%D1%81%D0%BE%D0%BA_%D1%8F%D0%B7%D1%8B%D0%BA%D0%BE%D0%B2_%D0%BF%D0%BE_%D0%BA%D0%BE%D0%BB%D0%B8%D1%87%D0%B5%D1%81%D1%82%D0%B2%D1%83_%D0%BD%D0%BE%D1%81%D0%B8%D1%82%D0%B5%D0%BB%D0%B5%D0%B9\" title=\"\\xd0\\xa1\\xd0\\xbf\\xd0\\xb8\\xd1\\x81\\xd0\\xbe\\xd0\\xba \\xd1\\x8f\\xd0\\xb7\\xd1\\x8b\\xd0\\xba\\xd0\\xbe\\xd0\\xb2 \\xd0\\xbf\\xd0\\xbe \\xd0\\xba\\xd0\\xbe\\xd0\\xbb\\xd0\\xb8\\xd1\\x87\\xd0\\xb5\\xd1\\x81\\xd1\\x82\\xd0\\xb2\\xd1\\x83 \\xd0\\xbd\\xd0\\xbe\\xd1\\x81\\xd0\\xb8\\xd1\\x82\\xd0\\xb5\\xd0\\xbb\\xd0\\xb5\\xd0\\xb9 \\xe2\\x80\\x93 Russian\" lang=\"ru\" hreflang=\"ru\" class=\"interlanguage-link-target\"><span>\\xd0\\xa0\\xd1\\x83\\xd1\\x81\\xd1\\x81\\xd0\\xba\\xd0\\xb8\\xd0\\xb9</span></a></li><li class=\"interlanguage-link interwiki-sa mw-list-item\"><a href=\"https://sa.wikipedia.org/wiki/%E0%A4%AE%E0%A4%BE%E0%A4%A4%E0%A5%83%E0%A4%AD%E0%A4%BE%E0%A4%B7%E0%A4%BE%E0%A4%B5%E0%A4%95%E0%A5%8D%E0%A4%A4%E0%A5%83%E0%A4%A3%E0%A4%BE%E0%A4%82_%E0%A4%B8%E0%A4%99%E0%A5%8D%E0%A4%96%E0%A5%8D%E0%A4%AF%E0%A4%BE%E0%A4%A8%E0%A5%81%E0%A4%B8%E0%A4%BE%E0%A4%B0%E0%A4%82_%E0%A4%AD%E0%A4%BE%E0%A4%B7%E0%A4%BE%E0%A4%B8%E0%A5%82%E0%A4%9A%E0%A4%BF%E0%A4%83\" title=\"\\xe0\\xa4\\xae\\xe0\\xa4\\xbe\\xe0\\xa4\\xa4\\xe0\\xa5\\x83\\xe0\\xa4\\xad\\xe0\\xa4\\xbe\\xe0\\xa4\\xb7\\xe0\\xa4\\xbe\\xe0\\xa4\\xb5\\xe0\\xa4\\x95\\xe0\\xa5\\x8d\\xe0\\xa4\\xa4\\xe0\\xa5\\x83\\xe0\\xa4\\xa3\\xe0\\xa4\\xbe\\xe0\\xa4\\x82 \\xe0\\xa4\\xb8\\xe0\\xa4\\x99\\xe0\\xa5\\x8d\\xe0\\xa4\\x96\\xe0\\xa5\\x8d\\xe0\\xa4\\xaf\\xe0\\xa4\\xbe\\xe0\\xa4\\xa8\\xe0\\xa5\\x81\\xe0\\xa4\\xb8\\xe0\\xa4\\xbe\\xe0\\xa4\\xb0\\xe0\\xa4\\x82 \\xe0\\xa4\\xad\\xe0\\xa4\\xbe\\xe0\\xa4\\xb7\\xe0\\xa4\\xbe\\xe0\\xa4\\xb8\\xe0\\xa5\\x82\\xe0\\xa4\\x9a\\xe0\\xa4\\xbf\\xe0\\xa4\\x83 \\xe2\\x80\\x93 Sanskrit\" lang=\"sa\" hreflang=\"sa\" class=\"interlanguage-link-target\"><span>\\xe0\\xa4\\xb8\\xe0\\xa4\\x82\\xe0\\xa4\\xb8\\xe0\\xa5\\x8d\\xe0\\xa4\\x95\\xe0\\xa5\\x83\\xe0\\xa4\\xa4\\xe0\\xa4\\xae\\xe0\\xa5\\x8d</span></a></li><li class=\"interlanguage-link interwiki-skr mw-list-item\"><a href=\"https://skr.wikipedia.org/wiki/%D8%A2%D8%A8%D8%A7%D8%AF%DB%8C_%D8%AF%DB%92_%D8%AD%D8%B3%D8%A7%D8%A8_%D9%86%D8%A7%D9%84_%D8%B2%D8%A8%D8%A7%D9%86%D8%A7%DA%BA_%D8%AF%DB%8C_%D8%AA%D9%86%D8%AF%DB%8C%D8%B1\" title=\"\\xd8\\xa2\\xd8\\xa8\\xd8\\xa7\\xd8\\xaf\\xdb\\x8c \\xd8\\xaf\\xdb\\x92 \\xd8\\xad\\xd8\\xb3\\xd8\\xa7\\xd8\\xa8 \\xd9\\x86\\xd8\\xa7\\xd9\\x84 \\xd8\\xb2\\xd8\\xa8\\xd8\\xa7\\xd9\\x86\\xd8\\xa7\\xda\\xba \\xd8\\xaf\\xdb\\x8c \\xd8\\xaa\\xd9\\x86\\xd8\\xaf\\xdb\\x8c\\xd8\\xb1 \\xe2\\x80\\x93 Saraiki\" lang=\"skr\" hreflang=\"skr\" class=\"interlanguage-link-target\"><span>\\xd8\\xb3\\xd8\\xb1\\xd8\\xa7\\xd8\\xa6\\xdb\\x8c\\xda\\xa9\\xdb\\x8c</span></a></li><li class=\"interlanguage-link interwiki-sq mw-list-item\"><a href=\"https://sq.wikipedia.org/wiki/Gjuh%C3%ABt_bot%C3%ABrore\" title=\"Gjuh\\xc3\\xabt bot\\xc3\\xabrore \\xe2\\x80\\x93 Albanian\" lang=\"sq\" hreflang=\"sq\" class=\"interlanguage-link-target\"><span>Shqip</span></a></li><li class=\"interlanguage-link interwiki-simple mw-list-item\"><a href=\"https://simple.wikipedia.org/wiki/List_of_languages_by_number_of_native_speakers\" title=\"List of languages by number of native speakers \\xe2\\x80\\x93 Simple English\" lang=\"en-simple\" hreflang=\"en-simple\" class=\"interlanguage-link-target\"><span>Simple English</span></a></li><li class=\"interlanguage-link interwiki-sk mw-list-item\"><a href=\"https://sk.wikipedia.org/wiki/Zoznam_jazykov_pod%C4%BEa_po%C4%8Dtu_hovoriacich\" title=\"Zoznam jazykov pod\\xc4\\xbea po\\xc4\\x8dtu hovoriacich \\xe2\\x80\\x93 Slovak\" lang=\"sk\" hreflang=\"sk\" class=\"interlanguage-link-target\"><span>Sloven\\xc4\\x8dina</span></a></li><li class=\"interlanguage-link interwiki-sl mw-list-item\"><a href=\"https://sl.wikipedia.org/wiki/Seznam_jezikov_po_%C5%A1tevilu_govorcev\" title=\"Seznam jezikov po \\xc5\\xa1tevilu govorcev \\xe2\\x80\\x93 Slovenian\" lang=\"sl\" hreflang=\"sl\" class=\"interlanguage-link-target\"><span>Sloven\\xc5\\xa1\\xc4\\x8dina</span></a></li><li class=\"interlanguage-link interwiki-sr mw-list-item\"><a href=\"https://sr.wikipedia.org/wiki/%D0%A1%D0%BF%D0%B8%D1%81%D0%B0%D0%BA_%D1%98%D0%B5%D0%B7%D0%B8%D0%BA%D0%B0_%D0%BF%D0%BE_%D0%B1%D1%80%D0%BE%D1%98%D1%83_%D0%B3%D0%BE%D0%B2%D0%BE%D1%80%D0%BD%D0%B8%D0%BA%D0%B0\" title=\"\\xd0\\xa1\\xd0\\xbf\\xd0\\xb8\\xd1\\x81\\xd0\\xb0\\xd0\\xba \\xd1\\x98\\xd0\\xb5\\xd0\\xb7\\xd0\\xb8\\xd0\\xba\\xd0\\xb0 \\xd0\\xbf\\xd0\\xbe \\xd0\\xb1\\xd1\\x80\\xd0\\xbe\\xd1\\x98\\xd1\\x83 \\xd0\\xb3\\xd0\\xbe\\xd0\\xb2\\xd0\\xbe\\xd1\\x80\\xd0\\xbd\\xd0\\xb8\\xd0\\xba\\xd0\\xb0 \\xe2\\x80\\x93 Serbian\" lang=\"sr\" hreflang=\"sr\" class=\"interlanguage-link-target\"><span>\\xd0\\xa1\\xd1\\x80\\xd0\\xbf\\xd1\\x81\\xd0\\xba\\xd0\\xb8 / srpski</span></a></li><li class=\"interlanguage-link interwiki-sh mw-list-item\"><a href=\"https://sh.wikipedia.org/wiki/Jezici_po_broju_govornika\" title=\"Jezici po broju govornika \\xe2\\x80\\x93 Serbo-Croatian\" lang=\"sh\" hreflang=\"sh\" class=\"interlanguage-link-target\"><span>Srpskohrvatski / \\xd1\\x81\\xd1\\x80\\xd0\\xbf\\xd1\\x81\\xd0\\xba\\xd0\\xbe\\xd1\\x85\\xd1\\x80\\xd0\\xb2\\xd0\\xb0\\xd1\\x82\\xd1\\x81\\xd0\\xba\\xd0\\xb8</span></a></li><li class=\"interlanguage-link interwiki-fi mw-list-item\"><a href=\"https://fi.wikipedia.org/wiki/Luettelo_kielist%C3%A4_%C3%A4idinkielen%C3%A4%C3%A4n_puhuvien_lukum%C3%A4%C3%A4r%C3%A4n_mukaan\" title=\"Luettelo kielist\\xc3\\xa4 \\xc3\\xa4idinkielen\\xc3\\xa4\\xc3\\xa4n puhuvien lukum\\xc3\\xa4\\xc3\\xa4r\\xc3\\xa4n mukaan \\xe2\\x80\\x93 Finnish\" lang=\"fi\" hreflang=\"fi\" class=\"interlanguage-link-target\"><span>Suomi</span></a></li><li class=\"interlanguage-link interwiki-sv mw-list-item\"><a href=\"https://sv.wikipedia.org/wiki/Lista_%C3%B6ver_v%C3%A4rldens_st%C3%B6rsta_spr%C3%A5k_efter_antal_talare\" title=\"Lista \\xc3\\xb6ver v\\xc3\\xa4rldens st\\xc3\\xb6rsta spr\\xc3\\xa5k efter antal talare \\xe2\\x80\\x93 Swedish\" lang=\"sv\" hreflang=\"sv\" class=\"interlanguage-link-target\"><span>Svenska</span></a></li><li class=\"interlanguage-link interwiki-ta mw-list-item\"><a href=\"https://ta.wikipedia.org/wiki/%E0%AE%89%E0%AE%B2%E0%AE%95_%E0%AE%AE%E0%AF%8A%E0%AE%B4%E0%AE%BF%E0%AE%95%E0%AE%B3%E0%AE%BF%E0%AE%A9%E0%AF%8D_%E0%AE%AA%E0%AE%9F%E0%AF%8D%E0%AE%9F%E0%AE%BF%E0%AE%AF%E0%AE%B2%E0%AF%8D\" title=\"\\xe0\\xae\\x89\\xe0\\xae\\xb2\\xe0\\xae\\x95 \\xe0\\xae\\xae\\xe0\\xaf\\x8a\\xe0\\xae\\xb4\\xe0\\xae\\xbf\\xe0\\xae\\x95\\xe0\\xae\\xb3\\xe0\\xae\\xbf\\xe0\\xae\\xa9\\xe0\\xaf\\x8d \\xe0\\xae\\xaa\\xe0\\xae\\x9f\\xe0\\xaf\\x8d\\xe0\\xae\\x9f\\xe0\\xae\\xbf\\xe0\\xae\\xaf\\xe0\\xae\\xb2\\xe0\\xaf\\x8d \\xe2\\x80\\x93 Tamil\" lang=\"ta\" hreflang=\"ta\" class=\"interlanguage-link-target\"><span>\\xe0\\xae\\xa4\\xe0\\xae\\xae\\xe0\\xae\\xbf\\xe0\\xae\\xb4\\xe0\\xaf\\x8d</span></a></li><li class=\"interlanguage-link interwiki-tt mw-list-item\"><a href=\"https://tt.wikipedia.org/wiki/%D0%A1%D3%A9%D0%B9%D0%BB%D3%99%D1%88%D2%AF%D1%87%D0%B5%D0%BB%D3%99%D1%80_%D1%81%D0%B0%D0%BD%D1%8B_%D0%B1%D1%83%D0%B5%D0%BD%D1%87%D0%B0_%D1%82%D0%B5%D0%BB%D0%BB%D3%99%D1%80_%D0%B8%D1%81%D0%B5%D0%BC%D0%BB%D0%B5%D0%B3%D0%B5\" title=\"\\xd0\\xa1\\xd3\\xa9\\xd0\\xb9\\xd0\\xbb\\xd3\\x99\\xd1\\x88\\xd2\\xaf\\xd1\\x87\\xd0\\xb5\\xd0\\xbb\\xd3\\x99\\xd1\\x80 \\xd1\\x81\\xd0\\xb0\\xd0\\xbd\\xd1\\x8b \\xd0\\xb1\\xd1\\x83\\xd0\\xb5\\xd0\\xbd\\xd1\\x87\\xd0\\xb0 \\xd1\\x82\\xd0\\xb5\\xd0\\xbb\\xd0\\xbb\\xd3\\x99\\xd1\\x80 \\xd0\\xb8\\xd1\\x81\\xd0\\xb5\\xd0\\xbc\\xd0\\xbb\\xd0\\xb5\\xd0\\xb3\\xd0\\xb5 \\xe2\\x80\\x93 Tatar\" lang=\"tt\" hreflang=\"tt\" class=\"interlanguage-link-target\"><span>\\xd0\\xa2\\xd0\\xb0\\xd1\\x82\\xd0\\xb0\\xd1\\x80\\xd1\\x87\\xd0\\xb0 / tatar\\xc3\\xa7a</span></a></li><li class=\"interlanguage-link interwiki-th mw-list-item\"><a href=\"https://th.wikipedia.org/wiki/%E0%B8%A3%E0%B8%B2%E0%B8%A2%E0%B8%8A%E0%B8%B7%E0%B9%88%E0%B8%AD%E0%B8%A0%E0%B8%B2%E0%B8%A9%E0%B8%B2%E0%B9%80%E0%B8%A3%E0%B8%B5%E0%B8%A2%E0%B8%87%E0%B8%95%E0%B8%B2%E0%B8%A1%E0%B8%88%E0%B8%B3%E0%B8%99%E0%B8%A7%E0%B8%99%E0%B8%9C%E0%B8%B9%E0%B9%89%E0%B9%83%E0%B8%8A%E0%B9%89%E0%B9%80%E0%B8%9B%E0%B9%87%E0%B8%99%E0%B8%A0%E0%B8%B2%E0%B8%A9%E0%B8%B2%E0%B9%81%E0%B8%A1%E0%B9%88\" title=\"\\xe0\\xb8\\xa3\\xe0\\xb8\\xb2\\xe0\\xb8\\xa2\\xe0\\xb8\\x8a\\xe0\\xb8\\xb7\\xe0\\xb9\\x88\\xe0\\xb8\\xad\\xe0\\xb8\\xa0\\xe0\\xb8\\xb2\\xe0\\xb8\\xa9\\xe0\\xb8\\xb2\\xe0\\xb9\\x80\\xe0\\xb8\\xa3\\xe0\\xb8\\xb5\\xe0\\xb8\\xa2\\xe0\\xb8\\x87\\xe0\\xb8\\x95\\xe0\\xb8\\xb2\\xe0\\xb8\\xa1\\xe0\\xb8\\x88\\xe0\\xb8\\xb3\\xe0\\xb8\\x99\\xe0\\xb8\\xa7\\xe0\\xb8\\x99\\xe0\\xb8\\x9c\\xe0\\xb8\\xb9\\xe0\\xb9\\x89\\xe0\\xb9\\x83\\xe0\\xb8\\x8a\\xe0\\xb9\\x89\\xe0\\xb9\\x80\\xe0\\xb8\\x9b\\xe0\\xb9\\x87\\xe0\\xb8\\x99\\xe0\\xb8\\xa0\\xe0\\xb8\\xb2\\xe0\\xb8\\xa9\\xe0\\xb8\\xb2\\xe0\\xb9\\x81\\xe0\\xb8\\xa1\\xe0\\xb9\\x88 \\xe2\\x80\\x93 Thai\" lang=\"th\" hreflang=\"th\" class=\"interlanguage-link-target\"><span>\\xe0\\xb9\\x84\\xe0\\xb8\\x97\\xe0\\xb8\\xa2</span></a></li><li class=\"interlanguage-link interwiki-tg mw-list-item\"><a href=\"https://tg.wikipedia.org/wiki/%D0%A4%D0%B5%D2%B3%D1%80%D0%B8%D1%81%D1%82%D0%B8_%D0%B7%D0%B0%D0%B1%D0%BE%D0%BD%D2%B3%D0%BE_%D0%B0%D0%B7_%D1%80%D3%AF%D0%B8_%D0%BC%D0%B8%D2%9B%D0%B4%D0%BE%D1%80%D0%B8_%D0%B3%D3%AF%D1%8F%D0%BD%D0%B4%D0%B0%D0%B3%D0%BE%D0%BD\" title=\"\\xd0\\xa4\\xd0\\xb5\\xd2\\xb3\\xd1\\x80\\xd0\\xb8\\xd1\\x81\\xd1\\x82\\xd0\\xb8 \\xd0\\xb7\\xd0\\xb0\\xd0\\xb1\\xd0\\xbe\\xd0\\xbd\\xd2\\xb3\\xd0\\xbe \\xd0\\xb0\\xd0\\xb7 \\xd1\\x80\\xd3\\xaf\\xd0\\xb8 \\xd0\\xbc\\xd0\\xb8\\xd2\\x9b\\xd0\\xb4\\xd0\\xbe\\xd1\\x80\\xd0\\xb8 \\xd0\\xb3\\xd3\\xaf\\xd1\\x8f\\xd0\\xbd\\xd0\\xb4\\xd0\\xb0\\xd0\\xb3\\xd0\\xbe\\xd0\\xbd \\xe2\\x80\\x93 Tajik\" lang=\"tg\" hreflang=\"tg\" class=\"interlanguage-link-target\"><span>\\xd0\\xa2\\xd0\\xbe\\xd2\\xb7\\xd0\\xb8\\xd0\\xba\\xd3\\xa3</span></a></li><li class=\"interlanguage-link interwiki-tr mw-list-item\"><a href=\"https://tr.wikipedia.org/wiki/Anadil_olarak_konu%C5%9Fulma_say%C4%B1lar%C4%B1na_g%C3%B6re_diller_listesi\" title=\"Anadil olarak konu\\xc5\\x9fulma say\\xc4\\xb1lar\\xc4\\xb1na g\\xc3\\xb6re diller listesi \\xe2\\x80\\x93 Turkish\" lang=\"tr\" hreflang=\"tr\" class=\"interlanguage-link-target\"><span>T\\xc3\\xbcrk\\xc3\\xa7e</span></a></li><li class=\"interlanguage-link interwiki-uk mw-list-item\"><a href=\"https://uk.wikipedia.org/wiki/%D0%A1%D0%BF%D0%B8%D1%81%D0%BE%D0%BA_%D0%BC%D0%BE%D0%B2_%D0%B7%D0%B0_%D0%BA%D1%96%D0%BB%D1%8C%D0%BA%D1%96%D1%81%D1%82%D1%8E_%D0%BD%D0%BE%D1%81%D1%96%D1%97%D0%B2\" title=\"\\xd0\\xa1\\xd0\\xbf\\xd0\\xb8\\xd1\\x81\\xd0\\xbe\\xd0\\xba \\xd0\\xbc\\xd0\\xbe\\xd0\\xb2 \\xd0\\xb7\\xd0\\xb0 \\xd0\\xba\\xd1\\x96\\xd0\\xbb\\xd1\\x8c\\xd0\\xba\\xd1\\x96\\xd1\\x81\\xd1\\x82\\xd1\\x8e \\xd0\\xbd\\xd0\\xbe\\xd1\\x81\\xd1\\x96\\xd1\\x97\\xd0\\xb2 \\xe2\\x80\\x93 Ukrainian\" lang=\"uk\" hreflang=\"uk\" class=\"interlanguage-link-target\"><span>\\xd0\\xa3\\xd0\\xba\\xd1\\x80\\xd0\\xb0\\xd1\\x97\\xd0\\xbd\\xd1\\x81\\xd1\\x8c\\xd0\\xba\\xd0\\xb0</span></a></li><li class=\"interlanguage-link interwiki-ur mw-list-item\"><a href=\"https://ur.wikipedia.org/wiki/%D9%81%DB%81%D8%B1%D8%B3%D8%AA_%D8%B2%D8%A8%D8%A7%D9%86_%D8%A8%D9%84%D8%AD%D8%A7%D8%B8_%D9%85%DA%A9%D9%84%D9%85%DB%8C%D9%86\" title=\"\\xd9\\x81\\xdb\\x81\\xd8\\xb1\\xd8\\xb3\\xd8\\xaa \\xd8\\xb2\\xd8\\xa8\\xd8\\xa7\\xd9\\x86 \\xd8\\xa8\\xd9\\x84\\xd8\\xad\\xd8\\xa7\\xd8\\xb8 \\xd9\\x85\\xda\\xa9\\xd9\\x84\\xd9\\x85\\xdb\\x8c\\xd9\\x86 \\xe2\\x80\\x93 Urdu\" lang=\"ur\" hreflang=\"ur\" class=\"interlanguage-link-target\"><span>\\xd8\\xa7\\xd8\\xb1\\xd8\\xaf\\xd9\\x88</span></a></li><li class=\"interlanguage-link interwiki-vec mw-list-item\"><a href=\"https://vec.wikipedia.org/wiki/%C5%81%C3%A9ngue_par_n%C3%B9maro_de_parlanti_mare%C5%82%C3%A9ngua\" title=\"\\xc5\\x81\\xc3\\xa9ngue par n\\xc3\\xb9maro de parlanti mare\\xc5\\x82\\xc3\\xa9ngua \\xe2\\x80\\x93 Venetian\" lang=\"vec\" hreflang=\"vec\" class=\"interlanguage-link-target\"><span>V\\xc3\\xa8neto</span></a></li><li class=\"interlanguage-link interwiki-vi mw-list-item\"><a href=\"https://vi.wikipedia.org/wiki/Danh_s%C3%A1ch_ng%C3%B4n_ng%E1%BB%AF_theo_t%E1%BB%95ng_s%E1%BB%91_ng%C6%B0%E1%BB%9Di_s%E1%BB%AD_d%E1%BB%A5ng\" title=\"Danh s\\xc3\\xa1ch ng\\xc3\\xb4n ng\\xe1\\xbb\\xaf theo t\\xe1\\xbb\\x95ng s\\xe1\\xbb\\x91 ng\\xc6\\xb0\\xe1\\xbb\\x9di s\\xe1\\xbb\\xad d\\xe1\\xbb\\xa5ng \\xe2\\x80\\x93 Vietnamese\" lang=\"vi\" hreflang=\"vi\" class=\"interlanguage-link-target\"><span>Ti\\xe1\\xba\\xbfng Vi\\xe1\\xbb\\x87t</span></a></li><li class=\"interlanguage-link interwiki-wuu mw-list-item\"><a href=\"https://wuu.wikipedia.org/wiki/%E4%B8%96%E7%95%8C%E8%A8%80%E8%AF%9D%E6%8E%92%E5%90%8D\" title=\"\\xe4\\xb8\\x96\\xe7\\x95\\x8c\\xe8\\xa8\\x80\\xe8\\xaf\\x9d\\xe6\\x8e\\x92\\xe5\\x90\\x8d \\xe2\\x80\\x93 Wu Chinese\" lang=\"wuu\" hreflang=\"wuu\" class=\"interlanguage-link-target\"><span>\\xe5\\x90\\xb4\\xe8\\xaf\\xad</span></a></li><li class=\"interlanguage-link interwiki-yo mw-list-item\"><a href=\"https://yo.wikipedia.org/wiki/%C3%80k%C3%B3j%E1%BB%8D_%C3%A0w%E1%BB%8Dn_%C3%A8d%C3%A8_g%E1%BA%B9%CC%81g%E1%BA%B9%CC%81_b%C3%ADi_iye_%C3%A0w%E1%BB%8Dn_afis%E1%BB%8D%CC%80r%E1%BB%8D%CC%80_ab%C3%ADnib%C3%AD\" title=\"\\xc3\\x80k\\xc3\\xb3j\\xe1\\xbb\\x8d \\xc3\\xa0w\\xe1\\xbb\\x8dn \\xc3\\xa8d\\xc3\\xa8 g\\xe1\\xba\\xb9\\xcc\\x81g\\xe1\\xba\\xb9\\xcc\\x81 b\\xc3\\xadi iye \\xc3\\xa0w\\xe1\\xbb\\x8dn afis\\xe1\\xbb\\x8d\\xcc\\x80r\\xe1\\xbb\\x8d\\xcc\\x80 ab\\xc3\\xadnib\\xc3\\xad \\xe2\\x80\\x93 Yoruba\" lang=\"yo\" hreflang=\"yo\" class=\"interlanguage-link-target\"><span>Yor\\xc3\\xb9b\\xc3\\xa1</span></a></li><li class=\"interlanguage-link interwiki-zh-yue mw-list-item\"><a href=\"https://zh-yue.wikipedia.org/wiki/%E5%90%84%E8%A9%B1%E4%BA%BA%E5%8F%A3%E4%B8%80%E8%A6%BD\" title=\"\\xe5\\x90\\x84\\xe8\\xa9\\xb1\\xe4\\xba\\xba\\xe5\\x8f\\xa3\\xe4\\xb8\\x80\\xe8\\xa6\\xbd \\xe2\\x80\\x93 Cantonese\" lang=\"yue\" hreflang=\"yue\" class=\"interlanguage-link-target\"><span>\\xe7\\xb2\\xb5\\xe8\\xaa\\x9e</span></a></li><li class=\"interlanguage-link interwiki-bat-smg mw-list-item\"><a href=\"https://bat-smg.wikipedia.org/wiki/%C5%A0abluons:Papl%C4%97tos%C4%97s_kalbas\" title=\"\\xc5\\xa0abluons:Papl\\xc4\\x97tos\\xc4\\x97s kalbas \\xe2\\x80\\x93 Samogitian\" lang=\"sgs\" hreflang=\"sgs\" class=\"interlanguage-link-target\"><span>\\xc5\\xbdemait\\xc4\\x97\\xc5\\xa1ka</span></a></li><li class=\"interlanguage-link interwiki-zh mw-list-item\"><a href=\"https://zh.wikipedia.org/wiki/%E4%BB%A5%E6%AF%8D%E8%AA%9E%E4%BA%BA%E5%8F%A3%E6%8E%92%E5%BA%8F%E7%9A%84%E8%AA%9E%E8%A8%80%E5%88%97%E8%A1%A8\" title=\"\\xe4\\xbb\\xa5\\xe6\\xaf\\x8d\\xe8\\xaa\\x9e\\xe4\\xba\\xba\\xe5\\x8f\\xa3\\xe6\\x8e\\x92\\xe5\\xba\\x8f\\xe7\\x9a\\x84\\xe8\\xaa\\x9e\\xe8\\xa8\\x80\\xe5\\x88\\x97\\xe8\\xa1\\xa8 \\xe2\\x80\\x93 Chinese\" lang=\"zh\" hreflang=\"zh\" class=\"interlanguage-link-target\"><span>\\xe4\\xb8\\xad\\xe6\\x96\\x87</span></a></li></ul>\\n\\t\\t\\t<div class=\"after-portlet after-portlet-lang\"><span class=\"wb-langlinks-edit wb-langlinks-link\"><a href=\"https://www.wikidata.org/wiki/Special:EntityPage/Q4319#sitelinks-wikipedia\" title=\"Edit interlanguage links\" class=\"wbc-editpage\">Edit links</a></span></div>\\n\\t\\t</div>\\n\\n\\t</div>\\n</div>\\n\\t\\t\\t\\t</header>\\n\\t\\t\\t\\t<div class=\"vector-page-toolbar\">\\n\\t\\t\\t\\t\\t<div class=\"vector-page-toolbar-container\">\\n\\t\\t\\t\\t\\t\\t<div id=\"left-navigation\">\\n\\t\\t\\t\\t\\t\\t\\t<nav aria-label=\"Namespaces\">\\n\\t\\t\\t\\t\\t\\t\\t\\t\\n<div id=\"p-associated-pages\" class=\"vector-menu vector-menu-tabs mw-portlet mw-portlet-associated-pages\"  >\\n\\t<div class=\"vector-menu-content\">\\n\\t\\t\\n\\t\\t<ul class=\"vector-menu-content-list\">\\n\\t\\t\\t<li id=\"ca-nstab-main\" class=\"selected vector-tab-noicon mw-list-item\"><a data-mw=\"interface\" href=\"/wiki/List_of_languages_by_number_of_native_speakers\" title=\"View the content page [c]\" accesskey=\"c\" class=\"\"><span>Article</span></a>\\n</li>\\n<li id=\"ca-talk\" class=\"vector-tab-noicon mw-list-item\"><a data-mw=\"interface\" href=\"/wiki/Talk:List_of_languages_by_number_of_native_speakers\" rel=\"discussion\" title=\"Discuss improvements to the content page [t]\" accesskey=\"t\" class=\"\"><span>Talk</span></a>\\n</li>\\n\\n\\t\\t</ul>\\n\\t\\t\\n\\t</div>\\n</div>\\n\\n\\t\\t\\t\\t\\t\\t\\t\\t\\n\\n<div id=\"p-variants\" class=\"vector-menu vector-dropdown vector-menu-dropdown mw-portlet mw-portlet-variants emptyPortlet\"  >\\n\\t<input type=\"checkbox\"\\n\\t\\tid=\"p-variants-checkbox\"\\n\\t\\trole=\"button\"\\n\\t\\taria-haspopup=\"true\"\\n\\t\\tdata-event-name=\"ui.dropdown-p-variants\"\\n\\t\\tclass=\"vector-menu-checkbox\"\\n\\t\\taria-label=\"Change language variant\"\\n\\t\\t\\n\\t\\t\\n\\t/>\\n\\t<label\\n\\t\\tid=\"p-variants-label\"\\n\\t\\tfor=\"p-variants-checkbox\"\\n\\t\\tclass=\"vector-menu-heading \"\\n\\t\\taria-hidden=\"true\"\\n\\t\\t\\n\\t>\\n\\t\\t\\n\\t\\t<span class=\"vector-menu-heading-label\">English</span>\\n\\t</label>\\n\\t<div class=\"vector-menu-content vector-dropdown-content\">\\n\\n\\t<div class=\"vector-menu-content\">\\n\\t\\t\\n\\t\\t<ul class=\"vector-menu-content-list\"></ul>\\n\\t\\t\\n\\t</div>\\n\\n\\t</div>\\n</div>\\n\\t\\t\\t\\t\\t\\t\\t</nav>\\n\\t\\t\\t\\t\\t\\t</div>\\n\\t\\t\\t\\t\\t\\t<div id=\"right-navigation\" class=\"vector-collapsible\">\\n\\t\\t\\t\\t\\t\\t\\t<nav aria-label=\"Views\">\\n\\t\\t\\t\\t\\t\\t\\t\\t\\n<div id=\"p-views\" class=\"vector-menu vector-menu-tabs mw-portlet mw-portlet-views\"  >\\n\\t<div class=\"vector-menu-content\">\\n\\t\\t\\n\\t\\t<ul class=\"vector-menu-content-list\">\\n\\t\\t\\t<li id=\"ca-view\" class=\"selected vector-tab-noicon mw-list-item\"><a data-mw=\"interface\" href=\"/wiki/List_of_languages_by_number_of_native_speakers\" class=\"\"><span>Read</span></a>\\n</li>\\n<li id=\"ca-viewsource\" class=\"vector-tab-noicon mw-list-item\"><a data-mw=\"interface\" href=\"/w/index.php?title=List_of_languages_by_number_of_native_speakers&amp;action=edit\" title=\"This page is protected.\\nYou can view its source [e]\" accesskey=\"e\" class=\"\"><span>View source</span></a>\\n</li>\\n<li id=\"ca-history\" class=\"vector-tab-noicon mw-list-item\"><a data-mw=\"interface\" href=\"/w/index.php?title=List_of_languages_by_number_of_native_speakers&amp;action=history\" title=\"Past revisions of this page [h]\" accesskey=\"h\" class=\"\"><span>View history</span></a>\\n</li>\\n\\n\\t\\t</ul>\\n\\t\\t\\n\\t</div>\\n</div>\\n\\n\\t\\t\\t\\t\\t\\t\\t</nav>\\n\\t\\t\\t\\t\\n\\t\\t\\t\\t\\t\\t\\t<nav class=\"vector-page-tools-landmark\" aria-label=\"More options\">\\n\\t\\t\\t\\t\\t\\t\\t\\t\\n<div id=\"vector-page-tools-dropdown\" class=\"vector-menu vector-dropdown vector-menu-dropdown vector-page-tools-dropdown\"  >\\n\\t<input type=\"checkbox\"\\n\\t\\tid=\"vector-page-tools-dropdown-checkbox\"\\n\\t\\trole=\"button\"\\n\\t\\taria-haspopup=\"true\"\\n\\t\\tdata-event-name=\"ui.dropdown-vector-page-tools-dropdown\"\\n\\t\\tclass=\"vector-menu-checkbox \"\\n\\t\\t\\n\\t\\taria-label=\"Tools\"\\n\\t\\t\\n\\t/>\\n\\t<label\\n\\t\\tid=\"vector-page-tools-dropdown-label\"\\n\\t\\tfor=\"vector-page-tools-dropdown-checkbox\"\\n\\t\\tclass=\"vector-menu-heading \"\\n\\t\\taria-hidden=\"true\"\\n\\t\\t\\n\\t>\\n\\t\\t\\n\\t\\t<span class=\"vector-menu-heading-label\">Tools</span>\\n\\t</label>\\n\\t<div class=\"vector-menu-content vector-dropdown-content\">\\n\\n\\n\\t\\t\\t\\t\\t\\t\\t\\t\\t<div id=\"vector-page-tools-unpinned-container\" class=\"vector-unpinned-container\">\\n\\t\\t\\t\\t\\t\\t\\n<div id=\"vector-page-tools\" class=\"vector-page-tools vector-pinnable-element\">\\n\\t<div\\n\\tclass=\"vector-pinnable-header vector-page-tools-pinnable-header vector-pinnable-header-unpinned\"\\n\\tdata-feature-name=\"page-tools-pinned\"\\n\\tdata-pinnable-element-id=\"vector-page-tools\"\\n\\tdata-pinned-container-id=\"vector-page-tools-pinned-container\"\\n\\tdata-unpinned-container-id=\"vector-page-tools-unpinned-container\"\\n>\\n\\t<div class=\"vector-pinnable-header-label\">Tools</div>\\n\\t<button class=\"vector-pinnable-header-toggle-button vector-pinnable-header-pin-button\" data-event-name=\"pinnable-header.vector-page-tools.pin\">move to sidebar</button>\\n\\t<button class=\"vector-pinnable-header-toggle-button vector-pinnable-header-unpin-button\" data-event-name=\"pinnable-header.vector-page-tools.unpin\">hide</button>\\n</div>\\n\\n\\t\\n<div id=\"p-cactions\" class=\"vector-menu mw-portlet mw-portlet-cactions emptyPortlet vector-has-collapsible-items\"  title=\"More options\" >\\n\\t<div class=\"vector-menu-heading\">\\n\\t\\tActions\\n\\t</div>\\n\\t<div class=\"vector-menu-content\">\\n\\t\\t\\n\\t\\t<ul class=\"vector-menu-content-list\"><li id=\"ca-more-view\" class=\"selected vector-more-collapsible-item mw-list-item\"><a href=\"/wiki/List_of_languages_by_number_of_native_speakers\"><span>Read</span></a></li><li id=\"ca-more-viewsource\" class=\"vector-more-collapsible-item mw-list-item\"><a href=\"/w/index.php?title=List_of_languages_by_number_of_native_speakers&amp;action=edit\"><span>View source</span></a></li><li id=\"ca-more-history\" class=\"vector-more-collapsible-item mw-list-item\"><a href=\"/w/index.php?title=List_of_languages_by_number_of_native_speakers&amp;action=history\"><span>View history</span></a></li></ul>\\n\\t\\t\\n\\t</div>\\n</div>\\n\\n<div id=\"p-tb\" class=\"vector-menu mw-portlet mw-portlet-tb\"  >\\n\\t<div class=\"vector-menu-heading\">\\n\\t\\tGeneral\\n\\t</div>\\n\\t<div class=\"vector-menu-content\">\\n\\t\\t\\n\\t\\t<ul class=\"vector-menu-content-list\"><li id=\"t-whatlinkshere\" class=\"mw-list-item\"><a href=\"/wiki/Special:WhatLinksHere/List_of_languages_by_number_of_native_speakers\" title=\"List of all English Wikipedia pages containing links to this page [j]\" accesskey=\"j\"><span>What links here</span></a></li><li id=\"t-recentchangeslinked\" class=\"mw-list-item\"><a href=\"/wiki/Special:RecentChangesLinked/List_of_languages_by_number_of_native_speakers\" rel=\"nofollow\" title=\"Recent changes in pages linked from this page [k]\" accesskey=\"k\"><span>Related changes</span></a></li><li id=\"t-upload\" class=\"mw-list-item\"><a href=\"/wiki/Wikipedia:File_Upload_Wizard\" title=\"Upload files [u]\" accesskey=\"u\"><span>Upload file</span></a></li><li id=\"t-specialpages\" class=\"mw-list-item\"><a href=\"/wiki/Special:SpecialPages\" title=\"A list of all special pages [q]\" accesskey=\"q\"><span>Special pages</span></a></li><li id=\"t-permalink\" class=\"mw-list-item\"><a href=\"/w/index.php?title=List_of_languages_by_number_of_native_speakers&amp;oldid=1153287786\" title=\"Permanent link to this revision of this page\"><span>Permanent link</span></a></li><li id=\"t-info\" class=\"mw-list-item\"><a href=\"/w/index.php?title=List_of_languages_by_number_of_native_speakers&amp;action=info\" title=\"More information about this page\"><span>Page information</span></a></li><li id=\"t-cite\" class=\"mw-list-item\"><a href=\"/w/index.php?title=Special:CiteThisPage&amp;page=List_of_languages_by_number_of_native_speakers&amp;id=1153287786&amp;wpFormIdentifier=titleform\" title=\"Information on how to cite this page\"><span>Cite this page</span></a></li><li id=\"t-wikibase\" class=\"mw-list-item\"><a href=\"https://www.wikidata.org/wiki/Special:EntityPage/Q4319\" title=\"Structured data on this page hosted by Wikidata [g]\" accesskey=\"g\"><span>Wikidata item</span></a></li></ul>\\n\\t\\t\\n\\t</div>\\n</div>\\n\\n<div id=\"p-coll-print_export\" class=\"vector-menu mw-portlet mw-portlet-coll-print_export\"  >\\n\\t<div class=\"vector-menu-heading\">\\n\\t\\tPrint/export\\n\\t</div>\\n\\t<div class=\"vector-menu-content\">\\n\\t\\t\\n\\t\\t<ul class=\"vector-menu-content-list\"><li id=\"coll-download-as-rl\" class=\"mw-list-item\"><a href=\"/w/index.php?title=Special:DownloadAsPdf&amp;page=List_of_languages_by_number_of_native_speakers&amp;action=show-download-screen\" title=\"Download this page as a PDF file\"><span>Download as PDF</span></a></li><li id=\"t-print\" class=\"mw-list-item\"><a href=\"/w/index.php?title=List_of_languages_by_number_of_native_speakers&amp;printable=yes\" title=\"Printable version of this page [p]\" accesskey=\"p\"><span>Printable version</span></a></li></ul>\\n\\t\\t\\n\\t</div>\\n</div>\\n\\n<div id=\"p-wikibase-otherprojects\" class=\"vector-menu mw-portlet mw-portlet-wikibase-otherprojects\"  >\\n\\t<div class=\"vector-menu-heading\">\\n\\t\\tIn other projects\\n\\t</div>\\n\\t<div class=\"vector-menu-content\">\\n\\t\\t\\n\\t\\t<ul class=\"vector-menu-content-list\"><li class=\"wb-otherproject-link wb-otherproject-wiktionary mw-list-item\"><a href=\"https://en.wiktionary.org/wiki/Appendix:Bantu_Swadesh_lists\" hreflang=\"en\"><span>Wiktionary</span></a></li></ul>\\n\\t\\t\\n\\t</div>\\n</div>\\n\\n</div>\\n\\n\\t\\t\\t\\t\\t\\t\\t\\t\\t</div>\\n\\t\\t\\t\\t\\n\\t</div>\\n</div>\\n\\t\\t\\t\\t\\t\\t\\t</nav>\\n\\t\\t\\t\\t\\t\\t</div>\\n\\t\\t\\t\\t\\t</div>\\n\\t\\t\\t\\t</div>\\n\\t\\t\\t\\t<div class=\"vector-column-end\">\\n\\t\\t\\t\\t\\t<nav class=\"vector-page-tools-landmark vector-sticky-pinned-container\" aria-label=\"More options\">\\n\\t\\t\\t\\t\\t\\t<div id=\"vector-page-tools-pinned-container\" class=\"vector-pinned-container\">\\n\\t\\t\\t\\n\\t\\t\\t\\t\\t\\t</div>\\n\\t</nav>\\n\\t\\t\\t\\t</div>\\n\\t\\t\\t\\t<div id=\"bodyContent\" class=\"vector-body\" aria-labelledby=\"firstHeading\" data-mw-ve-target-container>\\n\\t\\t\\t\\t\\t<div class=\"vector-body-before-content\">\\n\\t\\t\\t\\t\\t\\t\\t<div class=\"mw-indicators\">\\n\\t\\t<div id=\"mw-indicator-pp-default\" class=\"mw-indicator\"><div class=\"mw-parser-output\"><a href=\"/wiki/Wikipedia:Protection_policy#semi\" title=\"This article is semi-protected.\"><img alt=\"Page semi-protected\" src=\"//upload.wikimedia.org/wikipedia/en/thumb/1/1b/Semi-protection-shackle.svg/20px-Semi-protection-shackle.svg.png\" decoding=\"async\" width=\"20\" height=\"20\" srcset=\"//upload.wikimedia.org/wikipedia/en/thumb/1/1b/Semi-protection-shackle.svg/30px-Semi-protection-shackle.svg.png 1.5x, //upload.wikimedia.org/wikipedia/en/thumb/1/1b/Semi-protection-shackle.svg/40px-Semi-protection-shackle.svg.png 2x\" data-file-width=\"512\" data-file-height=\"512\" /></a></div></div>\\n\\t\\t</div>\\n\\n\\t\\t\\t\\t\\t\\t<div id=\"siteSub\" class=\"noprint\">From Wikipedia, the free encyclopedia</div>\\n\\t\\t\\t\\t\\t</div>\\n\\t\\t\\t\\t\\t<div id=\"contentSub\"><div id=\"mw-content-subtitle\"></div></div>\\n\\t\\t\\t\\t\\t\\n\\t\\t\\t\\t\\t\\n\\t\\t\\t\\t\\t<div id=\"mw-content-text\" class=\"mw-body-content mw-content-ltr\" lang=\"en\" dir=\"ltr\"><div class=\"mw-parser-output\"><p class=\"mw-empty-elt\">\\n</p>\\n<style data-mw-deduplicate=\"TemplateStyles:r1033289096\">.mw-parser-output .hatnote{font-style:italic}.mw-parser-output div.hatnote{padding-left:1.6em;margin-bottom:0.5em}.mw-parser-output .hatnote i{font-style:normal}.mw-parser-output .hatnote+link+.hatnote{margin-top:-0.5em}</style><div role=\"note\" class=\"hatnote navigation-not-searchable\">For languages by total speakers, see <a href=\"/wiki/List_of_languages_by_total_number_of_speakers\" title=\"List of languages by total number of speakers\">List of languages by total number of speakers</a>. For languages with the smallest numbers of native speakers, see <a href=\"/wiki/Lists_of_endangered_languages\" title=\"Lists of endangered languages\">lists of endangered languages</a>.</div>\\n<p class=\"mw-empty-elt\">\\n\\n</p>\\n<div class=\"thumb tright\"><div class=\"thumbinner\" style=\"width:442px;\"><a href=\"/wiki/File:Human_Language_Families.png\" class=\"image\"><img src=\"//upload.wikimedia.org/wikipedia/commons/thumb/c/c8/Human_Language_Families.png/440px-Human_Language_Families.png\" decoding=\"async\" width=\"440\" height=\"211\" class=\"thumbimage\" srcset=\"//upload.wikimedia.org/wikipedia/commons/thumb/c/c8/Human_Language_Families.png/660px-Human_Language_Families.png 1.5x, //upload.wikimedia.org/wikipedia/commons/thumb/c/c8/Human_Language_Families.png/880px-Human_Language_Families.png 2x\" data-file-width=\"1357\" data-file-height=\"650\" /></a>  <div class=\"thumbcaption\"><div class=\"magnify\"><a href=\"/wiki/File:Human_Language_Families.png\" class=\"internal\" title=\"Enlarge\"></a></div>Current distribution of human language families</div></div></div>\\n<p>This article ranks human languages by their number of <a href=\"/wiki/Native_speaker\" class=\"mw-redirect\" title=\"Native speaker\">native speakers</a>.\\n</p><p>However, all such rankings should be used with caution, because it is not possible to devise a coherent set of linguistic criteria for distinguishing languages in a <a href=\"/wiki/Dialect_continuum\" title=\"Dialect continuum\">dialect continuum</a>.<sup id=\"cite_ref-Paolillo&amp;Das_1-0\" class=\"reference\"><a href=\"#cite_note-Paolillo&amp;Das-1\">&#91;1&#93;</a></sup>\\nFor example, a language is often defined as a set of <a href=\"/wiki/Variety_(linguistics)\" title=\"Variety (linguistics)\">varieties</a> that are <a href=\"/wiki/Mutually_intelligible\" class=\"mw-redirect\" title=\"Mutually intelligible\">mutually intelligible</a>, but independent national standard languages may be considered to be separate languages even though they are largely mutually intelligible, as in the case of <a href=\"/wiki/Danish_language\" title=\"Danish language\">Danish</a> and <a href=\"/wiki/Norwegian_language\" title=\"Norwegian language\">Norwegian</a>.<sup id=\"cite_ref-2\" class=\"reference\"><a href=\"#cite_note-2\">&#91;2&#93;</a></sup>\\nConversely, many commonly accepted languages, including <a href=\"/wiki/German_language\" title=\"German language\">German</a>, <a href=\"/wiki/Italian_language\" title=\"Italian language\">Italian</a> and even <a href=\"/wiki/English_language\" title=\"English language\">English</a>, encompass varieties that are not mutually intelligible.<sup id=\"cite_ref-Paolillo&amp;Das_1-1\" class=\"reference\"><a href=\"#cite_note-Paolillo&amp;Das-1\">&#91;1&#93;</a></sup><sup class=\"noprint Inline-Template noprint noexcerpt Template-Fact\" style=\"white-space:nowrap;\">&#91;<i><a href=\"/wiki/Wikipedia:NOTRS\" class=\"mw-redirect\" title=\"Wikipedia:NOTRS\"><span title=\"times out (December 2021)\">better&#160;source&#160;needed</span></a></i>&#93;</sup>\\nWhile <a href=\"/wiki/Arabic_language\" class=\"mw-redirect\" title=\"Arabic language\">Arabic</a> is sometimes considered a single language centred on <a href=\"/wiki/Modern_Standard_Arabic\" title=\"Modern Standard Arabic\">Modern Standard Arabic</a>, other authors describe its mutually unintelligible varieties as separate languages.<sup id=\"cite_ref-3\" class=\"reference\"><a href=\"#cite_note-3\">&#91;3&#93;</a></sup>\\nSimilarly, <a href=\"/wiki/Chinese_language\" title=\"Chinese language\">Chinese</a> is sometimes viewed as a single language because of a shared culture and common literary language.<sup id=\"cite_ref-4\" class=\"reference\"><a href=\"#cite_note-4\">&#91;4&#93;</a></sup>\\nIt is also common to describe various Chinese dialect groups, such as <a href=\"/wiki/Mandarin_Chinese\" title=\"Mandarin Chinese\">Mandarin</a>, <a href=\"/wiki/Wu_Chinese\" title=\"Wu Chinese\">Wu</a> and <a href=\"/wiki/Yue_Chinese\" title=\"Yue Chinese\">Yue</a>, as languages, even though each of these groups contains many mutually unintelligible varieties.<sup id=\"cite_ref-5\" class=\"reference\"><a href=\"#cite_note-5\">&#91;5&#93;</a></sup>\\n</p><p>There are also difficulties in obtaining reliable counts of speakers, which vary over time because of population change and <a href=\"/wiki/Language_shift\" title=\"Language shift\">language shift</a>.\\nIn some areas, there is no reliable <a href=\"/wiki/Census\" title=\"Census\">census</a> data, the data is not current, or the census may not record languages spoken, or record them ambiguously.\\nSometimes speaker populations are exaggerated for political reasons, or speakers of minority languages may be under-reported in favour of a national language.<sup id=\"cite_ref-6\" class=\"reference\"><a href=\"#cite_note-6\">&#91;6&#93;</a></sup>\\n</p>\\n<meta property=\"mw:PageProp/toc\" />\\n<h2><span class=\"mw-headline\" id=\"Top_languages_by_population\">Top languages by population</span></h2>\\n<h3><span id=\"Ethnologue_.282023.2C_26th_edition.29\"></span><span class=\"mw-headline\" id=\"Ethnologue_(2023,_26th_edition)\"><i>Ethnologue</i> (2023, 26th edition)</span></h3>\\n<p>The following languages are listed as having at least 50 million first-language speakers in the 2023 edition of <i><a href=\"/wiki/Ethnologue\" title=\"Ethnologue\">Ethnologue</a></i>.<sup id=\"cite_ref-e26_7-0\" class=\"reference\"><a href=\"#cite_note-e26-7\">&#91;7&#93;</a></sup> Entries identified by <i>Ethnologue</i> as <a href=\"/wiki/ISO_639_macrolanguage\" title=\"ISO 639 macrolanguage\">macrolanguages</a> (such as <a href=\"/wiki/Arabic_language\" class=\"mw-redirect\" title=\"Arabic language\">Arabic</a>, <a href=\"/wiki/Lahnda\" title=\"Lahnda\">Lahnda</a>, <a href=\"/wiki/Persian_language\" title=\"Persian language\">Persian</a>, <a href=\"/wiki/Malay_language\" title=\"Malay language\">Malay</a>, <a href=\"/wiki/Pashto_language\" class=\"mw-redirect\" title=\"Pashto language\">Pashto</a>, and <a href=\"/wiki/Chinese_language\" title=\"Chinese language\">Chinese</a>, encompassing all their respective <a href=\"/wiki/Variety_(linguistics)\" title=\"Variety (linguistics)\">varieties</a>) are not included in this section.\\n<style data-mw-deduplicate=\"TemplateStyles:r1127766600\">.mw-parser-output table.static-row-numbers{counter-reset:rowNumber}body.skin-minerva .mw-parser-output .static-row-numbers2.sortable{counter-reset:rowNumber -1}body.skin-minerva .mw-parser-output .static-row-numbers2.sortable.static-row-header-two{counter-reset:rowNumber -2}.mw-parser-output table.static-row-numbers tr::before{display:table-cell;padding-right:0.5em;text-align:right}.mw-parser-output table.static-row-numbers tr::before{content:\"\"}.mw-parser-output .static-row-numbers-skip{counter-increment:rowNumber}.mw-parser-output table.static-row-numbers.sortable tbody tr:not(.static-row-header):not(.static-row-numbers-norank)::before,.mw-parser-output table.static-row-numbers:not(.sortable) tbody tr:not(:first-child):not(.static-row-header):not(.static-row-numbers-norank)::before{counter-increment:rowNumber;content:counter(rowNumber);padding-right:0.5em;padding-left:0.5em;vertical-align:inherit}.mw-parser-output .static-row-header-text thead tr::before{content:\"No.\";padding-right:0.5em;padding-left:0.5em;font-weight:bold}.mw-parser-output .static-row-header-hash thead tr::before{content:\"#\";padding-right:0.5em;padding-left:0.5em;font-weight:bold}.mw-parser-output .static-row-header-row thead tr::before{content:\"Row\";padding-right:0.5em;padding-left:0.5em;font-weight:bold}body:not(.skin-minerva) .mw-parser-output .static-row-numbers.wikitable tr::before{background-color:#eaecf0;vertical-align:middle}body:not(.skin-minerva) .mw-parser-output .static-row-numbers.mw-datatable:not(.wikitable) tr::before{background-color:#eaeeff}.mw-parser-output table.static-row-numbers.wikitable tbody tr:not(.static-row-header)::before,body:not(.skin-minerva) .mw-parser-output .static-row-numbers.mw-datatable:not(.wikitable) tbody tr::before{border:1px solid #a2a9b1}.mw-parser-output .static-row-numbers-period2 tbody tr::before{content:counter(rowNumber)\".\"}.mw-parser-output .srn-white-background{background:#fff}.mw-parser-output .static-row-numbers tr:hover{background:#eaf3ff}</style>\\n</p>\\n<table class=\"wikitable sortable static-row-numbers\">\\n<caption>Languages with at least 50 million first-language speakers<sup id=\"cite_ref-e26_7-1\" class=\"reference\"><a href=\"#cite_note-e26-7\">&#91;7&#93;</a></sup>\\n</caption>\\n<tbody><tr>\\n<th>Language\\n</th>\\n<th data-sort-type=\"number\">Native speakers<br /><small>(millions)</small>\\n</th>\\n<th>Language family\\n</th>\\n<th>Branch\\n</th></tr>\\n<tr>\\n<td><a href=\"/wiki/ISO_639:cmn\" class=\"mw-redirect\" title=\"ISO 639:cmn\">Mandarin Chinese</a><br />(incl. <a href=\"/wiki/Standard_Chinese\" title=\"Standard Chinese\">Standard Chinese</a>, but excl. <a href=\"/wiki/Varieties_of_Chinese\" title=\"Varieties of Chinese\">other varieties</a>)\\n</td>\\n<td>939\\n</td>\\n<td><a href=\"/wiki/Sino-Tibetan_languages\" title=\"Sino-Tibetan languages\">Sino-Tibetan</a>\\n</td>\\n<td><a href=\"/wiki/Varieties_of_Chinese\" title=\"Varieties of Chinese\">Sinitic</a>\\n</td></tr>\\n<tr>\\n<td><a href=\"/wiki/ISO_639:spa\" class=\"mw-redirect\" title=\"ISO 639:spa\">Spanish</a>\\n</td>\\n<td>485\\n</td>\\n<td><a href=\"/wiki/Indo-European_languages\" title=\"Indo-European languages\">Indo-European</a>\\n</td>\\n<td><a href=\"/wiki/Romance_languages\" title=\"Romance languages\">Romance</a>\\n</td></tr>\\n<tr>\\n<td><a href=\"/wiki/ISO_639:eng\" class=\"mw-redirect\" title=\"ISO 639:eng\">English</a>\\n</td>\\n<td>380\\n</td>\\n<td><a href=\"/wiki/Indo-European_languages\" title=\"Indo-European languages\">Indo-European</a>\\n</td>\\n<td><a href=\"/wiki/Germanic_languages\" title=\"Germanic languages\">Germanic</a>\\n</td></tr>\\n<tr>\\n<td><a href=\"/wiki/ISO_639:hin\" class=\"mw-redirect\" title=\"ISO 639:hin\">Hindi</a><br />(excl. <a href=\"/wiki/Urdu\" title=\"Urdu\">Urdu</a>, and <a href=\"/wiki/Hindi_Belt\" title=\"Hindi Belt\">other languages</a>)\\n</td>\\n<td>345\\n</td>\\n<td><a href=\"/wiki/Indo-European_languages\" title=\"Indo-European languages\">Indo-European</a>\\n</td>\\n<td><a href=\"/wiki/Indo-Aryan_languages\" title=\"Indo-Aryan languages\">Indo-Aryan</a>\\n</td></tr>\\n<tr>\\n<td><a href=\"/wiki/ISO_639:ben\" class=\"mw-redirect\" title=\"ISO 639:ben\">Bengali</a>\\n</td>\\n<td>300\\n</td>\\n<td><a href=\"/wiki/Indo-European_languages\" title=\"Indo-European languages\">Indo-European</a>\\n</td>\\n<td><a href=\"/wiki/Indo-Aryan_languages\" title=\"Indo-Aryan languages\">Indo-Aryan</a>\\n</td></tr>\\n<tr>\\n<td><a href=\"/wiki/ISO_639:por\" class=\"mw-redirect\" title=\"ISO 639:por\">Portuguese</a>\\n</td>\\n<td>236\\n</td>\\n<td><a href=\"/wiki/Indo-European_languages\" title=\"Indo-European languages\">Indo-European</a>\\n</td>\\n<td><a href=\"/wiki/Romance_languages\" title=\"Romance languages\">Romance</a>\\n</td></tr>\\n<tr>\\n<td><a href=\"/wiki/ISO_639:rus\" class=\"mw-redirect\" title=\"ISO 639:rus\">Russian</a>\\n</td>\\n<td>147\\n</td>\\n<td><a href=\"/wiki/Indo-European_languages\" title=\"Indo-European languages\">Indo-European</a>\\n</td>\\n<td><a href=\"/wiki/Balto-Slavic_languages\" title=\"Balto-Slavic languages\">Balto-Slavic</a>\\n</td></tr>\\n<tr>\\n<td><a href=\"/wiki/ISO_639:jpn\" class=\"mw-redirect\" title=\"ISO 639:jpn\">Japanese</a>\\n</td>\\n<td>123\\n</td>\\n<td><a href=\"/wiki/Japonic_languages\" title=\"Japonic languages\">Japonic</a>\\n</td>\\n<td><a href=\"/wiki/Japanese_language\" title=\"Japanese language\">Japanese</a>\\n</td></tr>\\n<tr>\\n<td><a href=\"/wiki/ISO_639:yue\" class=\"mw-redirect\" title=\"ISO 639:yue\">Yue Chinese</a><br />(incl. <a href=\"/wiki/Cantonese\" title=\"Cantonese\">Cantonese</a>)\\n</td>\\n<td>86.1\\n</td>\\n<td><a href=\"/wiki/Sino-Tibetan_languages\" title=\"Sino-Tibetan languages\">Sino-Tibetan</a>\\n</td>\\n<td><a href=\"/wiki/Varieties_of_Chinese\" title=\"Varieties of Chinese\">Sinitic</a>\\n</td></tr>\\n<tr>\\n<td><a href=\"/wiki/ISO_639:vie\" class=\"mw-redirect\" title=\"ISO 639:vie\">Vietnamese</a>\\n</td>\\n<td>85.0\\n</td>\\n<td><a href=\"/wiki/Austroasiatic_languages\" title=\"Austroasiatic languages\">Austroasiatic</a>\\n</td>\\n<td><a href=\"/wiki/Vietic_languages\" title=\"Vietic languages\">Vietic</a>\\n</td></tr>\\n<tr>\\n<td><a href=\"/wiki/ISO_639:tur\" class=\"mw-redirect\" title=\"ISO 639:tur\">Turkish</a>\\n</td>\\n<td>84.0\\n</td>\\n<td><a href=\"/wiki/Turkic_languages\" title=\"Turkic languages\">Turkic</a>\\n</td>\\n<td><a href=\"/wiki/Oghuz_languages\" title=\"Oghuz languages\">Oghuz</a>\\n</td></tr>\\n<tr>\\n<td><a href=\"/wiki/ISO_639:wuu\" class=\"mw-redirect\" title=\"ISO 639:wuu\">Wu Chinese</a><br />(incl. <a href=\"/wiki/Shanghainese\" title=\"Shanghainese\">Shanghainese</a>)\\n</td>\\n<td>83.4\\n</td>\\n<td><a href=\"/wiki/Sino-Tibetan_languages\" title=\"Sino-Tibetan languages\">Sino-Tibetan</a>\\n</td>\\n<td><a href=\"/wiki/Varieties_of_Chinese\" title=\"Varieties of Chinese\">Sinitic</a>\\n</td></tr>\\n<tr>\\n<td><a href=\"/wiki/ISO_639:mar\" class=\"mw-redirect\" title=\"ISO 639:mar\">Marathi</a>\\n</td>\\n<td>83.2\\n</td>\\n<td><a href=\"/wiki/Indo-European_languages\" title=\"Indo-European languages\">Indo-European</a>\\n</td>\\n<td><a href=\"/wiki/Indo-Aryan_languages\" title=\"Indo-Aryan languages\">Indo-Aryan</a>\\n</td></tr>\\n<tr>\\n<td><a href=\"/wiki/ISO_639:tel\" class=\"mw-redirect\" title=\"ISO 639:tel\">Telugu</a>\\n</td>\\n<td>83.0\\n</td>\\n<td><a href=\"/wiki/Dravidian_languages\" title=\"Dravidian languages\">Dravidian</a>\\n</td>\\n<td>South-Central\\n</td></tr>\\n<tr>\\n<td><a href=\"/wiki/ISO_639:kor\" class=\"mw-redirect\" title=\"ISO 639:kor\">Korean</a>\\n</td>\\n<td>81.7\\n</td>\\n<td><a href=\"/wiki/Koreanic_languages\" title=\"Koreanic languages\">Koreanic</a>\\n</td>\\n<td data-sort-value=\"\" style=\"background: #ececec; color: #2C2C2C; vertical-align: middle; text-align: center;\" class=\"table-na\">\\xe2\\x80\\x94\\n</td></tr>\\n<tr>\\n<td><a href=\"/wiki/ISO_639:fra\" class=\"mw-redirect\" title=\"ISO 639:fra\">French</a>\\n</td>\\n<td>80.8\\n</td>\\n<td><a href=\"/wiki/Indo-European_languages\" title=\"Indo-European languages\">Indo-European</a>\\n</td>\\n<td><a href=\"/wiki/Romance_languages\" title=\"Romance languages\">Romance</a>\\n</td></tr>\\n<tr>\\n<td><a href=\"/wiki/ISO_639:tam\" class=\"mw-redirect\" title=\"ISO 639:tam\">Tamil</a>\\n</td>\\n<td>78.6\\n</td>\\n<td><a href=\"/wiki/Dravidian_languages\" title=\"Dravidian languages\">Dravidian</a>\\n</td>\\n<td>South\\n</td></tr>\\n<tr>\\n<td><a href=\"/wiki/ISO_639:arz\" class=\"mw-redirect\" title=\"ISO 639:arz\">Egyptian Spoken Arabic</a><br />(excl. <a href=\"/wiki/Sa%CA%BDidi_Arabic\" title=\"Sa\\xca\\xbdidi Arabic\">Sa\\xca\\xbdidi Arabic</a>)\\n</td>\\n<td>77.4\\n</td>\\n<td><a href=\"/wiki/Afroasiatic_languages\" title=\"Afroasiatic languages\">Afroasiatic</a>\\n</td>\\n<td><a href=\"/wiki/Semitic_languages\" title=\"Semitic languages\">Semitic</a>\\n</td></tr>\\n<tr>\\n<td><a href=\"/wiki/ISO_639:deu\" class=\"mw-redirect\" title=\"ISO 639:deu\">Standard German</a>\\n</td>\\n<td>75.3\\n</td>\\n<td><a href=\"/wiki/Indo-European_languages\" title=\"Indo-European languages\">Indo-European</a>\\n</td>\\n<td><a href=\"/wiki/Germanic_languages\" title=\"Germanic languages\">Germanic</a>\\n</td></tr>\\n<tr>\\n<td><a href=\"/wiki/ISO_639:urd\" class=\"mw-redirect\" title=\"ISO 639:urd\">Urdu</a><br />(excl. <a href=\"/wiki/Hindi\" title=\"Hindi\">Hindi</a>)\\n</td>\\n<td>70.6\\n</td>\\n<td><a href=\"/wiki/Indo-European_languages\" title=\"Indo-European languages\">Indo-European</a>\\n</td>\\n<td><a href=\"/wiki/Indo-Aryan_languages\" title=\"Indo-Aryan languages\">Indo-Aryan</a>\\n</td></tr>\\n<tr>\\n<td><a href=\"/wiki/ISO_639:jav\" class=\"mw-redirect\" title=\"ISO 639:jav\">Javanese</a>\\n</td>\\n<td>68.3\\n</td>\\n<td><a href=\"/wiki/Austronesian_languages\" title=\"Austronesian languages\">Austronesian</a>\\n</td>\\n<td><a href=\"/wiki/Malayo-Polynesian_languages\" title=\"Malayo-Polynesian languages\">Malayo-Polynesian</a>\\n</td></tr>\\n<tr>\\n<td><a href=\"/wiki/ISO_639:pnb\" class=\"mw-redirect\" title=\"ISO 639:pnb\">Western Punjabi</a><br />(excl. <a href=\"/wiki/Eastern_Punjabi_language\" class=\"mw-redirect\" title=\"Eastern Punjabi language\">Eastern Punjabi</a>)\\n</td>\\n<td>66.7\\n</td>\\n<td><a href=\"/wiki/Indo-European_languages\" title=\"Indo-European languages\">Indo-European</a>\\n</td>\\n<td><a href=\"/wiki/Indo-Aryan_languages\" title=\"Indo-Aryan languages\">Indo-Aryan</a>\\n</td></tr>\\n<tr>\\n<td><a href=\"/wiki/ISO_639:ita\" class=\"mw-redirect\" title=\"ISO 639:ita\">Italian</a>\\n</td>\\n<td>64.6\\n</td>\\n<td><a href=\"/wiki/Indo-European_languages\" title=\"Indo-European languages\">Indo-European</a>\\n</td>\\n<td><a href=\"/wiki/Romance_languages\" title=\"Romance languages\">Romance</a>\\n</td></tr>\\n<tr>\\n<td><a href=\"/wiki/ISO_639:guj\" class=\"mw-redirect\" title=\"ISO 639:guj\">Gujarati</a>\\n</td>\\n<td>57.1\\n</td>\\n<td><a href=\"/wiki/Indo-European_languages\" title=\"Indo-European languages\">Indo-European</a>\\n</td>\\n<td><a href=\"/wiki/Indo-Aryan_languages\" title=\"Indo-Aryan languages\">Indo-Aryan</a>\\n</td></tr>\\n<tr>\\n<td><a href=\"/wiki/ISO_639:pes\" class=\"mw-redirect\" title=\"ISO 639:pes\">Iranian Persian</a><br />(excl. <a href=\"/wiki/Dari\" title=\"Dari\">Dari</a> and <a href=\"/wiki/Tajik_language\" title=\"Tajik language\">Tajik</a>)\\n</td>\\n<td>57.2\\n</td>\\n<td><a href=\"/wiki/Indo-European_languages\" title=\"Indo-European languages\">Indo-European</a>\\n</td>\\n<td><a href=\"/wiki/Iranian_languages\" title=\"Iranian languages\">Iranian</a>\\n</td></tr>\\n<tr>\\n<td><a href=\"/wiki/ISO_639:bho\" class=\"mw-redirect\" title=\"ISO 639:bho\">Bhojpuri</a>\\n</td>\\n<td>52.3\\n</td>\\n<td><a href=\"/wiki/Indo-European_languages\" title=\"Indo-European languages\">Indo-European</a>\\n</td>\\n<td><a href=\"/wiki/Indo-Aryan_languages\" title=\"Indo-Aryan languages\">Indo-Aryan</a>\\n</td></tr>\\n<tr>\\n<td><a href=\"/wiki/ISO_639:hau\" class=\"mw-redirect\" title=\"ISO 639:hau\">Hausa</a>\\n</td>\\n<td>51.7\\n</td>\\n<td><a href=\"/wiki/Afroasiatic_languages\" title=\"Afroasiatic languages\">Afroasiatic</a>\\n</td>\\n<td><a href=\"/wiki/Chadic_languages\" title=\"Chadic languages\">Chadic</a>\\n</td></tr></tbody></table>\\n<h3><span id=\"CIA_.282018_estimates.29\"></span><span class=\"mw-headline\" id=\"CIA_(2018_estimates)\">CIA (2018 estimates)</span></h3>\\n<p>According to the <a href=\"/wiki/Central_Intelligence_Agency\" title=\"Central Intelligence Agency\">CIA</a>, the most-spoken first languages in 2018 were:<sup id=\"cite_ref-CIA_8-0\" class=\"reference\"><a href=\"#cite_note-CIA-8\">&#91;8&#93;</a></sup>\\n</p>\\n<table class=\"wikitable sortable\">\\n<caption>Top first languages by population per <i>CIA</i><sup id=\"cite_ref-CIA_8-1\" class=\"reference\"><a href=\"#cite_note-CIA-8\">&#91;8&#93;</a></sup>\\n</caption>\\n<tbody><tr>\\n<th>Rank\\n</th>\\n<th>Language\\n</th>\\n<th>Percentage<br />of world<br />population<br />(2018)\\n</th></tr>\\n<tr>\\n<td>1</td>\\n<td><a href=\"/wiki/Mandarin_Chinese\" title=\"Mandarin Chinese\">Mandarin Chinese</a></td>\\n<td>12.3%\\n</td></tr>\\n<tr>\\n<td>2</td>\\n<td><a href=\"/wiki/Spanish_language\" title=\"Spanish language\">Spanish</a></td>\\n<td>6.0%\\n</td></tr>\\n<tr>\\n<td>3</td>\\n<td><a href=\"/wiki/English_language\" title=\"English language\">English</a></td>\\n<td>5.1%\\n</td></tr>\\n<tr>\\n<td>3</td>\\n<td><a href=\"/wiki/Arabic_language\" class=\"mw-redirect\" title=\"Arabic language\">Arabic</a></td>\\n<td>5.1%\\n</td></tr>\\n<tr>\\n<td>5</td>\\n<td><a href=\"/wiki/Hindi_language\" class=\"mw-redirect\" title=\"Hindi language\">Hindi</a></td>\\n<td>3.5%\\n</td></tr>\\n<tr>\\n<td>6</td>\\n<td><a href=\"/wiki/Bengali_language\" title=\"Bengali language\">Bengali</a></td>\\n<td>3.3%\\n</td></tr>\\n<tr>\\n<td>7</td>\\n<td><a href=\"/wiki/Portuguese_language\" title=\"Portuguese language\">Portuguese</a></td>\\n<td>3.0%\\n</td></tr>\\n<tr>\\n<td>8</td>\\n<td><a href=\"/wiki/Russian_language\" title=\"Russian language\">Russian</a></td>\\n<td>2.1%\\n</td></tr>\\n<tr>\\n<td>9</td>\\n<td><a href=\"/wiki/Japanese_language\" title=\"Japanese language\">Japanese</a></td>\\n<td>1.7%\\n</td></tr>\\n<tr>\\n<td>10</td>\\n<td><a href=\"/wiki/Lahnda\" title=\"Lahnda\">Western Punjabi</a></td>\\n<td>1.3%\\n</td></tr>\\n<tr>\\n<td>11</td>\\n<td><a href=\"/wiki/Javanese_language\" title=\"Javanese language\">Javanese</a></td>\\n<td>1.1%\\n</td></tr></tbody></table>\\n<h2><span class=\"mw-headline\" id=\"See_also\">See also</span></h2>\\n<style data-mw-deduplicate=\"TemplateStyles:r1147244281\">.mw-parser-output .div-col{margin-top:0.3em;column-width:30em}.mw-parser-output .div-col-small{font-size:90%}.mw-parser-output .div-col-rules{column-rule:1px solid #aaa}.mw-parser-output .div-col dl,.mw-parser-output .div-col ol,.mw-parser-output .div-col ul{margin-top:0}.mw-parser-output .div-col li,.mw-parser-output .div-col dd{page-break-inside:avoid;break-inside:avoid-column}.mw-parser-output .plainlist ol,.mw-parser-output .plainlist ul{line-height:inherit;list-style:none;margin:0}.mw-parser-output .plainlist ol li,.mw-parser-output .plainlist ul li{margin-bottom:0}</style><div class=\"div-col\" style=\"column-width: 30em;\">\\n<ul><li><a href=\"/wiki/List_of_languages_by_total_number_of_speakers\" title=\"List of languages by total number of speakers\">List of languages by total number of speakers</a></li>\\n<li><a href=\"/wiki/List_of_sign_languages_by_number_of_native_signers\" title=\"List of sign languages by number of native signers\">List of sign languages by number of native signers</a></li>\\n<li><a href=\"/wiki/List_of_languages_by_the_number_of_countries_in_which_they_are_recognized_as_an_official_language\" title=\"List of languages by the number of countries in which they are recognized as an official language\">List of languages by the number of countries in which they are recognized as an official language</a></li>\\n<li><a href=\"/wiki/Number_of_languages_by_country\" title=\"Number of languages by country\">Number of languages by country</a></li>\\n<li><a href=\"/wiki/Languages_used_on_the_Internet\" title=\"Languages used on the Internet\">Languages used on the Internet</a></li>\\n<li><a href=\"/wiki/List_of_ISO_639-3_codes\" title=\"List of ISO 639-3 codes\">List of ISO 639-3 codes</a></li>\\n<li><a href=\"/wiki/Lists_of_languages\" title=\"Lists of languages\">Lists of languages</a></li>\\n<li><a href=\"/wiki/List_of_European_languages_by_number_of_speakers\" class=\"mw-redirect\" title=\"List of European languages by number of speakers\">List of European languages by number of speakers</a></li>\\n<li><a href=\"/wiki/Global_language_system\" title=\"Global language system\">Global language system</a></li>\\n<li><a href=\"/wiki/Linguistic_diversity_index\" title=\"Linguistic diversity index\">Linguistic diversity index</a></li>\\n<li><a href=\"/wiki/World_language\" title=\"World language\">World language</a></li></ul>\\n</div>\\n<h2><span class=\"mw-headline\" id=\"Notes\">Notes</span></h2>\\n<style data-mw-deduplicate=\"TemplateStyles:r1011085734\">.mw-parser-output .reflist{font-size:90%;margin-bottom:0.5em;list-style-type:decimal}.mw-parser-output .reflist .references{font-size:100%;margin-bottom:0;list-style-type:inherit}.mw-parser-output .reflist-columns-2{column-width:30em}.mw-parser-output .reflist-columns-3{column-width:25em}.mw-parser-output .reflist-columns{margin-top:0.3em}.mw-parser-output .reflist-columns ol{margin-top:0}.mw-parser-output .reflist-columns li{page-break-inside:avoid;break-inside:avoid-column}.mw-parser-output .reflist-upper-alpha{list-style-type:upper-alpha}.mw-parser-output .reflist-upper-roman{list-style-type:upper-roman}.mw-parser-output .reflist-lower-alpha{list-style-type:lower-alpha}.mw-parser-output .reflist-lower-greek{list-style-type:lower-greek}.mw-parser-output .reflist-lower-roman{list-style-type:lower-roman}</style><div class=\"reflist reflist-lower-alpha\">\\n</div>\\n<h2><span class=\"mw-headline\" id=\"References\">References</span></h2>\\n<link rel=\"mw-deduplicated-inline-style\" href=\"mw-data:TemplateStyles:r1011085734\"/><div class=\"reflist\">\\n<div class=\"mw-references-wrap\"><ol class=\"references\">\\n<li id=\"cite_note-Paolillo&amp;Das-1\"><span class=\"mw-cite-backlink\">^ <a href=\"#cite_ref-Paolillo&amp;Das_1-0\"><sup><i><b>a</b></i></sup></a> <a href=\"#cite_ref-Paolillo&amp;Das_1-1\"><sup><i><b>b</b></i></sup></a></span> <span class=\"reference-text\"><style data-mw-deduplicate=\"TemplateStyles:r1133582631\">.mw-parser-output cite.citation{font-style:inherit;word-wrap:break-word}.mw-parser-output .citation q{quotes:\"\\\\\"\"\"\\\\\"\"\"\\'\"\"\\'\"}.mw-parser-output .citation:target{background-color:rgba(0,127,255,0.133)}.mw-parser-output .id-lock-free a,.mw-parser-output .citation .cs1-lock-free a{background:url(\"//upload.wikimedia.org/wikipedia/commons/6/65/Lock-green.svg\")right 0.1em center/9px no-repeat}.mw-parser-output .id-lock-limited a,.mw-parser-output .id-lock-registration a,.mw-parser-output .citation .cs1-lock-limited a,.mw-parser-output .citation .cs1-lock-registration a{background:url(\"//upload.wikimedia.org/wikipedia/commons/d/d6/Lock-gray-alt-2.svg\")right 0.1em center/9px no-repeat}.mw-parser-output .id-lock-subscription a,.mw-parser-output .citation .cs1-lock-subscription a{background:url(\"//upload.wikimedia.org/wikipedia/commons/a/aa/Lock-red-alt-2.svg\")right 0.1em center/9px no-repeat}.mw-parser-output .cs1-ws-icon a{background:url(\"//upload.wikimedia.org/wikipedia/commons/4/4c/Wikisource-logo.svg\")right 0.1em center/12px no-repeat}.mw-parser-output .cs1-code{color:inherit;background:inherit;border:none;padding:inherit}.mw-parser-output .cs1-hidden-error{display:none;color:#d33}.mw-parser-output .cs1-visible-error{color:#d33}.mw-parser-output .cs1-maint{display:none;color:#3a3;margin-left:0.3em}.mw-parser-output .cs1-format{font-size:95%}.mw-parser-output .cs1-kern-left{padding-left:0.2em}.mw-parser-output .cs1-kern-right{padding-right:0.2em}.mw-parser-output .citation .mw-selflink{font-weight:inherit}</style><cite id=\"CITEREFPaolilloDas2006\" class=\"citation web cs1\">Paolillo, John C.; Das, Anupam (31 March 2006). <a rel=\"nofollow\" class=\"external text\" href=\"https://uis.unesco.org/sites/default/files/documents/evaluating-language-statistics-the-ethnologue-and-beyond-en_0.pdf\">\"Evaluating language statistics: the Ethnologue and beyond\"</a> <span class=\"cs1-format\">(PDF)</span>. <a href=\"/wiki/UNESCO\" title=\"UNESCO\">UNESCO</a> Institute of Statistics. pp.&#160;3\\xe2\\x80\\x935<span class=\"reference-accessdate\">. Retrieved <span class=\"nowrap\">17 November</span> 2018</span>.</cite><span title=\"ctx_ver=Z39.88-2004&amp;rft_val_fmt=info%3Aofi%2Ffmt%3Akev%3Amtx%3Abook&amp;rft.genre=unknown&amp;rft.btitle=Evaluating+language+statistics%3A+the+Ethnologue+and+beyond&amp;rft.pages=3-5&amp;rft.pub=UNESCO+Institute+of+Statistics&amp;rft.date=2006-03-31&amp;rft.aulast=Paolillo&amp;rft.aufirst=John+C.&amp;rft.au=Das%2C+Anupam&amp;rft_id=https%3A%2F%2Fuis.unesco.org%2Fsites%2Fdefault%2Ffiles%2Fdocuments%2Fevaluating-language-statistics-the-ethnologue-and-beyond-en_0.pdf&amp;rfr_id=info%3Asid%2Fen.wikipedia.org%3AList+of+languages+by+number+of+native+speakers\" class=\"Z3988\"></span></span>\\n</li>\\n<li id=\"cite_note-2\"><span class=\"mw-cite-backlink\"><b><a href=\"#cite_ref-2\">^</a></b></span> <span class=\"reference-text\"><link rel=\"mw-deduplicated-inline-style\" href=\"mw-data:TemplateStyles:r1133582631\"/><cite id=\"CITEREFChambersTrudgill1998\" class=\"citation book cs1\"><a href=\"/wiki/Jack_Chambers_(linguist)\" title=\"Jack Chambers (linguist)\">Chambers, J.K.</a>; <a href=\"/wiki/Peter_Trudgill\" title=\"Peter Trudgill\">Trudgill, Peter</a> (1998). <i>Dialectology</i> (2nd&#160;ed.). Cambridge University Press. <a href=\"/wiki/ISBN_(identifier)\" class=\"mw-redirect\" title=\"ISBN (identifier)\">ISBN</a>&#160;<a href=\"/wiki/Special:BookSources/978-0-521-59646-6\" title=\"Special:BookSources/978-0-521-59646-6\"><bdi>978-0-521-59646-6</bdi></a>.</cite><span title=\"ctx_ver=Z39.88-2004&amp;rft_val_fmt=info%3Aofi%2Ffmt%3Akev%3Amtx%3Abook&amp;rft.genre=book&amp;rft.btitle=Dialectology&amp;rft.edition=2nd&amp;rft.pub=Cambridge+University+Press&amp;rft.date=1998&amp;rft.isbn=978-0-521-59646-6&amp;rft.aulast=Chambers&amp;rft.aufirst=J.K.&amp;rft.au=Trudgill%2C+Peter&amp;rfr_id=info%3Asid%2Fen.wikipedia.org%3AList+of+languages+by+number+of+native+speakers\" class=\"Z3988\"></span></span>\\n</li>\\n<li id=\"cite_note-3\"><span class=\"mw-cite-backlink\"><b><a href=\"#cite_ref-3\">^</a></b></span> <span class=\"reference-text\"><link rel=\"mw-deduplicated-inline-style\" href=\"mw-data:TemplateStyles:r1133582631\"/><cite id=\"CITEREFKayeRosenhouse1997\" class=\"citation book cs1\">Kaye, Alan S.; Rosenhouse, Judith (1997). \"Arabic Dialects and Maltese\".  In Hetzron, Robert (ed.). <i>The Semitic Languages</i>. Routledge. pp.&#160;263\\xe2\\x80\\x93311. <a href=\"/wiki/ISBN_(identifier)\" class=\"mw-redirect\" title=\"ISBN (identifier)\">ISBN</a>&#160;<a href=\"/wiki/Special:BookSources/978-0-415-05767-7\" title=\"Special:BookSources/978-0-415-05767-7\"><bdi>978-0-415-05767-7</bdi></a>.</cite><span title=\"ctx_ver=Z39.88-2004&amp;rft_val_fmt=info%3Aofi%2Ffmt%3Akev%3Amtx%3Abook&amp;rft.genre=bookitem&amp;rft.atitle=Arabic+Dialects+and+Maltese&amp;rft.btitle=The+Semitic+Languages&amp;rft.pages=263-311&amp;rft.pub=Routledge&amp;rft.date=1997&amp;rft.isbn=978-0-415-05767-7&amp;rft.aulast=Kaye&amp;rft.aufirst=Alan+S.&amp;rft.au=Rosenhouse%2C+Judith&amp;rfr_id=info%3Asid%2Fen.wikipedia.org%3AList+of+languages+by+number+of+native+speakers\" class=\"Z3988\"></span></span>\\n</li>\\n<li id=\"cite_note-4\"><span class=\"mw-cite-backlink\"><b><a href=\"#cite_ref-4\">^</a></b></span> <span class=\"reference-text\"><link rel=\"mw-deduplicated-inline-style\" href=\"mw-data:TemplateStyles:r1133582631\"/><cite id=\"CITEREFNorman1988\" class=\"citation book cs1\"><a href=\"/wiki/Jerry_Norman_(sinologist)\" title=\"Jerry Norman (sinologist)\">Norman, Jerry</a> (1988). <i>Chinese</i>. Cambridge University Press. p.&#160;2. <a href=\"/wiki/ISBN_(identifier)\" class=\"mw-redirect\" title=\"ISBN (identifier)\">ISBN</a>&#160;<a href=\"/wiki/Special:BookSources/978-0-521-29653-3\" title=\"Special:BookSources/978-0-521-29653-3\"><bdi>978-0-521-29653-3</bdi></a>.</cite><span title=\"ctx_ver=Z39.88-2004&amp;rft_val_fmt=info%3Aofi%2Ffmt%3Akev%3Amtx%3Abook&amp;rft.genre=book&amp;rft.btitle=Chinese&amp;rft.pages=2&amp;rft.pub=Cambridge+University+Press&amp;rft.date=1988&amp;rft.isbn=978-0-521-29653-3&amp;rft.aulast=Norman&amp;rft.aufirst=Jerry&amp;rfr_id=info%3Asid%2Fen.wikipedia.org%3AList+of+languages+by+number+of+native+speakers\" class=\"Z3988\"></span></span>\\n</li>\\n<li id=\"cite_note-5\"><span class=\"mw-cite-backlink\"><b><a href=\"#cite_ref-5\">^</a></b></span> <span class=\"reference-text\"><link rel=\"mw-deduplicated-inline-style\" href=\"mw-data:TemplateStyles:r1133582631\"/><cite id=\"CITEREFNorman2003\" class=\"citation book cs1\"><a href=\"/wiki/Jerry_Norman_(sinologist)\" title=\"Jerry Norman (sinologist)\">Norman, Jerry</a> (2003). \"The Chinese dialects: phonology\".  In <a href=\"/wiki/Graham_Thurgood\" title=\"Graham Thurgood\">Thurgood, Graham</a>; <a href=\"/wiki/Randy_LaPolla\" title=\"Randy LaPolla\">LaPolla, Randy J.</a> (eds.). <span class=\"cs1-lock-limited\" title=\"Free access subject to limited trial, subscription normally required\"><a rel=\"nofollow\" class=\"external text\" href=\"https://archive.org/details/sinotibetanlangu00thur\"><i>The Sino-Tibetan languages</i></a></span>. Routledge. pp.&#160;<a rel=\"nofollow\" class=\"external text\" href=\"https://archive.org/details/sinotibetanlangu00thur/page/n94\">72</a>\\xe2\\x80\\x9383. <a href=\"/wiki/ISBN_(identifier)\" class=\"mw-redirect\" title=\"ISBN (identifier)\">ISBN</a>&#160;<a href=\"/wiki/Special:BookSources/978-0-7007-1129-1\" title=\"Special:BookSources/978-0-7007-1129-1\"><bdi>978-0-7007-1129-1</bdi></a>.</cite><span title=\"ctx_ver=Z39.88-2004&amp;rft_val_fmt=info%3Aofi%2Ffmt%3Akev%3Amtx%3Abook&amp;rft.genre=bookitem&amp;rft.atitle=The+Chinese+dialects%3A+phonology&amp;rft.btitle=The+Sino-Tibetan+languages&amp;rft.pages=72-83&amp;rft.pub=Routledge&amp;rft.date=2003&amp;rft.isbn=978-0-7007-1129-1&amp;rft.aulast=Norman&amp;rft.aufirst=Jerry&amp;rft_id=https%3A%2F%2Farchive.org%2Fdetails%2Fsinotibetanlangu00thur&amp;rfr_id=info%3Asid%2Fen.wikipedia.org%3AList+of+languages+by+number+of+native+speakers\" class=\"Z3988\"></span></span>\\n</li>\\n<li id=\"cite_note-6\"><span class=\"mw-cite-backlink\"><b><a href=\"#cite_ref-6\">^</a></b></span> <span class=\"reference-text\"><link rel=\"mw-deduplicated-inline-style\" href=\"mw-data:TemplateStyles:r1133582631\"/><cite id=\"CITEREFCrystal1988\" class=\"citation book cs1\"><a href=\"/wiki/David_Crystal\" title=\"David Crystal\">Crystal, David</a> (1988). <span class=\"cs1-lock-registration\" title=\"Free registration required\"><a rel=\"nofollow\" class=\"external text\" href=\"https://archive.org/details/cambridgeencycl000crys\"><i>The Cambridge Encyclopedia of Language</i></a></span>. Cambridge University Press. pp.&#160;<a rel=\"nofollow\" class=\"external text\" href=\"https://archive.org/details/cambridgeencycl000crys/page/286\">286\\xe2\\x80\\x93287</a>. <a href=\"/wiki/ISBN_(identifier)\" class=\"mw-redirect\" title=\"ISBN (identifier)\">ISBN</a>&#160;<a href=\"/wiki/Special:BookSources/978-0-521-26438-9\" title=\"Special:BookSources/978-0-521-26438-9\"><bdi>978-0-521-26438-9</bdi></a>.</cite><span title=\"ctx_ver=Z39.88-2004&amp;rft_val_fmt=info%3Aofi%2Ffmt%3Akev%3Amtx%3Abook&amp;rft.genre=book&amp;rft.btitle=The+Cambridge+Encyclopedia+of+Language&amp;rft.pages=286-287&amp;rft.pub=Cambridge+University+Press&amp;rft.date=1988&amp;rft.isbn=978-0-521-26438-9&amp;rft.aulast=Crystal&amp;rft.aufirst=David&amp;rft_id=https%3A%2F%2Farchive.org%2Fdetails%2Fcambridgeencycl000crys&amp;rfr_id=info%3Asid%2Fen.wikipedia.org%3AList+of+languages+by+number+of+native+speakers\" class=\"Z3988\"></span></span>\\n</li>\\n<li id=\"cite_note-e26-7\"><span class=\"mw-cite-backlink\">^ <a href=\"#cite_ref-e26_7-0\"><sup><i><b>a</b></i></sup></a> <a href=\"#cite_ref-e26_7-1\"><sup><i><b>b</b></i></sup></a></span> <span class=\"reference-text\"><a rel=\"nofollow\" class=\"external text\" href=\"https://www.ethnologue.com/statistics/\">Statistics</a>, in <link rel=\"mw-deduplicated-inline-style\" href=\"mw-data:TemplateStyles:r1133582631\"/><cite id=\"CITEREFEberhardSimonsFennig2023\" class=\"citation book cs1\">Eberhard, David M.; Simons, Gary F.; Fennig, Charles D., eds. (2023). <a rel=\"nofollow\" class=\"external text\" href=\"https://www.ethnologue.com\"><i>Ethnologue: Languages of the World</i></a> (26th&#160;ed.). Dallas, Texas: SIL International.</cite><span title=\"ctx_ver=Z39.88-2004&amp;rft_val_fmt=info%3Aofi%2Ffmt%3Akev%3Amtx%3Abook&amp;rft.genre=book&amp;rft.btitle=Ethnologue%3A+Languages+of+the+World&amp;rft.place=Dallas%2C+Texas&amp;rft.edition=26th&amp;rft.pub=SIL+International&amp;rft.date=2023&amp;rft_id=https%3A%2F%2Fwww.ethnologue.com&amp;rfr_id=info%3Asid%2Fen.wikipedia.org%3AList+of+languages+by+number+of+native+speakers\" class=\"Z3988\"></span></span>\\n</li>\\n<li id=\"cite_note-CIA-8\"><span class=\"mw-cite-backlink\">^ <a href=\"#cite_ref-CIA_8-0\"><sup><i><b>a</b></i></sup></a> <a href=\"#cite_ref-CIA_8-1\"><sup><i><b>b</b></i></sup></a></span> <span class=\"reference-text\"><link rel=\"mw-deduplicated-inline-style\" href=\"mw-data:TemplateStyles:r1133582631\"/><cite class=\"citation web cs1\"><a rel=\"nofollow\" class=\"external text\" href=\"https://www.cia.gov/the-world-factbook/countries/world/#people-and-society\">\"Most spoken languages in the World\"</a><span class=\"reference-accessdate\">. Retrieved <span class=\"nowrap\">1 January</span> 2022</span>.</cite><span title=\"ctx_ver=Z39.88-2004&amp;rft_val_fmt=info%3Aofi%2Ffmt%3Akev%3Amtx%3Abook&amp;rft.genre=unknown&amp;rft.btitle=Most+spoken+languages+in+the+World&amp;rft_id=https%3A%2F%2Fwww.cia.gov%2Fthe-world-factbook%2Fcountries%2Fworld%2F%23people-and-society&amp;rfr_id=info%3Asid%2Fen.wikipedia.org%3AList+of+languages+by+number+of+native+speakers\" class=\"Z3988\"></span></span>\\n</li>\\n</ol></div></div>\\n<h2><span class=\"mw-headline\" id=\"External_links\">External links</span></h2>\\n<ul><li>The <a href=\"/wiki/Ethnologue\" title=\"Ethnologue\">Ethnologue</a>\\'s <a rel=\"nofollow\" class=\"external text\" href=\"https://www.ethnologue.com/guides/ethnologue200\">most recent list of languages by total number of speakers</a> \\xe2\\x80\\x93 this is not a list of native speakers</li>\\n<li><a rel=\"nofollow\" class=\"external text\" href=\"https://encarta.msn.com/media_701500404/Languages_Spoken_by_More_Than_10_Million_People.html\">Languages Spoken by More Than 10 Million People</a> (<a rel=\"nofollow\" class=\"external text\" href=\"https://www.webcitation.org/query?id=1257013011437361\">Archived</a> 2009-10-31) \\xe2\\x80\\x93 <a href=\"/wiki/Encarta\" title=\"Encarta\">Encarta</a> list, based on data from <a href=\"/wiki/Ethnologue\" title=\"Ethnologue\">Ethnologue</a>, but some figures (e.g. for Arabic) widely vary from it</li></ul>\\n<div class=\"navbox-styles\"><style data-mw-deduplicate=\"TemplateStyles:r1129693374\">.mw-parser-output .hlist dl,.mw-parser-output .hlist ol,.mw-parser-output .hlist ul{margin:0;padding:0}.mw-parser-output .hlist dd,.mw-parser-output .hlist dt,.mw-parser-output .hlist li{margin:0;display:inline}.mw-parser-output .hlist.inline,.mw-parser-output .hlist.inline dl,.mw-parser-output .hlist.inline ol,.mw-parser-output .hlist.inline ul,.mw-parser-output .hlist dl dl,.mw-parser-output .hlist dl ol,.mw-parser-output .hlist dl ul,.mw-parser-output .hlist ol dl,.mw-parser-output .hlist ol ol,.mw-parser-output .hlist ol ul,.mw-parser-output .hlist ul dl,.mw-parser-output .hlist ul ol,.mw-parser-output .hlist ul ul{display:inline}.mw-parser-output .hlist .mw-empty-li{display:none}.mw-parser-output .hlist dt::after{content:\": \"}.mw-parser-output .hlist dd::after,.mw-parser-output .hlist li::after{content:\" \\xc2\\xb7 \";font-weight:bold}.mw-parser-output .hlist dd:last-child::after,.mw-parser-output .hlist dt:last-child::after,.mw-parser-output .hlist li:last-child::after{content:none}.mw-parser-output .hlist dd dd:first-child::before,.mw-parser-output .hlist dd dt:first-child::before,.mw-parser-output .hlist dd li:first-child::before,.mw-parser-output .hlist dt dd:first-child::before,.mw-parser-output .hlist dt dt:first-child::before,.mw-parser-output .hlist dt li:first-child::before,.mw-parser-output .hlist li dd:first-child::before,.mw-parser-output .hlist li dt:first-child::before,.mw-parser-output .hlist li li:first-child::before{content:\" (\";font-weight:normal}.mw-parser-output .hlist dd dd:last-child::after,.mw-parser-output .hlist dd dt:last-child::after,.mw-parser-output .hlist dd li:last-child::after,.mw-parser-output .hlist dt dd:last-child::after,.mw-parser-output .hlist dt dt:last-child::after,.mw-parser-output .hlist dt li:last-child::after,.mw-parser-output .hlist li dd:last-child::after,.mw-parser-output .hlist li dt:last-child::after,.mw-parser-output .hlist li li:last-child::after{content:\")\";font-weight:normal}.mw-parser-output .hlist ol{counter-reset:listitem}.mw-parser-output .hlist ol>li{counter-increment:listitem}.mw-parser-output .hlist ol>li::before{content:\" \"counter(listitem)\"\\\\a0 \"}.mw-parser-output .hlist dd ol>li:first-child::before,.mw-parser-output .hlist dt ol>li:first-child::before,.mw-parser-output .hlist li ol>li:first-child::before{content:\" (\"counter(listitem)\"\\\\a0 \"}</style><style data-mw-deduplicate=\"TemplateStyles:r1061467846\">.mw-parser-output .navbox{box-sizing:border-box;border:1px solid #a2a9b1;width:100%;clear:both;font-size:88%;text-align:center;padding:1px;margin:1em auto 0}.mw-parser-output .navbox .navbox{margin-top:0}.mw-parser-output .navbox+.navbox,.mw-parser-output .navbox+.navbox-styles+.navbox{margin-top:-1px}.mw-parser-output .navbox-inner,.mw-parser-output .navbox-subgroup{width:100%}.mw-parser-output .navbox-group,.mw-parser-output .navbox-title,.mw-parser-output .navbox-abovebelow{padding:0.25em 1em;line-height:1.5em;text-align:center}.mw-parser-output .navbox-group{white-space:nowrap;text-align:right}.mw-parser-output .navbox,.mw-parser-output .navbox-subgroup{background-color:#fdfdfd}.mw-parser-output .navbox-list{line-height:1.5em;border-color:#fdfdfd}.mw-parser-output .navbox-list-with-group{text-align:left;border-left-width:2px;border-left-style:solid}.mw-parser-output tr+tr>.navbox-abovebelow,.mw-parser-output tr+tr>.navbox-group,.mw-parser-output tr+tr>.navbox-image,.mw-parser-output tr+tr>.navbox-list{border-top:2px solid #fdfdfd}.mw-parser-output .navbox-title{background-color:#ccf}.mw-parser-output .navbox-abovebelow,.mw-parser-output .navbox-group,.mw-parser-output .navbox-subgroup .navbox-title{background-color:#ddf}.mw-parser-output .navbox-subgroup .navbox-group,.mw-parser-output .navbox-subgroup .navbox-abovebelow{background-color:#e6e6ff}.mw-parser-output .navbox-even{background-color:#f7f7f7}.mw-parser-output .navbox-odd{background-color:transparent}.mw-parser-output .navbox .hlist td dl,.mw-parser-output .navbox .hlist td ol,.mw-parser-output .navbox .hlist td ul,.mw-parser-output .navbox td.hlist dl,.mw-parser-output .navbox td.hlist ol,.mw-parser-output .navbox td.hlist ul{padding:0.125em 0}.mw-parser-output .navbox .navbar{display:block;font-size:100%}.mw-parser-output .navbox-title .navbar{float:left;text-align:left;margin-right:0.5em}</style></div><div role=\"navigation\" class=\"navbox\" aria-labelledby=\"Countries_and_languages_lists\" style=\"padding:3px\"><table class=\"nowraplinks hlist mw-collapsible autocollapse navbox-inner\" style=\"border-spacing:0;background:transparent;color:inherit\"><tbody><tr><th scope=\"col\" class=\"navbox-title\" colspan=\"2\"><link rel=\"mw-deduplicated-inline-style\" href=\"mw-data:TemplateStyles:r1129693374\"/><style data-mw-deduplicate=\"TemplateStyles:r1063604349\">.mw-parser-output .navbar{display:inline;font-size:88%;font-weight:normal}.mw-parser-output .navbar-collapse{float:left;text-align:left}.mw-parser-output .navbar-boxtext{word-spacing:0}.mw-parser-output .navbar ul{display:inline-block;white-space:nowrap;line-height:inherit}.mw-parser-output .navbar-brackets::before{margin-right:-0.125em;content:\"[ \"}.mw-parser-output .navbar-brackets::after{margin-left:-0.125em;content:\" ]\"}.mw-parser-output .navbar li{word-spacing:-0.125em}.mw-parser-output .navbar a>span,.mw-parser-output .navbar a>abbr{text-decoration:inherit}.mw-parser-output .navbar-mini abbr{font-variant:small-caps;border-bottom:none;text-decoration:none;cursor:inherit}.mw-parser-output .navbar-ct-full{font-size:114%;margin:0 7em}.mw-parser-output .navbar-ct-mini{font-size:114%;margin:0 4em}</style><div class=\"navbar plainlinks hlist navbar-mini\"><ul><li class=\"nv-view\"><a href=\"/wiki/Template:Countries_and_languages_lists\" title=\"Template:Countries and languages lists\"><abbr title=\"View this template\" style=\";;background:none transparent;border:none;box-shadow:none;padding:0;\">v</abbr></a></li><li class=\"nv-talk\"><a href=\"/wiki/Template_talk:Countries_and_languages_lists\" title=\"Template talk:Countries and languages lists\"><abbr title=\"Discuss this template\" style=\";;background:none transparent;border:none;box-shadow:none;padding:0;\">t</abbr></a></li><li class=\"nv-edit\"><a class=\"external text\" href=\"https://en.wikipedia.org/w/index.php?title=Template:Countries_and_languages_lists&amp;action=edit\"><abbr title=\"Edit this template\" style=\";;background:none transparent;border:none;box-shadow:none;padding:0;\">e</abbr></a></li></ul></div><div id=\"Countries_and_languages_lists\" style=\"font-size:114%;margin:0 4em\"><a href=\"/wiki/Lists_of_countries_and_territories\" class=\"mw-redirect\" title=\"Lists of countries and territories\">Countries</a> and <a href=\"/wiki/Lists_of_languages\" title=\"Lists of languages\">languages</a> lists</div></th></tr><tr><td colspan=\"2\" class=\"navbox-list navbox-odd\" style=\"width:100%;padding:0\"><div style=\"padding:0 0.25em\"></div><table class=\"nowraplinks mw-collapsible expanded navbox-subgroup\" style=\"border-spacing:0\"><tbody><tr><th scope=\"col\" class=\"navbox-title\" colspan=\"2\"><div id=\"Countries\" style=\"font-size:114%;margin:0 4em\">Countries</div></th></tr><tr><td colspan=\"2\" class=\"navbox-list navbox-odd\" style=\"width:100%;padding:0\"><div style=\"padding:0 0.25em\"></div><table class=\"nowraplinks navbox-subgroup\" style=\"border-spacing:0\"><tbody><tr><th scope=\"row\" class=\"navbox-group\" style=\"width:1%\">By languages</th><td class=\"navbox-list-with-group navbox-list navbox-odd\" style=\"width:100%;padding:0\"><div style=\"padding:0 0.25em\"></div><table class=\"nowraplinks navbox-subgroup\" style=\"border-spacing:0\"><tbody><tr><th scope=\"row\" class=\"navbox-group\" style=\"width:1%;font-weight:normal;\">Spoken</th><td class=\"navbox-list-with-group navbox-list navbox-odd\" style=\"width:100%;padding:0\"><div style=\"padding:0 0.25em\">\\n<ul><li><a href=\"/wiki/List_of_countries_by_spoken_languages\" title=\"List of countries by spoken languages\">Countries by spoken languages</a></li></ul>\\n</div></td></tr><tr><th scope=\"row\" class=\"navbox-group\" style=\"width:1%;font-weight:normal;\"><a href=\"/wiki/Official_language\" title=\"Official language\">Official</a></th><td class=\"navbox-list-with-group navbox-list navbox-even\" style=\"width:100%;padding:0\"><div style=\"padding:0 0.25em\">\\n<ul><li><a href=\"/wiki/List_of_countries_by_the_number_of_recognized_official_languages\" title=\"List of countries by the number of recognized official languages\">Countries by the number of recognized official languages</a></li>\\n<li><a href=\"/wiki/List_of_countries_where_Arabic_is_an_official_language\" class=\"mw-redirect\" title=\"List of countries where Arabic is an official language\">Arabic</a></li>\\n<li><a href=\"/wiki/List_of_countries_and_territories_where_Chinese_is_an_official_language\" title=\"List of countries and territories where Chinese is an official language\">Chinese</a></li>\\n<li><a href=\"/wiki/List_of_countries_and_territories_where_Afrikaans_or_Dutch_are_official_languages\" title=\"List of countries and territories where Afrikaans or Dutch are official languages\">Dutch/Afrikaans</a></li>\\n<li><a href=\"/wiki/List_of_countries_and_territories_where_English_is_an_official_language\" title=\"List of countries and territories where English is an official language\">English</a></li>\\n<li><a href=\"/wiki/List_of_countries_and_territories_where_French_is_an_official_language\" title=\"List of countries and territories where French is an official language\">French</a></li>\\n<li><a href=\"/wiki/List_of_countries_and_territories_where_German_is_an_official_language\" title=\"List of countries and territories where German is an official language\">German</a></li>\\n<li><a href=\"/wiki/List_of_countries_and_territories_where_Hindustani_is_an_official_language\" title=\"List of countries and territories where Hindustani is an official language\">Hindustani</a></li>\\n<li><a href=\"/wiki/List_of_countries_and_territories_where_Italian_is_an_official_language\" title=\"List of countries and territories where Italian is an official language\">Italian</a></li>\\n<li><a href=\"/wiki/List_of_countries_and_territories_where_Malay_is_an_official_language\" title=\"List of countries and territories where Malay is an official language\">Malay</a></li>\\n<li><a href=\"/wiki/List_of_countries_and_territories_where_Persian_is_an_official_language\" title=\"List of countries and territories where Persian is an official language\">Persian</a></li>\\n<li><a href=\"/wiki/List_of_countries_and_territories_where_Portuguese_is_an_official_language\" title=\"List of countries and territories where Portuguese is an official language\">Portuguese</a></li>\\n<li><a href=\"/wiki/List_of_countries_and_territories_where_Romanian_is_an_official_language\" title=\"List of countries and territories where Romanian is an official language\">Romanian</a></li>\\n<li><a href=\"/wiki/List_of_countries_and_territories_where_Russian_is_an_official_language\" title=\"List of countries and territories where Russian is an official language\">Russian</a></li>\\n<li><a href=\"/wiki/List_of_countries_where_Spanish_is_an_official_language\" class=\"mw-redirect\" title=\"List of countries where Spanish is an official language\">Spanish</a></li>\\n<li><a href=\"/wiki/List_of_countries_and_territories_where_Tamil_is_an_official_language\" title=\"List of countries and territories where Tamil is an official language\">Tamil</a></li></ul>\\n</div></td></tr></tbody></table><div></div></td></tr><tr><th scope=\"row\" class=\"navbox-group\" style=\"width:1%\"><a href=\"/wiki/Endonym_and_exonym\" title=\"Endonym and exonym\">Endonyms</a></th><td class=\"navbox-list-with-group navbox-list navbox-odd\" style=\"width:100%;padding:0\"><div style=\"padding:0 0.25em\">\\n<ul><li><a href=\"/wiki/List_of_countries_and_dependencies_and_their_capitals_in_native_languages\" title=\"List of countries and dependencies and their capitals in native languages\">Countries and capitals in native languages</a></li></ul>\\n</div></td></tr><tr><th scope=\"row\" class=\"navbox-group\" style=\"width:1%\"><a href=\"/wiki/Endonym_and_exonym\" title=\"Endonym and exonym\">Exonyms</a></th><td class=\"navbox-list-with-group navbox-list navbox-even\" style=\"width:100%;padding:0\"><div style=\"padding:0 0.25em\">\\n<ul><li><a href=\"/wiki/List_of_country_names_in_various_languages\" title=\"List of country names in various languages\">Country names in various languages</a>\\n<ul><li><a href=\"/wiki/List_of_country_names_in_various_languages_(A%E2%80%93C)\" title=\"List of country names in various languages (A\\xe2\\x80\\x93C)\">A\\xe2\\x80\\x93C</a></li>\\n<li><a href=\"/wiki/List_of_country_names_in_various_languages_(D%E2%80%93I)\" title=\"List of country names in various languages (D\\xe2\\x80\\x93I)\">D\\xe2\\x80\\x93I</a></li>\\n<li><a href=\"/wiki/List_of_country_names_in_various_languages_(J%E2%80%93P)\" title=\"List of country names in various languages (J\\xe2\\x80\\x93P)\">J\\xe2\\x80\\x93P</a></li>\\n<li><a href=\"/wiki/List_of_country_names_in_various_languages_(Q%E2%80%93Z)\" title=\"List of country names in various languages (Q\\xe2\\x80\\x93Z)\">Q\\xe2\\x80\\x93Z</a></li>\\n<li><a href=\"/wiki/Names_of_Cambodia\" title=\"Names of Cambodia\">Cambodia</a></li>\\n<li><a href=\"/wiki/Names_of_China\" title=\"Names of China\">China</a></li>\\n<li><a href=\"/wiki/Names_of_Germany\" title=\"Names of Germany\">Germany</a></li>\\n<li><a href=\"/wiki/Names_of_Iceland\" title=\"Names of Iceland\">Iceland</a></li>\\n<li><a href=\"/wiki/Names_for_India\" title=\"Names for India\">India</a></li>\\n<li><a href=\"/wiki/Names_of_Indonesia\" title=\"Names of Indonesia\">Indonesia</a></li>\\n<li><a href=\"/wiki/Names_of_Japan\" title=\"Names of Japan\">Japan</a></li>\\n<li><a href=\"/wiki/Names_of_Korea\" title=\"Names of Korea\">Korea</a></li>\\n<li><a href=\"/wiki/Names_of_Kosovo\" title=\"Names of Kosovo\">Kosovo</a></li>\\n<li><a href=\"/wiki/Names_of_Myanmar\" title=\"Names of Myanmar\">Myanmar</a></li>\\n<li><a href=\"/wiki/Names_of_Singapore\" title=\"Names of Singapore\">Singapore</a></li>\\n<li><a href=\"/wiki/Names_of_Sri_Lanka\" title=\"Names of Sri Lanka\">Sri Lanka</a></li>\\n<li><a href=\"/wiki/Names_of_Vietnam\" title=\"Names of Vietnam\">Vietnam</a></li></ul></li>\\n<li><a href=\"/wiki/Languages_of_the_African_Union\" title=\"Languages of the African Union\">Languages of the African Union</a></li>\\n<li><a href=\"/wiki/Languages_of_the_European_Union\" title=\"Languages of the European Union\">Languages of the European Union</a></li></ul>\\n</div></td></tr></tbody></table><div></div></td></tr></tbody></table><div></div></td></tr><tr><td colspan=\"2\" class=\"navbox-list navbox-odd\" style=\"width:100%;padding:0\"><div style=\"padding:0 0.25em\"></div><table class=\"nowraplinks mw-collapsible expanded navbox-subgroup\" style=\"border-spacing:0\"><tbody><tr><th scope=\"col\" class=\"navbox-title\" colspan=\"2\"><div id=\"Languages\" style=\"font-size:114%;margin:0 4em\">Languages</div></th></tr><tr><td colspan=\"2\" class=\"navbox-list navbox-odd\" style=\"width:100%;padding:0\"><div style=\"padding:0 0.25em\"></div><table class=\"nowraplinks navbox-subgroup\" style=\"border-spacing:0\"><tbody><tr><th scope=\"row\" class=\"navbox-group\" style=\"width:1%\">By continent</th><td class=\"navbox-list-with-group navbox-list navbox-odd\" style=\"width:100%;padding:0\"><div style=\"padding:0 0.25em\">\\n<ul><li><a href=\"/wiki/Languages_of_Africa\" title=\"Languages of Africa\">Africa</a></li>\\n<li><a href=\"/wiki/Indigenous_languages_of_the_Americas\" title=\"Indigenous languages of the Americas\">Americas</a>\\n<ul><li><a href=\"/wiki/Languages_of_North_America\" title=\"Languages of North America\">North</a></li>\\n<li><a href=\"/wiki/Languages_of_South_America\" title=\"Languages of South America\">South</a></li></ul></li>\\n<li><a href=\"/wiki/Languages_of_Asia\" title=\"Languages of Asia\">Asia</a>\\n<ul><li><a href=\"/wiki/Languages_of_East_Asia\" title=\"Languages of East Asia\">East</a></li>\\n<li><a href=\"/wiki/Languages_of_South_Asia\" title=\"Languages of South Asia\">South</a></li></ul></li>\\n<li><a href=\"/wiki/Languages_of_Europe\" title=\"Languages of Europe\">Europe</a></li>\\n<li><a href=\"/wiki/Languages_of_Oceania\" title=\"Languages of Oceania\">Oceania</a></li></ul>\\n</div></td></tr><tr><th scope=\"row\" class=\"navbox-group\" style=\"width:1%\">By country</th><td class=\"navbox-list-with-group navbox-list navbox-even\" style=\"width:100%;padding:0\"><div style=\"padding:0 0.25em\">\\n<ul><li><a href=\"/wiki/List_of_official_languages\" title=\"List of official languages\">Official languages</a>\\n<ul><li><a href=\"/wiki/List_of_official_languages_by_country_and_territory\" title=\"List of official languages by country and territory\">by country and territory</a></li></ul></li>\\n<li><a href=\"/wiki/List_of_languages_without_official_status\" class=\"mw-redirect\" title=\"List of languages without official status\">List of languages without official status</a></li>\\n<li><a href=\"/wiki/List_of_countries_by_the_number_of_recognized_official_languages\" title=\"List of countries by the number of recognized official languages\">Countries by the number of recognized official languages</a></li>\\n<li><a href=\"/wiki/List_of_languages_by_the_number_of_countries_in_which_they_are_recognized_as_an_official_language\" title=\"List of languages by the number of countries in which they are recognized as an official language\">Languages by the number of countries in which they are recognized as an official language</a></li>\\n<li><a href=\"/wiki/Number_of_languages_by_country\" title=\"Number of languages by country\">Number of languages</a></li></ul>\\n</div></td></tr><tr><th scope=\"row\" class=\"navbox-group\" style=\"width:1%\">By population</th><td class=\"navbox-list-with-group navbox-list navbox-odd\" style=\"width:100%;padding:0\"><div style=\"padding:0 0.25em\">\\n<ul><li><a class=\"mw-selflink selflink\">By number of native speakers</a>\\n<ul><li><a href=\"/wiki/List_of_European_languages_by_number_of_speakers\" class=\"mw-redirect\" title=\"List of European languages by number of speakers\">Europe</a></li></ul></li>\\n<li><a href=\"/wiki/List_of_languages_by_total_number_of_speakers\" title=\"List of languages by total number of speakers\">By number of total speakers</a></li>\\n<li><a href=\"/wiki/Languages_in_censuses\" title=\"Languages in censuses\">Languages in censuses</a></li></ul>\\n</div></td></tr><tr><th scope=\"row\" class=\"navbox-group\" style=\"width:1%\">By <a href=\"/wiki/Language_family\" title=\"Language family\">family</a></th><td class=\"navbox-list-with-group navbox-list navbox-even\" style=\"width:100%;padding:0\"><div style=\"padding:0 0.25em\">\\n<ul><li><a href=\"/wiki/List_of_language_families\" title=\"List of language families\">Language families</a>\\n<ul><li><a href=\"/wiki/List_of_Afro-Asiatic_languages\" class=\"mw-redirect\" title=\"List of Afro-Asiatic languages\">List of Afro-Asiatic languages</a></li>\\n<li><a href=\"/wiki/List_of_Austronesian_languages\" class=\"mw-redirect\" title=\"List of Austronesian languages\">List of Austronesian languages</a></li>\\n<li><a href=\"/wiki/List_of_Indo-European_languages\" title=\"List of Indo-European languages\">List of Indo-European languages</a></li>\\n<li><a href=\"/wiki/List_of_Mongolic_languages\" title=\"List of Mongolic languages\">List of Mongolic languages</a></li>\\n<li><a href=\"/wiki/List_of_Tungusic_languages\" class=\"mw-redirect\" title=\"List of Tungusic languages\">List of Tungusic languages</a></li>\\n<li><a href=\"/wiki/List_of_Turkic_languages\" title=\"List of Turkic languages\">List of Turkic languages</a></li>\\n<li><a href=\"/wiki/List_of_Uralic_languages\" title=\"List of Uralic languages\">List of Uralic languages</a></li></ul></li></ul>\\n</div></td></tr><tr><th scope=\"row\" class=\"navbox-group\" style=\"width:1%\"><div style=\"display: inline-block; line-height: 1.2em; padding: .1em 0;\">Language-based<br /><a href=\"/wiki/Geopolitics\" title=\"Geopolitics\">geopolitical</a><br />organizations</div></th><td class=\"navbox-list-with-group navbox-list navbox-odd\" style=\"width:100%;padding:0\"><div style=\"padding:0 0.25em\">\\n<ul><li><a href=\"/wiki/Arab_League\" title=\"Arab League\">Arab League <span style=\"font-size:85%;\">(Arabic)</span></a></li>\\n<li><a href=\"/wiki/Dutch_Language_Union\" title=\"Dutch Language Union\">Dutch Language Union <span style=\"font-size:85%;\">(Dutch)</span></a></li>\\n<li><a href=\"/wiki/Commonwealth_of_Nations\" title=\"Commonwealth of Nations\">Commonwealth of Nations <span style=\"font-size:85%;\">(English)</span></a></li>\\n<li><a href=\"/wiki/Latin_Union\" title=\"Latin Union\">Latin Union</a>&#160;<span style=\"font-size:85%;\">(<a href=\"/wiki/Romance_languages\" title=\"Romance languages\">Romance</a>)</span></li>\\n<li><a href=\"/wiki/Three_Linguistic_Spaces\" title=\"Three Linguistic Spaces\">Three Linguistic Spaces</a>\\n<ul><li><a href=\"/wiki/Organisation_internationale_de_la_Francophonie\" title=\"Organisation internationale de la Francophonie\">Francophonie <span style=\"font-size:85%;\">(French)</span></a></li>\\n<li><a href=\"/wiki/Community_of_Portuguese_Language_Countries\" title=\"Community of Portuguese Language Countries\">Community of Portuguese Language Countries</a>\\n<ul><li><a href=\"/wiki/Portuguese-speaking_African_countries\" title=\"Portuguese-speaking African countries\"><i>Pa\\xc3\\xadses Africanos de L\\xc3\\xadngua Oficial Portuguesa</i> <span style=\"font-size:85%;\">(Portuguese)</span></a></li></ul></li>\\n<li><a href=\"/wiki/Hispanidad\" title=\"Hispanidad\">Hispanidad <span style=\"font-size:85%;\">(Spanish)</span></a></li></ul></li>\\n<li><a href=\"/wiki/Organization_of_Turkic_States\" title=\"Organization of Turkic States\">Organization of Turkic States</a>&#160;<span style=\"font-size:85%;\">(<a href=\"/wiki/Turkic_languages\" title=\"Turkic languages\">Turkic</a>)</span></li>\\n<li><a href=\"/wiki/International_Organization_of_Turkic_Culture\" title=\"International Organization of Turkic Culture\">International Organization of Turkic Culture</a>&#160;<span style=\"font-size:85%;\">(<a href=\"/wiki/Turkic_languages\" title=\"Turkic languages\">Turkic</a>)</span></li></ul>\\n</div></td></tr><tr><th scope=\"row\" class=\"navbox-group\" style=\"width:1%\">See also</th><td class=\"navbox-list-with-group navbox-list navbox-even\" style=\"width:100%;padding:0\"><div style=\"padding:0 0.25em\">\\n<ul><li><a href=\"/wiki/Category:Lists_of_languages\" title=\"Category:Lists of languages\">Lists of languages</a></li>\\n<li><a href=\"/wiki/Category:Languages\" title=\"Category:Languages\">Category:Languages</a></li></ul>\\n</div></td></tr></tbody></table><div></div></td></tr></tbody></table><div></div></td></tr></tbody></table></div>\\n<!-- \\nNewPP limit report\\nParsed by mw1388\\nCached time: 20230505102757\\nCache expiry: 1814400\\nReduced expiry: false\\nComplications: [vary\\xe2\\x80\\x90revision\\xe2\\x80\\x90sha1, show\\xe2\\x80\\x90toc]\\nCPU time usage: 0.355 seconds\\nReal time usage: 0.464 seconds\\nPreprocessor visited node count: 1462/1000000\\nPost\\xe2\\x80\\x90expand include size: 72583/2097152 bytes\\nTemplate argument size: 1980/2097152 bytes\\nHighest expansion depth: 12/100\\nExpensive parser function count: 7/500\\nUnstrip recursion depth: 1/20\\nUnstrip post\\xe2\\x80\\x90expand size: 35918/5000000 bytes\\nLua time usage: 0.202/10.000 seconds\\nLua memory usage: 6195047/52428800 bytes\\nNumber of Wikibase entities loaded: 0/400\\n-->\\n<!--\\nTransclusion expansion time report (%,ms,calls,template)\\n100.00%  400.490      1 -total\\n 29.28%  117.270      2 Template:Reflist\\n 21.00%   84.099      1 Template:Countries_and_languages_lists\\n 20.52%   82.188      1 Template:Navbox_with_collapsible_groups\\n 16.80%   67.274      2 Template:Cite_web\\n 14.82%   59.354      1 Template:Short_description\\n 10.63%   42.572      1 Template:Pp-semi-indef\\n  8.11%   32.498      2 Template:Pagetype\\n  7.33%   29.369      6 Template:Cite_book\\n  6.22%   24.896      1 Template:Better_source_needed\\n-->\\n\\n<!-- Saved in parser cache with key enwiki:pcache:idhash:405385-0!canonical and timestamp 20230505102827 and revision id 1153287786. Rendering was triggered because: edit-page\\n -->\\n</div><!--esi <esi:include src=\"/esitest-fa8a495983347898/content\" /> --><noscript><img src=\"//en.wikipedia.org/wiki/Special:CentralAutoLogin/start?type=1x1\" alt=\"\" title=\"\" width=\"1\" height=\"1\" style=\"border: none; position: absolute;\" /></noscript>\\n<div class=\"printfooter\" data-nosnippet=\"\">Retrieved from \"<a dir=\"ltr\" href=\"https://en.wikipedia.org/w/index.php?title=List_of_languages_by_number_of_native_speakers&amp;oldid=1153287786\">https://en.wikipedia.org/w/index.php?title=List_of_languages_by_number_of_native_speakers&amp;oldid=1153287786</a>\"</div></div>\\n\\t\\t\\t\\t\\t<div id=\"catlinks\" class=\"catlinks\" data-mw=\"interface\"><div id=\"mw-normal-catlinks\" class=\"mw-normal-catlinks\"><a href=\"/wiki/Help:Category\" title=\"Help:Category\">Category</a>: <ul><li><a href=\"/wiki/Category:Lists_of_languages\" title=\"Category:Lists of languages\">Lists of languages</a></li></ul></div><div id=\"mw-hidden-catlinks\" class=\"mw-hidden-catlinks mw-hidden-cats-hidden\">Hidden categories: <ul><li><a href=\"/wiki/Category:Language_articles_citing_Ethnologue_26\" title=\"Category:Language articles citing Ethnologue 26\">Language articles citing Ethnologue 26</a></li><li><a href=\"/wiki/Category:Articles_with_short_description\" title=\"Category:Articles with short description\">Articles with short description</a></li><li><a href=\"/wiki/Category:Short_description_is_different_from_Wikidata\" title=\"Category:Short description is different from Wikidata\">Short description is different from Wikidata</a></li><li><a href=\"/wiki/Category:Wikipedia_indefinitely_semi-protected_pages\" title=\"Category:Wikipedia indefinitely semi-protected pages\">Wikipedia indefinitely semi-protected pages</a></li><li><a href=\"/wiki/Category:Use_dmy_dates_from_April_2020\" title=\"Category:Use dmy dates from April 2020\">Use dmy dates from April 2020</a></li><li><a href=\"/wiki/Category:All_articles_lacking_reliable_references\" title=\"Category:All articles lacking reliable references\">All articles lacking reliable references</a></li><li><a href=\"/wiki/Category:Articles_lacking_reliable_references_from_December_2021\" title=\"Category:Articles lacking reliable references from December 2021\">Articles lacking reliable references from December 2021</a></li></ul></div></div>\\n\\t\\t\\t\\t</div>\\n\\t\\t\\t</main>\\n\\t\\t\\t\\n\\t\\t</div>\\n\\t\\t<div class=\"mw-footer-container\">\\n\\t\\t\\t\\n<footer id=\"footer\" class=\"mw-footer\" role=\"contentinfo\" >\\n\\t<ul id=\"footer-info\">\\n\\t<li id=\"footer-info-lastmod\"> This page was last edited on 5 May 2023, at 10:27<span class=\"anonymous-show\">&#160;(UTC)</span>.</li>\\n\\t<li id=\"footer-info-copyright\">Text is available under the <a rel=\"license\" href=\"//en.wikipedia.org/wiki/Wikipedia:Text_of_the_Creative_Commons_Attribution-ShareAlike_3.0_Unported_License\">Creative Commons Attribution-ShareAlike License 3.0</a><a rel=\"license\" href=\"//creativecommons.org/licenses/by-sa/3.0/\" style=\"display:none;\"></a>;\\nadditional terms may apply.  By using this site, you agree to the <a href=\"//foundation.wikimedia.org/wiki/Terms_of_Use\">Terms of Use</a> and <a href=\"//foundation.wikimedia.org/wiki/Privacy_policy\">Privacy Policy</a>. Wikipedia\\xc2\\xae is a registered trademark of the <a href=\"//www.wikimediafoundation.org/\">Wikimedia Foundation, Inc.</a>, a non-profit organization.</li>\\n</ul>\\n\\n\\t<ul id=\"footer-places\">\\n\\t<li id=\"footer-places-privacy\"><a href=\"https://foundation.wikimedia.org/wiki/Privacy_policy\">Privacy policy</a></li>\\n\\t<li id=\"footer-places-about\"><a href=\"/wiki/Wikipedia:About\">About Wikipedia</a></li>\\n\\t<li id=\"footer-places-disclaimers\"><a href=\"/wiki/Wikipedia:General_disclaimer\">Disclaimers</a></li>\\n\\t<li id=\"footer-places-contact\"><a href=\"//en.wikipedia.org/wiki/Wikipedia:Contact_us\">Contact Wikipedia</a></li>\\n\\t<li id=\"footer-places-mobileview\"><a href=\"//en.m.wikipedia.org/w/index.php?title=List_of_languages_by_number_of_native_speakers&amp;mobileaction=toggle_view_mobile\" class=\"noprint stopMobileRedirectToggle\">Mobile view</a></li>\\n\\t<li id=\"footer-places-developers\"><a href=\"https://developer.wikimedia.org\">Developers</a></li>\\n\\t<li id=\"footer-places-statslink\"><a href=\"https://stats.wikimedia.org/#/en.wikipedia.org\">Statistics</a></li>\\n\\t<li id=\"footer-places-cookiestatement\"><a href=\"https://foundation.wikimedia.org/wiki/Cookie_statement\">Cookie statement</a></li>\\n</ul>\\n\\n\\t<ul id=\"footer-icons\" class=\"noprint\">\\n\\t<li id=\"footer-copyrightico\"><a href=\"https://wikimediafoundation.org/\"><img src=\"/static/images/footer/wikimedia-button.png\" srcset=\"/static/images/footer/wikimedia-button-1.5x.png 1.5x, /static/images/footer/wikimedia-button-2x.png 2x\" width=\"88\" height=\"31\" alt=\"Wikimedia Foundation\" loading=\"lazy\" /></a></li>\\n\\t<li id=\"footer-poweredbyico\"><a href=\"https://www.mediawiki.org/\"><img src=\"/static/images/footer/poweredby_mediawiki_88x31.png\" alt=\"Powered by MediaWiki\" srcset=\"/static/images/footer/poweredby_mediawiki_132x47.png 1.5x, /static/images/footer/poweredby_mediawiki_176x62.png 2x\" width=\"88\" height=\"31\" loading=\"lazy\"/></a></li>\\n</ul>\\n\\n</footer>\\n\\n\\t\\t</div>\\n\\t</div> \\n</div> \\n<div class=\\'vector-settings\\'>\\n\\t\\n<button\\n\\t\\n\\t\\n\\t\\n\\t\\n\\t\\n\\tclass=\"mw-ui-button mw-ui-icon mw-ui-icon-element vector-limited-width-toggle\">\\n\\t<span>Toggle limited content width</span>\\n\\n</button>\\n\\n</div>\\n<script>(RLQ=window.RLQ||[]).push(function(){mw.config.set({\"wgHostname\":\"mw1473\",\"wgBackendResponseTime\":119,\"wgPageParseReport\":{\"limitreport\":{\"cputime\":\"0.355\",\"walltime\":\"0.464\",\"ppvisitednodes\":{\"value\":1462,\"limit\":1000000},\"postexpandincludesize\":{\"value\":72583,\"limit\":2097152},\"templateargumentsize\":{\"value\":1980,\"limit\":2097152},\"expansiondepth\":{\"value\":12,\"limit\":100},\"expensivefunctioncount\":{\"value\":7,\"limit\":500},\"unstrip-depth\":{\"value\":1,\"limit\":20},\"unstrip-size\":{\"value\":35918,\"limit\":5000000},\"entityaccesscount\":{\"value\":0,\"limit\":400},\"timingprofile\":[\"100.00%  400.490      1 -total\",\" 29.28%  117.270      2 Template:Reflist\",\" 21.00%   84.099      1 Template:Countries_and_languages_lists\",\" 20.52%   82.188      1 Template:Navbox_with_collapsible_groups\",\" 16.80%   67.274      2 Template:Cite_web\",\" 14.82%   59.354      1 Template:Short_description\",\" 10.63%   42.572      1 Template:Pp-semi-indef\",\"  8.11%   32.498      2 Template:Pagetype\",\"  7.33%   29.369      6 Template:Cite_book\",\"  6.22%   24.896      1 Template:Better_source_needed\"]},\"scribunto\":{\"limitreport-timeusage\":{\"value\":\"0.202\",\"limit\":\"10.000\"},\"limitreport-memusage\":{\"value\":6195047,\"limit\":52428800}},\"cachereport\":{\"origin\":\"mw1388\",\"timestamp\":\"20230505102757\",\"ttl\":1814400,\"transientcontent\":false}}});});</script>\\n<script type=\"application/ld+json\">{\"@context\":\"https:\\\\/\\\\/schema.org\",\"@type\":\"Article\",\"name\":\"List of languages by number of native speakers\",\"url\":\"https:\\\\/\\\\/en.wikipedia.org\\\\/wiki\\\\/List_of_languages_by_number_of_native_speakers\",\"sameAs\":\"http:\\\\/\\\\/www.wikidata.org\\\\/entity\\\\/Q4319\",\"mainEntity\":\"http:\\\\/\\\\/www.wikidata.org\\\\/entity\\\\/Q4319\",\"author\":{\"@type\":\"Organization\",\"name\":\"Contributors to Wikimedia projects\"},\"publisher\":{\"@type\":\"Organization\",\"name\":\"Wikimedia Foundation, Inc.\",\"logo\":{\"@type\":\"ImageObject\",\"url\":\"https:\\\\/\\\\/www.wikimedia.org\\\\/static\\\\/images\\\\/wmf-hor-googpub.png\"}},\"datePublished\":\"2003-12-17T07:38:59Z\",\"dateModified\":\"2023-05-05T10:27:57Z\",\"image\":\"https:\\\\/\\\\/upload.wikimedia.org\\\\/wikipedia\\\\/commons\\\\/c\\\\/c8\\\\/Human_Language_Families.png\",\"headline\":\"Wikimedia list article\"}</script><script type=\"application/ld+json\">{\"@context\":\"https:\\\\/\\\\/schema.org\",\"@type\":\"Article\",\"name\":\"List of languages by number of native speakers\",\"url\":\"https:\\\\/\\\\/en.wikipedia.org\\\\/wiki\\\\/List_of_languages_by_number_of_native_speakers\",\"sameAs\":\"http:\\\\/\\\\/www.wikidata.org\\\\/entity\\\\/Q4319\",\"mainEntity\":\"http:\\\\/\\\\/www.wikidata.org\\\\/entity\\\\/Q4319\",\"author\":{\"@type\":\"Organization\",\"name\":\"Contributors to Wikimedia projects\"},\"publisher\":{\"@type\":\"Organization\",\"name\":\"Wikimedia Foundation, Inc.\",\"logo\":{\"@type\":\"ImageObject\",\"url\":\"https:\\\\/\\\\/www.wikimedia.org\\\\/static\\\\/images\\\\/wmf-hor-googpub.png\"}},\"datePublished\":\"2003-12-17T07:38:59Z\",\"dateModified\":\"2023-05-05T10:27:57Z\",\"image\":\"https:\\\\/\\\\/upload.wikimedia.org\\\\/wikipedia\\\\/commons\\\\/c\\\\/c8\\\\/Human_Language_Families.png\",\"headline\":\"Wikimedia list article\"}</script>\\n</body>\\n</html>'"
      ]
     },
     "execution_count": 145,
     "metadata": {},
     "output_type": "execute_result"
    }
   ],
   "source": [
    "# This is the url you will scrape in this exercise\n",
    "url = 'https://en.wikipedia.org/wiki/List_of_languages_by_number_of_native_speakers'\n",
    "#your code \n",
    "html = req.get(url).content\n",
    "\n",
    "html"
   ]
  },
  {
   "cell_type": "code",
   "execution_count": 155,
   "metadata": {},
   "outputs": [
    {
     "ename": "TypeError",
     "evalue": "'NoneType' object is not iterable",
     "output_type": "error",
     "traceback": [
      "\u001b[0;31m---------------------------------------------------------------------------\u001b[0m",
      "\u001b[0;31mTypeError\u001b[0m                                 Traceback (most recent call last)",
      "\u001b[0;32m/tmp/ipykernel_3690/1173829475.py\u001b[0m in \u001b[0;36m<module>\u001b[0;34m\u001b[0m\n\u001b[1;32m      5\u001b[0m \u001b[0mstars\u001b[0m\u001b[0;34m=\u001b[0m\u001b[0msopa\u001b[0m\u001b[0;34m.\u001b[0m\u001b[0mfind\u001b[0m\u001b[0;34m(\u001b[0m\u001b[0;34m'table'\u001b[0m\u001b[0;34m,\u001b[0m \u001b[0;34m{\u001b[0m\u001b[0;34m'class'\u001b[0m\u001b[0;34m:\u001b[0m \u001b[0;34m'wikitable sortable static-row-numbers jquery-tablesorter'\u001b[0m\u001b[0;34m}\u001b[0m\u001b[0;34m)\u001b[0m\u001b[0;34m\u001b[0m\u001b[0;34m\u001b[0m\u001b[0m\n\u001b[1;32m      6\u001b[0m \u001b[0;34m\u001b[0m\u001b[0m\n\u001b[0;32m----> 7\u001b[0;31m \u001b[0mstars_soup\u001b[0m\u001b[0;34m=\u001b[0m\u001b[0;34m[\u001b[0m\u001b[0me\u001b[0m \u001b[0;32mfor\u001b[0m \u001b[0me\u001b[0m \u001b[0;32min\u001b[0m \u001b[0mstars\u001b[0m\u001b[0;34m]\u001b[0m\u001b[0;34m\u001b[0m\u001b[0;34m\u001b[0m\u001b[0m\n\u001b[0m\u001b[1;32m      8\u001b[0m \u001b[0;34m\u001b[0m\u001b[0m\n\u001b[1;32m      9\u001b[0m \u001b[0;31m#Returns empty data\u001b[0m\u001b[0;34m\u001b[0m\u001b[0;34m\u001b[0m\u001b[0m\n",
      "\u001b[0;31mTypeError\u001b[0m: 'NoneType' object is not iterable"
     ]
    }
   ],
   "source": [
    "#your code\n",
    "#Parseo\n",
    "sopa=bs(html, 'html.parser')\n",
    "\n",
    "stars=sopa.find('table', {'class': 'wikitable sortable static-row-numbers jquery-tablesorter'})\n",
    "\n",
    "stars_soup=[e for e in stars]\n",
    "\n",
    "#Returns empty data\n"
   ]
  },
  {
   "attachments": {},
   "cell_type": "markdown",
   "metadata": {},
   "source": [
    "### BONUS QUESTIONS"
   ]
  },
  {
   "attachments": {},
   "cell_type": "markdown",
   "metadata": {},
   "source": [
    "#### Scrape a certain number of tweets of a given Twitter account."
   ]
  },
  {
   "cell_type": "code",
   "execution_count": 43,
   "metadata": {},
   "outputs": [],
   "source": [
    "# This is the url you will scrape in this exercise \n",
    "# You will need to add the account credentials to this url\n",
    "url = 'https://twitter.com/'"
   ]
  },
  {
   "cell_type": "code",
   "execution_count": 44,
   "metadata": {},
   "outputs": [],
   "source": [
    "# your code"
   ]
  },
  {
   "attachments": {},
   "cell_type": "markdown",
   "metadata": {},
   "source": [
    "#### IMDB's Top 250 data (movie name, Initial release, director name and stars) as a pandas dataframe"
   ]
  },
  {
   "cell_type": "code",
   "execution_count": 45,
   "metadata": {},
   "outputs": [],
   "source": [
    "# This is the url you will scrape in this exercise \n",
    "url = 'https://www.imdb.com/chart/top'"
   ]
  },
  {
   "cell_type": "code",
   "execution_count": 46,
   "metadata": {},
   "outputs": [],
   "source": [
    "# your code"
   ]
  },
  {
   "attachments": {},
   "cell_type": "markdown",
   "metadata": {},
   "source": [
    "#### Movie name, year and a brief summary of the top 10 random movies (IMDB) as a pandas dataframe."
   ]
  },
  {
   "cell_type": "code",
   "execution_count": 47,
   "metadata": {},
   "outputs": [],
   "source": [
    "#This is the url you will scrape in this exercise\n",
    "url = 'http://www.imdb.com/chart/top'"
   ]
  },
  {
   "cell_type": "code",
   "execution_count": 48,
   "metadata": {},
   "outputs": [],
   "source": [
    "#your code"
   ]
  },
  {
   "attachments": {},
   "cell_type": "markdown",
   "metadata": {},
   "source": [
    "#### Find the live weather report (temperature, wind speed, description and weather) of a given city."
   ]
  },
  {
   "cell_type": "code",
   "execution_count": 49,
   "metadata": {},
   "outputs": [],
   "source": [
    "#https://openweathermap.org/current\n",
    "city = city=input('Enter the city:')\n",
    "url = 'http://api.openweathermap.org/data/2.5/weather?'+'q='+city+'&APPID=b35975e18dc93725acb092f7272cc6b8&units=metric'"
   ]
  },
  {
   "cell_type": "code",
   "execution_count": 50,
   "metadata": {},
   "outputs": [],
   "source": [
    "# your code"
   ]
  },
  {
   "attachments": {},
   "cell_type": "markdown",
   "metadata": {},
   "source": [
    "#### Book name,price and stock availability as a pandas dataframe."
   ]
  },
  {
   "cell_type": "code",
   "execution_count": 51,
   "metadata": {},
   "outputs": [],
   "source": [
    "# This is the url you will scrape in this exercise. \n",
    "# It is a fictional bookstore created to be scraped. \n",
    "url = 'http://books.toscrape.com/'"
   ]
  },
  {
   "cell_type": "code",
   "execution_count": 52,
   "metadata": {},
   "outputs": [],
   "source": [
    "#your code"
   ]
  }
 ],
 "metadata": {
  "kernelspec": {
   "display_name": "Python 3",
   "language": "python",
   "name": "python3"
  },
  "language_info": {
   "codemirror_mode": {
    "name": "ipython",
    "version": 3
   },
   "file_extension": ".py",
   "mimetype": "text/x-python",
   "name": "python",
   "nbconvert_exporter": "python",
   "pygments_lexer": "ipython3",
   "version": "3.9.13"
  }
 },
 "nbformat": 4,
 "nbformat_minor": 2
}
